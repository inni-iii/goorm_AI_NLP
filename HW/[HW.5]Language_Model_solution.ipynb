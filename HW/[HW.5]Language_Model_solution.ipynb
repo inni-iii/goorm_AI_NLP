{
  "nbformat": 4,
  "nbformat_minor": 0,
  "metadata": {
    "colab": {
      "name": "[HW5]Language_Model_solution.ipynb",
      "provenance": [],
      "collapsed_sections": []
    },
    "kernelspec": {
      "name": "python3",
      "display_name": "Python 3"
    },
    "language_info": {
      "name": "python"
    },
    "accelerator": "GPU"
  },
  "cells": [
    {
      "cell_type": "markdown",
      "metadata": {
        "id": "jR26RFkwXtvi"
      },
      "source": [
        "# **[HW5] Language Model**\n",
        "1. DataLoader\n",
        "2. Model\n",
        "3. Trainer\n",
        "4. Generation\n",
        "\n",
        "이번 실습에서는 RNN기반의 Language Model를 구현해서 텍스트를 직접 생성해보는 실습을 진행해보겠습니다.\n",
        "\n",
        "- dataset: WikiText2 (https://github.com/pytorch/examples/tree/master/word_language_model/data/wikitext-2)\n",
        "- model: LSTM\n"
      ]
    },
    {
      "cell_type": "markdown",
      "metadata": {
        "id": "crVJ36mMlaXP"
      },
      "source": [
        "\n",
        "\n",
        "## Import packages"
      ]
    },
    {
      "cell_type": "markdown",
      "metadata": {
        "id": "zpvlE_XOWS33"
      },
      "source": [
        "런타임의 유형을 변경해줍니다.\n",
        "\n",
        "상단 메뉴에서 [런타임]->[런타임유형변경]->[하드웨어가속기]->[GPU]\n",
        "\n",
        "변경 이후 아래의 cell을 실행 시켰을 때, torch.cuda.is_avialable()이 True가 나와야 합니다.\n",
        "\n"
      ]
    },
    {
      "cell_type": "code",
      "metadata": {
        "id": "cqVdEuPQzMAH",
        "colab": {
          "base_uri": "https://localhost:8080/"
        },
        "outputId": "3f60ed45-3b27-4825-cbf9-3edcb5bb1cc2"
      },
      "source": [
        "import torch\n",
        "import torch.nn as nn\n",
        "import torch.nn.functional as F\n",
        "import torchvision\n",
        "import torch.optim as optim\n",
        "print(torch.__version__)\n",
        "print(torch.cuda.is_available())"
      ],
      "execution_count": 1,
      "outputs": [
        {
          "output_type": "stream",
          "name": "stdout",
          "text": [
            "1.12.0+cu113\n",
            "True\n"
          ]
        }
      ]
    },
    {
      "cell_type": "code",
      "metadata": {
        "id": "2o3-HPdHLZma"
      },
      "source": [
        "import matplotlib.pyplot as plt\n",
        "import numpy as np\n",
        "import scipy as sp\n",
        "import tqdm\n",
        "import os\n",
        "import random\n",
        "import time\n",
        "import datetime\n",
        "\n",
        "# for reproducibility\n",
        "random.seed(1234)\n",
        "np.random.seed(1234)\n",
        "torch.backends.cudnn.deterministic = True\n",
        "torch.backends.cudnn.benchmark = False"
      ],
      "execution_count": 2,
      "outputs": []
    },
    {
      "cell_type": "markdown",
      "metadata": {
        "id": "T1GnKJCB4T_Q"
      },
      "source": [
        "# 1. DataLoader\n",
        "\n",
        "이전의 실습들에서 사용한것과 마찬가지로, PyTorch style의 dataloader를 먼저 만들어 두겠습니다."
      ]
    },
    {
      "cell_type": "markdown",
      "metadata": {
        "id": "wcNl0aWbS0OA"
      },
      "source": [
        "### Dataset\n",
        "\n",
        "저희가 이번 실습에서 사용할 데이터셋은 Wikipedia에 있는 영문 글들을 가져온 WikiTree dataset입니다.\n",
        "저희가 불러올 데이터는 가장 작은 WikiTree dataset에서 자주 사용되지 않는 단어나 영어가 아닌 단어들은 <unk>으로 이미 전처리가 되어있습니다."
      ]
    },
    {
      "cell_type": "code",
      "metadata": {
        "id": "CKf8zNuISiC2"
      },
      "source": [
        "import urllib\n",
        "with urllib.request.urlopen('https://raw.githubusercontent.com/yunjey/pytorch-tutorial/master/tutorials/02-intermediate/language_model/data/train.txt') as f:\n",
        "    data = f.readlines()"
      ],
      "execution_count": 3,
      "outputs": []
    },
    {
      "cell_type": "code",
      "metadata": {
        "id": "jBLNOlRKSpOI",
        "colab": {
          "base_uri": "https://localhost:8080/"
        },
        "outputId": "9cde0dfd-beb3-449e-a20d-59250fad79f4"
      },
      "source": [
        "print('num_sentence:',len(data))\n",
        "data[100]"
      ],
      "execution_count": 4,
      "outputs": [
        {
          "output_type": "stream",
          "name": "stdout",
          "text": [
            "num_sentence: 42068\n"
          ]
        },
        {
          "output_type": "execute_result",
          "data": {
            "text/plain": [
              "b\" plans that give advertisers discounts for maintaining or increasing ad spending have become permanent <unk> at the news <unk> and underscore the fierce competition between newsweek time warner inc. 's time magazine and <unk> b. <unk> 's u.s. news & world report \\n\""
            ]
          },
          "metadata": {},
          "execution_count": 4
        }
      ]
    },
    {
      "cell_type": "code",
      "metadata": {
        "id": "OfLTv1EPbSwj",
        "colab": {
          "base_uri": "https://localhost:8080/",
          "height": 265
        },
        "outputId": "649d4c10-5691-44c5-844c-77ce42ddb683"
      },
      "source": [
        "seq_length_list = []\n",
        "for line in data:\n",
        "    seq_length_list.append(len(line.split()))\n",
        "\n",
        "counts, bins = np.histogram(seq_length_list, bins=20)\n",
        "plt.hist(bins[:-1], bins, weights=counts)\n",
        "plt.show()"
      ],
      "execution_count": 5,
      "outputs": [
        {
          "output_type": "display_data",
          "data": {
            "text/plain": [
              "<Figure size 432x288 with 1 Axes>"
            ],
            "image/png": "[encoded data removed]"
          },
          "metadata": {
            "needs_background": "light"
          }
        }
      ]
    },
    {
      "cell_type": "markdown",
      "metadata": {
        "id": "4SdattmOcRwC"
      },
      "source": [
        "데이터에 있는 문장 길이들의 histogram을 볼 때 대부분의 data의 문장 길이가 50에 미치지 못하기 때문에 \\\\\n",
        "model에 집어넣을 최대 문장 길이를 50으로 세팅해두도록 하겠습니다."
      ]
    },
    {
      "cell_type": "code",
      "metadata": {
        "id": "g7MuFqsKcd4U"
      },
      "source": [
        "max_seq_len = 50"
      ],
      "execution_count": 6,
      "outputs": []
    },
    {
      "cell_type": "markdown",
      "metadata": {
        "id": "IyMpsyX8TwYy"
      },
      "source": [
        "### Build Dictionary\n",
        "\n",
        "먼저 text 데이터를 모델에 넣어주기 위해서는 text에 존재하는 단어들을 index로 변환해주어야 합니다.\n",
        "\n",
        "이를 위해서는 단어를 index로 변환해주는 word2idx dictionary와 다시 index를 단어로 변환해주는 idx2word dictionary를 만들어야 합니다.\n"
      ]
    },
    {
      "cell_type": "code",
      "metadata": {
        "id": "cZmyZhcpTvZz"
      },
      "source": [
        "def build_dictionary(data, max_seq_len):\n",
        "    word2idx = {}\n",
        "    idx2word = {}\n",
        "    ## Build Dictionary\n",
        "    word2idx['<pad>'] = 0\n",
        "    word2idx['<unk>'] = 1\n",
        "    idx2word[0] = '<pad>'\n",
        "    idx2word[1] = '<unk>'\n",
        "    idx = 2\n",
        "    for line in data:\n",
        "        words = line.decode('utf-8').split()\n",
        "        words = words[:max_seq_len]        \n",
        "        ### Build Dictionary to convert word to index and index to word\n",
        "        ### YOUR CODE HERE (~ 5 lines)\n",
        "        for word in words:\n",
        "            if word not in word2idx:\n",
        "                word2idx[word] = idx\n",
        "                idx2word[idx] = word\n",
        "                idx += 1\n",
        "\n",
        "    return word2idx, idx2word\n",
        "\n",
        "word2idx, idx2word = build_dictionary(data, max_seq_len)"
      ],
      "execution_count": 7,
      "outputs": []
    },
    {
      "cell_type": "code",
      "metadata": {
        "id": "EPfV0OTc4Xdr",
        "colab": {
          "base_uri": "https://localhost:8080/"
        },
        "outputId": "75f3f08a-5ecb-43ce-dd7e-8d2eed3259ff"
      },
      "source": [
        "if len(word2idx) == len(idx2word) == 10000:\n",
        "    print(\"Test Passed!\")\n",
        "else:\n",
        "    raise AssertionError"
      ],
      "execution_count": 8,
      "outputs": [
        {
          "output_type": "stream",
          "name": "stdout",
          "text": [
            "Test Passed!\n"
          ]
        }
      ]
    },
    {
      "cell_type": "markdown",
      "metadata": {
        "id": "me_m8njoXHrv"
      },
      "source": [
        "### Preprocessing\n",
        "\n",
        "이제 앞서 만든 dictionary를 이용해서 text로된 데이터셋을 index들로 변환시키겠습니다."
      ]
    },
    {
      "cell_type": "code",
      "metadata": {
        "id": "I6fuARgzXEDU"
      },
      "source": [
        "def preprocess(data, word2idx, idx2word, max_seq_len):\n",
        "    tokens = []\n",
        "    for line in data:\n",
        "        words = line.decode('utf-8').split()\n",
        "        words = words[:max_seq_len]\n",
        "        ### Convert dataset with tokens\n",
        "        ### For each line, append <pad> token to match the number of max_seq_len\n",
        "        ### YOUR CODE HERE (~ 4 lines)\n",
        "        words += ['<pad>']*(max_seq_len - len(words))\n",
        "        for word in words:\n",
        "            token = word2idx[word]\n",
        "            tokens.append(token)\n",
        "\n",
        "    return tokens\n",
        "\n",
        "tokens = preprocess(data, word2idx, idx2word, max_seq_len)"
      ],
      "execution_count": 9,
      "outputs": []
    },
    {
      "cell_type": "code",
      "metadata": {
        "id": "VjyvqMgbZnfP",
        "colab": {
          "base_uri": "https://localhost:8080/"
        },
        "outputId": "0e1e91e4-7052-4000-978e-d3be58373159"
      },
      "source": [
        "if len(tokens) == 2103400:\n",
        "    print(\"Test Passed!\")\n",
        "else:\n",
        "    raise AssertionError"
      ],
      "execution_count": 10,
      "outputs": [
        {
          "output_type": "stream",
          "name": "stdout",
          "text": [
            "Test Passed!\n"
          ]
        }
      ]
    },
    {
      "cell_type": "markdown",
      "metadata": {
        "id": "jmQxX3BH-SAv"
      },
      "source": [
        "이제 전처리된 Token들을 문장 단위의 배열로 변환시켜 두겠습니다."
      ]
    },
    {
      "cell_type": "code",
      "metadata": {
        "id": "knMvtp23-Jye",
        "colab": {
          "base_uri": "https://localhost:8080/"
        },
        "outputId": "14d15294-8d4b-4cbc-ead9-3eb10929af07"
      },
      "source": [
        "tokens = np.array(tokens).reshape(-1, max_seq_len)\n",
        "print(tokens.shape)\n",
        "tokens[100]"
      ],
      "execution_count": 11,
      "outputs": [
        {
          "output_type": "stream",
          "name": "stdout",
          "text": [
            "(42068, 50)\n"
          ]
        },
        {
          "output_type": "execute_result",
          "data": {
            "text/plain": [
              "array([745,  93, 746, 739, 747, 181, 748, 467, 749, 740, 750, 154, 751,\n",
              "       752,   1, 160,  32, 753,   1,  48, 754,  32, 755, 756, 757, 728,\n",
              "       555, 758,  99, 119, 555, 733,  48,   1, 759,   1, 119, 237, 753,\n",
              "       230, 760, 347,   0,   0,   0,   0,   0,   0,   0,   0])"
            ]
          },
          "metadata": {},
          "execution_count": 11
        }
      ]
    },
    {
      "cell_type": "markdown",
      "metadata": {
        "id": "pceBqmtTZ9g9"
      },
      "source": [
        "### DataLoader\n",
        "\n",
        "이제 전처리된 dataset을 활용하여 PyTorch style의 dataset과 dataloader를 만들도록 하겠습니다.\n",
        "\n",
        "Token형태의 데이터를 PyTorch 스타일의 dataset으로 만들 때 주의할 점은, 추후 embedding matrix에서 indexing을 해주기 위해서 각 token이 LongTensor 형태로 정의되어야 한다는 점입니다."
      ]
    },
    {
      "cell_type": "code",
      "metadata": {
        "id": "1hAwhG1K9iBI"
      },
      "source": [
        "class LMDataset(torch.utils.data.Dataset):\n",
        "    def __init__(self, tokens):\n",
        "        super(LMDataset, self).__init__()\n",
        "        self.PAD = 0\n",
        "        self.UNK = 1\n",
        "        self.tokens = tokens\n",
        "        self._getitem(2)\n",
        "\n",
        "    def _getitem(self, index):\n",
        "        X = self.tokens[index]\n",
        "        y = np.concatenate((X[1:], [self.PAD]))\n",
        "\n",
        "        X = torch.from_numpy(X).unsqueeze(0).long()\n",
        "        y = torch.from_numpy(y).unsqueeze(0).long()\n",
        "\n",
        "        return X, y\n",
        "\n",
        "    def __getitem__(self, index):\n",
        "        X = self.tokens[index]\n",
        "        y = np.concatenate((X[1:], [self.PAD]))\n",
        "\n",
        "        X = torch.from_numpy(X).long()\n",
        "        y = torch.from_numpy(y).long()\n",
        "\n",
        "        return X, y\n",
        "\n",
        "    def __len__(self):\n",
        "        return len(self.tokens)"
      ],
      "execution_count": 12,
      "outputs": []
    },
    {
      "cell_type": "code",
      "metadata": {
        "id": "BiLNqM6kAda1",
        "colab": {
          "base_uri": "https://localhost:8080/"
        },
        "outputId": "7142ba86-9719-4b94-e707-9bbb790efa5a"
      },
      "source": [
        "batch_size = 64\n",
        "dataset = LMDataset(tokens)\n",
        "dataloader = torch.utils.data.DataLoader(dataset, batch_size=batch_size, shuffle=True)\n",
        "\n",
        "print(len(dataset))\n",
        "print(len(dataloader))"
      ],
      "execution_count": 13,
      "outputs": [
        {
          "output_type": "stream",
          "name": "stdout",
          "text": [
            "42068\n",
            "658\n"
          ]
        }
      ]
    },
    {
      "cell_type": "markdown",
      "metadata": {
        "id": "b1nhBnqWxw4a"
      },
      "source": [
        "# 2. Model\n",
        "\n",
        "이번 section에서는 Language Modeling을 위한 Recurrent Model을 직접 만들어보도록 하겠습니다.\n",
        "\n",
        "Standard한 Recurrent Neural Network (RNN) model은 vanishing gradient 문제에 취약하기 때문에, 이번 실습에서는 변형된 RNN구조인 LSTM model을 활용하도록 하겠습니다.\n"
      ]
    },
    {
      "cell_type": "markdown",
      "metadata": {
        "id": "aOoNVt3MDOjl"
      },
      "source": [
        "### LSTM"
      ]
    },
    {
      "cell_type": "markdown",
      "metadata": {
        "id": "9lycT_9vwaJN"
      },
      "source": [
        "LSTM model의 전체적인 구조와 각 gate의 수식은 아래와 같습니다.\n",
        "\n",
        "![](https://drive.google.com/uc?export=view&id=1n93tpNW55Xl4GxZNcJcbUVRhuNCGH38h)"
      ]
    },
    {
      "cell_type": "markdown",
      "metadata": {
        "id": "S1h6nfvYwN8n"
      },
      "source": [
        "![](https://drive.google.com/uc?export=view&id=1nH9U5iD9cO6OVVTbrx-LjypRvcWzbOCU)\n",
        "\n",
        "LSTM의 자세한 동작방식이 궁금하신 분은 아래의 블로그를 참조해주세요.\n",
        "\n",
        "https://colah.github.io/posts/2015-08-Understanding-LSTMs/"
      ]
    },
    {
      "cell_type": "code",
      "metadata": {
        "id": "YDNAysVqxxOk"
      },
      "source": [
        "class LSTMCell(nn.Module):\n",
        "    def __init__(self, input_size, hidden_size):\n",
        "        super(LSTMCell, self).__init__()\n",
        "        # input-gate\n",
        "        self.Wi = nn.Linear(input_size + hidden_size, hidden_size)\n",
        "        # forget-gate\n",
        "        self.Wf = nn.Linear(input_size + hidden_size, hidden_size)\n",
        "        # gate-gate\n",
        "        self.Wg = nn.Linear(input_size + hidden_size, hidden_size)\n",
        "        # output-gate\n",
        "        self.Wo = nn.Linear(input_size + hidden_size, hidden_size)\n",
        "\n",
        "        # non-linearity\n",
        "        self.sigmoid = nn.Sigmoid()\n",
        "        self.tanh = nn.Tanh()\n",
        "\n",
        "    def forward(self, x, h_0, c_0):\n",
        "        \"\"\"\n",
        "        Inputs\n",
        "            input (x): [batch_size, input_size]\n",
        "            hidden_state (h_0): [batch_size, hidden_size]\n",
        "            cell_state (c_0): [batch_size, hidden_size]\n",
        "        Outputs\n",
        "            next_hidden_state (h_1): [batch_size, hidden_size]\n",
        "            next_cell_state (c_1): [batch_size, hidden_size]    \n",
        "        \"\"\"\n",
        "        h_1, c_1 = None, None\n",
        "        input = torch.cat((x, h_0), 1)\n",
        "        # Implement LSTM cell as noted above\n",
        "        ### YOUR CODE HERE (~ 6 lines)\n",
        "        i = self.sigmoid(self.Wi(input))\n",
        "        f = self.sigmoid(self.Wf(input))\n",
        "        g = self.tanh(self.Wg(input))\n",
        "        o = self.sigmoid(self.Wo(input))\n",
        "        c_1 = f * c_0 + i * g\n",
        "        h_1 = o * self.tanh(c_1)\n",
        "\n",
        "        return h_1, c_1"
      ],
      "execution_count": 14,
      "outputs": []
    },
    {
      "cell_type": "code",
      "metadata": {
        "id": "N0Tff2VCJ56D",
        "colab": {
          "base_uri": "https://localhost:8080/"
        },
        "outputId": "4180ee1b-f38c-4ab1-db7b-d4a25fcf256a"
      },
      "source": [
        "def test_lstm():\n",
        "    batch_size = 2\n",
        "    input_size = 5\n",
        "    hidden_size = 3\n",
        "\n",
        "    #torch.manual_seed(1234)\n",
        "    lstm = LSTMCell(input_size ,hidden_size)\n",
        "    def init_weights(m):\n",
        "        if isinstance(m, nn.Linear):\n",
        "            torch.nn.init.constant_(m.weight, 0.1)\n",
        "            m.bias.data.fill_(0.01)\n",
        "    lstm.apply(init_weights)\n",
        "\n",
        "    x = torch.ones(batch_size, input_size)\n",
        "    hx = torch.zeros(batch_size, hidden_size)\n",
        "    cx = torch.zeros(batch_size, hidden_size)\n",
        "\n",
        "    hx, cx = lstm(x, hx, cx)\n",
        "    assert hx.detach().allclose(torch.tensor([[0.1784, 0.1784, 0.1784], \n",
        "                                              [0.1784, 0.1784, 0.1784]]), atol=2e-1), \\\n",
        "            f\"Output of the hidden state does not match.\"\n",
        "    assert cx.detach().allclose(torch.tensor([[0.2936, 0.2936, 0.2936], \n",
        "                                              [0.2936, 0.2936, 0.2936]]), atol=2e-1), \\\n",
        "            f\"Output of the cell state does not match.\"\n",
        "\n",
        "    print(\"==LSTM cell test passed!==\")\n",
        "\n",
        "test_lstm()"
      ],
      "execution_count": 15,
      "outputs": [
        {
          "output_type": "stream",
          "name": "stdout",
          "text": [
            "==LSTM cell test passed!==\n"
          ]
        }
      ]
    },
    {
      "cell_type": "markdown",
      "metadata": {
        "id": "0DxU-78B33dG"
      },
      "source": [
        "## Language Model\n",
        "\n",
        "이제, 위에서 정의한 LSTM Cell을 활용해서 아래와 같은 Langauge Model을 만들어보도록 하겠습니다.\n",
        "\n",
        "\n",
        "![](https://drive.google.com/uc?export=view&id=1nMAbL-g31nERM44dgohA3k9Vj_92hIh-)"
      ]
    },
    {
      "cell_type": "code",
      "metadata": {
        "id": "l0U2s0hux_n6"
      },
      "source": [
        "class LanguageModel(nn.Module):\n",
        "    def __init__(self, input_size=64, hidden_size=64, vocab_size=10000):\n",
        "        super(LanguageModel, self).__init__()\n",
        "        \n",
        "        self.input_layer = nn.Embedding(vocab_size, input_size)\n",
        "        self.hidden_layer = LSTMCell(input_size, hidden_size)\n",
        "        self.output_layer = nn.Linear(hidden_size, vocab_size)\n",
        "\n",
        "\n",
        "    def forward(self, x, hx, cx, predict=False):\n",
        "        \"\"\"\n",
        "        Inputs\n",
        "            input (x): [batch_size]\n",
        "            hidden_state (h_0): [batch_size, hidden_size]\n",
        "            cell_state (c_0): [batch_size, hidden_size]\n",
        "            predict: whether to predict and sample the next word\n",
        "        Outputs\n",
        "            output (ox): [batch_size, hidden_size]\n",
        "            next_hidden_state (h_1): [batch_size, hidden_size]\n",
        "            next_cell_state (c_1): [batch_size, hidden_size]    \n",
        "        \"\"\"\n",
        "        x = self.input_layer(x)\n",
        "        hx, cx = self.hidden_layer(x, hx, cx)\n",
        "        ox = self.output_layer(hx)\n",
        "\n",
        "        if predict == True:\n",
        "            probs = F.softmax(ox, dim=1)\n",
        "            # torch distribution allows sampling operation\n",
        "            # see https://pytorch.org/docs/stable/distributions.html\n",
        "            dist = torch.distributions.Categorical(probs)\n",
        "            ox = dist.sample()\n",
        "\n",
        "        return ox, hx, cx  "
      ],
      "execution_count": 16,
      "outputs": []
    },
    {
      "cell_type": "markdown",
      "metadata": {
        "id": "G-ZpuMhsbBS8"
      },
      "source": [
        "# 3. Trainer\n",
        "\n",
        "자 이제 위에서 구현한 dataloader와 langauge model을 활용해서 모델의 학습을 진행해보도록 하겠습니다.\n"
      ]
    },
    {
      "cell_type": "code",
      "metadata": {
        "id": "y7TY7HmvbRlB"
      },
      "source": [
        "class Trainer():\n",
        "    def __init__(self, \n",
        "                 word2idx, \n",
        "                 idx2word,\n",
        "                 dataloader, \n",
        "                 model, \n",
        "                 criterion,\n",
        "                 optimizer, \n",
        "                 device):\n",
        "        \"\"\"\n",
        "        dataloader: dataloader\n",
        "        model: langauge model\n",
        "        criterion: loss function to evaluate the model (e.g., BCE Loss)\n",
        "        optimizer: optimizer for model\n",
        "        \"\"\"\n",
        "        self.word2idx = word2idx\n",
        "        self.idx2word = idx2word\n",
        "        self.dataloader = dataloader\n",
        "        self.model = model\n",
        "        self.criterion = criterion\n",
        "        self.optimizer = optimizer\n",
        "        self.device = device\n",
        "        \n",
        "    def train(self, epochs = 1):\n",
        "        self.model.to(self.device)\n",
        "        start_time = time.time()\n",
        "        for epoch in range(epochs):\n",
        "            losses = []\n",
        "            for iter, (x_batch, y_batch) in tqdm.tqdm(enumerate(self.dataloader)):\n",
        "                self.model.train()\n",
        "                \n",
        "                batch_size, max_seq_len = x_batch.shape\n",
        "                x_batch = x_batch.to(self.device)\n",
        "                y_batch = y_batch.to(self.device)\n",
        "\n",
        "                # initial hidden-states\n",
        "                hx = torch.zeros(batch_size, hidden_size).to(self.device)\n",
        "                cx = torch.zeros(batch_size, hidden_size).to(self.device)\n",
        "\n",
        "                # Implement LSTM operation\n",
        "                ox_batch = []\n",
        "                # Get output logits for each time sequence and append to the list, ox_batch\n",
        "                # YOUR CODE HERE (~ 4 lines)\n",
        "                for s_idx in range(max_seq_len):\n",
        "                    x = x_batch[:, s_idx]\n",
        "                    ox, hx, cx = self.model(x, hx, cx)\n",
        "                    ox_batch.append(ox)\n",
        "                # outputs are ordered by the time sequence\n",
        "                ox_batch = torch.cat(ox_batch).reshape(max_seq_len, batch_size, -1)\n",
        "                ox_batch = ox_batch.permute(1,0,2).reshape(batch_size*max_seq_len, -1)\n",
        "                y_batch = y_batch.reshape(-1)\n",
        "\n",
        "                self.model.zero_grad()\n",
        "                loss = self.criterion(ox_batch, y_batch)\n",
        "                loss.backward()\n",
        "                self.optimizer.step()\n",
        "                losses.append(loss.item())\n",
        "\n",
        "            end_time = time.time() - start_time\n",
        "            end_time = str(datetime.timedelta(seconds=end_time))[:-7]\n",
        "            print('Time [%s], Epoch [%d/%d], loss: %.4f'\n",
        "                  % (end_time, epoch+1, epochs, np.mean(losses)))\n",
        "            if epoch % 5 == 0:\n",
        "                generated_sentences = self.test()\n",
        "                print('[Generated Sentences]')\n",
        "                for sentence in generated_sentences:\n",
        "                    print(sentence)\n",
        "            \n",
        "    def test(self):\n",
        "        # Test model to genereate the sentences\n",
        "        self.model.eval()\n",
        "        num_sentence = 5\n",
        "        max_seq_len = 50\n",
        "\n",
        "        # initial hidden-states\n",
        "        outs = []\n",
        "        x = torch.randint(0, 10000, (num_sentence,)).to(self.device)\n",
        "        hx = torch.zeros(num_sentence, hidden_size).to(self.device)\n",
        "        cx = torch.zeros(num_sentence, hidden_size).to(self.device)\n",
        "\n",
        "        outs.append(x)\n",
        "        with torch.no_grad():\n",
        "            for s_idx in range(max_seq_len-1):\n",
        "                x, hx, cx = self.model(x, hx, cx, predict=True)\n",
        "                outs.append(x)\n",
        "        outs = torch.cat(outs).reshape(max_seq_len, num_sentence)\n",
        "        outs = outs.permute(1, 0)\n",
        "        outs = outs.detach().cpu().numpy()\n",
        "\n",
        "        sentences = []\n",
        "        for out in outs:\n",
        "            sentence = []\n",
        "            for token_idx in out:\n",
        "                word = self.idx2word[token_idx]\n",
        "                sentence.append(word)\n",
        "            sentences.append(sentence)\n",
        "       \n",
        "        return sentences"
      ],
      "execution_count": 17,
      "outputs": []
    },
    {
      "cell_type": "code",
      "metadata": {
        "id": "X1EE9KDvyeeF",
        "colab": {
          "base_uri": "https://localhost:8080/"
        },
        "outputId": "72cf01e3-e13a-4f2b-a631-d290f520eb04"
      },
      "source": [
        "for iter,(x_batch,y_batch) in (enumerate(dataloader)):\n",
        "    print(x_batch.shape)"
      ],
      "execution_count": 18,
      "outputs": [
        {
          "output_type": "stream",
          "name": "stdout",
          "text": [
            "torch.Size([64, 50])\n",
            "torch.Size([64, 50])\n",
            "torch.Size([64, 50])\n",
            "torch.Size([64, 50])\n",
            "torch.Size([64, 50])\n",
            "torch.Size([64, 50])\n",
            "torch.Size([64, 50])\n",
            "torch.Size([64, 50])\n",
            "torch.Size([64, 50])\n",
            "torch.Size([64, 50])\n",
            "torch.Size([64, 50])\n",
            "torch.Size([64, 50])\n",
            "torch.Size([64, 50])\n",
            "torch.Size([64, 50])\n",
            "torch.Size([64, 50])\n",
            "torch.Size([64, 50])\n",
            "torch.Size([64, 50])\n",
            "torch.Size([64, 50])\n",
            "torch.Size([64, 50])\n",
            "torch.Size([64, 50])\n",
            "torch.Size([64, 50])\n",
            "torch.Size([64, 50])\n",
            "torch.Size([64, 50])\n",
            "torch.Size([64, 50])\n",
            "torch.Size([64, 50])\n",
            "torch.Size([64, 50])\n",
            "torch.Size([64, 50])\n",
            "torch.Size([64, 50])\n",
            "torch.Size([64, 50])\n",
            "torch.Size([64, 50])\n",
            "torch.Size([64, 50])\n",
            "torch.Size([64, 50])\n",
            "torch.Size([64, 50])\n",
            "torch.Size([64, 50])\n",
            "torch.Size([64, 50])\n",
            "torch.Size([64, 50])\n",
            "torch.Size([64, 50])\n",
            "torch.Size([64, 50])\n",
            "torch.Size([64, 50])\n",
            "torch.Size([64, 50])\n",
            "torch.Size([64, 50])\n",
            "torch.Size([64, 50])\n",
            "torch.Size([64, 50])\n",
            "torch.Size([64, 50])\n",
            "torch.Size([64, 50])\n",
            "torch.Size([64, 50])\n",
            "torch.Size([64, 50])\n",
            "torch.Size([64, 50])\n",
            "torch.Size([64, 50])\n",
            "torch.Size([64, 50])\n",
            "torch.Size([64, 50])\n",
            "torch.Size([64, 50])\n",
            "torch.Size([64, 50])\n",
            "torch.Size([64, 50])\n",
            "torch.Size([64, 50])\n",
            "torch.Size([64, 50])\n",
            "torch.Size([64, 50])\n",
            "torch.Size([64, 50])\n",
            "torch.Size([64, 50])\n",
            "torch.Size([64, 50])\n",
            "torch.Size([64, 50])\n",
            "torch.Size([64, 50])\n",
            "torch.Size([64, 50])\n",
            "torch.Size([64, 50])\n",
            "torch.Size([64, 50])\n",
            "torch.Size([64, 50])\n",
            "torch.Size([64, 50])\n",
            "torch.Size([64, 50])\n",
            "torch.Size([64, 50])\n",
            "torch.Size([64, 50])\n",
            "torch.Size([64, 50])\n",
            "torch.Size([64, 50])\n",
            "torch.Size([64, 50])\n",
            "torch.Size([64, 50])\n",
            "torch.Size([64, 50])\n",
            "torch.Size([64, 50])\n",
            "torch.Size([64, 50])\n",
            "torch.Size([64, 50])\n",
            "torch.Size([64, 50])\n",
            "torch.Size([64, 50])\n",
            "torch.Size([64, 50])\n",
            "torch.Size([64, 50])\n",
            "torch.Size([64, 50])\n",
            "torch.Size([64, 50])\n",
            "torch.Size([64, 50])\n",
            "torch.Size([64, 50])\n",
            "torch.Size([64, 50])\n",
            "torch.Size([64, 50])\n",
            "torch.Size([64, 50])\n",
            "torch.Size([64, 50])\n",
            "torch.Size([64, 50])\n",
            "torch.Size([64, 50])\n",
            "torch.Size([64, 50])\n",
            "torch.Size([64, 50])\n",
            "torch.Size([64, 50])\n",
            "torch.Size([64, 50])\n",
            "torch.Size([64, 50])\n",
            "torch.Size([64, 50])\n",
            "torch.Size([64, 50])\n",
            "torch.Size([64, 50])\n",
            "torch.Size([64, 50])\n",
            "torch.Size([64, 50])\n",
            "torch.Size([64, 50])\n",
            "torch.Size([64, 50])\n",
            "torch.Size([64, 50])\n",
            "torch.Size([64, 50])\n",
            "torch.Size([64, 50])\n",
            "torch.Size([64, 50])\n",
            "torch.Size([64, 50])\n",
            "torch.Size([64, 50])\n",
            "torch.Size([64, 50])\n",
            "torch.Size([64, 50])\n",
            "torch.Size([64, 50])\n",
            "torch.Size([64, 50])\n",
            "torch.Size([64, 50])\n",
            "torch.Size([64, 50])\n",
            "torch.Size([64, 50])\n",
            "torch.Size([64, 50])\n",
            "torch.Size([64, 50])\n",
            "torch.Size([64, 50])\n",
            "torch.Size([64, 50])\n",
            "torch.Size([64, 50])\n",
            "torch.Size([64, 50])\n",
            "torch.Size([64, 50])\n",
            "torch.Size([64, 50])\n",
            "torch.Size([64, 50])\n",
            "torch.Size([64, 50])\n",
            "torch.Size([64, 50])\n",
            "torch.Size([64, 50])\n",
            "torch.Size([64, 50])\n",
            "torch.Size([64, 50])\n",
            "torch.Size([64, 50])\n",
            "torch.Size([64, 50])\n",
            "torch.Size([64, 50])\n",
            "torch.Size([64, 50])\n",
            "torch.Size([64, 50])\n",
            "torch.Size([64, 50])\n",
            "torch.Size([64, 50])\n",
            "torch.Size([64, 50])\n",
            "torch.Size([64, 50])\n",
            "torch.Size([64, 50])\n",
            "torch.Size([64, 50])\n",
            "torch.Size([64, 50])\n",
            "torch.Size([64, 50])\n",
            "torch.Size([64, 50])\n",
            "torch.Size([64, 50])\n",
            "torch.Size([64, 50])\n",
            "torch.Size([64, 50])\n",
            "torch.Size([64, 50])\n",
            "torch.Size([64, 50])\n",
            "torch.Size([64, 50])\n",
            "torch.Size([64, 50])\n",
            "torch.Size([64, 50])\n",
            "torch.Size([64, 50])\n",
            "torch.Size([64, 50])\n",
            "torch.Size([64, 50])\n",
            "torch.Size([64, 50])\n",
            "torch.Size([64, 50])\n",
            "torch.Size([64, 50])\n",
            "torch.Size([64, 50])\n",
            "torch.Size([64, 50])\n",
            "torch.Size([64, 50])\n",
            "torch.Size([64, 50])\n",
            "torch.Size([64, 50])\n",
            "torch.Size([64, 50])\n",
            "torch.Size([64, 50])\n",
            "torch.Size([64, 50])\n",
            "torch.Size([64, 50])\n",
            "torch.Size([64, 50])\n",
            "torch.Size([64, 50])\n",
            "torch.Size([64, 50])\n",
            "torch.Size([64, 50])\n",
            "torch.Size([64, 50])\n",
            "torch.Size([64, 50])\n",
            "torch.Size([64, 50])\n",
            "torch.Size([64, 50])\n",
            "torch.Size([64, 50])\n",
            "torch.Size([64, 50])\n",
            "torch.Size([64, 50])\n",
            "torch.Size([64, 50])\n",
            "torch.Size([64, 50])\n",
            "torch.Size([64, 50])\n",
            "torch.Size([64, 50])\n",
            "torch.Size([64, 50])\n",
            "torch.Size([64, 50])\n",
            "torch.Size([64, 50])\n",
            "torch.Size([64, 50])\n",
            "torch.Size([64, 50])\n",
            "torch.Size([64, 50])\n",
            "torch.Size([64, 50])\n",
            "torch.Size([64, 50])\n",
            "torch.Size([64, 50])\n",
            "torch.Size([64, 50])\n",
            "torch.Size([64, 50])\n",
            "torch.Size([64, 50])\n",
            "torch.Size([64, 50])\n",
            "torch.Size([64, 50])\n",
            "torch.Size([64, 50])\n",
            "torch.Size([64, 50])\n",
            "torch.Size([64, 50])\n",
            "torch.Size([64, 50])\n",
            "torch.Size([64, 50])\n",
            "torch.Size([64, 50])\n",
            "torch.Size([64, 50])\n",
            "torch.Size([64, 50])\n",
            "torch.Size([64, 50])\n",
            "torch.Size([64, 50])\n",
            "torch.Size([64, 50])\n",
            "torch.Size([64, 50])\n",
            "torch.Size([64, 50])\n",
            "torch.Size([64, 50])\n",
            "torch.Size([64, 50])\n",
            "torch.Size([64, 50])\n",
            "torch.Size([64, 50])\n",
            "torch.Size([64, 50])\n",
            "torch.Size([64, 50])\n",
            "torch.Size([64, 50])\n",
            "torch.Size([64, 50])\n",
            "torch.Size([64, 50])\n",
            "torch.Size([64, 50])\n",
            "torch.Size([64, 50])\n",
            "torch.Size([64, 50])\n",
            "torch.Size([64, 50])\n",
            "torch.Size([64, 50])\n",
            "torch.Size([64, 50])\n",
            "torch.Size([64, 50])\n",
            "torch.Size([64, 50])\n",
            "torch.Size([64, 50])\n",
            "torch.Size([64, 50])\n",
            "torch.Size([64, 50])\n",
            "torch.Size([64, 50])\n",
            "torch.Size([64, 50])\n",
            "torch.Size([64, 50])\n",
            "torch.Size([64, 50])\n",
            "torch.Size([64, 50])\n",
            "torch.Size([64, 50])\n",
            "torch.Size([64, 50])\n",
            "torch.Size([64, 50])\n",
            "torch.Size([64, 50])\n",
            "torch.Size([64, 50])\n",
            "torch.Size([64, 50])\n",
            "torch.Size([64, 50])\n",
            "torch.Size([64, 50])\n",
            "torch.Size([64, 50])\n",
            "torch.Size([64, 50])\n",
            "torch.Size([64, 50])\n",
            "torch.Size([64, 50])\n",
            "torch.Size([64, 50])\n",
            "torch.Size([64, 50])\n",
            "torch.Size([64, 50])\n",
            "torch.Size([64, 50])\n",
            "torch.Size([64, 50])\n",
            "torch.Size([64, 50])\n",
            "torch.Size([64, 50])\n",
            "torch.Size([64, 50])\n",
            "torch.Size([64, 50])\n",
            "torch.Size([64, 50])\n",
            "torch.Size([64, 50])\n",
            "torch.Size([64, 50])\n",
            "torch.Size([64, 50])\n",
            "torch.Size([64, 50])\n",
            "torch.Size([64, 50])\n",
            "torch.Size([64, 50])\n",
            "torch.Size([64, 50])\n",
            "torch.Size([64, 50])\n",
            "torch.Size([64, 50])\n",
            "torch.Size([64, 50])\n",
            "torch.Size([64, 50])\n",
            "torch.Size([64, 50])\n",
            "torch.Size([64, 50])\n",
            "torch.Size([64, 50])\n",
            "torch.Size([64, 50])\n",
            "torch.Size([64, 50])\n",
            "torch.Size([64, 50])\n",
            "torch.Size([64, 50])\n",
            "torch.Size([64, 50])\n",
            "torch.Size([64, 50])\n",
            "torch.Size([64, 50])\n",
            "torch.Size([64, 50])\n",
            "torch.Size([64, 50])\n",
            "torch.Size([64, 50])\n",
            "torch.Size([64, 50])\n",
            "torch.Size([64, 50])\n",
            "torch.Size([64, 50])\n",
            "torch.Size([64, 50])\n",
            "torch.Size([64, 50])\n",
            "torch.Size([64, 50])\n",
            "torch.Size([64, 50])\n",
            "torch.Size([64, 50])\n",
            "torch.Size([64, 50])\n",
            "torch.Size([64, 50])\n",
            "torch.Size([64, 50])\n",
            "torch.Size([64, 50])\n",
            "torch.Size([64, 50])\n",
            "torch.Size([64, 50])\n",
            "torch.Size([64, 50])\n",
            "torch.Size([64, 50])\n",
            "torch.Size([64, 50])\n",
            "torch.Size([64, 50])\n",
            "torch.Size([64, 50])\n",
            "torch.Size([64, 50])\n",
            "torch.Size([64, 50])\n",
            "torch.Size([64, 50])\n",
            "torch.Size([64, 50])\n",
            "torch.Size([64, 50])\n",
            "torch.Size([64, 50])\n",
            "torch.Size([64, 50])\n",
            "torch.Size([64, 50])\n",
            "torch.Size([64, 50])\n",
            "torch.Size([64, 50])\n",
            "torch.Size([64, 50])\n",
            "torch.Size([64, 50])\n",
            "torch.Size([64, 50])\n",
            "torch.Size([64, 50])\n",
            "torch.Size([64, 50])\n",
            "torch.Size([64, 50])\n",
            "torch.Size([64, 50])\n",
            "torch.Size([64, 50])\n",
            "torch.Size([64, 50])\n",
            "torch.Size([64, 50])\n",
            "torch.Size([64, 50])\n",
            "torch.Size([64, 50])\n",
            "torch.Size([64, 50])\n",
            "torch.Size([64, 50])\n",
            "torch.Size([64, 50])\n",
            "torch.Size([64, 50])\n",
            "torch.Size([64, 50])\n",
            "torch.Size([64, 50])\n",
            "torch.Size([64, 50])\n",
            "torch.Size([64, 50])\n",
            "torch.Size([64, 50])\n",
            "torch.Size([64, 50])\n",
            "torch.Size([64, 50])\n",
            "torch.Size([64, 50])\n",
            "torch.Size([64, 50])\n",
            "torch.Size([64, 50])\n",
            "torch.Size([64, 50])\n",
            "torch.Size([64, 50])\n",
            "torch.Size([64, 50])\n",
            "torch.Size([64, 50])\n",
            "torch.Size([64, 50])\n",
            "torch.Size([64, 50])\n",
            "torch.Size([64, 50])\n",
            "torch.Size([64, 50])\n",
            "torch.Size([64, 50])\n",
            "torch.Size([64, 50])\n",
            "torch.Size([64, 50])\n",
            "torch.Size([64, 50])\n",
            "torch.Size([64, 50])\n",
            "torch.Size([64, 50])\n",
            "torch.Size([64, 50])\n",
            "torch.Size([64, 50])\n",
            "torch.Size([64, 50])\n",
            "torch.Size([64, 50])\n",
            "torch.Size([64, 50])\n",
            "torch.Size([64, 50])\n",
            "torch.Size([64, 50])\n",
            "torch.Size([64, 50])\n",
            "torch.Size([64, 50])\n",
            "torch.Size([64, 50])\n",
            "torch.Size([64, 50])\n",
            "torch.Size([64, 50])\n",
            "torch.Size([64, 50])\n",
            "torch.Size([64, 50])\n",
            "torch.Size([64, 50])\n",
            "torch.Size([64, 50])\n",
            "torch.Size([64, 50])\n",
            "torch.Size([64, 50])\n",
            "torch.Size([64, 50])\n",
            "torch.Size([64, 50])\n",
            "torch.Size([64, 50])\n",
            "torch.Size([64, 50])\n",
            "torch.Size([64, 50])\n",
            "torch.Size([64, 50])\n",
            "torch.Size([64, 50])\n",
            "torch.Size([64, 50])\n",
            "torch.Size([64, 50])\n",
            "torch.Size([64, 50])\n",
            "torch.Size([64, 50])\n",
            "torch.Size([64, 50])\n",
            "torch.Size([64, 50])\n",
            "torch.Size([64, 50])\n",
            "torch.Size([64, 50])\n",
            "torch.Size([64, 50])\n",
            "torch.Size([64, 50])\n",
            "torch.Size([64, 50])\n",
            "torch.Size([64, 50])\n",
            "torch.Size([64, 50])\n",
            "torch.Size([64, 50])\n",
            "torch.Size([64, 50])\n",
            "torch.Size([64, 50])\n",
            "torch.Size([64, 50])\n",
            "torch.Size([64, 50])\n",
            "torch.Size([64, 50])\n",
            "torch.Size([64, 50])\n",
            "torch.Size([64, 50])\n",
            "torch.Size([64, 50])\n",
            "torch.Size([64, 50])\n",
            "torch.Size([64, 50])\n",
            "torch.Size([64, 50])\n",
            "torch.Size([64, 50])\n",
            "torch.Size([64, 50])\n",
            "torch.Size([64, 50])\n",
            "torch.Size([64, 50])\n",
            "torch.Size([64, 50])\n",
            "torch.Size([64, 50])\n",
            "torch.Size([64, 50])\n",
            "torch.Size([64, 50])\n",
            "torch.Size([64, 50])\n",
            "torch.Size([64, 50])\n",
            "torch.Size([64, 50])\n",
            "torch.Size([64, 50])\n",
            "torch.Size([64, 50])\n",
            "torch.Size([64, 50])\n",
            "torch.Size([64, 50])\n",
            "torch.Size([64, 50])\n",
            "torch.Size([64, 50])\n",
            "torch.Size([64, 50])\n",
            "torch.Size([64, 50])\n",
            "torch.Size([64, 50])\n",
            "torch.Size([64, 50])\n",
            "torch.Size([64, 50])\n",
            "torch.Size([64, 50])\n",
            "torch.Size([64, 50])\n",
            "torch.Size([64, 50])\n",
            "torch.Size([64, 50])\n",
            "torch.Size([64, 50])\n",
            "torch.Size([64, 50])\n",
            "torch.Size([64, 50])\n",
            "torch.Size([64, 50])\n",
            "torch.Size([64, 50])\n",
            "torch.Size([64, 50])\n",
            "torch.Size([64, 50])\n",
            "torch.Size([64, 50])\n",
            "torch.Size([64, 50])\n",
            "torch.Size([64, 50])\n",
            "torch.Size([64, 50])\n",
            "torch.Size([64, 50])\n",
            "torch.Size([64, 50])\n",
            "torch.Size([64, 50])\n",
            "torch.Size([64, 50])\n",
            "torch.Size([64, 50])\n",
            "torch.Size([64, 50])\n",
            "torch.Size([64, 50])\n",
            "torch.Size([64, 50])\n",
            "torch.Size([64, 50])\n",
            "torch.Size([64, 50])\n",
            "torch.Size([64, 50])\n",
            "torch.Size([64, 50])\n",
            "torch.Size([64, 50])\n",
            "torch.Size([64, 50])\n",
            "torch.Size([64, 50])\n",
            "torch.Size([64, 50])\n",
            "torch.Size([64, 50])\n",
            "torch.Size([64, 50])\n",
            "torch.Size([64, 50])\n",
            "torch.Size([64, 50])\n",
            "torch.Size([64, 50])\n",
            "torch.Size([64, 50])\n",
            "torch.Size([64, 50])\n",
            "torch.Size([64, 50])\n",
            "torch.Size([64, 50])\n",
            "torch.Size([64, 50])\n",
            "torch.Size([64, 50])\n",
            "torch.Size([64, 50])\n",
            "torch.Size([64, 50])\n",
            "torch.Size([64, 50])\n",
            "torch.Size([64, 50])\n",
            "torch.Size([64, 50])\n",
            "torch.Size([64, 50])\n",
            "torch.Size([64, 50])\n",
            "torch.Size([64, 50])\n",
            "torch.Size([64, 50])\n",
            "torch.Size([64, 50])\n",
            "torch.Size([64, 50])\n",
            "torch.Size([64, 50])\n",
            "torch.Size([64, 50])\n",
            "torch.Size([64, 50])\n",
            "torch.Size([64, 50])\n",
            "torch.Size([64, 50])\n",
            "torch.Size([64, 50])\n",
            "torch.Size([64, 50])\n",
            "torch.Size([64, 50])\n",
            "torch.Size([64, 50])\n",
            "torch.Size([64, 50])\n",
            "torch.Size([64, 50])\n",
            "torch.Size([64, 50])\n",
            "torch.Size([64, 50])\n",
            "torch.Size([64, 50])\n",
            "torch.Size([64, 50])\n",
            "torch.Size([64, 50])\n",
            "torch.Size([64, 50])\n",
            "torch.Size([64, 50])\n",
            "torch.Size([64, 50])\n",
            "torch.Size([64, 50])\n",
            "torch.Size([64, 50])\n",
            "torch.Size([64, 50])\n",
            "torch.Size([64, 50])\n",
            "torch.Size([64, 50])\n",
            "torch.Size([64, 50])\n",
            "torch.Size([64, 50])\n",
            "torch.Size([64, 50])\n",
            "torch.Size([64, 50])\n",
            "torch.Size([64, 50])\n",
            "torch.Size([64, 50])\n",
            "torch.Size([64, 50])\n",
            "torch.Size([64, 50])\n",
            "torch.Size([64, 50])\n",
            "torch.Size([64, 50])\n",
            "torch.Size([64, 50])\n",
            "torch.Size([64, 50])\n",
            "torch.Size([64, 50])\n",
            "torch.Size([64, 50])\n",
            "torch.Size([64, 50])\n",
            "torch.Size([64, 50])\n",
            "torch.Size([64, 50])\n",
            "torch.Size([64, 50])\n",
            "torch.Size([64, 50])\n",
            "torch.Size([64, 50])\n",
            "torch.Size([64, 50])\n",
            "torch.Size([64, 50])\n",
            "torch.Size([64, 50])\n",
            "torch.Size([64, 50])\n",
            "torch.Size([64, 50])\n",
            "torch.Size([64, 50])\n",
            "torch.Size([64, 50])\n",
            "torch.Size([64, 50])\n",
            "torch.Size([64, 50])\n",
            "torch.Size([64, 50])\n",
            "torch.Size([64, 50])\n",
            "torch.Size([64, 50])\n",
            "torch.Size([64, 50])\n",
            "torch.Size([64, 50])\n",
            "torch.Size([64, 50])\n",
            "torch.Size([64, 50])\n",
            "torch.Size([64, 50])\n",
            "torch.Size([64, 50])\n",
            "torch.Size([64, 50])\n",
            "torch.Size([64, 50])\n",
            "torch.Size([64, 50])\n",
            "torch.Size([64, 50])\n",
            "torch.Size([64, 50])\n",
            "torch.Size([64, 50])\n",
            "torch.Size([64, 50])\n",
            "torch.Size([64, 50])\n",
            "torch.Size([64, 50])\n",
            "torch.Size([64, 50])\n",
            "torch.Size([64, 50])\n",
            "torch.Size([64, 50])\n",
            "torch.Size([64, 50])\n",
            "torch.Size([64, 50])\n",
            "torch.Size([64, 50])\n",
            "torch.Size([64, 50])\n",
            "torch.Size([64, 50])\n",
            "torch.Size([64, 50])\n",
            "torch.Size([64, 50])\n",
            "torch.Size([64, 50])\n",
            "torch.Size([64, 50])\n",
            "torch.Size([64, 50])\n",
            "torch.Size([64, 50])\n",
            "torch.Size([64, 50])\n",
            "torch.Size([64, 50])\n",
            "torch.Size([64, 50])\n",
            "torch.Size([64, 50])\n",
            "torch.Size([64, 50])\n",
            "torch.Size([64, 50])\n",
            "torch.Size([64, 50])\n",
            "torch.Size([64, 50])\n",
            "torch.Size([64, 50])\n",
            "torch.Size([64, 50])\n",
            "torch.Size([64, 50])\n",
            "torch.Size([64, 50])\n",
            "torch.Size([64, 50])\n",
            "torch.Size([64, 50])\n",
            "torch.Size([64, 50])\n",
            "torch.Size([64, 50])\n",
            "torch.Size([64, 50])\n",
            "torch.Size([64, 50])\n",
            "torch.Size([64, 50])\n",
            "torch.Size([64, 50])\n",
            "torch.Size([64, 50])\n",
            "torch.Size([64, 50])\n",
            "torch.Size([64, 50])\n",
            "torch.Size([64, 50])\n",
            "torch.Size([64, 50])\n",
            "torch.Size([64, 50])\n",
            "torch.Size([64, 50])\n",
            "torch.Size([64, 50])\n",
            "torch.Size([64, 50])\n",
            "torch.Size([64, 50])\n",
            "torch.Size([64, 50])\n",
            "torch.Size([64, 50])\n",
            "torch.Size([64, 50])\n",
            "torch.Size([64, 50])\n",
            "torch.Size([64, 50])\n",
            "torch.Size([64, 50])\n",
            "torch.Size([64, 50])\n",
            "torch.Size([64, 50])\n",
            "torch.Size([64, 50])\n",
            "torch.Size([64, 50])\n",
            "torch.Size([64, 50])\n",
            "torch.Size([64, 50])\n",
            "torch.Size([64, 50])\n",
            "torch.Size([64, 50])\n",
            "torch.Size([64, 50])\n",
            "torch.Size([64, 50])\n",
            "torch.Size([64, 50])\n",
            "torch.Size([64, 50])\n",
            "torch.Size([64, 50])\n",
            "torch.Size([64, 50])\n",
            "torch.Size([64, 50])\n",
            "torch.Size([64, 50])\n",
            "torch.Size([64, 50])\n",
            "torch.Size([64, 50])\n",
            "torch.Size([64, 50])\n",
            "torch.Size([64, 50])\n",
            "torch.Size([64, 50])\n",
            "torch.Size([64, 50])\n",
            "torch.Size([64, 50])\n",
            "torch.Size([64, 50])\n",
            "torch.Size([64, 50])\n",
            "torch.Size([64, 50])\n",
            "torch.Size([64, 50])\n",
            "torch.Size([64, 50])\n",
            "torch.Size([64, 50])\n",
            "torch.Size([64, 50])\n",
            "torch.Size([64, 50])\n",
            "torch.Size([64, 50])\n",
            "torch.Size([64, 50])\n",
            "torch.Size([64, 50])\n",
            "torch.Size([64, 50])\n",
            "torch.Size([64, 50])\n",
            "torch.Size([64, 50])\n",
            "torch.Size([64, 50])\n",
            "torch.Size([64, 50])\n",
            "torch.Size([64, 50])\n",
            "torch.Size([64, 50])\n",
            "torch.Size([64, 50])\n",
            "torch.Size([64, 50])\n",
            "torch.Size([64, 50])\n",
            "torch.Size([64, 50])\n",
            "torch.Size([64, 50])\n",
            "torch.Size([64, 50])\n",
            "torch.Size([64, 50])\n",
            "torch.Size([64, 50])\n",
            "torch.Size([64, 50])\n",
            "torch.Size([64, 50])\n",
            "torch.Size([64, 50])\n",
            "torch.Size([64, 50])\n",
            "torch.Size([64, 50])\n",
            "torch.Size([64, 50])\n",
            "torch.Size([64, 50])\n",
            "torch.Size([64, 50])\n",
            "torch.Size([64, 50])\n",
            "torch.Size([64, 50])\n",
            "torch.Size([64, 50])\n",
            "torch.Size([64, 50])\n",
            "torch.Size([20, 50])\n"
          ]
        }
      ]
    },
    {
      "cell_type": "code",
      "metadata": {
        "id": "fgEJv1vWqNkS",
        "colab": {
          "base_uri": "https://localhost:8080/"
        },
        "outputId": "7cbc3640-a162-4560-a4c9-2ab6771af733"
      },
      "source": [
        "lr = 1e-2\n",
        "input_size = 128\n",
        "hidden_size = 128\n",
        "batch_size = 256\n",
        "\n",
        "dataset = LMDataset(tokens)\n",
        "dataloader = torch.utils.data.DataLoader(dataset, batch_size=batch_size, shuffle=True)\n",
        "model = LanguageModel(input_size=input_size, hidden_size=hidden_size)\n",
        "# NOTE: you should use ignore_index to ignore the loss from predicting the <PAD> token\n",
        "criterion = nn.CrossEntropyLoss(ignore_index=0)\n",
        "optimizer = optim.Adam(model.parameters(), lr=lr)\n",
        "device = torch.device('cuda')\n",
        "\n",
        "trainer = Trainer(word2idx = word2idx,\n",
        "                  idx2word = idx2word,\n",
        "                  dataloader=dataloader, \n",
        "                  model = model,\n",
        "                  criterion=criterion,\n",
        "                  optimizer = optimizer,\n",
        "                  device=device)\n",
        "\n",
        "trainer.train(epochs=50)"
      ],
      "execution_count": 19,
      "outputs": [
        {
          "output_type": "stream",
          "name": "stderr",
          "text": [
            "165it [00:19,  8.49it/s]\n"
          ]
        },
        {
          "output_type": "stream",
          "name": "stdout",
          "text": [
            "Time [0:00:19], Epoch [1/50], loss: 6.0941\n",
            "[Generated Sentences]\n",
            "['bike', 'counted', 'would', 'require', '$', 'N', 'billion', 'from', '$', 'N', 'billion', 'plants', 'to', 'more', 'soon', 'off', 'the', 'two', 'stop', 'the', 'next', 'practices', 'takes', 'yesterday', 'her', 'chapter', 'N', 'staff', 'unit', 'after', 'the', 'smallest', 'businesses', \"'s\", 'board', 'suggested', 'who', 'force', 'so', 'commons', 'can', 'use', 'a', 'imported', 'action', 'on', 'waertsilae', 'up', 'on', 'a']\n",
            "['push', 'command', \"'s\", 'greenwich', 'exchange', 'collateral', 'subsidiary', 'has', 'grew', 'N', 'subordinated', 'a', 'major', 'investment', 'during', \"'s\", 'mr.', 'savaiko', 'that', 'long-term', 'the', 'stock', 'to', '<unk>', 'teams', 'furniture', '<unk>', 'either', 'operating', 'analysts', 'say', 'it', 'is', 'under', 'by', 'the', 'bleak', 'house', 'co.', 'says', 'a', 'comprehensive', 'price', 'letter', 'to', 'a', 'shareholders', 'from', 'manufacturing', 'stocks']\n",
            "['hartford', 'construction', 'of', 'system', 'ltd', 'financing', 'doing', 'in', 'many', 'quarters', 'explains', 'morris', 'contracted', 'market', 'running', 'for', 'the', 'death', 'of', 'a', 'joint', 'player', 'markets', '<unk>', 'year', 'making', 'money', 'terms', 'of', 'first', 'movies', 'is', 'considering', 'says', 'the', 'ring', 'of', 'support', 'members', 'expect', 'to', 'delay', 'caused', 'that', '<unk>', '<unk>', 'the', '<unk>', '&', 'sons']\n",
            "['coordinator', 'side', 'in', '<unk>', 'union', 'said', 'she', 'is', '<unk>', 'a', '<unk>', 'exposure', 'by', 'new', 'digs', 'by', 'black', 'products', 'in', 'movement', 'and', 'his', 'own', 'result', 'in', 'the', '<unk>', 'leading', 'growth', 'to', 'create', 'other', 'underestimated', 'changes', 'related', 'that', 'the', 'cause', 'is', 'being', 'born', 'in', 'early', 'a', 'guarantee', 'interest', 'rates', 'benefits', 'that', 'line']\n",
            "['particular', 'revisions', 'toward', 'much', 'of', 'low-income', 'and', 'N', '<unk>', '<unk>', 'and', 'violating', 'the', 'damage', 'conducted', 'eastern', 'voiced', 'creditors', 'with', '<unk>', 'the', 'insurance', 'met', 'would', 'advertising', 'any', 'a', 'same', 'unsettled', 'discrimination', 'of', 'another', 'judge', 'inc', 'the', 'standard', 'co.', 'in', 'latin', 'quake', 'created', 'with', '<unk>', 'valley', 'of', 'the', 'french', 'management', 'charges', 'linked']\n"
          ]
        },
        {
          "output_type": "stream",
          "name": "stderr",
          "text": [
            "165it [00:16, 10.10it/s]\n"
          ]
        },
        {
          "output_type": "stream",
          "name": "stdout",
          "text": [
            "Time [0:00:35], Epoch [2/50], loss: 5.2191\n"
          ]
        },
        {
          "output_type": "stream",
          "name": "stderr",
          "text": [
            "165it [00:16, 10.16it/s]\n"
          ]
        },
        {
          "output_type": "stream",
          "name": "stdout",
          "text": [
            "Time [0:00:52], Epoch [3/50], loss: 4.8991\n"
          ]
        },
        {
          "output_type": "stream",
          "name": "stderr",
          "text": [
            "165it [00:16,  9.83it/s]\n"
          ]
        },
        {
          "output_type": "stream",
          "name": "stdout",
          "text": [
            "Time [0:01:08], Epoch [4/50], loss: 4.6941\n"
          ]
        },
        {
          "output_type": "stream",
          "name": "stderr",
          "text": [
            "165it [00:16, 10.25it/s]\n"
          ]
        },
        {
          "output_type": "stream",
          "name": "stdout",
          "text": [
            "Time [0:01:25], Epoch [5/50], loss: 4.5368\n"
          ]
        },
        {
          "output_type": "stream",
          "name": "stderr",
          "text": [
            "165it [00:16, 10.23it/s]\n"
          ]
        },
        {
          "output_type": "stream",
          "name": "stdout",
          "text": [
            "Time [0:01:41], Epoch [6/50], loss: 4.4092\n",
            "[Generated Sentences]\n",
            "['rated', 'single-a-2', 'of', 'trading', 'the', 'small', 'tv', 'buy-out', 'selling', '<unk>', 'vehicles', 'without', 'providing', 'huge', 'amounts', 'over', 'to', '$', 'N', 'billion', 'of', 'united', 'a', 'second', 'agency', 'was', 'proposed', 'reflecting', 'lower', 'prices', 'for', 'the', 'operation', 'of', 'the', 'new', 'york', 'state', 'department', \"'s\", 'record', 'stock', 'exchange', 'in', 'new', 'york', 'investors', 'and', 'defeated', 'quotron']\n",
            "['aid', 'immediately', 'mips', 'says', 'the', 'group', \"'s\", 'extraordinary', 'strength', 'of', 'bad', 'companies', 'in', 'the', 'club', \"'s\", 'most', 'consumer', 'electronics', 'has', 'refused', 'to', 'the', 'expected', 'interest', 'in', 'the', 'valley', 'with', 'record', 'and', 'apartments', 'and', 'dialysis', 'patients', 'a', 'unit', 'of', 'merksamer', '&', '<unk>', 'ltd.', 'has', 'been', '<unk>', 'very', 'setting', 'up', 'with', 'weaker']\n",
            "['vessels', 'some', 'details', 'are', 'having', 'been', 'president', 'of', 'health', 'aged', 'N', 'N', 'to', 'the', 'proliferation', 'in', 'the', 'quarter', 'pence', 'N', 'N', 'to', '$', 'N', 'million', 'on', 'his', 'N', 'ownership', 'of', 'the', 'value', 'of', 'debt', 'funding', 'for', 'control', 'which', 'goes', 'earned', 'all', 'and', 'talk', 'about', 'N', 'shares', 'outstanding', 'said', 'and', 'chrysler']\n",
            "['counting', '<unk>', 'companies', 'in', 'a', 'visa', 'restructuring', 'of', 'the', '<unk>', 'and', 'diversified', 'magazines', 'would', 'have', 'to', 'sell', 'a', 'green', 'market', 'value', 'of', 'litigation', 'acquired', 'by', 'the', 'company', 'said', 'in', 'the', 'first', 'quarter', 'were', 'up', 'N', 'from', 'N', 'yen', 'up', 'from', 'N', 'billion', 'yen', 'up', 'to', '$', 'N', 'billion', 'a', 'year']\n",
            "['before', 'published', 'could', 'substantially', 'any', 'difference', 'between', '<unk>', 'costs', 'in', 'san', 'francisco', 'germany', 'to', 'compete', 'and', 'the', 'even', 'include', 'investor', 'make', 'loans', 'focusing', 'treatment', '<unk>', 'development', 'class', 'a', 'common', 'shares', 'via', 'dillon', 'N', 'and', 'government', 'bank', 'financing', 'corp.', 'of', 'electronic', 'devices', '<unk>', 'computer', 'corp.', 'just', 'almost', 'so', 'dealers', 'that', 'its']\n"
          ]
        },
        {
          "output_type": "stream",
          "name": "stderr",
          "text": [
            "165it [00:16, 10.27it/s]\n"
          ]
        },
        {
          "output_type": "stream",
          "name": "stdout",
          "text": [
            "Time [0:01:57], Epoch [7/50], loss: 4.3021\n"
          ]
        },
        {
          "output_type": "stream",
          "name": "stderr",
          "text": [
            "165it [00:16, 10.25it/s]\n"
          ]
        },
        {
          "output_type": "stream",
          "name": "stdout",
          "text": [
            "Time [0:02:13], Epoch [8/50], loss: 4.2084\n"
          ]
        },
        {
          "output_type": "stream",
          "name": "stderr",
          "text": [
            "165it [00:16, 10.23it/s]\n"
          ]
        },
        {
          "output_type": "stream",
          "name": "stdout",
          "text": [
            "Time [0:02:29], Epoch [9/50], loss: 4.1286\n"
          ]
        },
        {
          "output_type": "stream",
          "name": "stderr",
          "text": [
            "165it [00:16, 10.12it/s]\n"
          ]
        },
        {
          "output_type": "stream",
          "name": "stdout",
          "text": [
            "Time [0:02:45], Epoch [10/50], loss: 4.0591\n"
          ]
        },
        {
          "output_type": "stream",
          "name": "stderr",
          "text": [
            "165it [00:16, 10.28it/s]\n"
          ]
        },
        {
          "output_type": "stream",
          "name": "stdout",
          "text": [
            "Time [0:03:01], Epoch [11/50], loss: 3.9953\n",
            "[Generated Sentences]\n",
            "['angels', '<unk>', 'a.', 'bologna', 'president', '<unk>', '<unk>', 'calif.', 'has', 'interests', 'in', '<unk>', 'language', 'and', 'objectives', 'driving', 'premier', 'or', 'the', 'kansas', 'city', 'to', 'repair', 'the', 'department', \"'s\", 'first', 'test', 'base', 'news', 'and', 'to', 'calm', 'and', 'the', 'two', '<unk>', 'in', 'N', 'cases', 'now', 'that', 'only', '$', 'N', 'a', 'year', 'both', 'profit', 'of']\n",
            "['hotels', 'revenue', 'friday', 'earlier', 'fueled', 'by', 'strong', 'sales', 'of', 'about', '$', 'N', 'million', 'positions', 'the', 'official', 'indianapolis', 'listed', 'in', 'the', 'british', 'operations', 'of', 'mutual', 'funds', 'and', 'are', 'extremely', 'attractive', 'in', 'the', 'expenses', 'bring', 'even', 'changing', 'in', 'the', 'day', 'down', 'N', 'N', 'of', 'buck', 'in', 'tonight', '<unk>', 'N', 'late', 'at', 'one']\n",
            "['repurchase', 'diabetics', 'based', 'in', 'iowa', 'for', 'example', 'he', 'adds', 'to', 'the', 'voice', 'and', 'american', 'is', 'that', 'sophisticated', 'just', 'thousands', 'of', 'dollars', 'in', 'what', 'represents', 'operators', 'that', '<unk>', 'billions', 'a', '<unk>', 'on', 'computers', 'until', 'next', 'summer', 'by', 'a', 'specialty', 'beach', 'co.', 'heir', 'for', 'boeing', \"'s\", 'department', 'stores', 'and', '<unk>', 'eddie', '<unk>']\n",
            "['lead', 'underwriter', 'georgia', 'pacific', 'owns', 'one', 'traders', 'expect', 'yesterday', 'selling', 'at', 'japanese', 'investors', '<unk>', 'and', 'lewis', 'receivables', 'of', 'donaldson', 'lufkin', '&', 'jenrette', 'securities', 'corp', 'louisville', 'ky.', 'inc', 'japan', 'three', 'via', 'pittsburgh', 'b.', 'c.', 'bernstein', '&', 'co.', 'held', 'its', '<unk>', 'of', 'program', 'to', '<unk>', 'as', 'technical', 'equity', 'stake', 'in', 'japan', 'said']\n",
            "['movements', 'are', 'going', 'so', 'that', 'cuts', 'the', 'investor', 'making', 'strong', 'enough', 'to', 'bring', 'every', 'rally', 'or', 'sell', 'users', 'to', 'price', 'benefits', 'over', 'the', 'last', 'half-hour', 'over', 'months', 'of', 'care', 'what', 'new', 'question', 'east', 'and', 'u.s.', 'investors', 'may', 'be', 'exact', 'for', 'the', 'close', 'picked', 'up', 'he', 'adds', 'to', 'be', 'the', 'dream']\n"
          ]
        },
        {
          "output_type": "stream",
          "name": "stderr",
          "text": [
            "165it [00:16, 10.24it/s]\n"
          ]
        },
        {
          "output_type": "stream",
          "name": "stdout",
          "text": [
            "Time [0:03:18], Epoch [12/50], loss: 3.9369\n"
          ]
        },
        {
          "output_type": "stream",
          "name": "stderr",
          "text": [
            "165it [00:16, 10.26it/s]\n"
          ]
        },
        {
          "output_type": "stream",
          "name": "stdout",
          "text": [
            "Time [0:03:34], Epoch [13/50], loss: 3.8859\n"
          ]
        },
        {
          "output_type": "stream",
          "name": "stderr",
          "text": [
            "165it [00:16, 10.18it/s]\n"
          ]
        },
        {
          "output_type": "stream",
          "name": "stdout",
          "text": [
            "Time [0:03:50], Epoch [14/50], loss: 3.8408\n"
          ]
        },
        {
          "output_type": "stream",
          "name": "stderr",
          "text": [
            "165it [00:16, 10.18it/s]\n"
          ]
        },
        {
          "output_type": "stream",
          "name": "stdout",
          "text": [
            "Time [0:04:06], Epoch [15/50], loss: 3.7980\n"
          ]
        },
        {
          "output_type": "stream",
          "name": "stderr",
          "text": [
            "165it [00:16, 10.27it/s]\n"
          ]
        },
        {
          "output_type": "stream",
          "name": "stdout",
          "text": [
            "Time [0:04:22], Epoch [16/50], loss: 3.7598\n",
            "[Generated Sentences]\n",
            "['appointment', 'pro-choice', 'testing', 'could', \"n't\", 'have', 'justified', 'a', 'briefing', 'book', 'holding', 'about', 'the', 'engineering', 'company', 'the', 'ruling', 'service', 'in', 'june', '<unk>', 'entertainment', 'inc', 'a', 'joint', '<unk>', 'to', 'cancel', 'responsible', 'for', 'jan.', 'N', 'with', 'the', 'amount', 'of', 'other', 'common', 'to', 'face', 'the', 'company', 'to', 'a', 'flight', 'which', 'will', 'be', 'remembered', 'at']\n",
            "['faa', 'also', 'said', 'this', 'influenced', 'the', 'spokesman', 'does', 'it', 'could', 'get', 'it', 'much', 'too', 'where', 'coke', 'can', 'accept', 'it', 'because', 'of', 'its', 'appointment', 'to', 'defer', 'its', 'board', 'meeting', 'in', 'new', 'york', '<unk>', 'with', '<unk>', 'cards', 'inc', 'seeking', 'to', 'waive', 'more', 'assistance', 'as', 'the', 'senate', 'banking', 'committee', 'rep.', 'stephen', 'neal', 'v.']\n",
            "['third-largest', 'rand', 'advanced', 'N', 'N', 'to', 'N', 'N', 'N', 'N', 'days', 'N', 'N', 'N', 'N', 'series', 'via', 'a', 'N', 'N', 'annual', 'rate', 'in', 'preferred', 'system', 'the', 'general', 'agreement', 'was', 'setting', 'the', 'same', 'as', 'a', 'zero', 'start', 'their', 'firm', 'those', 'countries', 'they', 'said', 'they', 'believe', 'it', 'will', '<unk>', '<unk>', 'weaknesses', 'in']\n",
            "['deutsche', 'giant', 'campeau', 'also', 'cited', 'unfavorable', 'exchange', 'warehouse', 'economic', 'growth', 'would', 'give', 'up', 'their', 'portfolios', 'will', 'construct', 'little', 'damage', 'at', 'the', 'time', 'she', 'was', 'also', 'on', 'the', 'opening', 'last', 'night', 'and', 'we', 'do', \"n't\", 'keep', 'the', 'metric', 'therapy', 'baseball', 'player', 'near', 'the', 'deliberations', 'were', '<unk>', 'nonetheless', 'is', 'that', 'they', 'can']\n",
            "['share', 'prices', 'on', 'the', 'continent', 'products', 'are', 'providing', 'a', '$', '<unk>', 'hour', 'despite', 'steady', 'growth', 'of', '$', 'N', 'in', 'june', 'allowing', 'operating', 'systems', 'violations', 'in', 'new', 'york', 'and', 'mr.', 'drabinsky', 'and', 'two', 'of', 'commercial', 'and', '<unk>', 'union', 'processes', 'N', 'million', 'swiss', 'francs', 'of', '<unk>', 'inc.', 'a', 'little', 'rock', 'ark', 'who']\n"
          ]
        },
        {
          "output_type": "stream",
          "name": "stderr",
          "text": [
            "165it [00:16, 10.24it/s]\n"
          ]
        },
        {
          "output_type": "stream",
          "name": "stdout",
          "text": [
            "Time [0:04:38], Epoch [17/50], loss: 3.7251\n"
          ]
        },
        {
          "output_type": "stream",
          "name": "stderr",
          "text": [
            "165it [00:16,  9.98it/s]\n"
          ]
        },
        {
          "output_type": "stream",
          "name": "stdout",
          "text": [
            "Time [0:04:55], Epoch [18/50], loss: 3.6924\n"
          ]
        },
        {
          "output_type": "stream",
          "name": "stderr",
          "text": [
            "165it [00:16, 10.21it/s]\n"
          ]
        },
        {
          "output_type": "stream",
          "name": "stdout",
          "text": [
            "Time [0:05:11], Epoch [19/50], loss: 3.6620\n"
          ]
        },
        {
          "output_type": "stream",
          "name": "stderr",
          "text": [
            "165it [00:16, 10.25it/s]\n"
          ]
        },
        {
          "output_type": "stream",
          "name": "stdout",
          "text": [
            "Time [0:05:27], Epoch [20/50], loss: 3.6347\n"
          ]
        },
        {
          "output_type": "stream",
          "name": "stderr",
          "text": [
            "165it [00:16, 10.20it/s]\n"
          ]
        },
        {
          "output_type": "stream",
          "name": "stdout",
          "text": [
            "Time [0:05:43], Epoch [21/50], loss: 3.6098\n",
            "[Generated Sentences]\n",
            "['abruptly', 'resolved', 'both', 'sides', 'came', 'to', 'the', 'institution', 'the', '<unk>', 'movement', 'has', 'introduced', 'in', 'february', 'a', 'modest', 'appreciation', 'machine', 'with', 'a', 'merchant', 'bank', 'promotional', 'center', 'about', 'interpublic', 'group', '&', 'co.', 'narrowed', 'the', 'fund', 'by', 'the', 'company', \"'s\", 'sharp', 'parent', 'company', 'provided', 'for', 'the', 'quarter', 'no', 'refinancing', 'cash', 'reserves', 'against', 'ford']\n",
            "['butter', 'cos.', 'little', 'damage', 'at', 'a', 'time', 'when', 'it', \"'s\", 'asked', 'a', 'week', 'in', 'the', 'wall', 'street', 'journal', 'automotive', 'news', 'a', '<unk>', '<unk>', 'concern', 'said', 'its', 'research', 'pact', 'was', '$', 'N', 'million', 'in', 'the', 'fourth', 'quarter', 'of', 'N', 'billion', 'yen', 'or', 'eight', 'cents', 'a', 'share', 'for', 'its', 'previous', 'fiscal', 'year']\n",
            "['talks', 'between', 'robert', 's.', 'lee', 'told', 'by', 'a', 'proxy', 'fight', 'for', 'several', '<unk>', 'along', 'with', 'reports', 'what', 'west', 'german', 'managers', 'are', 'particularly', 'happy', 'with', 'barney', '<unk>', 'a', 'vice', 'president', 'of', 'computer', 'language', 'developed', 'jointly', 'by', 'international', 'columbia', 'new', 'york', 'jumped', 'N', 'N', 'of', 'the', 'previously', 'new', 'york', 'analyst', 'christopher', 'wells']\n",
            "['stretched', 'accusations', 'at', 'midyear', 'after', 'india', \"'s\", 'N', 'N', 'N', 'one', 'month', 'on', '<unk>', 'repeated', 'a', 'small', 'majority', 'stake', 'one', '<unk>', 'for', 'bear', 'stearns', 'and', 'then', 'split', 'by', 'the', '<unk>', 'and', 'pitched', 'in', 'the', 'midst', 'of', 'which', 'wide', 'pushed', 'into', 'a', 'striking', 'basis', 'as', 'a', 'day', 'passes', 'in', '<unk>', 'course']\n",
            "['exclusively', 'philosophy', 'pierre', 'a.', 'hunt', \"'s\", 'dominant', 'house', 'abortion', 'could', 'prevent', 'attention', 'getting', 'millions', 'these', 'moves', 'is', 'far', 'away', 'from', 'the', 'late', '1960s', 'the', 'transaction', 'is', 'to', 'pay', 'the', '<unk>', 'belts', '<unk>', 'exports', 'the', 'scores', 'are', 'the', 'last', 'thing', 'to', 'stress', 'of', 'reinsurance', 'which', 'it', 'takes', 'a', 'partial', 'meetings', 'of']\n"
          ]
        },
        {
          "output_type": "stream",
          "name": "stderr",
          "text": [
            "165it [00:16, 10.25it/s]\n"
          ]
        },
        {
          "output_type": "stream",
          "name": "stdout",
          "text": [
            "Time [0:06:00], Epoch [22/50], loss: 3.5860\n"
          ]
        },
        {
          "output_type": "stream",
          "name": "stderr",
          "text": [
            "165it [00:16, 10.24it/s]\n"
          ]
        },
        {
          "output_type": "stream",
          "name": "stdout",
          "text": [
            "Time [0:06:16], Epoch [23/50], loss: 3.5642\n"
          ]
        },
        {
          "output_type": "stream",
          "name": "stderr",
          "text": [
            "165it [00:16, 10.27it/s]\n"
          ]
        },
        {
          "output_type": "stream",
          "name": "stdout",
          "text": [
            "Time [0:06:32], Epoch [24/50], loss: 3.5441\n"
          ]
        },
        {
          "output_type": "stream",
          "name": "stderr",
          "text": [
            "165it [00:16, 10.01it/s]\n"
          ]
        },
        {
          "output_type": "stream",
          "name": "stdout",
          "text": [
            "Time [0:06:48], Epoch [25/50], loss: 3.5253\n"
          ]
        },
        {
          "output_type": "stream",
          "name": "stderr",
          "text": [
            "165it [00:16, 10.22it/s]\n"
          ]
        },
        {
          "output_type": "stream",
          "name": "stdout",
          "text": [
            "Time [0:07:04], Epoch [26/50], loss: 3.5075\n",
            "[Generated Sentences]\n",
            "['distinctive', 'art', 'contel', 'corp.', 'agreed', 'to', 'merge', 'with', '$', 'N', 'billion', 'in', 'short-term', 'u.s.', 'insurance', 'policies', 'helped', 'change', 'its', 'pilots', 'said', 'a', 'gain', 'from', 'the', 'company', 'does', \"n't\", 'received', 'any', 'selling', 'pressure', 'in', 'overhead', 'costs', 'of', 'a', 'dispute', 'between', 'the', 'first', 'and', 'refunding', 'of', 'its', 'common', 'stock', 'in', 'the', 'big']\n",
            "['apparel', 'ups', 'told', 'the', 'committee', 'salespeople', 'took', 'before', 'gen.', 'noriega', 'would', 'permit', 'many', 'of', 'its', '<unk>', 'drugs', 'as', 'the', 'largest', 'cereal', 'maker', 'says', 'mr.', 'bell', \"'s\", 'boston', 'safe', 'deposit', 'u.s.', 'inc.', \"'\", 'loss', 'narrowed', 'to', 'the', 'N', 'price', 'from', 'olympia', '&', 'york', 'developments', 'ltd.', \"'s\", 'biggest', 'competitor', 'and', 'in', 'N']\n",
            "['museum', 'sheet', 'connection', 'amex', 'to', 'government', 'the', 'general', 'accounting', 'controversy', 'are', 'in', 'jeopardy', 'for', 'the', 'whole', 'swings', 'although', 'received', 'about', 'N', 'N', 'of', 'the', 'first', 'six', 'months', 'compared', 'with', 'late', 'thursday', \"'s\", 'N', 'and', 'N', 'days', 'after', 'the', 'fertilizer', 'market', '<unk>', 'many', 'of', 'its', 'own', 'competing', 'yet', 'require', 'about', 'N']\n",
            "['resident', 'mounted', 'no.', 'N', 'N', 'and', 'rather', 'on', 'this', 'sense', 'of', '<unk>', 'and', 'those', 'who', 'participated', 'the', 'cap', 'on', 'their', 'mystery', 'he', 'says', 'did', 'this', 'one', 'she', 'says', 'i', 'associate', 'george', '<unk>', 'a', 'bus', 'group', 'was', 'named', 'the', 'chamber', 'of', 'commerce', 'department', 'and', 'the', 'chairman', 'and', 'chief', 'executive', 'cited', 'by']\n",
            "['octel', 'said', 'nec', 'has', 'a', '<unk>', 'goal', 'says', 'karen', '<unk>', 'chief', 'of', 'fraudulent', 'and', 'international', '<unk>', 'group', 'into', 'the', 'case', 'national', '<unk>', 'voting', 'fiscal', 'N', 'sales', 'from', 'a', '$', 'N', 'billion', 'offer', 'from', 'dpc', 'acquisition', 'is', 'currently', 'under', 'way', 'to', 'make', 'up', 'talk', 'from', 'british', 'columbia', 'and', 'it', 'recently', 'been']\n"
          ]
        },
        {
          "output_type": "stream",
          "name": "stderr",
          "text": [
            "165it [00:16, 10.27it/s]\n"
          ]
        },
        {
          "output_type": "stream",
          "name": "stdout",
          "text": [
            "Time [0:07:20], Epoch [27/50], loss: 3.4913\n"
          ]
        },
        {
          "output_type": "stream",
          "name": "stderr",
          "text": [
            "165it [00:16, 10.25it/s]\n"
          ]
        },
        {
          "output_type": "stream",
          "name": "stdout",
          "text": [
            "Time [0:07:37], Epoch [28/50], loss: 3.4741\n"
          ]
        },
        {
          "output_type": "stream",
          "name": "stderr",
          "text": [
            "165it [00:16, 10.22it/s]\n"
          ]
        },
        {
          "output_type": "stream",
          "name": "stdout",
          "text": [
            "Time [0:07:53], Epoch [29/50], loss: 3.4594\n"
          ]
        },
        {
          "output_type": "stream",
          "name": "stderr",
          "text": [
            "165it [00:16, 10.26it/s]\n"
          ]
        },
        {
          "output_type": "stream",
          "name": "stdout",
          "text": [
            "Time [0:08:09], Epoch [30/50], loss: 3.4485\n"
          ]
        },
        {
          "output_type": "stream",
          "name": "stderr",
          "text": [
            "165it [00:16, 10.26it/s]\n"
          ]
        },
        {
          "output_type": "stream",
          "name": "stdout",
          "text": [
            "Time [0:08:25], Epoch [31/50], loss: 3.4349\n",
            "[Generated Sentences]\n",
            "['eidsmo', 'my', 'convertible', 'ownership', 'and', 'defense', 'work', 'on', 'eastern', 'predicted', 'that', 'in', 'september', 'orders', 'for', 'the', 'western', 'six', 'latest', 'set', 'stocks', 'were', 'at', 'about', 'half', 'had', 'a', 'strong', 'identity', 'company', 'will', 'likely', 'be', 'effective', 'enough', 'to', 'rise', 'the', 'value', 'of', 'its', 'coors', 'brewing', 'and', 'leather', 'accessories', 'since', '<unk>', '<unk>', 'creek']\n",
            "['beam', 'draw', 'held', 'viewers', '<unk>', 'already', 'had', 'no', 'objective', '<unk>', 'involved', 'in', 'recent', 'years', 'did', \"n't\", 'have', 'it', 'anymore', 'there', 'is', 'you', 'regarding', 'that', 'his', '<unk>', 'champion', 'writer', 'who', 'became', '<unk>', 'the', 'latest', 'for', 'the', 'plans', 'were', 'he', 'owned', 'students', 'is', 'doing', 'better', 'enough', 'to', 'own', 'is', 'the', 'internal', 'task']\n",
            "['hitting', 'places', 'she', 'could', \"n't\", 'be', 'any', 'to', 'move', 'on', 'the', 'securities', 'a', 'stance', 'of', 'program', 'trading', 'particularly', 'because', 'it', 'takes', 'away', 'says', 'said', 'we', \"'re\", 'going', 'to', 'continue', 'but', 'these', 'reforms', 'and', 'traders', 'do', \"n't\", 'have', 'to', 'be', '<unk>', 'or', 'so', 'for', 'everything', 'else', 'is', 'a', '<unk>', 'he', 'would']\n",
            "['stoll', 'productions', 'touchy', 'host', 'brewer', 'his', '<unk>', 'said', 'it', 'would', 'have', 'two', '<unk>', 'to', 'control', 'data', 'down', 'some', 'increased', 'to', 'N', 'N', 'and', 'said', 'that', 'the', 'japanese', 'industry', 'it', 'is', 'planning', 'to', 'put', 'money', 'at', 'a', 'seemingly', '<unk>', 'but', 'at', 'least', '$', 'N', 'million', 'on', 'the', 'proceeds', 'to', 'sell', 'off']\n",
            "['capture', 'entry', 'crews', '<unk>', 'slightly', 'from', 'the', 'suit', 'and', 'the', 'world', \"'s\", 'chivas', 'indictment', 'made', 'by', '<unk>', '<unk>', 'missiles', 'to', 'compaq', 'cleveland', 'inc.', 'and', 'ingersoll', 'arranged', 'as', 'a', 'market', 'impact', 'and', 'judge', \"o'kicki\", 'closed', 'quantum', 'trading', 'during', 'the', 'weekend', 'to', 'stock', 'funds', 'sharply', 'computers', 'trust', 'more', 'than', 'a$', 'N', 'million']\n"
          ]
        },
        {
          "output_type": "stream",
          "name": "stderr",
          "text": [
            "165it [00:16, 10.20it/s]\n"
          ]
        },
        {
          "output_type": "stream",
          "name": "stdout",
          "text": [
            "Time [0:08:41], Epoch [32/50], loss: 3.4238\n"
          ]
        },
        {
          "output_type": "stream",
          "name": "stderr",
          "text": [
            "165it [00:16, 10.05it/s]\n"
          ]
        },
        {
          "output_type": "stream",
          "name": "stdout",
          "text": [
            "Time [0:08:58], Epoch [33/50], loss: 3.4117\n"
          ]
        },
        {
          "output_type": "stream",
          "name": "stderr",
          "text": [
            "165it [00:16, 10.24it/s]\n"
          ]
        },
        {
          "output_type": "stream",
          "name": "stdout",
          "text": [
            "Time [0:09:14], Epoch [34/50], loss: 3.4035\n"
          ]
        },
        {
          "output_type": "stream",
          "name": "stderr",
          "text": [
            "165it [00:16, 10.20it/s]\n"
          ]
        },
        {
          "output_type": "stream",
          "name": "stdout",
          "text": [
            "Time [0:09:30], Epoch [35/50], loss: 3.3910\n"
          ]
        },
        {
          "output_type": "stream",
          "name": "stderr",
          "text": [
            "165it [00:16, 10.22it/s]\n"
          ]
        },
        {
          "output_type": "stream",
          "name": "stdout",
          "text": [
            "Time [0:09:46], Epoch [36/50], loss: 3.3839\n",
            "[Generated Sentences]\n",
            "['exemption', 'tougher', 'halloween', 'presents', 'nothing', 'with', 'crimes', 'mr.', '<unk>', 'of', 'official', '<unk>', 'during', 'commute', 'hours', 'later', 'and', '<unk>', 'insist', 'they', \"'re\", 'exceeding', 'risk', 'because', 'the', 'selling', 'of', 'many', 'foreign', 'behavior', 'bases', 'will', 'not', 'be', 'effective', 'only', 'last', 'year', 'since', 'the', 'bay', 'bridge', 'accused', 'of', 'sexual', '<unk>', 'shot', 'in', 'subjects', 'and']\n",
            "['roll', 'prevented', 'legislation', 'prosecutors', 'may', 'cushion', 'at', 'the', 'time', 'he', 'feared', 'for', 'elections', 'the', 'buyer', 'are', 'replaced', 'by', 'a', 'house-senate', 'conference', 'if', 'nbc', 'raise', 'N', 'results', 'since', 'the', 'early', '1950s', 'when', 'citicorp', 'and', 'technically', 'an', 'attempt', 'to', '<unk>', 'its', 'links', 'with', 'the', 'dividend', 'to', 'N', 'N', 'of', 'meridian', \"'s\", 'debt']\n",
            "['flat-rolled', 'mighty', '<unk>', 'wash', 'home', '<unk>', 'and', '<unk>', '<unk>', 'brick', '<unk>', 'tanks', 'said', 'they', 'are', \"n't\", 'working', 'out', 'to', 'show', 'pressure', 'for', 'them', 'if', 'you', 'go', '<unk>', 'business', 'tuition', '<unk>', 'and', 'my', 'desk', 'clerk', 'close', 'said', 'a', 'democratic', 'delegation', 'and', '<unk>', 'people', 'veteran', '<unk>', 'should', 'be', 'on', 'stage', 'a', 'man']\n",
            "['matters', 'discouraging', 'charity', 'for', 'now', 'at', 'the', 'meeting', 'which', 'the', 'company', \"'s\", 'real', 'estate', 'product', 'may', 'take', 'a', 'plan', 'to', 'open', 'charities', 'whose', 'sustained', '<unk>', 'of', 'the', 'facility', 'but', 'in', 'hopes', 'to', '<unk>', 'stock', 'funds', 'from', 'a', 'second', 'consecutive', 'session', 'on', 'a', 'more', 'than', 'N', 'million', 'of', 'its', 'recent', 'sector']\n",
            "['behalf', 'materials', 'responded', 'by', 'budget', 'pressures', 'from', 'the', 'settlement', 'of', 'efforts', 'to', 'the', 'new', 'financing', 'which', 'of', 'racketeering', 'defendants', 'and', 'the', 'budget', 'deficit', 'in', 'somalia', 'while', 'the', 'genes', 'will', 'be', 'counted', 'over', 'the', 'past', 'five', 'years', 'but', 'some', 'of', 'two', 'weeks', 'and', 'a', 'reputable', 'stocks', 'could', 'be', 'believed', 'about', 'possible']\n"
          ]
        },
        {
          "output_type": "stream",
          "name": "stderr",
          "text": [
            "165it [00:16, 10.26it/s]\n"
          ]
        },
        {
          "output_type": "stream",
          "name": "stdout",
          "text": [
            "Time [0:10:02], Epoch [37/50], loss: 3.3757\n"
          ]
        },
        {
          "output_type": "stream",
          "name": "stderr",
          "text": [
            "165it [00:16, 10.24it/s]\n"
          ]
        },
        {
          "output_type": "stream",
          "name": "stdout",
          "text": [
            "Time [0:10:18], Epoch [38/50], loss: 3.3667\n"
          ]
        },
        {
          "output_type": "stream",
          "name": "stderr",
          "text": [
            "165it [00:15, 10.32it/s]\n"
          ]
        },
        {
          "output_type": "stream",
          "name": "stdout",
          "text": [
            "Time [0:10:34], Epoch [39/50], loss: 3.3596\n"
          ]
        },
        {
          "output_type": "stream",
          "name": "stderr",
          "text": [
            "165it [00:16, 10.05it/s]\n"
          ]
        },
        {
          "output_type": "stream",
          "name": "stdout",
          "text": [
            "Time [0:10:51], Epoch [40/50], loss: 3.3513\n"
          ]
        },
        {
          "output_type": "stream",
          "name": "stderr",
          "text": [
            "165it [00:16, 10.21it/s]\n"
          ]
        },
        {
          "output_type": "stream",
          "name": "stdout",
          "text": [
            "Time [0:11:07], Epoch [41/50], loss: 3.3479\n",
            "[Generated Sentences]\n",
            "['distribute', '<unk>', 'could', 'get', 'their', 'senators', '<unk>', 'as', 'an', 'officer', 'of', 'the', 'australian', 'department', 'of', 'housing', 'for', 'two', 'days', 'in', 'games', 'also', 'said', 'while', 'no', 'such', 'another', 'names', 'of', 'this', 'big', 'cyclical', 'economy', 'and', 'boasts', 'that', 'mr.', 'gorbachev', 'they', 'maintain', 'new', 'companies', '<unk>', 'by', 'congress', 'applied', 'to', 'deny', 'it', 'will']\n",
            "['publisher', 'weaknesses', 'chief', 'announced', 'that', 'he', 'was', 'cut', 'he', 'says', 'the', 'educational', 'limitations', 'of', 'output', 'supplies', 'but', 'the', 'likes', 'of', 'which', 'include', 'other', 'steel', 'products', 'construction', 'furukawa', 'already', '<unk>', 'earlier', 'this', 'year', 'for', 'example', 'could', 'pose', 'a', 'new', 'role', 'to', 'make', 'the', 'job', 'of', 'those', 'in', 'the', 'u.s.', 'when', 'compensation']\n",
            "['deficiencies', 'vigorously', 'badly', 'with', 'a', 'written', 'network', \"'s\", 'mind', 'that', 'the', 'ideal', 'presented', 'of', 'little', 'rock', '<unk>', 'the', 'little', 'room', 'for', 'his', 'handling', 'big', '<unk>', 'to', 'the', 'east', 'german', 'games', 'while', 'the', 'u.s.', 'the', 'soviet', 'wildlife', 'department', 'seeks', 'to', 'refund', 'any', '<unk>', 'liquidity', 'both', 'that', 'would', 'prevent', 'regulators', 'to', 'floating']\n",
            "['flooded', 'passes', 'for', 'my', 'brief', '<unk>', 'them', 'and', 'your', 'buck', 'many', 'of', 'china', 'is', 'a', 'mail-order', 'police', 'imposed', 'a', 'seemingly', '<unk>', 'rumor', 'which', 'is', 'the', 'centerpiece', 'of', 'a', 'huge', 'memory', '<unk>', 'by', 'mr.', 'honecker', 'who', 'believe', 'that', 'there', 'is', 'so', 'important', 'demand', 'for', 'mayor', 'u.s.', 'thompson', 'last', 'week', 'adding', '$']\n",
            "['identity', 'meet', 'this', 'promise', 'may', 'come', 'to', 'considerable', 'electricity', 'than', '<unk>', 'of', '<unk>', 'should', 'offset', 'the', 'amount', 'of', 'stock', 'trading', 'over', 'the', 'newly', 'went', 'as', 'for', 'personal', 'use', 'in', 'the', 'u.s.', 'wednesday', 'or', 'summer', 'airlines', 'on', 'consumer', 'projects', 'may', 'have', 'to', 'respond', 'but', 'the', 'junk-bond', 'market', 'the', 'government', 'coming', 'sears']\n"
          ]
        },
        {
          "output_type": "stream",
          "name": "stderr",
          "text": [
            "165it [00:16, 10.27it/s]\n"
          ]
        },
        {
          "output_type": "stream",
          "name": "stdout",
          "text": [
            "Time [0:11:23], Epoch [42/50], loss: 3.3431\n"
          ]
        },
        {
          "output_type": "stream",
          "name": "stderr",
          "text": [
            "165it [00:16, 10.20it/s]\n"
          ]
        },
        {
          "output_type": "stream",
          "name": "stdout",
          "text": [
            "Time [0:11:39], Epoch [43/50], loss: 3.3353\n"
          ]
        },
        {
          "output_type": "stream",
          "name": "stderr",
          "text": [
            "165it [00:16, 10.24it/s]\n"
          ]
        },
        {
          "output_type": "stream",
          "name": "stdout",
          "text": [
            "Time [0:11:55], Epoch [44/50], loss: 3.3294\n"
          ]
        },
        {
          "output_type": "stream",
          "name": "stderr",
          "text": [
            "165it [00:16, 10.27it/s]\n"
          ]
        },
        {
          "output_type": "stream",
          "name": "stdout",
          "text": [
            "Time [0:12:12], Epoch [45/50], loss: 3.3247\n"
          ]
        },
        {
          "output_type": "stream",
          "name": "stderr",
          "text": [
            "165it [00:16, 10.25it/s]\n"
          ]
        },
        {
          "output_type": "stream",
          "name": "stdout",
          "text": [
            "Time [0:12:28], Epoch [46/50], loss: 3.3211\n",
            "[Generated Sentences]\n",
            "['tanks', 'showed', 'that', 'the', 'house', 'may', 'help', 'suffer', 'in', 'the', 'health', 'and', 'planes', 'and', 'readily', 'take', 'back', 'from', 'more', 'than', 'competing', 'it', 'appropriate', 'who', 'champion', 'insurance', 'is', 'a', '<unk>', 'of', 'a', 'role', 'in', 'u.s.', 'officials', 'of', 'researchers', 'which', 'without', 'asking', 'within', 'a', 'revolution', '<unk>', 'from', 'church', 'has', 'been', 'almost', 'impossible']\n",
            "['sexual', 'metals', 'is', 'increasing', 'it', 'ordered', 'soon', 'because', 'the', 'likelihood', 'that', 'it', 'sure', 'the', 'pilots', 'consistently', 'had', 'major', 'liability', 'because', 'of', 'two', 'votes', 'in', 'five', 'cases', 'had', '<unk>', 'loose', '<unk>', 'in', 'sharply', 'charges', 'over', 'the', 'her', 'year', 'says', 'raymond', 'hyman', 'a', 'real', 'seven-year', '<unk>', 'and', 'the', 'ground', 'big', 'board', 'members']\n",
            "['unstable', 'comedy', 'contel', 'whose', 'traffic', 'division', 'of', 'first', 'illinois', 'nebraska', 'assistant', 'to', 'trial', 'on', 'top', 'of', 'the', 'superfund', '<unk>', 'markets', 'read', 'and', '<unk>', 'which', 'are', 'among', 'her', 'husband', 'a', '<unk>', 'buffet', 'where', 'development', 'businesses', 'across', 'the', 'growth', 'and', 'aggressive', 'costs', 'and', 'significantly', 'larger', 'charges', 'or', 'working', 'relationship', 'with', 'aliens', 'who']\n",
            "['two', 'new', 'remics', 'totaling', '$', 'N', 'will', 'definitely', 'fared', 'relatively', 'settlement', 'with', 'N', 'N', 'to', 'yield', 'N', 'N', 'aug.', 'N', 'N', 'to', 'N', 'N', 'in', 'N', 'N', 'according', 'to', 'chief', 'executive', 'officer', 'of', 'painewebber', 'and', 'the', 'top', 'glasnost', '<unk>', '<unk>', 'gives', 'the', 'attack', 'stuff', \"'s\", 'busiest', 'world', 'but', 'because', 'current']\n",
            "['diet', 'cleveland', 'had', 'N', 'million', 'francs', 'of', 'the', 'price', 'for', 'cash', 'ultimately', 'costs', '$', 'N', 'million', 'and', '$', 'N', 'billion', 'and', '$', 'N', 'million', 'earmarked', 'for', 'the', 'highest', 'price', 'in', 'revenue', 'of', '$', 'N', 'million', 'or', 'five', 'cents', 'in', 'the', 'past', 'N', 'months', 'dropping', 'N', 'N', 'to', 'N', 'and', 'honeywell']\n"
          ]
        },
        {
          "output_type": "stream",
          "name": "stderr",
          "text": [
            "165it [00:16, 10.28it/s]\n"
          ]
        },
        {
          "output_type": "stream",
          "name": "stdout",
          "text": [
            "Time [0:12:44], Epoch [47/50], loss: 3.3151\n"
          ]
        },
        {
          "output_type": "stream",
          "name": "stderr",
          "text": [
            "165it [00:16, 10.11it/s]\n"
          ]
        },
        {
          "output_type": "stream",
          "name": "stdout",
          "text": [
            "Time [0:13:00], Epoch [48/50], loss: 3.3130\n"
          ]
        },
        {
          "output_type": "stream",
          "name": "stderr",
          "text": [
            "165it [00:16, 10.25it/s]\n"
          ]
        },
        {
          "output_type": "stream",
          "name": "stdout",
          "text": [
            "Time [0:13:16], Epoch [49/50], loss: 3.3091\n"
          ]
        },
        {
          "output_type": "stream",
          "name": "stderr",
          "text": [
            "165it [00:16, 10.28it/s]"
          ]
        },
        {
          "output_type": "stream",
          "name": "stdout",
          "text": [
            "Time [0:13:32], Epoch [50/50], loss: 3.3035\n"
          ]
        },
        {
          "output_type": "stream",
          "name": "stderr",
          "text": [
            "\n"
          ]
        }
      ]
    },
    {
      "cell_type": "markdown",
      "metadata": {
        "id": "nDhlrcENM4Dx"
      },
      "source": [
        "생성된 텍스트의 퀄리티는 어떤가요? \n",
        "\n",
        "앞으로 딥러닝 강의가 끝나면 자연어처리 강좌에서 텍스트 처리에 적합한 전처리 과정, 모델구조들을 본격적으로 배우시게 될것입니다."
      ]
    },
    {
      "cell_type": "markdown",
      "metadata": {
        "id": "1Ua-_6W2a5Lt"
      },
      "source": [
        "# References\n",
        "\n",
        "1. https://github.com/pytorch/examples/tree/master/word_language_model\n",
        "2. https://github.com/yunjey/pytorch-tutorial/tree/master/tutorials/02-intermediate/language_model"
      ]
    }
  ]
}