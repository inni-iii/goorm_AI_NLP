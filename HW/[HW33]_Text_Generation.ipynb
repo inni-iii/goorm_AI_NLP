{
  "nbformat": 4,
  "nbformat_minor": 0,
  "metadata": {
    "kernelspec": {
      "display_name": "Python 3",
      "language": "python",
      "name": "python3"
    },
    "language_info": {
      "codemirror_mode": {
        "name": "ipython",
        "version": 3
      },
      "file_extension": ".py",
      "mimetype": "text/x-python",
      "name": "python",
      "nbconvert_exporter": "python",
      "pygments_lexer": "ipython3",
      "version": "3.8.5"
    },
    "colab": {
      "name": "[HW33] Text Generation.ipynb",
      "provenance": []
    },
    "widgets": {
      "application/vnd.jupyter.widget-state+json": {
        "bdc1a32a09954e82ace22754238c032a": {
          "model_module": "@jupyter-widgets/controls",
          "model_name": "HBoxModel",
          "model_module_version": "1.5.0",
          "state": {
            "_dom_classes": [],
            "_model_module": "@jupyter-widgets/controls",
            "_model_module_version": "1.5.0",
            "_model_name": "HBoxModel",
            "_view_count": null,
            "_view_module": "@jupyter-widgets/controls",
            "_view_module_version": "1.5.0",
            "_view_name": "HBoxView",
            "box_style": "",
            "children": [
              "IPY_MODEL_1e1b32f3a72f44a098cfb1b47105b390",
              "IPY_MODEL_2e6875dc99244be09e589a51eb8748ca",
              "IPY_MODEL_804292a4e516418ca9e16ecc526a9cbe"
            ],
            "layout": "IPY_MODEL_f4bac016432a4925bf21421923049d38"
          }
        },
        "1e1b32f3a72f44a098cfb1b47105b390": {
          "model_module": "@jupyter-widgets/controls",
          "model_name": "HTMLModel",
          "model_module_version": "1.5.0",
          "state": {
            "_dom_classes": [],
            "_model_module": "@jupyter-widgets/controls",
            "_model_module_version": "1.5.0",
            "_model_name": "HTMLModel",
            "_view_count": null,
            "_view_module": "@jupyter-widgets/controls",
            "_view_module_version": "1.5.0",
            "_view_name": "HTMLView",
            "description": "",
            "description_tooltip": null,
            "layout": "IPY_MODEL_a3a06548a4f1416aa4cb99abcaebce0d",
            "placeholder": "​",
            "style": "IPY_MODEL_e9f03a81b10a478b9439f2a325e40fa8",
            "value": "Downloading: 100%"
          }
        },
        "2e6875dc99244be09e589a51eb8748ca": {
          "model_module": "@jupyter-widgets/controls",
          "model_name": "FloatProgressModel",
          "model_module_version": "1.5.0",
          "state": {
            "_dom_classes": [],
            "_model_module": "@jupyter-widgets/controls",
            "_model_module_version": "1.5.0",
            "_model_name": "FloatProgressModel",
            "_view_count": null,
            "_view_module": "@jupyter-widgets/controls",
            "_view_module_version": "1.5.0",
            "_view_name": "ProgressView",
            "bar_style": "success",
            "description": "",
            "description_tooltip": null,
            "layout": "IPY_MODEL_d7dbaebb1fb94645b5cc7f1b670c5309",
            "max": 1000,
            "min": 0,
            "orientation": "horizontal",
            "style": "IPY_MODEL_ce46786e523e43699ec00947aca05082",
            "value": 1000
          }
        },
        "804292a4e516418ca9e16ecc526a9cbe": {
          "model_module": "@jupyter-widgets/controls",
          "model_name": "HTMLModel",
          "model_module_version": "1.5.0",
          "state": {
            "_dom_classes": [],
            "_model_module": "@jupyter-widgets/controls",
            "_model_module_version": "1.5.0",
            "_model_name": "HTMLModel",
            "_view_count": null,
            "_view_module": "@jupyter-widgets/controls",
            "_view_module_version": "1.5.0",
            "_view_name": "HTMLView",
            "description": "",
            "description_tooltip": null,
            "layout": "IPY_MODEL_ba95eccafd084c2b8a9b769a63567b44",
            "placeholder": "​",
            "style": "IPY_MODEL_05e73a4f86ea4eadb93b4df51b0a50bb",
            "value": " 1.00k/1.00k [00:00&lt;00:00, 13.5kB/s]"
          }
        },
        "f4bac016432a4925bf21421923049d38": {
          "model_module": "@jupyter-widgets/base",
          "model_name": "LayoutModel",
          "model_module_version": "1.2.0",
          "state": {
            "_model_module": "@jupyter-widgets/base",
            "_model_module_version": "1.2.0",
            "_model_name": "LayoutModel",
            "_view_count": null,
            "_view_module": "@jupyter-widgets/base",
            "_view_module_version": "1.2.0",
            "_view_name": "LayoutView",
            "align_content": null,
            "align_items": null,
            "align_self": null,
            "border": null,
            "bottom": null,
            "display": null,
            "flex": null,
            "flex_flow": null,
            "grid_area": null,
            "grid_auto_columns": null,
            "grid_auto_flow": null,
            "grid_auto_rows": null,
            "grid_column": null,
            "grid_gap": null,
            "grid_row": null,
            "grid_template_areas": null,
            "grid_template_columns": null,
            "grid_template_rows": null,
            "height": null,
            "justify_content": null,
            "justify_items": null,
            "left": null,
            "margin": null,
            "max_height": null,
            "max_width": null,
            "min_height": null,
            "min_width": null,
            "object_fit": null,
            "object_position": null,
            "order": null,
            "overflow": null,
            "overflow_x": null,
            "overflow_y": null,
            "padding": null,
            "right": null,
            "top": null,
            "visibility": null,
            "width": null
          }
        },
        "a3a06548a4f1416aa4cb99abcaebce0d": {
          "model_module": "@jupyter-widgets/base",
          "model_name": "LayoutModel",
          "model_module_version": "1.2.0",
          "state": {
            "_model_module": "@jupyter-widgets/base",
            "_model_module_version": "1.2.0",
            "_model_name": "LayoutModel",
            "_view_count": null,
            "_view_module": "@jupyter-widgets/base",
            "_view_module_version": "1.2.0",
            "_view_name": "LayoutView",
            "align_content": null,
            "align_items": null,
            "align_self": null,
            "border": null,
            "bottom": null,
            "display": null,
            "flex": null,
            "flex_flow": null,
            "grid_area": null,
            "grid_auto_columns": null,
            "grid_auto_flow": null,
            "grid_auto_rows": null,
            "grid_column": null,
            "grid_gap": null,
            "grid_row": null,
            "grid_template_areas": null,
            "grid_template_columns": null,
            "grid_template_rows": null,
            "height": null,
            "justify_content": null,
            "justify_items": null,
            "left": null,
            "margin": null,
            "max_height": null,
            "max_width": null,
            "min_height": null,
            "min_width": null,
            "object_fit": null,
            "object_position": null,
            "order": null,
            "overflow": null,
            "overflow_x": null,
            "overflow_y": null,
            "padding": null,
            "right": null,
            "top": null,
            "visibility": null,
            "width": null
          }
        },
        "e9f03a81b10a478b9439f2a325e40fa8": {
          "model_module": "@jupyter-widgets/controls",
          "model_name": "DescriptionStyleModel",
          "model_module_version": "1.5.0",
          "state": {
            "_model_module": "@jupyter-widgets/controls",
            "_model_module_version": "1.5.0",
            "_model_name": "DescriptionStyleModel",
            "_view_count": null,
            "_view_module": "@jupyter-widgets/base",
            "_view_module_version": "1.2.0",
            "_view_name": "StyleView",
            "description_width": ""
          }
        },
        "d7dbaebb1fb94645b5cc7f1b670c5309": {
          "model_module": "@jupyter-widgets/base",
          "model_name": "LayoutModel",
          "model_module_version": "1.2.0",
          "state": {
            "_model_module": "@jupyter-widgets/base",
            "_model_module_version": "1.2.0",
            "_model_name": "LayoutModel",
            "_view_count": null,
            "_view_module": "@jupyter-widgets/base",
            "_view_module_version": "1.2.0",
            "_view_name": "LayoutView",
            "align_content": null,
            "align_items": null,
            "align_self": null,
            "border": null,
            "bottom": null,
            "display": null,
            "flex": null,
            "flex_flow": null,
            "grid_area": null,
            "grid_auto_columns": null,
            "grid_auto_flow": null,
            "grid_auto_rows": null,
            "grid_column": null,
            "grid_gap": null,
            "grid_row": null,
            "grid_template_areas": null,
            "grid_template_columns": null,
            "grid_template_rows": null,
            "height": null,
            "justify_content": null,
            "justify_items": null,
            "left": null,
            "margin": null,
            "max_height": null,
            "max_width": null,
            "min_height": null,
            "min_width": null,
            "object_fit": null,
            "object_position": null,
            "order": null,
            "overflow": null,
            "overflow_x": null,
            "overflow_y": null,
            "padding": null,
            "right": null,
            "top": null,
            "visibility": null,
            "width": null
          }
        },
        "ce46786e523e43699ec00947aca05082": {
          "model_module": "@jupyter-widgets/controls",
          "model_name": "ProgressStyleModel",
          "model_module_version": "1.5.0",
          "state": {
            "_model_module": "@jupyter-widgets/controls",
            "_model_module_version": "1.5.0",
            "_model_name": "ProgressStyleModel",
            "_view_count": null,
            "_view_module": "@jupyter-widgets/base",
            "_view_module_version": "1.2.0",
            "_view_name": "StyleView",
            "bar_color": null,
            "description_width": ""
          }
        },
        "ba95eccafd084c2b8a9b769a63567b44": {
          "model_module": "@jupyter-widgets/base",
          "model_name": "LayoutModel",
          "model_module_version": "1.2.0",
          "state": {
            "_model_module": "@jupyter-widgets/base",
            "_model_module_version": "1.2.0",
            "_model_name": "LayoutModel",
            "_view_count": null,
            "_view_module": "@jupyter-widgets/base",
            "_view_module_version": "1.2.0",
            "_view_name": "LayoutView",
            "align_content": null,
            "align_items": null,
            "align_self": null,
            "border": null,
            "bottom": null,
            "display": null,
            "flex": null,
            "flex_flow": null,
            "grid_area": null,
            "grid_auto_columns": null,
            "grid_auto_flow": null,
            "grid_auto_rows": null,
            "grid_column": null,
            "grid_gap": null,
            "grid_row": null,
            "grid_template_areas": null,
            "grid_template_columns": null,
            "grid_template_rows": null,
            "height": null,
            "justify_content": null,
            "justify_items": null,
            "left": null,
            "margin": null,
            "max_height": null,
            "max_width": null,
            "min_height": null,
            "min_width": null,
            "object_fit": null,
            "object_position": null,
            "order": null,
            "overflow": null,
            "overflow_x": null,
            "overflow_y": null,
            "padding": null,
            "right": null,
            "top": null,
            "visibility": null,
            "width": null
          }
        },
        "05e73a4f86ea4eadb93b4df51b0a50bb": {
          "model_module": "@jupyter-widgets/controls",
          "model_name": "DescriptionStyleModel",
          "model_module_version": "1.5.0",
          "state": {
            "_model_module": "@jupyter-widgets/controls",
            "_model_module_version": "1.5.0",
            "_model_name": "DescriptionStyleModel",
            "_view_count": null,
            "_view_module": "@jupyter-widgets/base",
            "_view_module_version": "1.2.0",
            "_view_name": "StyleView",
            "description_width": ""
          }
        },
        "44d8da00e8a04c51967bb35cfe9e7b0e": {
          "model_module": "@jupyter-widgets/controls",
          "model_name": "HBoxModel",
          "model_module_version": "1.5.0",
          "state": {
            "_dom_classes": [],
            "_model_module": "@jupyter-widgets/controls",
            "_model_module_version": "1.5.0",
            "_model_name": "HBoxModel",
            "_view_count": null,
            "_view_module": "@jupyter-widgets/controls",
            "_view_module_version": "1.5.0",
            "_view_name": "HBoxView",
            "box_style": "",
            "children": [
              "IPY_MODEL_6f8d0aaf37594595891e3b92e3ff8089",
              "IPY_MODEL_d4dfae438503427ea02c7b8f1c3d2fa7",
              "IPY_MODEL_de8562ba734847dab8736cfa236cda35"
            ],
            "layout": "IPY_MODEL_1f6003f8e47e4cee88ca7487042c406e"
          }
        },
        "6f8d0aaf37594595891e3b92e3ff8089": {
          "model_module": "@jupyter-widgets/controls",
          "model_name": "HTMLModel",
          "model_module_version": "1.5.0",
          "state": {
            "_dom_classes": [],
            "_model_module": "@jupyter-widgets/controls",
            "_model_module_version": "1.5.0",
            "_model_name": "HTMLModel",
            "_view_count": null,
            "_view_module": "@jupyter-widgets/controls",
            "_view_module_version": "1.5.0",
            "_view_name": "HTMLView",
            "description": "",
            "description_tooltip": null,
            "layout": "IPY_MODEL_60220e526609417ebd1d2b3249c9546c",
            "placeholder": "​",
            "style": "IPY_MODEL_be2925ce4570470899b5af61e7f904ba",
            "value": "Downloading: 100%"
          }
        },
        "d4dfae438503427ea02c7b8f1c3d2fa7": {
          "model_module": "@jupyter-widgets/controls",
          "model_name": "FloatProgressModel",
          "model_module_version": "1.5.0",
          "state": {
            "_dom_classes": [],
            "_model_module": "@jupyter-widgets/controls",
            "_model_module_version": "1.5.0",
            "_model_name": "FloatProgressModel",
            "_view_count": null,
            "_view_module": "@jupyter-widgets/controls",
            "_view_module_version": "1.5.0",
            "_view_name": "ProgressView",
            "bar_style": "success",
            "description": "",
            "description_tooltip": null,
            "layout": "IPY_MODEL_d3c4699639fd4c058b146f2bb95b891a",
            "max": 513302779,
            "min": 0,
            "orientation": "horizontal",
            "style": "IPY_MODEL_abd46ca6e6df4e8badc9fccb92231f09",
            "value": 513302779
          }
        },
        "de8562ba734847dab8736cfa236cda35": {
          "model_module": "@jupyter-widgets/controls",
          "model_name": "HTMLModel",
          "model_module_version": "1.5.0",
          "state": {
            "_dom_classes": [],
            "_model_module": "@jupyter-widgets/controls",
            "_model_module_version": "1.5.0",
            "_model_name": "HTMLModel",
            "_view_count": null,
            "_view_module": "@jupyter-widgets/controls",
            "_view_module_version": "1.5.0",
            "_view_name": "HTMLView",
            "description": "",
            "description_tooltip": null,
            "layout": "IPY_MODEL_b65079d8e316470fbeadee75862c07ec",
            "placeholder": "​",
            "style": "IPY_MODEL_276089b6d3dc49baa73429598255b0a4",
            "value": " 513M/513M [00:18&lt;00:00, 50.2MB/s]"
          }
        },
        "1f6003f8e47e4cee88ca7487042c406e": {
          "model_module": "@jupyter-widgets/base",
          "model_name": "LayoutModel",
          "model_module_version": "1.2.0",
          "state": {
            "_model_module": "@jupyter-widgets/base",
            "_model_module_version": "1.2.0",
            "_model_name": "LayoutModel",
            "_view_count": null,
            "_view_module": "@jupyter-widgets/base",
            "_view_module_version": "1.2.0",
            "_view_name": "LayoutView",
            "align_content": null,
            "align_items": null,
            "align_self": null,
            "border": null,
            "bottom": null,
            "display": null,
            "flex": null,
            "flex_flow": null,
            "grid_area": null,
            "grid_auto_columns": null,
            "grid_auto_flow": null,
            "grid_auto_rows": null,
            "grid_column": null,
            "grid_gap": null,
            "grid_row": null,
            "grid_template_areas": null,
            "grid_template_columns": null,
            "grid_template_rows": null,
            "height": null,
            "justify_content": null,
            "justify_items": null,
            "left": null,
            "margin": null,
            "max_height": null,
            "max_width": null,
            "min_height": null,
            "min_width": null,
            "object_fit": null,
            "object_position": null,
            "order": null,
            "overflow": null,
            "overflow_x": null,
            "overflow_y": null,
            "padding": null,
            "right": null,
            "top": null,
            "visibility": null,
            "width": null
          }
        },
        "60220e526609417ebd1d2b3249c9546c": {
          "model_module": "@jupyter-widgets/base",
          "model_name": "LayoutModel",
          "model_module_version": "1.2.0",
          "state": {
            "_model_module": "@jupyter-widgets/base",
            "_model_module_version": "1.2.0",
            "_model_name": "LayoutModel",
            "_view_count": null,
            "_view_module": "@jupyter-widgets/base",
            "_view_module_version": "1.2.0",
            "_view_name": "LayoutView",
            "align_content": null,
            "align_items": null,
            "align_self": null,
            "border": null,
            "bottom": null,
            "display": null,
            "flex": null,
            "flex_flow": null,
            "grid_area": null,
            "grid_auto_columns": null,
            "grid_auto_flow": null,
            "grid_auto_rows": null,
            "grid_column": null,
            "grid_gap": null,
            "grid_row": null,
            "grid_template_areas": null,
            "grid_template_columns": null,
            "grid_template_rows": null,
            "height": null,
            "justify_content": null,
            "justify_items": null,
            "left": null,
            "margin": null,
            "max_height": null,
            "max_width": null,
            "min_height": null,
            "min_width": null,
            "object_fit": null,
            "object_position": null,
            "order": null,
            "overflow": null,
            "overflow_x": null,
            "overflow_y": null,
            "padding": null,
            "right": null,
            "top": null,
            "visibility": null,
            "width": null
          }
        },
        "be2925ce4570470899b5af61e7f904ba": {
          "model_module": "@jupyter-widgets/controls",
          "model_name": "DescriptionStyleModel",
          "model_module_version": "1.5.0",
          "state": {
            "_model_module": "@jupyter-widgets/controls",
            "_model_module_version": "1.5.0",
            "_model_name": "DescriptionStyleModel",
            "_view_count": null,
            "_view_module": "@jupyter-widgets/base",
            "_view_module_version": "1.2.0",
            "_view_name": "StyleView",
            "description_width": ""
          }
        },
        "d3c4699639fd4c058b146f2bb95b891a": {
          "model_module": "@jupyter-widgets/base",
          "model_name": "LayoutModel",
          "model_module_version": "1.2.0",
          "state": {
            "_model_module": "@jupyter-widgets/base",
            "_model_module_version": "1.2.0",
            "_model_name": "LayoutModel",
            "_view_count": null,
            "_view_module": "@jupyter-widgets/base",
            "_view_module_version": "1.2.0",
            "_view_name": "LayoutView",
            "align_content": null,
            "align_items": null,
            "align_self": null,
            "border": null,
            "bottom": null,
            "display": null,
            "flex": null,
            "flex_flow": null,
            "grid_area": null,
            "grid_auto_columns": null,
            "grid_auto_flow": null,
            "grid_auto_rows": null,
            "grid_column": null,
            "grid_gap": null,
            "grid_row": null,
            "grid_template_areas": null,
            "grid_template_columns": null,
            "grid_template_rows": null,
            "height": null,
            "justify_content": null,
            "justify_items": null,
            "left": null,
            "margin": null,
            "max_height": null,
            "max_width": null,
            "min_height": null,
            "min_width": null,
            "object_fit": null,
            "object_position": null,
            "order": null,
            "overflow": null,
            "overflow_x": null,
            "overflow_y": null,
            "padding": null,
            "right": null,
            "top": null,
            "visibility": null,
            "width": null
          }
        },
        "abd46ca6e6df4e8badc9fccb92231f09": {
          "model_module": "@jupyter-widgets/controls",
          "model_name": "ProgressStyleModel",
          "model_module_version": "1.5.0",
          "state": {
            "_model_module": "@jupyter-widgets/controls",
            "_model_module_version": "1.5.0",
            "_model_name": "ProgressStyleModel",
            "_view_count": null,
            "_view_module": "@jupyter-widgets/base",
            "_view_module_version": "1.2.0",
            "_view_name": "StyleView",
            "bar_color": null,
            "description_width": ""
          }
        },
        "b65079d8e316470fbeadee75862c07ec": {
          "model_module": "@jupyter-widgets/base",
          "model_name": "LayoutModel",
          "model_module_version": "1.2.0",
          "state": {
            "_model_module": "@jupyter-widgets/base",
            "_model_module_version": "1.2.0",
            "_model_name": "LayoutModel",
            "_view_count": null,
            "_view_module": "@jupyter-widgets/base",
            "_view_module_version": "1.2.0",
            "_view_name": "LayoutView",
            "align_content": null,
            "align_items": null,
            "align_self": null,
            "border": null,
            "bottom": null,
            "display": null,
            "flex": null,
            "flex_flow": null,
            "grid_area": null,
            "grid_auto_columns": null,
            "grid_auto_flow": null,
            "grid_auto_rows": null,
            "grid_column": null,
            "grid_gap": null,
            "grid_row": null,
            "grid_template_areas": null,
            "grid_template_columns": null,
            "grid_template_rows": null,
            "height": null,
            "justify_content": null,
            "justify_items": null,
            "left": null,
            "margin": null,
            "max_height": null,
            "max_width": null,
            "min_height": null,
            "min_width": null,
            "object_fit": null,
            "object_position": null,
            "order": null,
            "overflow": null,
            "overflow_x": null,
            "overflow_y": null,
            "padding": null,
            "right": null,
            "top": null,
            "visibility": null,
            "width": null
          }
        },
        "276089b6d3dc49baa73429598255b0a4": {
          "model_module": "@jupyter-widgets/controls",
          "model_name": "DescriptionStyleModel",
          "model_module_version": "1.5.0",
          "state": {
            "_model_module": "@jupyter-widgets/controls",
            "_model_module_version": "1.5.0",
            "_model_name": "DescriptionStyleModel",
            "_view_count": null,
            "_view_module": "@jupyter-widgets/base",
            "_view_module_version": "1.2.0",
            "_view_name": "StyleView",
            "description_width": ""
          }
        },
        "b6fee61212f24493929f735711dac9b5": {
          "model_module": "@jupyter-widgets/controls",
          "model_name": "HBoxModel",
          "model_module_version": "1.5.0",
          "state": {
            "_dom_classes": [],
            "_model_module": "@jupyter-widgets/controls",
            "_model_module_version": "1.5.0",
            "_model_name": "HBoxModel",
            "_view_count": null,
            "_view_module": "@jupyter-widgets/controls",
            "_view_module_version": "1.5.0",
            "_view_name": "HBoxView",
            "box_style": "",
            "children": [
              "IPY_MODEL_5e7ae9adaefd40cdb66d623f94585f9f",
              "IPY_MODEL_9a47e5dbd2ba444eb5677815f8b7995f",
              "IPY_MODEL_ab0a65f52e30495e9ecb0176e03c183f"
            ],
            "layout": "IPY_MODEL_45df1c51900241f8abb3bfdcfc4039c2"
          }
        },
        "5e7ae9adaefd40cdb66d623f94585f9f": {
          "model_module": "@jupyter-widgets/controls",
          "model_name": "HTMLModel",
          "model_module_version": "1.5.0",
          "state": {
            "_dom_classes": [],
            "_model_module": "@jupyter-widgets/controls",
            "_model_module_version": "1.5.0",
            "_model_name": "HTMLModel",
            "_view_count": null,
            "_view_module": "@jupyter-widgets/controls",
            "_view_module_version": "1.5.0",
            "_view_name": "HTMLView",
            "description": "",
            "description_tooltip": null,
            "layout": "IPY_MODEL_d36c219f66c84cae9a3e820578b83782",
            "placeholder": "​",
            "style": "IPY_MODEL_021a0875959c4c7da46c4dd24e8fe490",
            "value": "Downloading: 100%"
          }
        },
        "9a47e5dbd2ba444eb5677815f8b7995f": {
          "model_module": "@jupyter-widgets/controls",
          "model_name": "FloatProgressModel",
          "model_module_version": "1.5.0",
          "state": {
            "_dom_classes": [],
            "_model_module": "@jupyter-widgets/controls",
            "_model_module_version": "1.5.0",
            "_model_name": "FloatProgressModel",
            "_view_count": null,
            "_view_module": "@jupyter-widgets/controls",
            "_view_module_version": "1.5.0",
            "_view_name": "ProgressView",
            "bar_style": "success",
            "description": "",
            "description_tooltip": null,
            "layout": "IPY_MODEL_5ab9a0c83326400c8f75f532f8cb46cf",
            "max": 2825034,
            "min": 0,
            "orientation": "horizontal",
            "style": "IPY_MODEL_8293ca77b0644ef38dc6ad14dbff8459",
            "value": 2825034
          }
        },
        "ab0a65f52e30495e9ecb0176e03c183f": {
          "model_module": "@jupyter-widgets/controls",
          "model_name": "HTMLModel",
          "model_module_version": "1.5.0",
          "state": {
            "_dom_classes": [],
            "_model_module": "@jupyter-widgets/controls",
            "_model_module_version": "1.5.0",
            "_model_name": "HTMLModel",
            "_view_count": null,
            "_view_module": "@jupyter-widgets/controls",
            "_view_module_version": "1.5.0",
            "_view_name": "HTMLView",
            "description": "",
            "description_tooltip": null,
            "layout": "IPY_MODEL_272eb37310784245b69863df8e6fb89b",
            "placeholder": "​",
            "style": "IPY_MODEL_9929c086f29c4b05ba8a624efcea3b6f",
            "value": " 2.83M/2.83M [00:00&lt;00:00, 3.03MB/s]"
          }
        },
        "45df1c51900241f8abb3bfdcfc4039c2": {
          "model_module": "@jupyter-widgets/base",
          "model_name": "LayoutModel",
          "model_module_version": "1.2.0",
          "state": {
            "_model_module": "@jupyter-widgets/base",
            "_model_module_version": "1.2.0",
            "_model_name": "LayoutModel",
            "_view_count": null,
            "_view_module": "@jupyter-widgets/base",
            "_view_module_version": "1.2.0",
            "_view_name": "LayoutView",
            "align_content": null,
            "align_items": null,
            "align_self": null,
            "border": null,
            "bottom": null,
            "display": null,
            "flex": null,
            "flex_flow": null,
            "grid_area": null,
            "grid_auto_columns": null,
            "grid_auto_flow": null,
            "grid_auto_rows": null,
            "grid_column": null,
            "grid_gap": null,
            "grid_row": null,
            "grid_template_areas": null,
            "grid_template_columns": null,
            "grid_template_rows": null,
            "height": null,
            "justify_content": null,
            "justify_items": null,
            "left": null,
            "margin": null,
            "max_height": null,
            "max_width": null,
            "min_height": null,
            "min_width": null,
            "object_fit": null,
            "object_position": null,
            "order": null,
            "overflow": null,
            "overflow_x": null,
            "overflow_y": null,
            "padding": null,
            "right": null,
            "top": null,
            "visibility": null,
            "width": null
          }
        },
        "d36c219f66c84cae9a3e820578b83782": {
          "model_module": "@jupyter-widgets/base",
          "model_name": "LayoutModel",
          "model_module_version": "1.2.0",
          "state": {
            "_model_module": "@jupyter-widgets/base",
            "_model_module_version": "1.2.0",
            "_model_name": "LayoutModel",
            "_view_count": null,
            "_view_module": "@jupyter-widgets/base",
            "_view_module_version": "1.2.0",
            "_view_name": "LayoutView",
            "align_content": null,
            "align_items": null,
            "align_self": null,
            "border": null,
            "bottom": null,
            "display": null,
            "flex": null,
            "flex_flow": null,
            "grid_area": null,
            "grid_auto_columns": null,
            "grid_auto_flow": null,
            "grid_auto_rows": null,
            "grid_column": null,
            "grid_gap": null,
            "grid_row": null,
            "grid_template_areas": null,
            "grid_template_columns": null,
            "grid_template_rows": null,
            "height": null,
            "justify_content": null,
            "justify_items": null,
            "left": null,
            "margin": null,
            "max_height": null,
            "max_width": null,
            "min_height": null,
            "min_width": null,
            "object_fit": null,
            "object_position": null,
            "order": null,
            "overflow": null,
            "overflow_x": null,
            "overflow_y": null,
            "padding": null,
            "right": null,
            "top": null,
            "visibility": null,
            "width": null
          }
        },
        "021a0875959c4c7da46c4dd24e8fe490": {
          "model_module": "@jupyter-widgets/controls",
          "model_name": "DescriptionStyleModel",
          "model_module_version": "1.5.0",
          "state": {
            "_model_module": "@jupyter-widgets/controls",
            "_model_module_version": "1.5.0",
            "_model_name": "DescriptionStyleModel",
            "_view_count": null,
            "_view_module": "@jupyter-widgets/base",
            "_view_module_version": "1.2.0",
            "_view_name": "StyleView",
            "description_width": ""
          }
        },
        "5ab9a0c83326400c8f75f532f8cb46cf": {
          "model_module": "@jupyter-widgets/base",
          "model_name": "LayoutModel",
          "model_module_version": "1.2.0",
          "state": {
            "_model_module": "@jupyter-widgets/base",
            "_model_module_version": "1.2.0",
            "_model_name": "LayoutModel",
            "_view_count": null,
            "_view_module": "@jupyter-widgets/base",
            "_view_module_version": "1.2.0",
            "_view_name": "LayoutView",
            "align_content": null,
            "align_items": null,
            "align_self": null,
            "border": null,
            "bottom": null,
            "display": null,
            "flex": null,
            "flex_flow": null,
            "grid_area": null,
            "grid_auto_columns": null,
            "grid_auto_flow": null,
            "grid_auto_rows": null,
            "grid_column": null,
            "grid_gap": null,
            "grid_row": null,
            "grid_template_areas": null,
            "grid_template_columns": null,
            "grid_template_rows": null,
            "height": null,
            "justify_content": null,
            "justify_items": null,
            "left": null,
            "margin": null,
            "max_height": null,
            "max_width": null,
            "min_height": null,
            "min_width": null,
            "object_fit": null,
            "object_position": null,
            "order": null,
            "overflow": null,
            "overflow_x": null,
            "overflow_y": null,
            "padding": null,
            "right": null,
            "top": null,
            "visibility": null,
            "width": null
          }
        },
        "8293ca77b0644ef38dc6ad14dbff8459": {
          "model_module": "@jupyter-widgets/controls",
          "model_name": "ProgressStyleModel",
          "model_module_version": "1.5.0",
          "state": {
            "_model_module": "@jupyter-widgets/controls",
            "_model_module_version": "1.5.0",
            "_model_name": "ProgressStyleModel",
            "_view_count": null,
            "_view_module": "@jupyter-widgets/base",
            "_view_module_version": "1.2.0",
            "_view_name": "StyleView",
            "bar_color": null,
            "description_width": ""
          }
        },
        "272eb37310784245b69863df8e6fb89b": {
          "model_module": "@jupyter-widgets/base",
          "model_name": "LayoutModel",
          "model_module_version": "1.2.0",
          "state": {
            "_model_module": "@jupyter-widgets/base",
            "_model_module_version": "1.2.0",
            "_model_name": "LayoutModel",
            "_view_count": null,
            "_view_module": "@jupyter-widgets/base",
            "_view_module_version": "1.2.0",
            "_view_name": "LayoutView",
            "align_content": null,
            "align_items": null,
            "align_self": null,
            "border": null,
            "bottom": null,
            "display": null,
            "flex": null,
            "flex_flow": null,
            "grid_area": null,
            "grid_auto_columns": null,
            "grid_auto_flow": null,
            "grid_auto_rows": null,
            "grid_column": null,
            "grid_gap": null,
            "grid_row": null,
            "grid_template_areas": null,
            "grid_template_columns": null,
            "grid_template_rows": null,
            "height": null,
            "justify_content": null,
            "justify_items": null,
            "left": null,
            "margin": null,
            "max_height": null,
            "max_width": null,
            "min_height": null,
            "min_width": null,
            "object_fit": null,
            "object_position": null,
            "order": null,
            "overflow": null,
            "overflow_x": null,
            "overflow_y": null,
            "padding": null,
            "right": null,
            "top": null,
            "visibility": null,
            "width": null
          }
        },
        "9929c086f29c4b05ba8a624efcea3b6f": {
          "model_module": "@jupyter-widgets/controls",
          "model_name": "DescriptionStyleModel",
          "model_module_version": "1.5.0",
          "state": {
            "_model_module": "@jupyter-widgets/controls",
            "_model_module_version": "1.5.0",
            "_model_name": "DescriptionStyleModel",
            "_view_count": null,
            "_view_module": "@jupyter-widgets/base",
            "_view_module_version": "1.2.0",
            "_view_name": "StyleView",
            "description_width": ""
          }
        }
      }
    }
  },
  "cells": [
    {
      "cell_type": "markdown",
      "metadata": {
        "id": "Ms57zoghuNDp"
      },
      "source": [
        "##**10. Text Generation**\n",
        "1. Pretrained Model을 이용해 Text를 generation 하는 model을 구현합니다.\n",
        "2. 실제 데이터셋을 가지고 모델을 학습해봅니다.\n",
        "3. 다양한 decoding strategy를 이용하여 text를 생성해봅니다."
      ]
    },
    {
      "cell_type": "code",
      "metadata": {
        "id": "GZA8dewtuNDs"
      },
      "source": [
        "!pip install transformers==4.9.2"
      ],
      "execution_count": null,
      "outputs": []
    },
    {
      "cell_type": "code",
      "metadata": {
        "id": "KjXsPeEmuNDt"
      },
      "source": [
        "import torch\n",
        "from transformers import GPT2LMHeadModel, PreTrainedTokenizerFast"
      ],
      "execution_count": 2,
      "outputs": []
    },
    {
      "cell_type": "code",
      "metadata": {
        "id": "ejK--Ti8uNDt"
      },
      "source": [
        "import numpy as np\n",
        "import random\n",
        "\n",
        "def set_seed(random_seed):\n",
        "    torch.random.manual_seed(random_seed)\n",
        "    torch.manual_seed(random_seed)\n",
        "    torch.cuda.manual_seed(random_seed)\n",
        "    torch.backends.cudnn.deterministic = True\n",
        "    torch.backends.cudnn.benchmark = False\n",
        "    np.random.seed(random_seed)\n",
        "    random.seed(random_seed)"
      ],
      "execution_count": 3,
      "outputs": []
    },
    {
      "cell_type": "code",
      "metadata": {
        "id": "vHDikSuCuNDu"
      },
      "source": [
        "set_seed(777)"
      ],
      "execution_count": 4,
      "outputs": []
    },
    {
      "cell_type": "code",
      "metadata": {
        "id": "M7FjE7qMuNDu",
        "outputId": "3a41e592-d7c2-456c-f437-5a8eae5a839a",
        "colab": {
          "base_uri": "https://localhost:8080/",
          "height": 188,
          "referenced_widgets": [
            "bdc1a32a09954e82ace22754238c032a",
            "1e1b32f3a72f44a098cfb1b47105b390",
            "2e6875dc99244be09e589a51eb8748ca",
            "804292a4e516418ca9e16ecc526a9cbe",
            "f4bac016432a4925bf21421923049d38",
            "a3a06548a4f1416aa4cb99abcaebce0d",
            "e9f03a81b10a478b9439f2a325e40fa8",
            "d7dbaebb1fb94645b5cc7f1b670c5309",
            "ce46786e523e43699ec00947aca05082",
            "ba95eccafd084c2b8a9b769a63567b44",
            "05e73a4f86ea4eadb93b4df51b0a50bb",
            "44d8da00e8a04c51967bb35cfe9e7b0e",
            "6f8d0aaf37594595891e3b92e3ff8089",
            "d4dfae438503427ea02c7b8f1c3d2fa7",
            "de8562ba734847dab8736cfa236cda35",
            "1f6003f8e47e4cee88ca7487042c406e",
            "60220e526609417ebd1d2b3249c9546c",
            "be2925ce4570470899b5af61e7f904ba",
            "d3c4699639fd4c058b146f2bb95b891a",
            "abd46ca6e6df4e8badc9fccb92231f09",
            "b65079d8e316470fbeadee75862c07ec",
            "276089b6d3dc49baa73429598255b0a4",
            "b6fee61212f24493929f735711dac9b5",
            "5e7ae9adaefd40cdb66d623f94585f9f",
            "9a47e5dbd2ba444eb5677815f8b7995f",
            "ab0a65f52e30495e9ecb0176e03c183f",
            "45df1c51900241f8abb3bfdcfc4039c2",
            "d36c219f66c84cae9a3e820578b83782",
            "021a0875959c4c7da46c4dd24e8fe490",
            "5ab9a0c83326400c8f75f532f8cb46cf",
            "8293ca77b0644ef38dc6ad14dbff8459",
            "272eb37310784245b69863df8e6fb89b",
            "9929c086f29c4b05ba8a624efcea3b6f"
          ]
        }
      },
      "source": [
        "model = GPT2LMHeadModel.from_pretrained('skt/kogpt2-base-v2')\n",
        "tokenizer = PreTrainedTokenizerFast.from_pretrained(\"skt/kogpt2-base-v2\", bos_token='</s>', eos_token='</s>', unk_token='<unk>',\n",
        "  pad_token='<pad>', mask_token='<mask>') "
      ],
      "execution_count": 5,
      "outputs": [
        {
          "output_type": "display_data",
          "data": {
            "text/plain": [
              "Downloading:   0%|          | 0.00/1.00k [00:00<?, ?B/s]"
            ],
            "application/vnd.jupyter.widget-view+json": {
              "version_major": 2,
              "version_minor": 0,
              "model_id": "bdc1a32a09954e82ace22754238c032a"
            }
          },
          "metadata": {}
        },
        {
          "output_type": "display_data",
          "data": {
            "text/plain": [
              "Downloading:   0%|          | 0.00/513M [00:00<?, ?B/s]"
            ],
            "application/vnd.jupyter.widget-view+json": {
              "version_major": 2,
              "version_minor": 0,
              "model_id": "44d8da00e8a04c51967bb35cfe9e7b0e"
            }
          },
          "metadata": {}
        },
        {
          "output_type": "display_data",
          "data": {
            "text/plain": [
              "Downloading:   0%|          | 0.00/2.83M [00:00<?, ?B/s]"
            ],
            "application/vnd.jupyter.widget-view+json": {
              "version_major": 2,
              "version_minor": 0,
              "model_id": "b6fee61212f24493929f735711dac9b5"
            }
          },
          "metadata": {}
        },
        {
          "output_type": "stream",
          "name": "stderr",
          "text": [
            "The tokenizer class you load from this checkpoint is not the same type as the class this function is called from. It may result in unexpected tokenization. \n",
            "The tokenizer class you load from this checkpoint is 'GPT2Tokenizer'. \n",
            "The class this function is called from is 'PreTrainedTokenizerFast'.\n"
          ]
        }
      ]
    },
    {
      "cell_type": "code",
      "metadata": {
        "id": "MiZH_qkGuNDv"
      },
      "source": [
        "text = '근육이 커지기 위해서는'\n",
        "input_ids = tokenizer.encode(text)\n",
        "gen_ids = model.generate(torch.tensor([input_ids]),\n",
        "                           max_length=50,repetition_penalty=1.0,\n",
        "                           top_k=5,\n",
        "                           temperature=1.0,                          \n",
        "                           pad_token_id=tokenizer.pad_token_id,\n",
        "                           eos_token_id=tokenizer.eos_token_id,\n",
        "                           bos_token_id=tokenizer.bos_token_id)"
      ],
      "execution_count": 6,
      "outputs": []
    },
    {
      "cell_type": "code",
      "metadata": {
        "id": "YwyDgyC8uNDw",
        "outputId": "5f874af8-3709-4fa1-f65a-c9e053a4b24c",
        "colab": {
          "base_uri": "https://localhost:8080/"
        }
      },
      "source": [
        "generated = tokenizer.decode(gen_ids[0,:].tolist())\n",
        "print(generated)"
      ],
      "execution_count": 7,
      "outputs": [
        {
          "output_type": "stream",
          "name": "stdout",
          "text": [
            "근육이 커지기 위해서는 무엇보다 규칙적인 생활습관이 중요하다.\n",
            "특히, 아침식사는 단백질과 비타민, 무기질 등 영양소가 풍부한 음식을 골고루 섭취하는 것이 좋다.\n",
            "또한 규칙적인 운동은 근육을 강화시켜주는 효과가 있다.\n",
            "특히, 아침식사는 단백질과 비타민\n"
          ]
        }
      ]
    },
    {
      "cell_type": "markdown",
      "metadata": {
        "id": "6DMYgGHFuNDw"
      },
      "source": [
        "## Likelihood-based Decoding\n",
        "\n",
        "* Greedy Search\n",
        "* Beam Search"
      ]
    },
    {
      "cell_type": "code",
      "metadata": {
        "id": "glpWw8vxuNDx"
      },
      "source": [
        "def greedy(logits):\n",
        "    return torch.argmax(logits, dim=-1, keepdim=True)"
      ],
      "execution_count": 8,
      "outputs": []
    },
    {
      "cell_type": "code",
      "metadata": {
        "id": "rH_Wjo0vuNDx"
      },
      "source": [
        "class SamplerBase:\n",
        "    def __init__(self, model, seq_length):\n",
        "        self.model = model\n",
        "        self.seq_length = seq_length\n",
        "\n",
        "    def sample(self, inps, past):\n",
        "        return NotImplementedError"
      ],
      "execution_count": 9,
      "outputs": []
    },
    {
      "cell_type": "code",
      "metadata": {
        "id": "2jX1NiWzuNDx"
      },
      "source": [
        "from copy import deepcopy"
      ],
      "execution_count": 10,
      "outputs": []
    },
    {
      "cell_type": "markdown",
      "metadata": {
        "id": "XACVQ6rbuNDy"
      },
      "source": [
        "## Greedy Search Decoding"
      ]
    },
    {
      "cell_type": "code",
      "metadata": {
        "id": "7nc_mX7huNDy"
      },
      "source": [
        "def greedy(logits):\n",
        "    return torch.argmax(logits, dim=-1, keepdim=True)\n",
        "\n",
        "class GreedySampler(SamplerBase):\n",
        "    def __init__(self, model, seq_length, top_whatever, stochastic=False, temperature: float = 1.0):\n",
        "        \"\"\"\n",
        "        :param model:\n",
        "        :param seq_length:\n",
        "        :param stochastic: choice [top_k,top_p] if True\n",
        "        \"\"\"\n",
        "        super(GreedySampler, self).__init__(model, seq_length)\n",
        "\n",
        "        self.sampling = greedy\n",
        "\n",
        "    @torch.no_grad()\n",
        "    def sample(self, inps):\n",
        "        inps=torch.LongTensor([inps])        \n",
        "        context = inps\n",
        "        generated = deepcopy(inps)\n",
        "        past = None\n",
        "\n",
        "        for t in range(0, self.seq_length):\n",
        "            out = self.model(context, past_key_values=past)\n",
        "            lm_logits,past= out[\"logits\"],out[\"past_key_values\"]\n",
        "            \n",
        "            lm_logits = lm_logits[:, -1]\n",
        "            \n",
        "            context = self.sampling(lm_logits)\n",
        "            generated = torch.cat([generated, context], dim=-1)\n",
        "\n",
        "        return generated"
      ],
      "execution_count": 11,
      "outputs": []
    },
    {
      "cell_type": "markdown",
      "metadata": {
        "id": "F6ybZxruuNDz"
      },
      "source": [
        "## Hugging face Library"
      ]
    },
    {
      "cell_type": "code",
      "metadata": {
        "id": "FDWOcTGCuNDz",
        "outputId": "3e3a4969-52b4-4288-a9ab-5b234b2efa3c",
        "colab": {
          "base_uri": "https://localhost:8080/"
        }
      },
      "source": [
        "gen_ids = model.generate(torch.tensor([input_ids]),max_length=34)\n",
        "\n",
        "generated = tokenizer.decode(gen_ids[0,:].tolist())\n",
        "print(generated)"
      ],
      "execution_count": 12,
      "outputs": [
        {
          "output_type": "stream",
          "name": "stdout",
          "text": [
            "근육이 커지기 위해서는 무엇보다 규칙적인 생활습관이 중요하다.\n",
            "특히, 아침식사는 단백질과 비타민, 무기질 등 영양소가 풍부한 음식을 골고루 섭취하는 것이 좋다.\n",
            "또한 규칙적인\n"
          ]
        }
      ]
    },
    {
      "cell_type": "markdown",
      "metadata": {
        "id": "lQbRxH1fuNDz"
      },
      "source": [
        "## 비교해보기"
      ]
    },
    {
      "cell_type": "code",
      "metadata": {
        "id": "1G-2f5oxuNDz",
        "outputId": "ba483bde-7569-4c78-955d-4eb156c139f7",
        "colab": {
          "base_uri": "https://localhost:8080/"
        }
      },
      "source": [
        "sampler=GreedySampler(model,30,1)\n",
        "\n",
        "sampled_ids=sampler.sample(input_ids)\n",
        "\n",
        "generated = tokenizer.decode(sampled_ids[0,:].tolist())\n",
        "print(generated)"
      ],
      "execution_count": 13,
      "outputs": [
        {
          "output_type": "stream",
          "name": "stdout",
          "text": [
            "근육이 커지기 위해서는 무엇보다 규칙적인 생활습관이 중요하다.\n",
            "특히, 아침식사는 단백질과 비타민, 무기질 등 영양소가 풍부한 음식을 골고루 섭취하는 것이 좋다.\n",
            "또한 규칙적인\n"
          ]
        }
      ]
    },
    {
      "cell_type": "markdown",
      "metadata": {
        "id": "P8MJS5QcuND0"
      },
      "source": [
        "## Beam Search Decoding"
      ]
    },
    {
      "cell_type": "code",
      "metadata": {
        "id": "9OI_d9rUuND0"
      },
      "source": [
        "class BeamSampler(SamplerBase):\n",
        "    def __init__(self, model, seq_length, beam_size: int = 3, temperature: float = 1.0):\n",
        "        \"\"\"\n",
        "        no version on stochastic mode\n",
        "        :param model:\n",
        "        :param seq_length:\n",
        "        :param top_whatever: int as beam_size\n",
        "        \"\"\"\n",
        "        super(BeamSampler, self).__init__(model, seq_length)\n",
        "        self.temperature = temperature\n",
        "        # if not isinstance(beam_size, int):\n",
        "        #     raise ValueError\n",
        "        self.beam_size = beam_size\n",
        "        self.sampling = greedy\n",
        "\n",
        "    def _set_start_sequence(self, inps):\n",
        "        batch, seq_lens = inps.size()\n",
        "        res = inps[:, None].repeat(1, self.beam_size, 1)  # [batch, beam, l]\n",
        "        res.view(-1, seq_lens)\n",
        "\n",
        "        return res.view(-1, seq_lens)\n",
        "\n",
        "    @torch.no_grad()\n",
        "    def sample(self, inps):\n",
        "        inps=torch.LongTensor([inps])\n",
        "        n_batch, seq_length = inps.size()\n",
        "        context = self._set_start_sequence(inps)\n",
        "        generated = deepcopy(context)\n",
        "        past = None\n",
        "\n",
        "        probs = torch.zeros([n_batch * self.beam_size]).to(context.device)\n",
        "        for t in range(0, self.seq_length):\n",
        "            out = self.model(context, past_key_values=past)\n",
        "            lm_logits,past= out[\"logits\"],out[\"past_key_values\"]\n",
        "#             lm_logits, past = self.model(context, past=past)\n",
        "            \n",
        "            lm_logits = lm_logits[:, -1]\n",
        "\n",
        "            context, probs, past, generated = self.beam_sample(lm_logits, probs, t, past, generated)\n",
        "\n",
        "        return generated.cpu()[:, 0], probs\n",
        "\n",
        "    def beam_sample(self, logits, probs, time_step, past, generated):\n",
        "\n",
        "        if time_step == 0:\n",
        "            logits = logits.view(-1, self.beam_size, logits.size()[-1])\n",
        "            probs, preds = self.beam_start(logits, probs)\n",
        "            generated = torch.cat([generated, preds], dim=-1)\n",
        "\n",
        "        else:\n",
        "            logits = logits.view(-1, self.beam_size, logits.size()[-1])\n",
        "            probs, preds, past, generated = self.beam_continue(logits, probs, past, generated)\n",
        "\n",
        "        return preds.view(-1, 1), probs, past, generated\n",
        "\n",
        "    def beam_start(self, logits, probs):\n",
        "        logits = logits / self.temperature\n",
        "        p, i = torch.topk(torch.log_softmax(logits, -1), self.beam_size, -1)  # [batch, beam_size]\n",
        "        i = i.view(-1, self.beam_size, self.beam_size)[:, 0, :].contiguous().view(-1, 1)\n",
        "        p = p.view(-1, self.beam_size, self.beam_size)[:, 0, :].contiguous().view(-1, 1)\n",
        "\n",
        "        probs = probs + p.view(-1)\n",
        "\n",
        "        return probs, i\n",
        "\n",
        "    def beam_continue(self, logits, probs, past, generated):\n",
        "        bs = logits.size(0)\n",
        "        generated = generated.view(bs, self.beam_size, -1)\n",
        "\n",
        "        current_p, indexes = torch.topk(torch.log_softmax(logits, -1), self.beam_size,\n",
        "                                        -1)  # [batch_size, beam_size, beam_size]\n",
        "        probs = probs.view(bs, -1).unsqueeze(-1) + current_p\n",
        "        new_probs = probs.view(bs, -1)\n",
        "\n",
        "        probs, ni = new_probs.topk(self.beam_size, -1)\n",
        "        sampled = indexes.view(bs, -1).gather(1, ni)  # [batch, beam]\n",
        "        group = ni // self.beam_size\n",
        "        ind = torch.arange(bs)[:, None], group\n",
        "        generated = generated[ind]\n",
        "        bs_beam = past[0][0].size(0)\n",
        "\n",
        "        n_head, seq_len, hidden_size = past[0][0].size()[1:]\n",
        "\n",
        "        past = [\n",
        "            (k.view(bs, self.beam_size, n_head, seq_len, hidden_size)[ind].view(bs_beam, n_head, seq_len, hidden_size),\n",
        "             v.view(bs, self.beam_size, n_head, seq_len, hidden_size)[ind].view(bs_beam, n_head, seq_len, hidden_size)) \\\n",
        "            for k, v in past]\n",
        "\n",
        "        # sampled = indexes.view(bs, -1).gather(1, ni)\n",
        "        generated = torch.cat([generated, sampled[:, :, None]], -1)\n",
        "\n",
        "        return probs, sampled.view(-1)[:, None], past, generated"
      ],
      "execution_count": 14,
      "outputs": []
    },
    {
      "cell_type": "markdown",
      "metadata": {
        "id": "7IAxVMe8uND0"
      },
      "source": [
        "## Huggingface 정답"
      ]
    },
    {
      "cell_type": "code",
      "metadata": {
        "id": "IsB27g1zuND0",
        "outputId": "1cc40831-fe7f-44ef-9a90-8c7500b9ad34",
        "colab": {
          "base_uri": "https://localhost:8080/"
        }
      },
      "source": [
        "gen_ids = model.generate(torch.tensor([input_ids]),max_length=34,\n",
        "                         num_beams=3,temperature=2.0)\n",
        "generated = tokenizer.decode(gen_ids[0,:].tolist())\n",
        "print(generated)"
      ],
      "execution_count": 15,
      "outputs": [
        {
          "output_type": "stream",
          "name": "stderr",
          "text": [
            "/usr/local/lib/python3.7/dist-packages/transformers/generation_utils.py:1838: UserWarning: __floordiv__ is deprecated, and its behavior will change in a future version of pytorch. It currently rounds toward 0 (like the 'trunc' function NOT 'floor'). This results in incorrect rounding for negative values. To keep the current behavior, use torch.div(a, b, rounding_mode='trunc'), or for actual floor division, use torch.div(a, b, rounding_mode='floor').\n",
            "  next_indices = next_tokens // vocab_size\n"
          ]
        },
        {
          "output_type": "stream",
          "name": "stdout",
          "text": [
            "근육이 커지기 위해서는 무엇보다 면역력을 높여야 한다.\n",
            "면역력을 높여야 하는 이유다.\n",
            "면역력을 높여야 하는 이유다.\n",
            "면역력을 높여야 하는 이유다.\n",
            "면역력을 높여\n"
          ]
        }
      ]
    },
    {
      "cell_type": "markdown",
      "metadata": {
        "id": "vmODWSZouND1"
      },
      "source": [
        "## 비교해보기"
      ]
    },
    {
      "cell_type": "code",
      "metadata": {
        "id": "GI34DMuquND1",
        "outputId": "9eef43fb-694d-434e-fd0c-d0ef2bf7e5ae",
        "colab": {
          "base_uri": "https://localhost:8080/"
        }
      },
      "source": [
        "sampler=BeamSampler(model,30,3,temperature=2.0)\n",
        "\n",
        "sampled_ids=sampler.sample(input_ids)[0]\n",
        "\n",
        "generated = tokenizer.decode(sampled_ids[0,:].tolist())\n",
        "print(generated)"
      ],
      "execution_count": 16,
      "outputs": [
        {
          "output_type": "stream",
          "name": "stderr",
          "text": [
            "/usr/local/lib/python3.7/dist-packages/ipykernel_launcher.py:77: UserWarning: __floordiv__ is deprecated, and its behavior will change in a future version of pytorch. It currently rounds toward 0 (like the 'trunc' function NOT 'floor'). This results in incorrect rounding for negative values. To keep the current behavior, use torch.div(a, b, rounding_mode='trunc'), or for actual floor division, use torch.div(a, b, rounding_mode='floor').\n"
          ]
        },
        {
          "output_type": "stream",
          "name": "stdout",
          "text": [
            "근육이 커지기 위해서는 무엇보다 면역력을 높여야 한다.\n",
            "면역력을 높여야 하는 이유다.\n",
            "면역력을 높여야 하는 이유다.\n",
            "면역력을 높여야 하는 이유다.\n",
            "면역력을 높여\n"
          ]
        }
      ]
    },
    {
      "cell_type": "markdown",
      "metadata": {
        "id": "WPY53wGtuND1"
      },
      "source": [
        "# Stochastic-based Decoding\n",
        "* Top-k sampling\n",
        "\n",
        "* Top-p sampling"
      ]
    },
    {
      "cell_type": "markdown",
      "metadata": {
        "id": "W3T3EuhLuND1"
      },
      "source": [
        "## Hugging face Library"
      ]
    },
    {
      "cell_type": "code",
      "metadata": {
        "id": "1K7XHKYCuND1",
        "outputId": "aa09ea5c-961b-4c91-8f57-154a2ed824cb",
        "colab": {
          "base_uri": "https://localhost:8080/"
        }
      },
      "source": [
        "## top-k sampling\n",
        "\n",
        "gen_ids = model.generate(torch.tensor([input_ids]),max_length=34,\n",
        "                         do_sample=True,top_k=5,temperature=1.0)\n",
        "generated = tokenizer.decode(gen_ids[0,:].tolist())\n",
        "print(generated)"
      ],
      "execution_count": 17,
      "outputs": [
        {
          "output_type": "stream",
          "name": "stdout",
          "text": [
            "근육이 커지기 위해서는 무엇보다 면역력을 키우는 것이 무엇보다 중요하다.\n",
            "면역력이란 우리 몸이 스스로 면역력을 키우기 위해 몸속에 있는 각종 면역물질을 스스로 만들어 내는 능력을 말한다.\n",
            "면역\n"
          ]
        }
      ]
    },
    {
      "cell_type": "markdown",
      "metadata": {
        "id": "ufub109duND2"
      },
      "source": [
        "* top-p sampling"
      ]
    },
    {
      "cell_type": "code",
      "metadata": {
        "id": "LAQLpZEYuND2",
        "outputId": "dda6903e-324c-4c32-8c2f-6a34d1120dbc",
        "colab": {
          "base_uri": "https://localhost:8080/"
        }
      },
      "source": [
        "## top-k sampling\n",
        "\n",
        "gen_ids = model.generate(torch.tensor([input_ids]),max_length=34,\n",
        "                         do_sample=True,top_p=0.1,temperature=1.0)\n",
        "generated = tokenizer.decode(gen_ids[0,:].tolist())\n",
        "print(generated)"
      ],
      "execution_count": 18,
      "outputs": [
        {
          "output_type": "stream",
          "name": "stdout",
          "text": [
            "근육이 커지기 위해서는 무엇보다 영양소가 풍부한 음식을 섭취하는 것이 중요하다.\n",
            "특히, 비타민C가 풍부한 음식은 비타민C가 풍부한 음식을 섭취하는 것이 좋다.\n",
            "비타민C는\n"
          ]
        }
      ]
    },
    {
      "cell_type": "code",
      "metadata": {
        "id": "kEXgO6yMuND2"
      },
      "source": [
        "def top_k_logits(logits, k):\n",
        "    if k == 0:\n",
        "        # no truncation\n",
        "        return logits\n",
        "    else:\n",
        "        values, _ = torch.topk(logits, k=k)\n",
        "        min_values = values[:, -1, None]\n",
        "        return torch.where(\n",
        "            logits < min_values,\n",
        "            torch.ones_like(logits, dtype=logits.dtype) * -1e10,\n",
        "            logits,\n",
        "        )"
      ],
      "execution_count": 19,
      "outputs": []
    },
    {
      "cell_type": "code",
      "metadata": {
        "id": "4ou9Nx1vuND2"
      },
      "source": [
        "def top_p_logits(logits, p):\n",
        "    \"\"\"Nucleus sampling\"\"\"\n",
        "    batch = logits.size(0)\n",
        "    sorted_logits, _ = torch.sort(logits, descending=True, dim=-1)\n",
        "    cumulative_probs = torch.cumsum(torch.softmax(sorted_logits, dim=-1), dim=-1)\n",
        "    a = torch.arange(0, batch).to(logits.device)\n",
        "    b = torch.max(torch.sum(cumulative_probs <= p, dim=-1) - 1, torch.Tensor([0]).long().to(logits.device))\n",
        "    min_values = sorted_logits[a, b].to(logits.device)\n",
        "\n",
        "    return torch.where(\n",
        "        logits < min_values[:, None],\n",
        "        torch.ones_like(logits) * -1e10,\n",
        "        logits,\n",
        "    )"
      ],
      "execution_count": 20,
      "outputs": []
    },
    {
      "cell_type": "code",
      "metadata": {
        "id": "EkJbqKYWuND2"
      },
      "source": [
        "class StochasticSampler(SamplerBase):\n",
        "    def __init__(self, model, seq_length, top_whatever, stochastic_func, temperature: float = 1.0):\n",
        "        \"\"\"\n",
        "        :param model:\n",
        "        :param seq_length:\n",
        "        :stochastic_func\n",
        "        \"\"\"\n",
        "        super(StochasticSampler, self).__init__(model, seq_length)\n",
        "\n",
        "        self.temperature = temperature\n",
        "        self.top_whatever=top_whatever\n",
        "        self.sampling = stochastic_func\n",
        "        \n",
        "\n",
        "    @torch.no_grad()\n",
        "    def sample(self, inps):\n",
        "        inps=torch.LongTensor([inps])\n",
        "        context = inps\n",
        "        generated = deepcopy(inps)\n",
        "        past = None\n",
        "\n",
        "        for t in range(0, self.seq_length):\n",
        "            out = self.model(context, past_key_values=past)\n",
        "            lm_logits,past= out[\"logits\"],out[\"past_key_values\"]            \n",
        "            lm_logits = lm_logits / self.temperature\n",
        "            lm_logits = lm_logits[:, -1]\n",
        "            masked_lm_logits = self.sampling(lm_logits, self.top_whatever)\n",
        "            context = torch.multinomial(torch.softmax(masked_lm_logits, -1), 1,generator=random_gen)\n",
        "            generated = torch.cat([generated, context], dim=-1)\n",
        "\n",
        "        return generated"
      ],
      "execution_count": 26,
      "outputs": []
    },
    {
      "cell_type": "code",
      "metadata": {
        "id": "T8OZGHJTuND3"
      },
      "source": [
        "sampler=StochasticSampler(model,30,10,top_k_logits)\n",
        "sampled_ids=sampler.sample(input_ids)\n",
        "generated = tokenizer.decode(sampled_ids[0,:].tolist())\n",
        "print(generated)"
      ],
      "execution_count": null,
      "outputs": []
    },
    {
      "cell_type": "code",
      "metadata": {
        "id": "i6VukDW0uND3"
      },
      "source": [
        "sampler=StochasticSampler(model,30,0.5,top_p_logits)\n",
        "sampled_ids=sampler.sample(input_ids)\n",
        "generated = tokenizer.decode(sampled_ids[0,:].tolist())\n",
        "print(generated)"
      ],
      "execution_count": null,
      "outputs": []
    },
    {
      "cell_type": "markdown",
      "metadata": {
        "id": "fshMHi7duND3"
      },
      "source": [
        "## 참고 자료"
      ]
    },
    {
      "cell_type": "markdown",
      "metadata": {
        "id": "ZuGbgtcYuND3"
      },
      "source": [
        "https://huggingface.co/transformers/v2.6.0/quickstart.html#using-the-past\n",
        "\n",
        "https://github.com/pytorch/fairseq/blob/1f7ef9ed1e1061f8c7f88f8b94c7186834398690/fairseq/search.py#L103\n",
        "\n",
        "https://jeongukjae.github.io/posts/cs224n-lecture-15-natural-language-generation/"
      ]
    }
  ]
}