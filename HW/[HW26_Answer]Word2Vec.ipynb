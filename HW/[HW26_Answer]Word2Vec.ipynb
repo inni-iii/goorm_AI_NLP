{
  "nbformat": 4,
  "nbformat_minor": 0,
  "metadata": {
    "accelerator": "GPU",
    "colab": {
      "name": "[HW26_Answer]Word2Vec.ipynb",
      "provenance": [],
      "collapsed_sections": []
    },
    "kernelspec": {
      "display_name": "Python 3",
      "language": "python",
      "name": "python3"
    },
    "language_info": {
      "codemirror_mode": {
        "name": "ipython",
        "version": 3
      },
      "file_extension": ".py",
      "mimetype": "text/x-python",
      "name": "python",
      "nbconvert_exporter": "python",
      "pygments_lexer": "ipython3",
      "version": "3.8.5"
    }
  },
  "cells": [
    {
      "cell_type": "markdown",
      "metadata": {
        "id": "h3FAK0fz1kOr"
      },
      "source": [
        "##**3. Word2Vec**\n",
        "1. 주어진 단어들을 word2vec 모델에 들어갈 수 있는 형태로 만듭니다.\n",
        "2. CBOW, Skip-gram 모델을 각각 구현합니다.\n",
        "3. 모델을 실제로 학습해보고 결과를 확인합니다.\n",
        "4. 산점도를 그려 단어들의 대략적인 위치를 확인해봅니다"
      ]
    },
    {
      "cell_type": "markdown",
      "metadata": {
        "id": "u9FrxTPWIsct"
      },
      "source": [
        "### **필요 패키지 import**"
      ]
    },
    {
      "cell_type": "code",
      "metadata": {
        "id": "utBdiiW499DI",
        "colab": {
          "base_uri": "https://localhost:8080/"
        },
        "outputId": "8c8a41e6-0be2-4abd-d502-65e3c0978c07"
      },
      "source": [
        "!sudo apt-get install -y fonts-nanum\n",
        "!sudo fc-cache -fv\n",
        "!rm ~/.cache/matplotlib -rf"
      ],
      "execution_count": 1,
      "outputs": [
        {
          "output_type": "stream",
          "name": "stdout",
          "text": [
            "Reading package lists... Done\n",
            "Building dependency tree       \n",
            "Reading state information... Done\n",
            "fonts-nanum is already the newest version (20170925-1).\n",
            "The following package was automatically installed and is no longer required:\n",
            "  libnvidia-common-460\n",
            "Use 'sudo apt autoremove' to remove it.\n",
            "0 upgraded, 0 newly installed, 0 to remove and 49 not upgraded.\n",
            "/usr/share/fonts: caching, new cache contents: 0 fonts, 1 dirs\n",
            "/usr/share/fonts/truetype: caching, new cache contents: 0 fonts, 3 dirs\n",
            "/usr/share/fonts/truetype/humor-sans: caching, new cache contents: 1 fonts, 0 dirs\n",
            "/usr/share/fonts/truetype/liberation: caching, new cache contents: 16 fonts, 0 dirs\n",
            "/usr/share/fonts/truetype/nanum: caching, new cache contents: 10 fonts, 0 dirs\n",
            "/usr/local/share/fonts: caching, new cache contents: 0 fonts, 0 dirs\n",
            "/root/.local/share/fonts: skipping, no such directory\n",
            "/root/.fonts: skipping, no such directory\n",
            "/var/cache/fontconfig: cleaning cache directory\n",
            "/root/.cache/fontconfig: not cleaning non-existent cache directory\n",
            "/root/.fontconfig: not cleaning non-existent cache directory\n",
            "fc-cache: succeeded\n"
          ]
        }
      ]
    },
    {
      "cell_type": "code",
      "metadata": {
        "id": "QjroCdtwI9Rz",
        "colab": {
          "base_uri": "https://localhost:8080/"
        },
        "outputId": "22d35633-0427-41e9-d198-5b21d70fa14b"
      },
      "source": [
        "!pip install konlpy"
      ],
      "execution_count": 2,
      "outputs": [
        {
          "output_type": "stream",
          "name": "stdout",
          "text": [
            "Looking in indexes: https://pypi.org/simple, https://us-python.pkg.dev/colab-wheels/public/simple/\n",
            "Requirement already satisfied: konlpy in /usr/local/lib/python3.7/dist-packages (0.6.0)\n",
            "Requirement already satisfied: JPype1>=0.7.0 in /usr/local/lib/python3.7/dist-packages (from konlpy) (1.4.0)\n",
            "Requirement already satisfied: numpy>=1.6 in /usr/local/lib/python3.7/dist-packages (from konlpy) (1.21.6)\n",
            "Requirement already satisfied: lxml>=4.1.0 in /usr/local/lib/python3.7/dist-packages (from konlpy) (4.2.6)\n",
            "Requirement already satisfied: typing-extensions in /usr/local/lib/python3.7/dist-packages (from JPype1>=0.7.0->konlpy) (4.1.1)\n"
          ]
        }
      ]
    },
    {
      "cell_type": "code",
      "metadata": {
        "id": "nSP7aXfJIr3i"
      },
      "source": [
        "from tqdm import tqdm\n",
        "from konlpy.tag import Mecab,Twitter,Okt,Kkma\n",
        "from torch import nn\n",
        "from torch.nn import functional as F\n",
        "from torch.utils.data import Dataset, DataLoader\n",
        "from collections import defaultdict\n",
        "\n",
        "import torch\n",
        "import copy\n",
        "import numpy as np"
      ],
      "execution_count": 3,
      "outputs": []
    },
    {
      "cell_type": "markdown",
      "metadata": {
        "id": "qugro74yJASr"
      },
      "source": [
        "### **데이터 전처리**"
      ]
    },
    {
      "cell_type": "markdown",
      "metadata": {
        "id": "Q36dfSRRJDtX"
      },
      "source": [
        "\n",
        "\n",
        "데이터를 확인하고 Word2Vec 형식에 맞게 전처리합니다."
      ]
    },
    {
      "cell_type": "code",
      "metadata": {
        "id": "CLZ2f-lRJSus"
      },
      "source": [
        "train_data = [\n",
        "  \"정말 맛있습니다. 추천합니다.\",\n",
        "  \"기대했던 것보단 별로였네요.\",\n",
        "  \"다 좋은데 가격이 너무 비싸서 다시 가고 싶다는 생각이 안 드네요.\",\n",
        "  \"완전 최고입니다! 재방문 의사 있습니다.\",\n",
        "  \"음식도 서비스도 다 만족스러웠습니다.\",\n",
        "  \"위생 상태가 좀 별로였습니다. 좀 더 개선되기를 바랍니다.\",\n",
        "  \"맛도 좋았고 직원분들 서비스도 너무 친절했습니다.\",\n",
        "  \"기념일에 방문했는데 음식도 분위기도 서비스도 다 좋았습니다.\",\n",
        "  \"전반적으로 음식이 너무 짰습니다. 저는 별로였네요.\",\n",
        "  \"위생에 조금 더 신경 썼으면 좋겠습니다. 조금 불쾌했습니다.\"       \n",
        "]\n",
        "\n",
        "test_words = [\"음식\", \"맛\", \"서비스\", \"위생\", \"가격\"]"
      ],
      "execution_count": 4,
      "outputs": []
    },
    {
      "cell_type": "markdown",
      "metadata": {
        "id": "vReElaFSLBYL"
      },
      "source": [
        "Tokenization과 vocab을 만드는 과정은 이전 실습과 유사합니다."
      ]
    },
    {
      "cell_type": "code",
      "metadata": {
        "id": "dTjlRzmWMDK_"
      },
      "source": [
        "tokenizer = Okt()"
      ],
      "execution_count": 5,
      "outputs": []
    },
    {
      "cell_type": "code",
      "metadata": {
        "id": "0DTUsX672icp"
      },
      "source": [
        "def make_tokenized(data):\n",
        "  tokenized = []\n",
        "  for sent in tqdm(data):\n",
        "    tokens = tokenizer.morphs(sent, stem=True)\n",
        "    tokenized.append(tokens)\n",
        "\n",
        "  return tokenized"
      ],
      "execution_count": 6,
      "outputs": []
    },
    {
      "cell_type": "code",
      "metadata": {
        "id": "C-z0z6HD2rrX",
        "colab": {
          "base_uri": "https://localhost:8080/"
        },
        "outputId": "974ff4dc-1d8a-4746-ac51-bd7b7cebb871"
      },
      "source": [
        "train_tokenized = make_tokenized(train_data)"
      ],
      "execution_count": 7,
      "outputs": [
        {
          "output_type": "stream",
          "name": "stderr",
          "text": [
            "100%|██████████| 10/10 [00:07<00:00,  1.32it/s]\n"
          ]
        }
      ]
    },
    {
      "cell_type": "code",
      "metadata": {
        "id": "51exEpI0Mc3l",
        "colab": {
          "base_uri": "https://localhost:8080/"
        },
        "outputId": "0bce0d31-6161-4d15-febe-df0b40e41dbd"
      },
      "source": [
        "word_count = defaultdict(int)\n",
        "\n",
        "for tokens in tqdm(train_tokenized):\n",
        "  for token in tokens:\n",
        "    word_count[token] += 1"
      ],
      "execution_count": 8,
      "outputs": [
        {
          "output_type": "stream",
          "name": "stderr",
          "text": [
            "100%|██████████| 10/10 [00:00<00:00, 59241.58it/s]\n"
          ]
        }
      ]
    },
    {
      "cell_type": "code",
      "metadata": {
        "id": "gyvHAMAnMh1D",
        "colab": {
          "base_uri": "https://localhost:8080/"
        },
        "outputId": "1223b37f-7aea-40db-d89a-b6f312fbb1c9"
      },
      "source": [
        "word_count = sorted(word_count.items(), key=lambda x: x[1], reverse=True)\n",
        "print(list(word_count))"
      ],
      "execution_count": 9,
      "outputs": [
        {
          "output_type": "stream",
          "name": "stdout",
          "text": [
            "[('.', 14), ('도', 7), ('이다', 4), ('좋다', 4), ('별로', 3), ('다', 3), ('이', 3), ('너무', 3), ('음식', 3), ('서비스', 3), ('하다', 2), ('방문', 2), ('위생', 2), ('좀', 2), ('더', 2), ('에', 2), ('조금', 2), ('정말', 1), ('맛있다', 1), ('추천', 1), ('기대하다', 1), ('것', 1), ('보단', 1), ('가격', 1), ('비싸다', 1), ('다시', 1), ('가다', 1), ('싶다', 1), ('생각', 1), ('안', 1), ('드네', 1), ('요', 1), ('완전', 1), ('최고', 1), ('!', 1), ('재', 1), ('의사', 1), ('있다', 1), ('만족스럽다', 1), ('상태', 1), ('가', 1), ('개선', 1), ('되다', 1), ('기르다', 1), ('바라다', 1), ('맛', 1), ('직원', 1), ('분들', 1), ('친절하다', 1), ('기념일', 1), ('분위기', 1), ('전반', 1), ('적', 1), ('으로', 1), ('짜다', 1), ('저', 1), ('는', 1), ('신경', 1), ('써다', 1), ('불쾌하다', 1)]\n"
          ]
        }
      ]
    },
    {
      "cell_type": "code",
      "metadata": {
        "id": "DaK_i3zL2vO3",
        "colab": {
          "base_uri": "https://localhost:8080/"
        },
        "outputId": "4ce8c596-256b-477c-a2fe-484a8c4fa2ce"
      },
      "source": [
        "w2i = {}\n",
        "for pair in tqdm(word_count):\n",
        "  if pair[0] not in w2i:\n",
        "    w2i[pair[0]] = len(w2i)\n",
        "\n",
        "i2w={v:k for k,v in w2i.items()}"
      ],
      "execution_count": 10,
      "outputs": [
        {
          "output_type": "stream",
          "name": "stderr",
          "text": [
            "100%|██████████| 60/60 [00:00<00:00, 385387.81it/s]\n"
          ]
        }
      ]
    },
    {
      "cell_type": "code",
      "metadata": {
        "id": "LiGqiEGDL5B_",
        "colab": {
          "base_uri": "https://localhost:8080/"
        },
        "outputId": "6ad4a1d9-e773-4eb2-fd80-6cb2b6604e9e"
      },
      "source": [
        "print(train_tokenized)\n",
        "print(w2i)"
      ],
      "execution_count": 11,
      "outputs": [
        {
          "output_type": "stream",
          "name": "stdout",
          "text": [
            "[['정말', '맛있다', '.', '추천', '하다', '.'], ['기대하다', '것', '보단', '별로', '이다', '.'], ['다', '좋다', '가격', '이', '너무', '비싸다', '다시', '가다', '싶다', '생각', '이', '안', '드네', '요', '.'], ['완전', '최고', '이다', '!', '재', '방문', '의사', '있다', '.'], ['음식', '도', '서비스', '도', '다', '만족스럽다', '.'], ['위생', '상태', '가', '좀', '별로', '이다', '.', '좀', '더', '개선', '되다', '기르다', '바라다', '.'], ['맛', '도', '좋다', '직원', '분들', '서비스', '도', '너무', '친절하다', '.'], ['기념일', '에', '방문', '하다', '음식', '도', '분위기', '도', '서비스', '도', '다', '좋다', '.'], ['전반', '적', '으로', '음식', '이', '너무', '짜다', '.', '저', '는', '별로', '이다', '.'], ['위생', '에', '조금', '더', '신경', '써다', '좋다', '.', '조금', '불쾌하다', '.']]\n",
            "{'.': 0, '도': 1, '이다': 2, '좋다': 3, '별로': 4, '다': 5, '이': 6, '너무': 7, '음식': 8, '서비스': 9, '하다': 10, '방문': 11, '위생': 12, '좀': 13, '더': 14, '에': 15, '조금': 16, '정말': 17, '맛있다': 18, '추천': 19, '기대하다': 20, '것': 21, '보단': 22, '가격': 23, '비싸다': 24, '다시': 25, '가다': 26, '싶다': 27, '생각': 28, '안': 29, '드네': 30, '요': 31, '완전': 32, '최고': 33, '!': 34, '재': 35, '의사': 36, '있다': 37, '만족스럽다': 38, '상태': 39, '가': 40, '개선': 41, '되다': 42, '기르다': 43, '바라다': 44, '맛': 45, '직원': 46, '분들': 47, '친절하다': 48, '기념일': 49, '분위기': 50, '전반': 51, '적': 52, '으로': 53, '짜다': 54, '저': 55, '는': 56, '신경': 57, '써다': 58, '불쾌하다': 59}\n"
          ]
        }
      ]
    },
    {
      "cell_type": "markdown",
      "metadata": {
        "id": "Rcm_L4iJBufO"
      },
      "source": [
        "### 다음은 Word2Vec을 학습시키는 대표적인 방법인 Skipgram과 CBow를 다룹니다. \n",
        "\n",
        "* Cbow는 주변단어를 이용해, 주어진 단어를 예측하는 방법입니다.\n",
        "* Skipgram은 중심 단어를 이용하여 주변 단어를 예측하는 방법입니다.\n",
        "* 즉 데이터셋을 구성할때, input x 와 target y를 어떻게 설정하는지에 차이가 있습니다.\n",
        "\n",
        "참고자료 \n",
        "\n",
        "* https://simonezz.tistory.com/35 \n",
        "\n",
        "* https://towardsdatascience.com/nlp-101-word2vec-skip-gram-and-cbow-93512ee24314 \n",
        "\n"
      ]
    },
    {
      "cell_type": "markdown",
      "metadata": {
        "id": "vXA5zaPPM3Wd"
      },
      "source": [
        "실제 모델에 들어가기 위한 input을 만들기 위해 `Dataset` 클래스를 정의합니다."
      ]
    },
    {
      "cell_type": "code",
      "metadata": {
        "id": "s47ssyVt89t1"
      },
      "source": [
        "class CBOWDataset(Dataset):\n",
        "  def __init__(self, train_tokenized, window_size=2):\n",
        "    self.x = [] # input word\n",
        "    self.y = [] # target word\n",
        "\n",
        "    for tokens in tqdm(train_tokenized):\n",
        "      token_ids = [w2i[token] for token in tokens]\n",
        "      for i, id in enumerate(token_ids):\n",
        "        if i-window_size >= 0 and i+window_size < len(token_ids):\n",
        "          self.x.append(token_ids[i-window_size:i] + token_ids[i+1:i+window_size+1])\n",
        "          self.y.append(id)\n",
        "\n",
        "    self.x = torch.LongTensor(self.x)  # (전체 데이터 개수, 2 * window_size)\n",
        "    self.y = torch.LongTensor(self.y)  # (전체 데이터 개수)\n",
        "\n",
        "  def __len__(self):\n",
        "    return self.x.shape[0]\n",
        "\n",
        "  def __getitem__(self, idx):\n",
        "    return self.x[idx], self.y[idx]"
      ],
      "execution_count": 12,
      "outputs": []
    },
    {
      "cell_type": "code",
      "metadata": {
        "id": "kvInhQ33AMJv"
      },
      "source": [
        "class SkipGramDataset(Dataset):\n",
        "  def __init__(self, train_tokenized, window_size=2):\n",
        "    self.x = []\n",
        "    self.y = []\n",
        "\n",
        "    for tokens in tqdm(train_tokenized):\n",
        "      token_ids = [w2i[token] for token in tokens]\n",
        "      for i, id in enumerate(token_ids):\n",
        "        if i-window_size >= 0 and i+window_size < len(token_ids):\n",
        "          self.y += (token_ids[i-window_size:i] + token_ids[i+1:i+window_size+1])\n",
        "          self.x += [id] * 2 * window_size\n",
        "\n",
        "    self.x = torch.LongTensor(self.x)  # (전체 데이터 개수)\n",
        "    self.y = torch.LongTensor(self.y)  # (전체 데이터 개수)\n",
        "\n",
        "  def __len__(self):\n",
        "    return self.x.shape[0]\n",
        "\n",
        "  def __getitem__(self, idx):\n",
        "    return self.x[idx], self.y[idx]"
      ],
      "execution_count": 13,
      "outputs": []
    },
    {
      "cell_type": "markdown",
      "metadata": {
        "id": "JyAGV5IUUba0"
      },
      "source": [
        "각 모델에 맞는 `Dataset` 객체를 생성합니다."
      ]
    },
    {
      "cell_type": "code",
      "metadata": {
        "id": "5ep7Hm6oBWyy",
        "colab": {
          "base_uri": "https://localhost:8080/"
        },
        "outputId": "e95bad11-ddcf-49f8-acaf-cd94ba76f66e"
      },
      "source": [
        "cbow_set = CBOWDataset(train_tokenized)\n",
        "skipgram_set = SkipGramDataset(train_tokenized)\n",
        "print(list(skipgram_set))"
      ],
      "execution_count": 14,
      "outputs": [
        {
          "output_type": "stream",
          "name": "stderr",
          "text": [
            "100%|██████████| 10/10 [00:00<00:00, 45990.18it/s]\n",
            "100%|██████████| 10/10 [00:00<00:00, 44906.90it/s]\n"
          ]
        },
        {
          "output_type": "stream",
          "name": "stdout",
          "text": [
            "[(tensor(0), tensor(17)), (tensor(0), tensor(18)), (tensor(0), tensor(19)), (tensor(0), tensor(10)), (tensor(19), tensor(18)), (tensor(19), tensor(0)), (tensor(19), tensor(10)), (tensor(19), tensor(0)), (tensor(22), tensor(20)), (tensor(22), tensor(21)), (tensor(22), tensor(4)), (tensor(22), tensor(2)), (tensor(4), tensor(21)), (tensor(4), tensor(22)), (tensor(4), tensor(2)), (tensor(4), tensor(0)), (tensor(23), tensor(5)), (tensor(23), tensor(3)), (tensor(23), tensor(6)), (tensor(23), tensor(7)), (tensor(6), tensor(3)), (tensor(6), tensor(23)), (tensor(6), tensor(7)), (tensor(6), tensor(24)), (tensor(7), tensor(23)), (tensor(7), tensor(6)), (tensor(7), tensor(24)), (tensor(7), tensor(25)), (tensor(24), tensor(6)), (tensor(24), tensor(7)), (tensor(24), tensor(25)), (tensor(24), tensor(26)), (tensor(25), tensor(7)), (tensor(25), tensor(24)), (tensor(25), tensor(26)), (tensor(25), tensor(27)), (tensor(26), tensor(24)), (tensor(26), tensor(25)), (tensor(26), tensor(27)), (tensor(26), tensor(28)), (tensor(27), tensor(25)), (tensor(27), tensor(26)), (tensor(27), tensor(28)), (tensor(27), tensor(6)), (tensor(28), tensor(26)), (tensor(28), tensor(27)), (tensor(28), tensor(6)), (tensor(28), tensor(29)), (tensor(6), tensor(27)), (tensor(6), tensor(28)), (tensor(6), tensor(29)), (tensor(6), tensor(30)), (tensor(29), tensor(28)), (tensor(29), tensor(6)), (tensor(29), tensor(30)), (tensor(29), tensor(31)), (tensor(30), tensor(6)), (tensor(30), tensor(29)), (tensor(30), tensor(31)), (tensor(30), tensor(0)), (tensor(2), tensor(32)), (tensor(2), tensor(33)), (tensor(2), tensor(34)), (tensor(2), tensor(35)), (tensor(34), tensor(33)), (tensor(34), tensor(2)), (tensor(34), tensor(35)), (tensor(34), tensor(11)), (tensor(35), tensor(2)), (tensor(35), tensor(34)), (tensor(35), tensor(11)), (tensor(35), tensor(36)), (tensor(11), tensor(34)), (tensor(11), tensor(35)), (tensor(11), tensor(36)), (tensor(11), tensor(37)), (tensor(36), tensor(35)), (tensor(36), tensor(11)), (tensor(36), tensor(37)), (tensor(36), tensor(0)), (tensor(9), tensor(8)), (tensor(9), tensor(1)), (tensor(9), tensor(1)), (tensor(9), tensor(5)), (tensor(1), tensor(1)), (tensor(1), tensor(9)), (tensor(1), tensor(5)), (tensor(1), tensor(38)), (tensor(5), tensor(9)), (tensor(5), tensor(1)), (tensor(5), tensor(38)), (tensor(5), tensor(0)), (tensor(40), tensor(12)), (tensor(40), tensor(39)), (tensor(40), tensor(13)), (tensor(40), tensor(4)), (tensor(13), tensor(39)), (tensor(13), tensor(40)), (tensor(13), tensor(4)), (tensor(13), tensor(2)), (tensor(4), tensor(40)), (tensor(4), tensor(13)), (tensor(4), tensor(2)), (tensor(4), tensor(0)), (tensor(2), tensor(13)), (tensor(2), tensor(4)), (tensor(2), tensor(0)), (tensor(2), tensor(13)), (tensor(0), tensor(4)), (tensor(0), tensor(2)), (tensor(0), tensor(13)), (tensor(0), tensor(14)), (tensor(13), tensor(2)), (tensor(13), tensor(0)), (tensor(13), tensor(14)), (tensor(13), tensor(41)), (tensor(14), tensor(0)), (tensor(14), tensor(13)), (tensor(14), tensor(41)), (tensor(14), tensor(42)), (tensor(41), tensor(13)), (tensor(41), tensor(14)), (tensor(41), tensor(42)), (tensor(41), tensor(43)), (tensor(42), tensor(14)), (tensor(42), tensor(41)), (tensor(42), tensor(43)), (tensor(42), tensor(44)), (tensor(43), tensor(41)), (tensor(43), tensor(42)), (tensor(43), tensor(44)), (tensor(43), tensor(0)), (tensor(3), tensor(45)), (tensor(3), tensor(1)), (tensor(3), tensor(46)), (tensor(3), tensor(47)), (tensor(46), tensor(1)), (tensor(46), tensor(3)), (tensor(46), tensor(47)), (tensor(46), tensor(9)), (tensor(47), tensor(3)), (tensor(47), tensor(46)), (tensor(47), tensor(9)), (tensor(47), tensor(1)), (tensor(9), tensor(46)), (tensor(9), tensor(47)), (tensor(9), tensor(1)), (tensor(9), tensor(7)), (tensor(1), tensor(47)), (tensor(1), tensor(9)), (tensor(1), tensor(7)), (tensor(1), tensor(48)), (tensor(7), tensor(9)), (tensor(7), tensor(1)), (tensor(7), tensor(48)), (tensor(7), tensor(0)), (tensor(11), tensor(49)), (tensor(11), tensor(15)), (tensor(11), tensor(10)), (tensor(11), tensor(8)), (tensor(10), tensor(15)), (tensor(10), tensor(11)), (tensor(10), tensor(8)), (tensor(10), tensor(1)), (tensor(8), tensor(11)), (tensor(8), tensor(10)), (tensor(8), tensor(1)), (tensor(8), tensor(50)), (tensor(1), tensor(10)), (tensor(1), tensor(8)), (tensor(1), tensor(50)), (tensor(1), tensor(1)), (tensor(50), tensor(8)), (tensor(50), tensor(1)), (tensor(50), tensor(1)), (tensor(50), tensor(9)), (tensor(1), tensor(1)), (tensor(1), tensor(50)), (tensor(1), tensor(9)), (tensor(1), tensor(1)), (tensor(9), tensor(50)), (tensor(9), tensor(1)), (tensor(9), tensor(1)), (tensor(9), tensor(5)), (tensor(1), tensor(1)), (tensor(1), tensor(9)), (tensor(1), tensor(5)), (tensor(1), tensor(3)), (tensor(5), tensor(9)), (tensor(5), tensor(1)), (tensor(5), tensor(3)), (tensor(5), tensor(0)), (tensor(53), tensor(51)), (tensor(53), tensor(52)), (tensor(53), tensor(8)), (tensor(53), tensor(6)), (tensor(8), tensor(52)), (tensor(8), tensor(53)), (tensor(8), tensor(6)), (tensor(8), tensor(7)), (tensor(6), tensor(53)), (tensor(6), tensor(8)), (tensor(6), tensor(7)), (tensor(6), tensor(54)), (tensor(7), tensor(8)), (tensor(7), tensor(6)), (tensor(7), tensor(54)), (tensor(7), tensor(0)), (tensor(54), tensor(6)), (tensor(54), tensor(7)), (tensor(54), tensor(0)), (tensor(54), tensor(55)), (tensor(0), tensor(7)), (tensor(0), tensor(54)), (tensor(0), tensor(55)), (tensor(0), tensor(56)), (tensor(55), tensor(54)), (tensor(55), tensor(0)), (tensor(55), tensor(56)), (tensor(55), tensor(4)), (tensor(56), tensor(0)), (tensor(56), tensor(55)), (tensor(56), tensor(4)), (tensor(56), tensor(2)), (tensor(4), tensor(55)), (tensor(4), tensor(56)), (tensor(4), tensor(2)), (tensor(4), tensor(0)), (tensor(16), tensor(12)), (tensor(16), tensor(15)), (tensor(16), tensor(14)), (tensor(16), tensor(57)), (tensor(14), tensor(15)), (tensor(14), tensor(16)), (tensor(14), tensor(57)), (tensor(14), tensor(58)), (tensor(57), tensor(16)), (tensor(57), tensor(14)), (tensor(57), tensor(58)), (tensor(57), tensor(3)), (tensor(58), tensor(14)), (tensor(58), tensor(57)), (tensor(58), tensor(3)), (tensor(58), tensor(0)), (tensor(3), tensor(57)), (tensor(3), tensor(58)), (tensor(3), tensor(0)), (tensor(3), tensor(16)), (tensor(0), tensor(58)), (tensor(0), tensor(3)), (tensor(0), tensor(16)), (tensor(0), tensor(59)), (tensor(16), tensor(3)), (tensor(16), tensor(0)), (tensor(16), tensor(59)), (tensor(16), tensor(0))]\n"
          ]
        }
      ]
    },
    {
      "cell_type": "markdown",
      "metadata": {
        "id": "1QSo73PoRyd9"
      },
      "source": [
        "### **모델 Class 구현**"
      ]
    },
    {
      "cell_type": "markdown",
      "metadata": {
        "id": "jnnk44R6R28x"
      },
      "source": [
        "차례대로 두 가지 Word2Vec 모델을 구현합니다.  \n",
        "\n",
        "\n",
        "*   `self.embedding`: `vocab_size` 크기의 one-hot vector를 특정 크기의 `dim` 차원으로 embedding 시키는 layer.\n",
        "*   `self.linear`: 변환된 embedding vector를 다시 원래 `vocab_size`로 바꾸는 layer.\n"
      ]
    },
    {
      "cell_type": "code",
      "metadata": {
        "id": "b_HP1ISq5CWv"
      },
      "source": [
        "class CBOW(nn.Module):\n",
        "  def __init__(self, vocab_size, dim):\n",
        "    super(CBOW, self).__init__()\n",
        "    self.embedding = nn.Embedding(vocab_size, dim, sparse=True)\n",
        "    self.linear = nn.Linear(dim, vocab_size)\n",
        "\n",
        "  # B: batch size, W: window size, d_w: word embedding size, V: vocab size\n",
        "  def forward(self, x):  # x: (B, 2W)\n",
        "    embeddings = self.embedding(x)  # (B, 2W, d_w)\n",
        "    embeddings = torch.sum(embeddings, dim=1)  # (B, d_w)\n",
        "    output = self.linear(embeddings)  # (B, V)\n",
        "    return output"
      ],
      "execution_count": 15,
      "outputs": []
    },
    {
      "cell_type": "code",
      "metadata": {
        "id": "yQAUApww68MJ"
      },
      "source": [
        "class SkipGram(nn.Module):\n",
        "  def __init__(self, vocab_size, dim):\n",
        "    super(SkipGram, self).__init__()\n",
        "    self.embedding = nn.Embedding(vocab_size, dim, sparse=True)\n",
        "    self.linear = nn.Linear(dim, vocab_size)\n",
        "\n",
        "  # B: batch size, W: window size, d_w: word embedding size, V: vocab size\n",
        "  def forward(self, x): # x: (B)\n",
        "    embeddings = self.embedding(x)  # (B, d_w)\n",
        "    output = self.linear(embeddings)  # (B, V)\n",
        "    return output"
      ],
      "execution_count": 16,
      "outputs": []
    },
    {
      "cell_type": "markdown",
      "metadata": {
        "id": "58cJalkDWYMT"
      },
      "source": [
        "두 가지 모델을 생성합니다."
      ]
    },
    {
      "cell_type": "code",
      "metadata": {
        "id": "8vWUXEi8WeM-"
      },
      "source": [
        "cbow = CBOW(vocab_size=len(w2i), dim=256)\n",
        "skipgram = SkipGram(vocab_size=len(w2i), dim=256)"
      ],
      "execution_count": 17,
      "outputs": []
    },
    {
      "cell_type": "markdown",
      "metadata": {
        "id": "xxP7qdtNWil1"
      },
      "source": [
        "### **모델 학습**"
      ]
    },
    {
      "cell_type": "markdown",
      "metadata": {
        "id": "QVggZrQ4WpBS"
      },
      "source": [
        "다음과 같이 hyperparamter를 세팅하고 `DataLoader` 객체를 만듭니다."
      ]
    },
    {
      "cell_type": "code",
      "metadata": {
        "id": "ygVdz5rSBeNu"
      },
      "source": [
        "batch_size=4\n",
        "learning_rate = 5e-4\n",
        "num_epochs = 5\n",
        "device = torch.device('cuda') if torch.cuda.is_available() else torch.device('cpu')\n",
        "\n",
        "cbow_loader = DataLoader(cbow_set, batch_size=batch_size)\n",
        "skipgram_loader = DataLoader(skipgram_set, batch_size=batch_size)"
      ],
      "execution_count": 18,
      "outputs": []
    },
    {
      "cell_type": "markdown",
      "metadata": {
        "id": "ekixqKB3X5C1"
      },
      "source": [
        "첫번째로 CBOW 모델 학습입니다."
      ]
    },
    {
      "cell_type": "code",
      "metadata": {
        "id": "-d95qR7oC822",
        "colab": {
          "base_uri": "https://localhost:8080/"
        },
        "outputId": "998344a1-6b60-4be7-de12-96e83afbf99b"
      },
      "source": [
        "cbow.train()\n",
        "cbow = cbow.to(device)\n",
        "optim = torch.optim.SGD(cbow.parameters(), lr=learning_rate)\n",
        "loss_function = nn.CrossEntropyLoss()\n",
        "\n",
        "for e in range(1, num_epochs+1):\n",
        "  print(\"#\" * 50)\n",
        "  print(f\"Epoch: {e}\")\n",
        "  for batch in tqdm(cbow_loader):\n",
        "    x, y = batch\n",
        "    x, y = x.to(device), y.to(device) # (B, W), (B)\n",
        "    output = cbow(x)  # (B, V)\n",
        " \n",
        "    optim.zero_grad()\n",
        "    loss = loss_function(output, y)\n",
        "    loss.backward()\n",
        "    optim.step()\n",
        "\n",
        "    print(f\"Train loss: {loss.item()}\")\n",
        "\n",
        "print(\"Finished.\")"
      ],
      "execution_count": 19,
      "outputs": [
        {
          "output_type": "stream",
          "name": "stdout",
          "text": [
            "##################################################\n",
            "Epoch: 1\n"
          ]
        },
        {
          "output_type": "stream",
          "name": "stderr",
          "text": [
            "100%|██████████| 16/16 [00:01<00:00, 11.21it/s]\n"
          ]
        },
        {
          "output_type": "stream",
          "name": "stdout",
          "text": [
            "Train loss: 4.437685966491699\n",
            "Train loss: 4.6310343742370605\n",
            "Train loss: 4.645600318908691\n",
            "Train loss: 5.3488569259643555\n",
            "Train loss: 5.369345188140869\n",
            "Train loss: 3.675283432006836\n",
            "Train loss: 4.3909478187561035\n",
            "Train loss: 4.3290276527404785\n",
            "Train loss: 4.413559913635254\n",
            "Train loss: 4.470080375671387\n",
            "Train loss: 4.247929096221924\n",
            "Train loss: 3.4116313457489014\n",
            "Train loss: 6.421370506286621\n",
            "Train loss: 3.6342687606811523\n",
            "Train loss: 3.4397950172424316\n",
            "Train loss: 4.827415466308594\n",
            "##################################################\n",
            "Epoch: 2\n"
          ]
        },
        {
          "output_type": "stream",
          "name": "stderr",
          "text": [
            "100%|██████████| 16/16 [00:00<00:00, 345.12it/s]\n"
          ]
        },
        {
          "output_type": "stream",
          "name": "stdout",
          "text": [
            "Train loss: 4.275362491607666\n",
            "Train loss: 4.484269618988037\n",
            "Train loss: 4.518553733825684\n",
            "Train loss: 5.205886363983154\n",
            "Train loss: 5.23178768157959\n",
            "Train loss: 3.4228744506835938\n",
            "Train loss: 4.212927341461182\n",
            "Train loss: 4.221796989440918\n",
            "Train loss: 4.315455436706543\n",
            "Train loss: 4.307343482971191\n",
            "Train loss: 4.09106969833374\n",
            "Train loss: 3.085099697113037\n",
            "Train loss: 6.252917289733887\n",
            "Train loss: 3.5244967937469482\n",
            "Train loss: 3.3059866428375244\n",
            "Train loss: 4.675484657287598\n",
            "##################################################\n",
            "Epoch: 3\n"
          ]
        },
        {
          "output_type": "stream",
          "name": "stderr",
          "text": [
            "100%|██████████| 16/16 [00:00<00:00, 364.95it/s]\n"
          ]
        },
        {
          "output_type": "stream",
          "name": "stdout",
          "text": [
            "Train loss: 4.11631965637207\n",
            "Train loss: 4.3400397300720215\n",
            "Train loss: 4.39337158203125\n",
            "Train loss: 5.064448356628418\n",
            "Train loss: 5.095742702484131\n",
            "Train loss: 3.184779644012451\n",
            "Train loss: 4.039061069488525\n",
            "Train loss: 4.116393089294434\n",
            "Train loss: 4.221894264221191\n",
            "Train loss: 4.148950576782227\n",
            "Train loss: 3.94158935546875\n",
            "Train loss: 2.780512809753418\n",
            "Train loss: 6.0869059562683105\n",
            "Train loss: 3.417695999145508\n",
            "Train loss: 3.176215171813965\n",
            "Train loss: 4.527957916259766\n",
            "##################################################\n",
            "Epoch: 4\n"
          ]
        },
        {
          "output_type": "stream",
          "name": "stderr",
          "text": [
            "\r  0%|          | 0/16 [00:00<?, ?it/s]"
          ]
        },
        {
          "output_type": "stream",
          "name": "stdout",
          "text": [
            "Train loss: 3.9605865478515625\n"
          ]
        },
        {
          "output_type": "stream",
          "name": "stderr",
          "text": [
            "\r100%|██████████| 16/16 [00:00<00:00, 255.84it/s]\n"
          ]
        },
        {
          "output_type": "stream",
          "name": "stdout",
          "text": [
            "Train loss: 4.198408126831055\n",
            "Train loss: 4.270079612731934\n",
            "Train loss: 4.924563884735107\n",
            "Train loss: 4.961181640625\n",
            "Train loss: 2.962388038635254\n",
            "Train loss: 3.869328022003174\n",
            "Train loss: 4.012705326080322\n",
            "Train loss: 4.132734775543213\n",
            "Train loss: 3.9952335357666016\n",
            "Train loss: 3.799978256225586\n",
            "Train loss: 2.500725746154785\n",
            "Train loss: 5.923354148864746\n",
            "Train loss: 3.31375789642334\n",
            "Train loss: 3.0506999492645264\n",
            "Train loss: 4.384429931640625\n",
            "##################################################\n",
            "Epoch: 5\n"
          ]
        },
        {
          "output_type": "stream",
          "name": "stderr",
          "text": [
            "\r  0%|          | 0/16 [00:00<?, ?it/s]"
          ]
        },
        {
          "output_type": "stream",
          "name": "stdout",
          "text": [
            "Train loss: 3.80822491645813\n",
            "Train loss: 4.0594401359558105\n",
            "Train loss: 4.148702621459961\n"
          ]
        },
        {
          "output_type": "stream",
          "name": "stderr",
          "text": [
            "\r100%|██████████| 16/16 [00:00<00:00, 268.11it/s]"
          ]
        },
        {
          "output_type": "stream",
          "name": "stdout",
          "text": [
            "Train loss: 4.786263465881348\n",
            "Train loss: 4.828087329864502\n",
            "Train loss: 2.756859302520752\n",
            "Train loss: 3.70375919342041\n",
            "Train loss: 3.9106552600860596\n",
            "Train loss: 4.047710418701172\n",
            "Train loss: 3.8465092182159424\n",
            "Train loss: 3.6666884422302246\n",
            "Train loss: 2.24821400642395\n",
            "Train loss: 5.762292861938477\n",
            "Train loss: 3.2125959396362305\n",
            "Train loss: 2.9296302795410156\n",
            "Train loss: 4.244600772857666\n",
            "Finished.\n"
          ]
        },
        {
          "output_type": "stream",
          "name": "stderr",
          "text": [
            "\n"
          ]
        }
      ]
    },
    {
      "cell_type": "markdown",
      "metadata": {
        "id": "FDahBf6IX4py"
      },
      "source": [
        "다음으로 Skip-gram 모델 학습입니다."
      ]
    },
    {
      "cell_type": "code",
      "metadata": {
        "id": "jJxGEusqFV5r",
        "colab": {
          "base_uri": "https://localhost:8080/"
        },
        "outputId": "9fdf2f99-5cc1-4a82-c5e1-ca3e40081706"
      },
      "source": [
        "skipgram.train()\n",
        "skipgram = skipgram.to(device)\n",
        "optim = torch.optim.SGD(skipgram.parameters(), lr=learning_rate)\n",
        "loss_function = nn.CrossEntropyLoss()\n",
        "\n",
        "for e in range(1, num_epochs+1):\n",
        "  print(\"#\" * 50)\n",
        "  print(f\"Epoch: {e}\")\n",
        "  for batch in tqdm(skipgram_loader):\n",
        "    x, y = batch\n",
        "    x, y = x.to(device), y.to(device) # (B, W), (B)\n",
        "    output = skipgram(x)  # (B, V)\n",
        "\n",
        "    optim.zero_grad()\n",
        "    loss = loss_function(output, y)\n",
        "    loss.backward()\n",
        "    optim.step()\n",
        "\n",
        "  print(f\"Train loss: {loss.item()}\")\n",
        "\n",
        "print(\"Finished.\")"
      ],
      "execution_count": 20,
      "outputs": [
        {
          "output_type": "stream",
          "name": "stdout",
          "text": [
            "##################################################\n",
            "Epoch: 1\n"
          ]
        },
        {
          "output_type": "stream",
          "name": "stderr",
          "text": [
            "100%|██████████| 64/64 [00:00<00:00, 86.80it/s]\n"
          ]
        },
        {
          "output_type": "stream",
          "name": "stdout",
          "text": [
            "Train loss: 4.800459384918213\n",
            "##################################################\n",
            "Epoch: 2\n"
          ]
        },
        {
          "output_type": "stream",
          "name": "stderr",
          "text": [
            "100%|██████████| 64/64 [00:00<00:00, 545.07it/s]\n"
          ]
        },
        {
          "output_type": "stream",
          "name": "stdout",
          "text": [
            "Train loss: 4.749663352966309\n",
            "##################################################\n",
            "Epoch: 3\n"
          ]
        },
        {
          "output_type": "stream",
          "name": "stderr",
          "text": [
            "100%|██████████| 64/64 [00:00<00:00, 567.17it/s]\n"
          ]
        },
        {
          "output_type": "stream",
          "name": "stdout",
          "text": [
            "Train loss: 4.6992034912109375\n",
            "##################################################\n",
            "Epoch: 4\n"
          ]
        },
        {
          "output_type": "stream",
          "name": "stderr",
          "text": [
            "100%|██████████| 64/64 [00:00<00:00, 779.06it/s]\n"
          ]
        },
        {
          "output_type": "stream",
          "name": "stdout",
          "text": [
            "Train loss: 4.649086952209473\n",
            "##################################################\n",
            "Epoch: 5\n"
          ]
        },
        {
          "output_type": "stream",
          "name": "stderr",
          "text": [
            "100%|██████████| 64/64 [00:00<00:00, 794.77it/s]"
          ]
        },
        {
          "output_type": "stream",
          "name": "stdout",
          "text": [
            "Train loss: 4.599322319030762\n",
            "Finished.\n"
          ]
        },
        {
          "output_type": "stream",
          "name": "stderr",
          "text": [
            "\n"
          ]
        }
      ]
    },
    {
      "cell_type": "markdown",
      "metadata": {
        "id": "Pi0sbHV6dEOR"
      },
      "source": [
        "### **테스트**"
      ]
    },
    {
      "cell_type": "markdown",
      "metadata": {
        "id": "WGarLWxXeJvz"
      },
      "source": [
        "학습된 각 모델을 이용하여 test 단어들의 word embedding을 확인합니다."
      ]
    },
    {
      "cell_type": "code",
      "metadata": {
        "id": "4A1wrl-L_RjF",
        "colab": {
          "base_uri": "https://localhost:8080/"
        },
        "outputId": "81672ad6-0ac9-4faf-ea4b-1254df5c94f9"
      },
      "source": [
        "for word in test_words:\n",
        "  input_id = torch.LongTensor([w2i[word]]).to(device)\n",
        "  emb = cbow.embedding(input_id)\n",
        "\n",
        "  print(f\"Word: {word}\")\n",
        "  print(emb.squeeze(0))"
      ],
      "execution_count": 21,
      "outputs": [
        {
          "output_type": "stream",
          "name": "stdout",
          "text": [
            "Word: 음식\n",
            "tensor([ 0.0511, -1.8199,  0.0408,  0.0186, -0.2177, -0.7107, -0.2224,  0.0980,\n",
            "        -1.9650,  1.0485, -0.5556,  1.0849, -0.3084,  1.2639,  1.8395,  0.5628,\n",
            "        -1.5623,  1.4016,  1.1778,  1.0152, -0.3656,  0.6382, -2.1173, -1.8506,\n",
            "        -0.2335, -1.0620, -1.6208,  1.0526,  0.5260, -0.1478, -1.6495, -1.1453,\n",
            "         1.3814,  1.7931, -0.8345, -1.0319, -0.4714,  0.7740, -0.7197,  1.1408,\n",
            "         0.1948,  1.0603,  1.9826, -0.5384,  1.5216,  0.5899, -0.1874,  0.2426,\n",
            "        -2.0045,  0.2474, -0.2151, -0.1366, -0.8303, -0.7693,  0.4709,  0.1015,\n",
            "        -0.7098, -0.7185,  1.4555,  1.6746, -0.6291,  0.0186, -0.2534, -1.1560,\n",
            "        -0.3948,  1.7267, -0.7525, -0.6149, -1.8691,  0.6762,  0.5266, -0.6961,\n",
            "         2.8705, -0.2030, -0.4133,  0.5606, -1.3298,  1.3532, -0.6217,  0.1162,\n",
            "        -1.5344,  1.2580, -1.9989,  1.4967,  0.4183, -0.2129,  1.3530,  0.2703,\n",
            "        -1.5096, -0.0648, -1.3069, -3.4356, -1.6015,  0.4888, -0.0917, -0.7686,\n",
            "         0.7428, -1.1672, -0.1209, -0.2301, -0.2202, -0.2998,  0.3836,  0.3990,\n",
            "        -0.9053,  0.3761, -0.5628,  0.1770,  0.7675, -0.3292, -1.6265,  0.0691,\n",
            "         1.1824,  1.5501, -0.0949, -0.7962, -0.7500,  0.8167, -0.0301, -0.2550,\n",
            "         0.2046,  0.5946,  1.0570,  0.7734, -1.0174,  0.7242, -0.3457, -0.2464,\n",
            "         0.5021,  0.7013,  1.5510, -0.0953,  1.1542, -0.7224,  0.0826, -0.1781,\n",
            "         0.1309, -0.0210, -1.6121,  1.0225, -0.2135,  2.4104, -0.4199,  0.0800,\n",
            "         0.8213, -1.0866, -0.8064,  0.6763, -1.9129, -1.3583,  0.5532, -0.7591,\n",
            "        -1.4610, -0.8823, -0.9172,  0.8410,  0.8287,  0.0110, -0.4320, -0.2467,\n",
            "         0.2803, -1.2256, -0.6223, -0.0312,  0.9302,  0.0125, -2.6874,  0.0041,\n",
            "         0.3688,  0.0803, -0.3926,  0.1542,  0.9745,  0.9964, -0.0441,  1.3347,\n",
            "         0.9979, -0.6335, -0.6228, -0.4884,  0.0603,  0.2396, -1.8518,  0.7598,\n",
            "        -0.3344,  1.3185, -1.1230, -0.3393,  0.5662, -0.9413, -0.8848, -0.0437,\n",
            "         0.6801, -2.2707,  0.9086,  0.4734, -0.9162, -0.4419, -1.0549,  0.5573,\n",
            "         0.8959,  1.1155,  0.7579, -0.0757,  0.2728, -0.1537,  1.6611, -0.1116,\n",
            "        -1.3691,  1.7932, -0.5748,  0.2225,  0.9484,  0.7074,  0.6335,  0.2828,\n",
            "         1.8269, -1.6033, -1.2066, -1.2179,  0.3279,  1.9410, -0.9790,  2.6600,\n",
            "        -0.8960,  0.2394,  0.6664, -0.0265, -0.3166, -0.0883, -0.2765, -0.8433,\n",
            "         0.3662, -0.0969,  1.2979, -0.0299,  2.0288, -0.1701,  1.4949, -1.7228,\n",
            "        -1.8391, -0.1865, -1.5721,  0.7458, -0.6971, -1.3039, -1.2821, -0.6436,\n",
            "         0.5215, -0.2449,  0.2638, -0.3168, -0.2467,  0.3660,  0.0377,  0.0836],\n",
            "       device='cuda:0', grad_fn=<SqueezeBackward1>)\n",
            "Word: 맛\n",
            "tensor([-1.0333, -1.5130,  0.3246,  0.9580,  0.3562, -0.6025,  0.6409,  0.2006,\n",
            "        -0.7134,  0.8628, -0.8370, -1.8478,  0.0634, -0.0338,  1.2939,  0.1846,\n",
            "         0.4090, -0.1104,  0.8545,  0.3245, -2.0645,  0.8020,  1.1249, -0.4771,\n",
            "        -1.7129,  0.4121,  1.1257,  0.6294,  0.9562, -0.8654, -0.1887, -0.6692,\n",
            "         0.1924,  0.3429,  1.4284, -1.2198,  0.4562, -0.2503, -0.1888,  0.4343,\n",
            "         0.3732,  1.0477, -1.7044, -1.2070,  1.0523, -0.3273,  1.7094, -0.1704,\n",
            "         2.0457,  0.2143, -0.9721, -0.6410,  0.1152,  1.3305,  0.1992, -0.3771,\n",
            "         0.0909, -0.5677,  0.2924,  0.4516,  1.2828,  0.0184, -0.5872, -0.8051,\n",
            "        -0.2947, -0.4020, -0.1472, -0.5775,  1.0569,  0.5015,  1.3641,  1.0575,\n",
            "         0.6761, -1.5349,  1.5547,  1.7441,  0.4141,  1.6069,  1.3962,  1.2262,\n",
            "         0.6462,  0.5078,  2.0002, -0.4984, -0.8516, -0.1267,  0.0602,  1.6866,\n",
            "        -0.6651, -0.6290,  1.2398,  2.1345,  1.2470, -1.5912, -0.6387, -0.9676,\n",
            "         0.4408, -0.3040,  1.1395,  1.4836,  0.0450,  1.2650,  0.5759,  2.4719,\n",
            "         1.6201, -0.0758,  0.1660,  0.2744, -0.1787,  0.7287,  1.2938,  0.3786,\n",
            "         0.2777, -0.0099,  0.2317,  1.4599, -0.0150, -0.0063, -1.1848, -1.0557,\n",
            "        -2.8884, -1.5346, -0.1915,  0.2199,  1.9791,  0.2442, -0.8700, -0.5367,\n",
            "        -0.7295, -0.0938,  1.3939,  0.0319, -0.4183,  0.7369,  1.3458, -1.0306,\n",
            "         2.0046, -1.4785,  0.3560,  0.9215,  0.5677, -0.7746, -0.3682,  0.5695,\n",
            "        -0.2448, -0.7190, -0.9785, -0.5975, -1.3347,  0.2440,  0.5046,  1.8745,\n",
            "         0.9274,  1.2461,  1.0474, -0.6010,  1.2789, -0.0334, -0.1662,  0.0078,\n",
            "         0.1633, -0.1996,  0.0724,  0.3983, -0.5731, -2.1461,  0.5593, -0.2440,\n",
            "        -1.2904, -0.4011,  0.4588, -0.6639, -1.2019,  0.2806, -2.0122,  0.3654,\n",
            "        -0.0053,  0.2997,  0.5900, -0.2760,  3.8407,  0.0324, -0.3724, -1.6214,\n",
            "        -0.0694,  0.9561, -0.3363,  1.0792,  1.1263,  0.9125, -1.1913, -0.5575,\n",
            "        -0.0563, -0.8503, -0.1801,  0.5159, -1.1004, -2.1290,  0.6773, -2.0182,\n",
            "        -0.7014, -3.4761,  1.3006, -1.4656,  0.9056, -1.0188,  1.0009,  1.3447,\n",
            "        -2.4469,  0.3290, -0.4382,  0.5977,  0.9824, -0.3137, -0.2532, -1.0928,\n",
            "         0.0935,  0.0589,  2.0051,  1.3381, -1.5072, -2.1120, -2.7980, -0.5708,\n",
            "         0.3595, -0.9734, -0.1629, -1.1072, -1.1089, -1.6048, -0.1370, -1.5441,\n",
            "         1.5555,  1.2435, -0.7881, -0.7718,  0.9520, -1.4487,  0.5781,  0.2799,\n",
            "         0.1728,  0.0755, -0.9710,  0.1578, -2.4061, -0.5050, -0.2843,  0.1716,\n",
            "        -0.5685, -1.2247,  0.5088,  0.4100,  0.9951,  0.5493, -0.5177,  0.6797],\n",
            "       device='cuda:0', grad_fn=<SqueezeBackward1>)\n",
            "Word: 서비스\n",
            "tensor([-8.2722e-01,  1.2097e+00, -5.3881e-01, -1.3166e+00,  6.2663e-01,\n",
            "         6.6332e-01,  2.4052e-02,  1.2600e+00, -3.6299e-01, -1.2239e+00,\n",
            "        -3.2673e-01,  8.0543e-02, -3.2873e-01, -3.7382e-01,  1.5320e+00,\n",
            "        -8.0858e-01,  6.9091e-01, -9.6957e-01,  8.2920e-01,  1.0076e+00,\n",
            "         1.3452e+00,  1.9158e+00, -1.3045e+00, -1.1874e+00,  3.8567e-01,\n",
            "         7.8220e-01,  5.5476e-01, -3.5626e-03, -2.9305e-01, -1.2804e+00,\n",
            "        -2.3713e-01, -2.3969e+00, -9.1596e-01,  7.2934e-01,  1.5170e-01,\n",
            "        -8.3929e-01, -4.7687e-01,  1.1325e+00, -1.6290e+00, -1.9702e+00,\n",
            "         1.9736e+00,  5.4616e-01,  9.0985e-01,  7.3948e-01,  6.4700e-01,\n",
            "         2.6821e-01,  1.0223e-01, -3.9638e-01,  1.5445e+00,  8.9712e-01,\n",
            "         1.4709e+00, -1.9214e-01, -3.4601e-01, -3.2429e-02, -1.5770e+00,\n",
            "         1.1276e+00, -6.2480e-01, -5.3759e-01, -3.0404e-01, -4.0689e-02,\n",
            "         1.3080e+00, -1.6123e+00, -2.6260e-01, -1.7435e-01, -1.6986e-01,\n",
            "        -2.4862e-01,  3.6759e-01,  7.3415e-01,  1.0707e+00,  9.0045e-01,\n",
            "         1.1475e-01, -2.2667e+00, -9.5239e-02,  1.5909e+00,  1.4161e+00,\n",
            "        -7.8198e-01, -6.2175e-01, -7.8317e-01,  4.4514e-01, -8.3386e-01,\n",
            "         3.3391e-01,  1.0000e+00, -9.7246e-01,  5.2388e-01, -1.2650e-01,\n",
            "         4.6082e-01, -1.1062e+00, -1.3193e-01,  1.0509e+00,  4.8826e-01,\n",
            "         6.7136e-01, -1.1764e+00, -1.0450e+00, -1.2641e+00,  1.1863e+00,\n",
            "         4.0615e-01,  1.4424e+00,  1.3157e+00,  2.6272e-01,  2.6221e-01,\n",
            "         1.4693e+00,  4.2851e-01, -9.5527e-01, -2.8479e-01, -5.5397e-01,\n",
            "         1.7902e-01,  1.0504e-01,  1.9513e+00, -7.0423e-01,  4.5206e-01,\n",
            "         1.9510e+00, -9.4359e-01,  1.0711e+00,  6.0341e-01,  1.6036e+00,\n",
            "         3.7018e-02,  1.1065e+00, -5.7779e-01, -1.3005e+00,  1.8759e+00,\n",
            "        -5.0037e-01, -2.7032e-01, -3.4442e-01, -1.7068e+00, -3.5254e-01,\n",
            "         1.1119e+00, -1.1592e+00,  4.7639e-01, -1.1924e+00, -1.5530e+00,\n",
            "         7.3784e-01,  6.4661e-01, -9.4454e-01, -1.7589e+00, -1.1731e+00,\n",
            "        -1.3765e-01, -4.9775e-01, -7.8229e-02,  4.5064e-01, -7.8991e-01,\n",
            "         4.3893e-02,  2.1765e+00,  5.1221e-01,  1.2153e+00, -1.9117e+00,\n",
            "         3.4288e-01, -6.9060e-01, -9.8034e-01, -8.5741e-01, -5.2322e-01,\n",
            "         1.2393e+00,  1.8651e+00,  4.6329e-02, -3.8730e-01, -8.3671e-02,\n",
            "         2.6835e-01, -8.2453e-01,  7.4914e-01,  7.9852e-01,  8.9911e-01,\n",
            "         4.4304e-01,  7.2998e-01, -1.6894e-01, -9.1216e-01,  4.0293e-01,\n",
            "         1.6706e+00,  8.3562e-01,  2.0119e-01, -1.4721e+00, -1.1007e+00,\n",
            "         1.1420e+00,  4.2763e-01, -9.7407e-01, -8.6232e-01,  3.4758e-02,\n",
            "        -1.8119e+00, -1.1468e+00, -1.2581e-01,  3.2499e-01, -7.1183e-01,\n",
            "        -8.1898e-01, -2.2512e-01, -6.8769e-01,  4.7290e-01,  1.7481e+00,\n",
            "         7.7075e-01, -3.8537e-01, -1.0026e+00,  9.6541e-01, -9.6505e-01,\n",
            "        -1.9112e+00, -4.5973e-01,  2.4709e+00, -4.5927e-01, -8.3640e-01,\n",
            "         3.9445e-01, -6.0445e-01,  5.7189e-02, -7.4323e-01,  7.4364e-01,\n",
            "         1.9998e+00, -5.1244e-01,  3.0409e-02,  6.1237e-01, -5.2081e-02,\n",
            "        -2.1806e-01,  7.8902e-01, -1.5606e+00,  1.8286e+00,  5.1855e-01,\n",
            "        -7.4163e-02, -6.5354e-01, -5.2700e-01, -5.9147e-01,  1.9775e-01,\n",
            "        -2.7315e-01,  2.1659e+00,  4.3868e-01,  2.2823e-03, -9.1234e-01,\n",
            "         1.1176e+00, -9.5191e-01,  4.8270e-01, -1.0641e+00, -6.9893e-01,\n",
            "        -5.6071e-01, -8.2859e-01,  7.5092e-01,  5.6176e-01, -1.0129e-01,\n",
            "        -1.1407e+00, -2.1985e+00, -1.7590e+00, -1.4140e+00, -5.8671e-01,\n",
            "         8.1216e-02, -1.7277e+00,  2.3136e-01, -5.1364e-01,  1.4649e+00,\n",
            "        -4.4293e-01, -1.3913e+00, -1.1939e+00, -2.7320e-01, -2.4558e+00,\n",
            "         4.9339e-02, -3.4196e-01,  8.9927e-01, -5.4719e-03, -1.0988e+00,\n",
            "        -4.7255e-01, -5.6543e-01,  1.0806e+00, -1.0103e-01,  3.7746e-01,\n",
            "         3.1478e-01], device='cuda:0', grad_fn=<SqueezeBackward1>)\n",
            "Word: 위생\n",
            "tensor([ 3.2844e-01,  8.5703e-01,  1.8692e-01, -1.1370e-01,  1.7620e+00,\n",
            "         3.0712e-02, -1.0065e+00,  4.1033e-01,  9.4527e-01, -5.7131e-01,\n",
            "        -4.3627e-01,  2.6283e-02,  6.1728e-01,  2.6740e-01, -6.4947e-01,\n",
            "         1.2090e+00, -4.8164e-01, -5.5543e-01, -8.7166e-01,  1.4353e+00,\n",
            "        -2.1824e+00,  3.8591e-01,  1.1718e+00,  3.2597e-02,  2.1189e-02,\n",
            "        -4.2499e-01,  8.3920e-01, -5.1869e-02,  8.1450e-01, -1.5098e+00,\n",
            "         1.5884e+00,  3.4890e-01, -1.3738e+00, -1.7193e+00, -8.9797e-01,\n",
            "         1.2759e+00,  5.8377e-01,  3.4711e-01, -1.2877e+00, -1.8221e-03,\n",
            "         5.3859e-01,  1.1289e+00,  6.6057e-01,  4.3328e-01,  4.0536e-01,\n",
            "         7.3548e-01, -1.8752e-01, -9.9991e-01, -5.4477e-01, -5.4084e-01,\n",
            "        -8.1858e-01, -1.8049e+00,  6.4847e-02, -1.8685e+00, -5.0463e-01,\n",
            "         6.4082e-01, -8.7241e-01,  2.7582e-01,  4.5089e-01,  1.0979e+00,\n",
            "         7.2842e-01,  6.9831e-01, -5.3688e-01,  1.6214e+00, -2.7971e-01,\n",
            "        -1.0389e+00, -9.7630e-01, -4.1060e-01, -1.2953e+00,  2.1464e-01,\n",
            "         1.7766e-01, -6.0815e-02,  1.2119e+00, -1.2516e+00, -9.3804e-01,\n",
            "         8.7974e-01,  1.9125e+00,  8.6355e-01, -8.6331e-01, -1.3046e+00,\n",
            "         1.1261e+00,  6.2197e-01, -1.2565e+00, -6.9068e-01,  5.8436e-01,\n",
            "         2.8599e-01,  1.1460e+00,  2.9434e-01,  4.9612e-02,  5.1617e-01,\n",
            "         2.4848e+00, -1.3869e+00,  6.0061e-01, -1.1779e-01,  6.3695e-01,\n",
            "        -1.4920e-01, -1.4309e+00,  1.0280e+00,  6.0034e-01, -1.1194e+00,\n",
            "         5.6029e-01, -1.1296e+00, -6.0623e-02,  1.2847e+00,  6.9841e-01,\n",
            "         1.9097e-01,  3.2890e-01,  7.1583e-01, -5.5741e-01, -1.3273e+00,\n",
            "         7.7638e-01, -1.6917e-01, -1.3105e+00,  6.9393e-01, -1.2147e+00,\n",
            "        -3.2675e-02,  4.0443e-01,  7.8014e-02,  1.4998e+00, -6.9545e-02,\n",
            "         3.8929e-01, -2.0814e-01,  5.0656e-01, -7.6165e-01,  5.5443e-01,\n",
            "        -9.5563e-02,  4.3816e-01, -6.8801e-01, -8.7031e-01, -1.4095e+00,\n",
            "        -3.6788e-01, -1.4302e+00,  1.6811e-01,  5.2929e-01, -1.1587e-01,\n",
            "        -2.9245e-01, -1.1889e+00,  1.1855e+00,  3.0337e-01,  3.5146e-02,\n",
            "        -8.3231e-02,  1.2059e+00, -1.3370e+00, -5.0869e-01, -8.1543e-01,\n",
            "         9.1810e-01,  6.6150e-01, -1.6207e+00, -9.5447e-01, -1.6666e-01,\n",
            "         1.5304e+00, -1.8077e+00, -4.9845e-01, -2.3572e-01,  1.8432e+00,\n",
            "        -9.9890e-01, -3.2886e-01, -8.8499e-02, -1.2794e+00,  1.4081e+00,\n",
            "         1.2021e+00,  2.0435e-01, -5.4906e-01,  8.6252e-01, -3.0289e-02,\n",
            "         7.3567e-01, -8.0905e-01, -1.4498e+00, -7.2392e-02, -1.2351e+00,\n",
            "         1.4558e+00, -4.9247e-01, -3.1839e-03, -1.5190e+00,  1.1842e+00,\n",
            "         1.9234e+00,  4.9854e-02,  4.6088e-01, -1.7897e+00,  1.3136e-01,\n",
            "         1.0287e+00, -7.4191e-01, -2.4800e-01, -1.4045e+00, -2.8611e-01,\n",
            "         1.1869e+00, -1.2356e+00,  8.2807e-01,  9.7567e-01,  9.2439e-01,\n",
            "        -7.6898e-01, -9.6968e-01, -3.1042e-01,  1.2238e+00,  1.1272e+00,\n",
            "        -6.5387e-01, -1.9696e-01,  4.2654e-01, -1.1797e-01,  3.4291e-01,\n",
            "        -8.0445e-01, -1.0776e+00,  5.5716e-02, -7.5542e-02,  8.7063e-01,\n",
            "        -8.2837e-01,  2.6180e-01,  1.1624e+00,  1.3588e+00,  1.0005e+00,\n",
            "         7.7233e-01, -4.5178e-01,  2.1123e+00,  2.3058e+00, -3.4059e-01,\n",
            "         1.0023e-01, -7.4302e-01,  1.5128e-01, -2.3820e-01, -5.3157e-01,\n",
            "        -8.1214e-01, -5.3230e-01, -4.0660e-01,  2.1866e-01,  1.4132e-01,\n",
            "         1.0356e+00, -3.3000e-01,  6.1193e-01, -2.7258e-01, -1.2673e-01,\n",
            "        -1.2683e+00, -6.8876e-01, -5.6075e-01, -2.8553e-02,  9.7148e-01,\n",
            "         3.0481e-01,  1.1905e-01,  2.6184e-01,  3.5442e-01,  3.8815e-01,\n",
            "         1.0408e+00,  5.1119e-02,  1.4528e+00, -1.1709e+00,  7.6964e-01,\n",
            "         1.4510e+00,  4.6946e-01,  8.2747e-01,  4.2540e-01, -2.3279e-01,\n",
            "         4.5373e-01,  5.6184e-01, -6.0818e-01,  1.0981e+00, -1.2669e-01,\n",
            "        -1.4866e+00], device='cuda:0', grad_fn=<SqueezeBackward1>)\n",
            "Word: 가격\n",
            "tensor([ 2.6345, -0.3542, -0.7099, -0.1641, -0.7442,  0.1544, -0.8852,  2.2536,\n",
            "         0.7047, -0.6668, -0.1216, -1.2467, -1.2725, -1.9787,  0.6297, -0.5374,\n",
            "         0.0105, -1.2331,  1.5081,  0.8329, -1.2354, -2.5313,  1.4588, -0.1958,\n",
            "        -0.9393, -0.8870,  0.8128, -0.2642, -0.2262, -0.1800, -0.1646,  1.6069,\n",
            "         0.3575, -0.0658, -0.7498,  0.8440, -0.6074, -1.0430, -0.0266,  1.1419,\n",
            "         0.4957,  0.7536,  1.1277, -0.7604,  0.2819,  0.4529, -0.1327, -1.8517,\n",
            "        -2.4613,  0.4998, -1.4403,  1.1691,  0.9899,  1.0178,  0.7302, -0.6854,\n",
            "         0.3362, -0.6753,  1.9598,  0.3898,  1.4337,  1.5988,  1.2881, -0.6386,\n",
            "         1.9067,  0.0480,  1.2868,  0.0205, -2.7758,  0.1031,  0.3195, -0.1080,\n",
            "        -0.9151, -0.2850, -1.0510,  0.3182,  0.4748, -0.6384, -0.4512,  0.1403,\n",
            "         1.3387,  0.7871,  0.8924,  0.3133,  0.7636, -0.0074, -0.8897, -0.3928,\n",
            "         0.6730,  1.5350,  0.3774, -0.0888,  0.1404, -0.5910, -0.2814, -1.1296,\n",
            "        -0.0255, -0.1645,  0.7345, -0.7393, -0.6005, -2.0141, -0.4555, -0.5019,\n",
            "         0.0770, -0.7700, -1.2771,  1.2561, -1.5565,  0.2716, -0.0915, -0.7378,\n",
            "        -0.2786,  0.7786, -0.8612, -0.6683, -0.5771,  0.8518,  0.8832, -0.1034,\n",
            "         0.2619,  0.3313, -1.6508, -0.9136, -0.9872,  1.9438,  0.0349,  0.5761,\n",
            "        -1.5153, -1.4169,  0.1150, -0.1639,  1.2516,  0.7931, -1.2943, -0.4154,\n",
            "         0.3279, -2.0912,  1.3757,  0.1312, -1.5310, -0.2916,  1.6374, -0.4057,\n",
            "         0.7059,  0.5669,  0.1852,  0.1721, -1.9049,  0.0922,  0.4403, -1.4001,\n",
            "         0.1726,  0.8199,  0.6875, -0.5639, -1.0684, -1.1825, -0.5303,  1.1857,\n",
            "        -0.1046,  1.0116, -0.1303,  0.6677,  0.1567,  1.4356,  0.1441, -0.2319,\n",
            "         1.4862,  0.9080,  0.3889, -1.1621,  0.2921, -0.7781,  0.9301,  0.1378,\n",
            "         1.4210, -0.4670,  0.6616,  0.2197, -1.3660,  0.9953, -0.1459,  0.4843,\n",
            "        -0.1815,  1.0544, -2.1859, -0.7611,  2.0385, -0.4772, -0.4630,  0.0513,\n",
            "        -0.1844, -0.7426, -0.3837, -0.2877, -0.3392, -0.8758,  0.2112,  0.5397,\n",
            "        -1.1425, -0.0412, -0.1584,  1.2429, -1.0688, -0.6766, -1.2751, -1.8389,\n",
            "        -1.2893, -0.8751, -0.2267, -1.8166,  0.4796, -0.0744,  1.2097,  0.4208,\n",
            "        -0.6609, -0.3394,  1.0586, -0.5885,  0.4976,  0.9560,  0.9686,  0.1314,\n",
            "         1.0462, -0.0465, -0.8655,  1.2532, -0.1852,  3.2357,  0.8403,  1.6838,\n",
            "         0.2243, -0.7660, -1.1270,  2.3897,  0.3291, -0.7791,  0.1682,  0.1310,\n",
            "         0.8422, -1.4280,  0.4611, -1.1333, -1.1365,  1.4134, -1.8489,  0.4370,\n",
            "        -0.3946,  0.3272, -2.2019,  0.1695, -1.0013, -2.0261, -0.2874, -1.3083],\n",
            "       device='cuda:0', grad_fn=<SqueezeBackward1>)\n"
          ]
        }
      ]
    },
    {
      "cell_type": "code",
      "metadata": {
        "id": "_l5cPRZZe-R4",
        "colab": {
          "base_uri": "https://localhost:8080/"
        },
        "outputId": "b05ab68c-500d-469a-98d2-5a42afe9331d"
      },
      "source": [
        "for word in test_words:\n",
        "  input_id = torch.LongTensor([w2i[word]]).to(device)\n",
        "  emb = skipgram.embedding(input_id)\n",
        "\n",
        "  print(f\"Word: {word}\")\n",
        "  print(max(emb.squeeze(0)))"
      ],
      "execution_count": 22,
      "outputs": [
        {
          "output_type": "stream",
          "name": "stdout",
          "text": [
            "Word: 음식\n",
            "tensor(2.6785, device='cuda:0', grad_fn=<UnbindBackward0>)\n",
            "Word: 맛\n",
            "tensor(2.5718, device='cuda:0', grad_fn=<UnbindBackward0>)\n",
            "Word: 서비스\n",
            "tensor(2.5082, device='cuda:0', grad_fn=<UnbindBackward0>)\n",
            "Word: 위생\n",
            "tensor(2.9003, device='cuda:0', grad_fn=<UnbindBackward0>)\n",
            "Word: 가격\n",
            "tensor(2.7177, device='cuda:0', grad_fn=<UnbindBackward0>)\n"
          ]
        }
      ]
    },
    {
      "cell_type": "code",
      "metadata": {
        "id": "T4mv-fDF29Ha",
        "colab": {
          "base_uri": "https://localhost:8080/"
        },
        "outputId": "f73ae94d-fccc-4981-e734-133428d70172"
      },
      "source": [
        "test_words"
      ],
      "execution_count": 23,
      "outputs": [
        {
          "output_type": "execute_result",
          "data": {
            "text/plain": [
              "['음식', '맛', '서비스', '위생', '가격']"
            ]
          },
          "metadata": {},
          "execution_count": 23
        }
      ]
    },
    {
      "cell_type": "code",
      "metadata": {
        "id": "6jYY7xYd4vIR",
        "colab": {
          "base_uri": "https://localhost:8080/",
          "height": 35
        },
        "outputId": "bb735dcd-085c-4093-865e-335358156a1b"
      },
      "source": [
        "i2w[25]"
      ],
      "execution_count": 24,
      "outputs": [
        {
          "output_type": "execute_result",
          "data": {
            "text/plain": [
              "'다시'"
            ],
            "application/vnd.google.colaboratory.intrinsic+json": {
              "type": "string"
            }
          },
          "metadata": {},
          "execution_count": 24
        }
      ]
    },
    {
      "cell_type": "code",
      "metadata": {
        "id": "1OBlu8O63CXx"
      },
      "source": [
        "def most_similar(word,top_k=5):\n",
        "  input_id = torch.LongTensor([w2i[word]]).to(device)\n",
        "  input_emb = skipgram.embedding(input_id)\n",
        "  score=torch.matmul(input_emb,skipgram.embedding.weight.transpose(1,0)).view(-1)\n",
        "\n",
        "  _,top_k_ids=torch.topk(score,top_k)\n",
        "\n",
        "  return [i2w[word_id.item()] for word_id in top_k_ids][1:]"
      ],
      "execution_count": 25,
      "outputs": []
    },
    {
      "cell_type": "code",
      "metadata": {
        "id": "c75HQoLn2_Ty",
        "colab": {
          "base_uri": "https://localhost:8080/"
        },
        "outputId": "8805d5c3-e3bf-41df-d5a4-49f6a3860262"
      },
      "source": [
        "most_similar(\"가격\")"
      ],
      "execution_count": 26,
      "outputs": [
        {
          "output_type": "execute_result",
          "data": {
            "text/plain": [
              "['만족스럽다', '되다', '너무', '!']"
            ]
          },
          "metadata": {},
          "execution_count": 26
        }
      ]
    },
    {
      "cell_type": "markdown",
      "metadata": {
        "id": "4YvYEGNr2IiR"
      },
      "source": [
        "## Word2Vec 시각화"
      ]
    },
    {
      "cell_type": "code",
      "metadata": {
        "id": "rcBVrabH2IiR"
      },
      "source": [
        "from sklearn.decomposition import PCA"
      ],
      "execution_count": 27,
      "outputs": []
    },
    {
      "cell_type": "code",
      "metadata": {
        "id": "c8XdtYVf8Ydg"
      },
      "source": [
        "import matplotlib.pyplot as plt\n",
        "#matplotlib 패키지 한글 깨짐 처리 시작\n",
        "plt.rc('font', family='NanumBarunGothic') \n",
        "#plt.rc('font', family='AppleGothic') #맥"
      ],
      "execution_count": 28,
      "outputs": []
    },
    {
      "cell_type": "code",
      "metadata": {
        "id": "hEypFpsw7K8q"
      },
      "source": [
        "pca=PCA(n_components=2)"
      ],
      "execution_count": 29,
      "outputs": []
    },
    {
      "cell_type": "code",
      "metadata": {
        "id": "2NAllD3y7NFo"
      },
      "source": [
        "pc_weight=pca.fit_transform(skipgram.embedding.weight.data.cpu().numpy())"
      ],
      "execution_count": 30,
      "outputs": []
    },
    {
      "cell_type": "code",
      "metadata": {
        "id": "8KKgYYTa7Uh3",
        "colab": {
          "base_uri": "https://localhost:8080/",
          "height": 927
        },
        "outputId": "b0d566ac-b226-4f0c-856a-749a2277efbd"
      },
      "source": [
        "plt.figure(figsize=(15,15))\n",
        "\n",
        "for word_id,(x_coordinate,y_coordinate) in enumerate(pc_weight):\n",
        "  plt.scatter(x_coordinate,y_coordinate,color=\"blue\")\n",
        "  plt.annotate(i2w[word_id], (x_coordinate, y_coordinate))"
      ],
      "execution_count": 31,
      "outputs": [
        {
          "output_type": "stream",
          "name": "stderr",
          "text": [
            "/usr/local/lib/python3.7/dist-packages/matplotlib/backends/backend_agg.py:214: RuntimeWarning: Glyph 8722 missing from current font.\n",
            "  font.set_text(s, 0.0, flags=flags)\n",
            "/usr/local/lib/python3.7/dist-packages/matplotlib/backends/backend_agg.py:183: RuntimeWarning: Glyph 8722 missing from current font.\n",
            "  font.set_text(s, 0, flags=flags)\n"
          ]
        },
        {
          "output_type": "display_data",
          "data": {
            "text/plain": [
              "<Figure size 1080x1080 with 1 Axes>"
            ],
            "image/png": "[encoded data removed]"
          },
          "metadata": {
            "needs_background": "light"
          }
        }
      ]
    }
  ]
}