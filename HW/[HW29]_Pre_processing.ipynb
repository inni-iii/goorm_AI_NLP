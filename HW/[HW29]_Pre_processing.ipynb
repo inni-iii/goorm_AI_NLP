{
  "nbformat": 4,
  "nbformat_minor": 0,
  "metadata": {
    "colab": {
      "name": "[HW29] Pre-processing.ipynb",
      "provenance": [],
      "collapsed_sections": []
    },
    "kernelspec": {
      "name": "python3",
      "display_name": "Python 3"
    },
    "language_info": {
      "name": "python"
    }
  },
  "cells": [
    {
      "cell_type": "markdown",
      "metadata": {
        "id": "d3jO2DcK01bz"
      },
      "source": [
        "# HW5: Pre-tokenization\n",
        "\n",
        "\n",
        "*   본 실습에서는 자연어 처리 데이터 전처리 과정에 필요한 다양한 module 을 사용해봅니다.\n",
        "\n",
        "\n",
        "> Reference: https://wikidocs.net/21703\n",
        "\n",
        "\n"
      ]
    },
    {
      "cell_type": "markdown",
      "metadata": {
        "id": "Lf5OcIO0RHxh"
      },
      "source": [
        "### Regular Expression"
      ]
    },
    {
      "cell_type": "code",
      "metadata": {
        "id": "k6s8155xRHHQ"
      },
      "source": [
        "import re"
      ],
      "execution_count": 1,
      "outputs": []
    },
    {
      "cell_type": "markdown",
      "metadata": {
        "id": "ehgcE7jaSu5z"
      },
      "source": [
        ". 기호"
      ]
    },
    {
      "cell_type": "code",
      "metadata": {
        "id": "aoEZ2tFGRrtC"
      },
      "source": [
        "# 임의의 한 개의 문자를 나타내는 . \n",
        "r = re.compile(\"a.c\")\n",
        "r.search(\"ab\")"
      ],
      "execution_count": 2,
      "outputs": []
    },
    {
      "cell_type": "code",
      "metadata": {
        "id": "s2G0d2haR0aH",
        "outputId": "306f1a51-04ef-4928-b0c2-d6103fe4352d",
        "colab": {
          "base_uri": "https://localhost:8080/"
        }
      },
      "source": [
        "r.search(\"abc\")"
      ],
      "execution_count": 3,
      "outputs": [
        {
          "output_type": "execute_result",
          "data": {
            "text/plain": [
              "<re.Match object; span=(0, 3), match='abc'>"
            ]
          },
          "metadata": {},
          "execution_count": 3
        }
      ]
    },
    {
      "cell_type": "markdown",
      "metadata": {
        "id": "LfqKEAr6SxjY"
      },
      "source": [
        "? 기호"
      ]
    },
    {
      "cell_type": "code",
      "metadata": {
        "id": "EHbrO-jjSDnT",
        "colab": {
          "base_uri": "https://localhost:8080/"
        },
        "outputId": "64e4374c-b0c0-4fcc-b3cf-0362f77f68b7"
      },
      "source": [
        "# ? 앞의 문자가 존재할 수도 있고, 존재하지 않을 수도 있는 경우\n",
        "r = re.compile(\"a?c\")\n",
        "r.search(\"bc\")"
      ],
      "execution_count": 4,
      "outputs": [
        {
          "output_type": "execute_result",
          "data": {
            "text/plain": [
              "<re.Match object; span=(1, 2), match='c'>"
            ]
          },
          "metadata": {},
          "execution_count": 4
        }
      ]
    },
    {
      "cell_type": "code",
      "metadata": {
        "id": "i7itXRsnSPbt",
        "colab": {
          "base_uri": "https://localhost:8080/"
        },
        "outputId": "3727bf03-1f26-4a90-b232-c4498cbc6b34"
      },
      "source": [
        "# 존재 하는 경우의 매칭\n",
        "r.search(\"ac\")"
      ],
      "execution_count": 5,
      "outputs": [
        {
          "output_type": "execute_result",
          "data": {
            "text/plain": [
              "<re.Match object; span=(0, 2), match='ac'>"
            ]
          },
          "metadata": {},
          "execution_count": 5
        }
      ]
    },
    {
      "cell_type": "code",
      "metadata": {
        "id": "x7QbSiGGSUAG",
        "colab": {
          "base_uri": "https://localhost:8080/"
        },
        "outputId": "37363c5f-0309-4b2e-e350-6402a8eba911"
      },
      "source": [
        "# 존재하지 않는 경우의 매칭\n",
        "r.search(\"abc\")"
      ],
      "execution_count": 6,
      "outputs": [
        {
          "output_type": "execute_result",
          "data": {
            "text/plain": [
              "<re.Match object; span=(2, 3), match='c'>"
            ]
          },
          "metadata": {},
          "execution_count": 6
        }
      ]
    },
    {
      "cell_type": "markdown",
      "metadata": {
        "id": "E-TvGvF0Sys8"
      },
      "source": [
        "\\* 기호"
      ]
    },
    {
      "cell_type": "code",
      "metadata": {
        "id": "v1xtvrwlSbkN"
      },
      "source": [
        "# * 은 바로 앞의 문자가 0개 이상일 경우를 나타냄.\n",
        "r = re.compile(\"ab*c\") # b 가 하나도 없거나, 여러 개인 경우\n",
        "r.search(\"a\")"
      ],
      "execution_count": 7,
      "outputs": []
    },
    {
      "cell_type": "code",
      "metadata": {
        "id": "XE-3Iu9WTIlx",
        "colab": {
          "base_uri": "https://localhost:8080/"
        },
        "outputId": "c8dfe9b8-015e-4599-bd1a-7ac2aa0122d8"
      },
      "source": [
        "r.search(\"ac\")"
      ],
      "execution_count": 8,
      "outputs": [
        {
          "output_type": "execute_result",
          "data": {
            "text/plain": [
              "<re.Match object; span=(0, 2), match='ac'>"
            ]
          },
          "metadata": {},
          "execution_count": 8
        }
      ]
    },
    {
      "cell_type": "code",
      "metadata": {
        "id": "F0SXuafEV2MK",
        "colab": {
          "base_uri": "https://localhost:8080/"
        },
        "outputId": "5af35607-4c2d-45bb-ddad-3b9a6c78e913"
      },
      "source": [
        "r.search(\"abc\")"
      ],
      "execution_count": 9,
      "outputs": [
        {
          "output_type": "execute_result",
          "data": {
            "text/plain": [
              "<re.Match object; span=(0, 3), match='abc'>"
            ]
          },
          "metadata": {},
          "execution_count": 9
        }
      ]
    },
    {
      "cell_type": "code",
      "metadata": {
        "id": "IfqYapkETEkB",
        "colab": {
          "base_uri": "https://localhost:8080/"
        },
        "outputId": "549d59c9-7f61-4c5d-ac2d-a40e27c80bc0"
      },
      "source": [
        "r.search(\"abbbbc\")"
      ],
      "execution_count": 10,
      "outputs": [
        {
          "output_type": "execute_result",
          "data": {
            "text/plain": [
              "<re.Match object; span=(0, 6), match='abbbbc'>"
            ]
          },
          "metadata": {},
          "execution_count": 10
        }
      ]
    },
    {
      "cell_type": "markdown",
      "metadata": {
        "id": "hHcfFwnzTSGX"
      },
      "source": [
        "\\+ 기호"
      ]
    },
    {
      "cell_type": "code",
      "metadata": {
        "id": "kVN6Fg81TUIX"
      },
      "source": [
        "# + 앞의 문자가 최소 1개 이상 있어야 함. \n",
        "r = re.compile(\"ab+c\")\n",
        "r.search(\"ac\")"
      ],
      "execution_count": 11,
      "outputs": []
    },
    {
      "cell_type": "code",
      "metadata": {
        "id": "J6QvtyK3WHRv",
        "colab": {
          "base_uri": "https://localhost:8080/"
        },
        "outputId": "0909778c-9454-4145-bac0-37208ffc6255"
      },
      "source": [
        "r.search(\"abc\")"
      ],
      "execution_count": 12,
      "outputs": [
        {
          "output_type": "execute_result",
          "data": {
            "text/plain": [
              "<re.Match object; span=(0, 3), match='abc'>"
            ]
          },
          "metadata": {},
          "execution_count": 12
        }
      ]
    },
    {
      "cell_type": "code",
      "metadata": {
        "id": "Ir5dEOoLWHM1",
        "colab": {
          "base_uri": "https://localhost:8080/"
        },
        "outputId": "714e464f-0492-43ad-e527-422a477040ab"
      },
      "source": [
        "r.search(\"abbbc\")"
      ],
      "execution_count": 13,
      "outputs": [
        {
          "output_type": "execute_result",
          "data": {
            "text/plain": [
              "<re.Match object; span=(0, 5), match='abbbc'>"
            ]
          },
          "metadata": {},
          "execution_count": 13
        }
      ]
    },
    {
      "cell_type": "markdown",
      "metadata": {
        "id": "u0550AuMWLYU"
      },
      "source": [
        "^ 기호"
      ]
    },
    {
      "cell_type": "code",
      "metadata": {
        "id": "hJpo7oGtWHFz"
      },
      "source": [
        "# ^ 시작되는 글자를 지정함. \n",
        "r = re.compile(\"^a\")\n",
        "r.search(\"bbc\")"
      ],
      "execution_count": 14,
      "outputs": []
    },
    {
      "cell_type": "code",
      "metadata": {
        "id": "H5LEsCPrWHBW",
        "colab": {
          "base_uri": "https://localhost:8080/"
        },
        "outputId": "b76c16e7-2a81-43c8-95d0-d752b08692b1"
      },
      "source": [
        "r.search(\"ab\")"
      ],
      "execution_count": 15,
      "outputs": [
        {
          "output_type": "execute_result",
          "data": {
            "text/plain": [
              "<re.Match object; span=(0, 1), match='a'>"
            ]
          },
          "metadata": {},
          "execution_count": 15
        }
      ]
    },
    {
      "cell_type": "markdown",
      "metadata": {
        "id": "VCHfZhfXWv6w"
      },
      "source": [
        "{숫자} 기호"
      ]
    },
    {
      "cell_type": "code",
      "metadata": {
        "id": "V6V1jNMaWvRQ"
      },
      "source": [
        "# 앞 문자를 해당 숫자만큼 반복해야 함.\n",
        "r = re.compile(\"ab{2}c\")\n",
        "r.search(\"ac\")"
      ],
      "execution_count": 16,
      "outputs": []
    },
    {
      "cell_type": "code",
      "metadata": {
        "id": "m1NnGVX_XDNq"
      },
      "source": [
        "r.search(\"abc\")"
      ],
      "execution_count": 17,
      "outputs": []
    },
    {
      "cell_type": "code",
      "metadata": {
        "id": "fCdJVMlUXDJo",
        "colab": {
          "base_uri": "https://localhost:8080/"
        },
        "outputId": "a935d23c-4305-4930-a736-a96a3de3f48f"
      },
      "source": [
        "r.search(\"abbc\")"
      ],
      "execution_count": 18,
      "outputs": [
        {
          "output_type": "execute_result",
          "data": {
            "text/plain": [
              "<re.Match object; span=(0, 4), match='abbc'>"
            ]
          },
          "metadata": {},
          "execution_count": 18
        }
      ]
    },
    {
      "cell_type": "markdown",
      "metadata": {
        "id": "gAV5hiNpXIiR"
      },
      "source": [
        "{숫자1, 숫자2} 기호"
      ]
    },
    {
      "cell_type": "code",
      "metadata": {
        "id": "RAztm80IXDGG"
      },
      "source": [
        "# 앞 문자를 숫자1 이상 숫자2 이하 만큼 반복해야 함.\n",
        "r = re.compile(\"ab{2,8}c\")\n",
        "r.search(\"ac\")"
      ],
      "execution_count": 19,
      "outputs": []
    },
    {
      "cell_type": "code",
      "metadata": {
        "id": "NFlnwaqfXDBI"
      },
      "source": [
        "r.search(\"abc\")"
      ],
      "execution_count": 20,
      "outputs": []
    },
    {
      "cell_type": "code",
      "metadata": {
        "id": "7zMN8nGoXbww",
        "colab": {
          "base_uri": "https://localhost:8080/"
        },
        "outputId": "e73fc30b-a3d8-496b-ecab-fd7b662d4f20"
      },
      "source": [
        "r.search(\"abbc\")"
      ],
      "execution_count": 21,
      "outputs": [
        {
          "output_type": "execute_result",
          "data": {
            "text/plain": [
              "<re.Match object; span=(0, 4), match='abbc'>"
            ]
          },
          "metadata": {},
          "execution_count": 21
        }
      ]
    },
    {
      "cell_type": "code",
      "metadata": {
        "id": "fDSTC0LqXdq1",
        "colab": {
          "base_uri": "https://localhost:8080/"
        },
        "outputId": "2e4a44eb-b9a0-4d87-928a-f4efdee2bcd2"
      },
      "source": [
        "r.search(\"abbbbbbbbc\")"
      ],
      "execution_count": 22,
      "outputs": [
        {
          "output_type": "execute_result",
          "data": {
            "text/plain": [
              "<re.Match object; span=(0, 10), match='abbbbbbbbc'>"
            ]
          },
          "metadata": {},
          "execution_count": 22
        }
      ]
    },
    {
      "cell_type": "code",
      "metadata": {
        "id": "XcQSM0dBXf8G"
      },
      "source": [
        "r.search(\"abbbbbbbbbc\")"
      ],
      "execution_count": 23,
      "outputs": []
    },
    {
      "cell_type": "markdown",
      "metadata": {
        "id": "1ar2VQCcXkXw"
      },
      "source": [
        "{숫자,} 기호"
      ]
    },
    {
      "cell_type": "code",
      "metadata": {
        "id": "zuzOi9OFXjpV"
      },
      "source": [
        "# 앞 문자를 숫자 이상 만큼 반복해야 함.\n",
        "r = re.compile(\"a{2,}bc\")\n",
        "r.search(\"abc\")"
      ],
      "execution_count": 24,
      "outputs": []
    },
    {
      "cell_type": "code",
      "metadata": {
        "id": "Zar_YxUeaCWQ",
        "colab": {
          "base_uri": "https://localhost:8080/"
        },
        "outputId": "269dc0ac-c4e4-4769-bd34-278aeaa5c8e0"
      },
      "source": [
        "r.search(\"aabc\")"
      ],
      "execution_count": 25,
      "outputs": [
        {
          "output_type": "execute_result",
          "data": {
            "text/plain": [
              "<re.Match object; span=(0, 4), match='aabc'>"
            ]
          },
          "metadata": {},
          "execution_count": 25
        }
      ]
    },
    {
      "cell_type": "markdown",
      "metadata": {
        "id": "W-FZGAemaGI0"
      },
      "source": [
        "[ ] 기호"
      ]
    },
    {
      "cell_type": "code",
      "metadata": {
        "id": "2gujcbK2aItx"
      },
      "source": [
        "# [] 안에 있는 문자들 중 한 개의 문자와 매치\n",
        "# 범위를 지정할 수도 있음. 예) a-z, A-Z, 0-9\n",
        "r = re.compile('[abc]')\n",
        "r.search(\"dd\")"
      ],
      "execution_count": 26,
      "outputs": []
    },
    {
      "cell_type": "code",
      "metadata": {
        "id": "_D0ouzK8af8b",
        "colab": {
          "base_uri": "https://localhost:8080/"
        },
        "outputId": "67acf5e7-74e8-4451-d569-dfa5f4fbb782"
      },
      "source": [
        "r.search(\"ad\")"
      ],
      "execution_count": 27,
      "outputs": [
        {
          "output_type": "execute_result",
          "data": {
            "text/plain": [
              "<re.Match object; span=(0, 1), match='a'>"
            ]
          },
          "metadata": {},
          "execution_count": 27
        }
      ]
    },
    {
      "cell_type": "code",
      "metadata": {
        "id": "KhJFKGcjaiUe",
        "colab": {
          "base_uri": "https://localhost:8080/"
        },
        "outputId": "8abcda50-cca4-4c8f-b683-477c38747cd5"
      },
      "source": [
        "r.search(\"adb\")"
      ],
      "execution_count": 28,
      "outputs": [
        {
          "output_type": "execute_result",
          "data": {
            "text/plain": [
              "<re.Match object; span=(0, 1), match='a'>"
            ]
          },
          "metadata": {},
          "execution_count": 28
        }
      ]
    },
    {
      "cell_type": "markdown",
      "metadata": {
        "id": "gOl5g4NYatBB"
      },
      "source": [
        "[^문자] 기호"
      ]
    },
    {
      "cell_type": "code",
      "metadata": {
        "id": "TVztqwGaapM-"
      },
      "source": [
        "# ^기호 뒤에 붙은 문자들을 제외한 모든 문자를 매치함.\n",
        "r = re.compile(\"[^abc]\") # abc 제외 모든 문자\n",
        "r.search(\"ab\")"
      ],
      "execution_count": 29,
      "outputs": []
    },
    {
      "cell_type": "code",
      "metadata": {
        "id": "u_8vC9IybGMI",
        "colab": {
          "base_uri": "https://localhost:8080/"
        },
        "outputId": "d2fb52a3-8ad3-4bd2-99e0-a0109d41bfd3"
      },
      "source": [
        "r.search(\"abcd\")"
      ],
      "execution_count": 30,
      "outputs": [
        {
          "output_type": "execute_result",
          "data": {
            "text/plain": [
              "<re.Match object; span=(3, 4), match='d'>"
            ]
          },
          "metadata": {},
          "execution_count": 30
        }
      ]
    },
    {
      "cell_type": "markdown",
      "metadata": {
        "id": "2t9pTu-81BQk"
      },
      "source": [
        "### KoNLPy"
      ]
    },
    {
      "cell_type": "code",
      "metadata": {
        "id": "KX0tqj-r1xm8"
      },
      "source": [
        "!pip install konlpy"
      ],
      "execution_count": null,
      "outputs": []
    },
    {
      "cell_type": "markdown",
      "metadata": {
        "id": "ngUBX6iA1KCk"
      },
      "source": [
        "한나눔(Hannanum)"
      ]
    },
    {
      "cell_type": "code",
      "metadata": {
        "id": "TCubXxCT0d5T",
        "colab": {
          "base_uri": "https://localhost:8080/"
        },
        "outputId": "0a2dba4d-3e21-4757-8fac-81505a9f1f2a"
      },
      "source": [
        "from konlpy.tag import Hannanum\n",
        "hannanum = Hannanum()\n",
        "text = '환영합니다! 자연어 처리 수업은 재미있게 듣고 계신가요?'\n",
        "print(hannanum.morphs(text))  # Parse phrase to morphemes\n",
        "print(hannanum.nouns(text))   # Noun extractors\n",
        "print(hannanum.pos(text))     # POS tagger"
      ],
      "execution_count": 32,
      "outputs": [
        {
          "output_type": "stream",
          "name": "stdout",
          "text": [
            "['환영', '하', 'ㅂ니다', '!', '자연어', '처리', '수업', '은', '재미있', '게', '듣', '고', '계시', 'ㄴ가', '요', '?']\n",
            "['환영', '자연어', '처리', '수업']\n",
            "[('환영', 'N'), ('하', 'X'), ('ㅂ니다', 'E'), ('!', 'S'), ('자연어', 'N'), ('처리', 'N'), ('수업', 'N'), ('은', 'J'), ('재미있', 'P'), ('게', 'E'), ('듣', 'P'), ('고', 'E'), ('계시', 'P'), ('ㄴ가', 'E'), ('요', 'J'), ('?', 'S')]\n"
          ]
        }
      ]
    },
    {
      "cell_type": "code",
      "metadata": {
        "id": "S0eD1CVr1QuS",
        "colab": {
          "base_uri": "https://localhost:8080/"
        },
        "outputId": "f7303362-e86f-4406-f8cd-a4c41f531c0a"
      },
      "source": [
        "from konlpy.tag import Kkma\n",
        "kkma = Kkma()\n",
        "text = '환영합니다! 자연어 처리 수업은 재미있게 듣고 계신가요?'\n",
        "print(kkma.morphs(text))  # Parse phrase to morphemes\n",
        "print(kkma.nouns(text))   # Noun extractors\n",
        "print(kkma.pos(text))     # POS tagger"
      ],
      "execution_count": 33,
      "outputs": [
        {
          "output_type": "stream",
          "name": "stdout",
          "text": [
            "['환영', '하', 'ㅂ니다', '!', '자연어', '처리', '수업', '은', '재미있', '게', '듣', '고', '계시', 'ㄴ가요', '?']\n",
            "['환영', '자연어', '처리', '수업']\n",
            "[('환영', 'NNG'), ('하', 'XSV'), ('ㅂ니다', 'EFN'), ('!', 'SF'), ('자연어', 'NNG'), ('처리', 'NNG'), ('수업', 'NNG'), ('은', 'JX'), ('재미있', 'VA'), ('게', 'ECD'), ('듣', 'VV'), ('고', 'ECE'), ('계시', 'VXA'), ('ㄴ가요', 'EFQ'), ('?', 'SF')]\n"
          ]
        }
      ]
    },
    {
      "cell_type": "markdown",
      "metadata": {
        "id": "LtqXc97dOm2c"
      },
      "source": [
        "### Khaiii"
      ]
    },
    {
      "cell_type": "code",
      "metadata": {
        "id": "O2mQ7tf6O02Y"
      },
      "source": [
        "!git clone https://github.com/kakao/khaiii.git\n",
        "!pip install cmake\n",
        "!mkdir build\n",
        "!cd build && cmake /content/khaiii\n",
        "!cd /content/build/ && make all\n",
        "!cd /content/build/ && make resource\n",
        "!cd /content/build && make install\n",
        "!cd /content/build && make package_python\n",
        "!pip install /content/build/package_python"
      ],
      "execution_count": null,
      "outputs": []
    },
    {
      "cell_type": "code",
      "metadata": {
        "id": "oQmkykw_OpSU"
      },
      "source": [
        "from khaiii import KhaiiiApi\n",
        "khaiiApi = KhaiiiApi()"
      ],
      "execution_count": 35,
      "outputs": []
    },
    {
      "cell_type": "code",
      "metadata": {
        "id": "cl0W3gQVOxpH",
        "colab": {
          "base_uri": "https://localhost:8080/"
        },
        "outputId": "d0bc2188-b292-49a9-9463-84c07f96ca5d"
      },
      "source": [
        "tokenized = khaiiApi.analyze('구름 자연어 처리 전문가 양성 과정 1기에 오신 여러분을 환영합니다!')\n",
        "tokens = []\n",
        "for word in tokenized:\n",
        "    tokens.extend([str(m).split('/')[0] for m in word.morphs])\n",
        "\n",
        "print(tokens)"
      ],
      "execution_count": 36,
      "outputs": [
        {
          "output_type": "stream",
          "name": "stdout",
          "text": [
            "['구름', '자연어', '처리', '전문가', '양성', '과정', '1', '기', '에', '오', '시', 'ㄴ', '여러분', '을', '환영', '하', 'ㅂ니다', '!']\n"
          ]
        }
      ]
    },
    {
      "cell_type": "markdown",
      "metadata": {
        "id": "4fY328Gu6qy5"
      },
      "source": [
        "### PyKoSpacing"
      ]
    },
    {
      "cell_type": "code",
      "metadata": {
        "id": "qLwdPupS5ifF"
      },
      "source": [
        "!pip install git+https://github.com/haven-jeon/PyKoSpacing.git"
      ],
      "execution_count": null,
      "outputs": []
    },
    {
      "cell_type": "code",
      "metadata": {
        "id": "U-XKh-nW6puT"
      },
      "source": [
        "sent = '구름 자연어 처리 전문가 양성 과정 1기에 오신 여러분을 환영합니다!'"
      ],
      "execution_count": 38,
      "outputs": []
    },
    {
      "cell_type": "code",
      "metadata": {
        "id": "59Rjq1Gv7Kjv",
        "colab": {
          "base_uri": "https://localhost:8080/"
        },
        "outputId": "3da9fa1c-d7c3-48cb-8702-76eb398d06df"
      },
      "source": [
        "new_sent = sent.replace(\" \", '') # 띄어쓰기가 없는 문장 임의로 만들기\n",
        "print(new_sent)"
      ],
      "execution_count": 39,
      "outputs": [
        {
          "output_type": "stream",
          "name": "stdout",
          "text": [
            "구름자연어처리전문가양성과정1기에오신여러분을환영합니다!\n"
          ]
        }
      ]
    },
    {
      "cell_type": "code",
      "metadata": {
        "id": "iT-7fIvW7Lm8",
        "colab": {
          "base_uri": "https://localhost:8080/"
        },
        "outputId": "b8f279e6-2f3e-464b-c701-14ad3b85a78c"
      },
      "source": [
        "from pykospacing import Spacing\n",
        "spacing = Spacing()\n",
        "kospacing_sent = spacing(new_sent) \n",
        "\n",
        "print('띄어쓰기가 없는 문장 :\\n', new_sent) \n",
        "print('정답 문장:\\n', sent) \n",
        "print('띄어쓰기 교정 후:\\n', kospacing_sent)"
      ],
      "execution_count": 40,
      "outputs": [
        {
          "output_type": "stream",
          "name": "stdout",
          "text": [
            "띄어쓰기가 없는 문장 :\n",
            " 구름자연어처리전문가양성과정1기에오신여러분을환영합니다!\n",
            "정답 문장:\n",
            " 구름 자연어 처리 전문가 양성 과정 1기에 오신 여러분을 환영합니다!\n",
            "띄어쓰기 교정 후:\n",
            " 구름자연어 처리 전문가 양성과정 1기에 오신 여러분을 환영합니다!\n"
          ]
        }
      ]
    },
    {
      "cell_type": "markdown",
      "metadata": {
        "id": "U4Isiy1r98OT"
      },
      "source": [
        "### Py-Hanspell"
      ]
    },
    {
      "cell_type": "code",
      "metadata": {
        "id": "a6grkKkX7NiI"
      },
      "source": [
        "!pip install git+https://github.com/ssut/py-hanspell.git"
      ],
      "execution_count": null,
      "outputs": []
    },
    {
      "cell_type": "code",
      "metadata": {
        "id": "VFZk-TYx-AgN",
        "colab": {
          "base_uri": "https://localhost:8080/"
        },
        "outputId": "2fd42063-46b3-4cc5-91cd-06fedf9c4905"
      },
      "source": [
        "from hanspell import spell_checker\n",
        "\n",
        "sent = \"맞춤법 틀리면 외 않되? 쓰고싶은대로쓰면돼지 \"\n",
        "spelled_sent = spell_checker.check(sent)\n",
        "\n",
        "hanspell_sent = spelled_sent.checked\n",
        "print(hanspell_sent)"
      ],
      "execution_count": 42,
      "outputs": [
        {
          "output_type": "stream",
          "name": "stdout",
          "text": [
            "맞춤법 틀리면 왜 안돼? 쓰고 싶은 대로 쓰면 되지\n"
          ]
        }
      ]
    },
    {
      "cell_type": "markdown",
      "metadata": {
        "id": "4napObNevG1U"
      },
      "source": [
        "\n",
        "### Crawling\n",
        "\n",
        "네이버 영화 감상평을 크롤링하고 정제해봅시다.\n",
        "Crawling 파트 강의를 들으면서 함께 실습을 진행하시면 됩니다."
      ]
    },
    {
      "cell_type": "code",
      "metadata": {
        "id": "JmRVS1U-Uw1d"
      },
      "source": [
        "from urllib.request import urlopen # 웹서버에 접근 모듈 \n",
        "from bs4 import BeautifulSoup # 웹페이지 내용구조 분석 모듈"
      ],
      "execution_count": 43,
      "outputs": []
    },
    {
      "cell_type": "code",
      "metadata": {
        "id": "ud5KafK7vLaY"
      },
      "source": [
        "url='https://movie.naver.com/movie/bi/mi/pointWriteFormList.naver?code=187348&type=after&isActualPointWriteExecute=false&isMileageSubscriptionAlready=false&isMileageSubscriptionReject=false&page=1'\n",
        "html=urlopen(url)\n",
        "html_source = BeautifulSoup(html,'html.parser',from_encoding='utf-8') # 댓글 페이지를 utf-8형식으로 html 소스가져오기"
      ],
      "execution_count": 44,
      "outputs": []
    },
    {
      "cell_type": "code",
      "metadata": {
        "id": "Efo0xpKuvaCo",
        "colab": {
          "base_uri": "https://localhost:8080/"
        },
        "outputId": "a0d1d1a0-c236-4c88-ee1f-2317a15d00d3"
      },
      "source": [
        "print(html_source)"
      ],
      "execution_count": 45,
      "outputs": [
        {
          "output_type": "stream",
          "name": "stdout",
          "text": [
            "\n",
            "<!DOCTYPE html>\n",
            "\n",
            "<html lang=\"ko\">\n",
            "<head>\n",
            "<meta charset=\"utf-8\"/>\n",
            "<meta content=\"IE=edge\" http-equiv=\"X-UA-Compatible\"/>\n",
            "<title>네이버 영화</title>\n",
            "<link href=\"https://ssl.pstatic.net/static/m/movie/icons/naver_movie_favicon.ico\" rel=\"shortcut icon\" type=\"image/x-icon\"/>\n",
            "<link href=\"/css/common.css?20220613154406\" rel=\"stylesheet\" type=\"text/css\">\n",
            "<link href=\"/css/movie_tablet.css?20220613154406\" rel=\"stylesheet\" type=\"text/css\"/>\n",
            "<link href=\"/css/movie_end.css?20220613154406\" rel=\"stylesheet\" type=\"text/css\"/>\n",
            "<script src=\"/js/deploy/movie.all.js?20220613154406\" type=\"text/javascript\"></script>\n",
            "</link></head>\n",
            "<body>\n",
            "<!-- content -->\n",
            "<input id=\"movieCode\" name=\"movieCode\" type=\"hidden\" value=\"187348\"/>\n",
            "<input id=\"onlyActualPointYn\" name=\"onlyActualPointYn\" type=\"hidden\" value=\"N\"/>\n",
            "<input id=\"includeSpoilerYn\" name=\"includeSpoilerYn\" type=\"hidden\" value=\"N\"/>\n",
            "<input id=\"order\" name=\"order\" type=\"hidden\" value=\"sympathyScore\"/>\n",
            "<input id=\"page\" name=\"page\" type=\"hidden\" value=\"1\"/>\n",
            "<div class=\"ifr_area basic_ifr\">\n",
            "<div class=\"input_netizen \">\n",
            "<!-- [D] 관람객 평점 작성 완료 -->\n",
            "<div class=\"ly_viewer\" id=\"actualPointWriteExecuteLayer\" style=\"display:none\">\n",
            "<h4>관람객 평점 작성 완료 안내</h4>\n",
            "<p>관람객 평점이 등록되었습니다.<br/><em>네이버페이 포인트 500원</em>이 적립되었습니다.<br/><em>7일 이후</em> 확인 가능합니다.</p>\n",
            "<p>(평점 삭제시, 적립된 포인트는 회수됩니다.)</p>\n",
            "<div class=\"btn\">\n",
            "<a class=\"ok\" href=\"#\" id=\"actualPointWriteExecuteLayerOkButton\">확인</a>\n",
            "<a class=\"close\" href=\"#\" id=\"actualPointWriteExecuteLayerCloseButton\" title=\"닫기\">관람객 평점 작성 완료 안내 레이어 닫기</a>\n",
            "</div>\n",
            "</div>\n",
            "<!-- //관람객 평점 작성 완료 -->\n",
            "<!-- [D] 관람객 평점 작성 완료2 -->\n",
            "<div class=\"ly_viewer\" id=\"pointWriteExecuteLayer\" style=\"display:none\">\n",
            "<h4>관람객 평점 작성 완료 안내</h4>\n",
            "<p class=\"msg1\">관람객 평점이 등록되었습니다.</p>\n",
            "<div class=\"btn\">\n",
            "<a class=\"ok\" href=\"#\" id=\"pointWriteExecuteLayerOkButton\">확인</a>\n",
            "<a class=\"close\" href=\"#\" id=\"pointWriteExecuteLayerCloseButton\" title=\"닫기\">관람객 평점 작성 완료 안내 레이어 닫기</a>\n",
            "</div>\n",
            "</div>\n",
            "<!-- //관람객 평점 작성 완료2 -->\n",
            "<div class=\"score_total\">\n",
            "<strong class=\"total\">관람객 평점 <em>9,316</em>건<button class=\"btn_review\" id=\"open-form-btn\">내 평점 등록</button></strong>\n",
            "</div>\n",
            "<div class=\"top_behavior\" id=\"orderCheckbox\">\n",
            "<ul class=\"sorting_list\">\n",
            "<li class=\"on\"><a href=\"#\" onclick=\"parent.clickcr(this, 'ara.bysym', '', '', event); dislplayOrder('sympathyScore');\">공감순</a></li>\n",
            "<li><a href=\"#\" onclick=\"parent.clickcr(this, 'ara.byrct', '', '', event); dislplayOrder('newest');\">최신순</a></li>\n",
            "<li><a href=\"#\" onclick=\"parent.clickcr(this, 'ara.high', '', '', event); dislplayOrder('highest');\">평점 높은 순</a></li>\n",
            "<li><a href=\"#\" onclick=\"parent.clickcr(this, 'ara.low', '', '', event); dislplayOrder('lowest');\">평점 낮은 순</a></li>\n",
            "</ul>\n",
            "<ul class=\"quarter_mode\">\n",
            "<li>\n",
            "<input class=\"blind \" id=\"spoilerYnCheckBox\" name=\"spilerViewer\" onclick=\"parent.clickcr(this,'','','',event); return false;\" title=\"스포일러 보기\" type=\"checkbox\"/>\n",
            "<label class=\"label_viewer\" for=\"spoilerYnCheckBox\" id=\"spoilerYnLable\">스포일러 보기</label>\n",
            "</li>\n",
            "<li>\n",
            "<input class=\"blind \" id=\"actualYnCheckBox\" name=\"viewer\" onclick=\"parent.clickcr(this,'ura.mgs','','',event); return false;\" title=\"관람객 평점만 보기\" type=\"checkbox\"/>\n",
            "<label class=\"label_viewer\" for=\"actualYnCheckBox\" id=\"actualYnLable\">관람객 평점만 보기</label>\n",
            "<a class=\"help _actualPointHelp\" href=\"#\" id=\"actualPointHelpButton\" title=\"도움말\">관람객 평점만 보기 도움말</a>\n",
            "<div class=\"ly_help _actualPointHelp\" id=\"actualPointHelp\" style=\"display:none\">\n",
            "<h5>관람객평점만 보기 안내 레이어</h5>\n",
            "<div class=\"ly_cont _actualPointHelp\">\n",
            "<p>네이버 영화에서 예매하신 고객님들이<br/> 영화 관람 후 등록해주신 평점입니다.</p>\n",
            "</div>\n",
            "<button class=\"btn_close _actualPointHelp\" id=\"actualPointHelpCloseButton\" title=\"닫기\" type=\"button\"><span class=\"blind\">관람객 평점만 보기 안내 레이어 닫기</span></button>\n",
            "<span class=\"arr _actualPointHelp\"></span>\n",
            "</div>\n",
            "</li>\n",
            "</ul>\n",
            "</div>\n",
            "<div class=\"score_result\">\n",
            "<ul>\n",
            "<li>\n",
            "<div class=\"star_score\">\n",
            "<span class=\"st_off\"><span class=\"st_on\" style=\"width:60.0%\"></span></span><em>6</em>\n",
            "</div>\n",
            "<div class=\"score_reple\">\n",
            "<p>\n",
            "<span class=\"ico_viewer\">관람객</span>\n",
            "<!-- 스포일러 컨텐츠로 처리되는지 여부 -->\n",
            "<span id=\"_filtered_ment_0\">\r\n",
            "\t\t\t\t\t\t\t\t\t\t\t\t\t\t\r\n",
            "\t\t\t\t\t\t\t\t\t\t\t\t\t\t\t\r\n",
            "\t\t\t\t\t\t\t\t\t\t\t\t\t\t\t\r\n",
            "\t\t\t\t\t\t\t\t\t\t\t\t\t\t\t\t명품 브랜드라 믿고 샀는데 안에 made in china가 적혀있었다 \r\n",
            "\t\t\t\t\t\t\t\t\t\t\t\t\t\t\t\r\n",
            "\t\t\t\t\t\t\t\t\t\t\t\t\t\t\r\n",
            "\t\t\t\t\t\t\t\t\t\t\t\t\t\t\r\n",
            "\t\t\t\t\t\t\t\t\t\t\t\t\t</span>\n",
            "</p>\n",
            "<dl>\n",
            "<dt>\n",
            "<em>\n",
            "<a href=\"#\" onclick=\"javascript:showPointListByNid(17683851, 'after');parent.clickcr(this, 'ara.uid', '', '', event); return false;\" target=\"_top\">\n",
            "<span>유한솔(u_hs****)</span>\n",
            "</a>\n",
            "</em>\n",
            "<em>2021.09.01 23:12</em>\n",
            "</dt>\n",
            "<dd>\n",
            "<a class=\"go_report2\" href=\"#\" onclick=\"parent.clickcr(this, 'ara.report', '', '', event); common.report('false','u_hs****', 'GraqRegrWKfhDyfI3GaOJ3NS4YsA6/jJcN+YJJ4t+BE=', '17683851', 'point_after', false);return false;\"><em>신고</em></a>\n",
            "</dd>\n",
            "</dl>\n",
            "</div>\n",
            "<div class=\"btn_area\">\n",
            "<a class=\"_sympathyButton\" href=\"#\" onclick=\"parent.clickcr(this, 'ara.sym', '', '', event);\">\n",
            "<span class=\"ico_up\"></span>\n",
            "<span class=\"blind\">공감</span>\n",
            "<strong class=\"sympathy_17683851\">3685</strong>\n",
            "</a>\n",
            "<a class=\"_notSympathyButton\" href=\"#\" onclick=\"parent.clickcr(this, 'ara.opp', '', '', event);\">\n",
            "<span class=\"ico_down\"></span>\n",
            "<span class=\"blind\">비공감</span>\n",
            "<strong class=\"notSympathy_17683851\">1020</strong>\n",
            "</a>\n",
            "</div>\n",
            "</li>\n",
            "<li>\n",
            "<div class=\"star_score\">\n",
            "<span class=\"st_off\"><span class=\"st_on\" style=\"width:60.0%\"></span></span><em>6</em>\n",
            "</div>\n",
            "<div class=\"score_reple\">\n",
            "<p>\n",
            "<span class=\"ico_viewer\">관람객</span>\n",
            "<!-- 스포일러 컨텐츠로 처리되는지 여부 -->\n",
            "<span id=\"_filtered_ment_1\">\n",
            "<span class=\"_unfold_ment\" id=\"_unfold_ment1\">\n",
            "<a data-src=\"자세히 보면 중국 문화 올려치는 영화입니다. 초반부터 똥양계는 무조건 한국인 취급하는데 우리는 당당히 중국인이다. ㅇㅈㄹ하고요. 깊고 정통한 중국 문화는 대를 이어서 간다. 마카오에서 K-POP 댄스 추는 거 보고 무조건 힙하지? 우리 중국 문화야 ㅋ 구미호, 기린, 용은 우리 문화다. 사람 죽으면 물에 연등 띄우는 거? 우리 중국 문화다. 동북공정 영화입니다. 영화는 자세히 보세요. 의도가 있습니다. \" href=\"javascript:void(0);\" onclick=\"unfoldPointMent(this);\">\r\n",
            "\t\t\t\t\t\t\t\t\t\t\t\t\t\t\t\t\t\t자세히 보면 중국 문화 올려치는 영화입니다. 초반부터 똥양계는 무조건 한국인 취급하는데 우리는 당당히 중국인이다. ㅇㅈㄹ하고요. 깊고 정통한 중국 문화는 대를 이어서 간다. 마카오에서 K-POP 댄스 추는 거 보고 ...\r\n",
            "\t\t\t\t\t\t\t\t\t\t\t\t\t\t\t\t\t</a>\n",
            "</span>\n",
            "</span>\n",
            "</p>\n",
            "<dl>\n",
            "<dt>\n",
            "<em>\n",
            "<a href=\"#\" onclick=\"javascript:showPointListByNid(17684413, 'after');parent.clickcr(this, 'ara.uid', '', '', event); return false;\" target=\"_top\">\n",
            "<span>다른별명(quda****)</span>\n",
            "</a>\n",
            "</em>\n",
            "<em>2021.09.02 09:07</em>\n",
            "</dt>\n",
            "<dd>\n",
            "<a class=\"go_report2\" href=\"#\" onclick=\"parent.clickcr(this, 'ara.report', '', '', event); common.report('false','quda****', 'EJmebNvE4TlQozPqSkGwsCdlonYt1C85Fk0AlUg/ppI=', '17684413', 'point_after', false);return false;\"><em>신고</em></a>\n",
            "</dd>\n",
            "</dl>\n",
            "</div>\n",
            "<div class=\"btn_area\">\n",
            "<a class=\"_sympathyButton\" href=\"#\" onclick=\"parent.clickcr(this, 'ara.sym', '', '', event);\">\n",
            "<span class=\"ico_up\"></span>\n",
            "<span class=\"blind\">공감</span>\n",
            "<strong class=\"sympathy_17684413\">2578</strong>\n",
            "</a>\n",
            "<a class=\"_notSympathyButton\" href=\"#\" onclick=\"parent.clickcr(this, 'ara.opp', '', '', event);\">\n",
            "<span class=\"ico_down\"></span>\n",
            "<span class=\"blind\">비공감</span>\n",
            "<strong class=\"notSympathy_17684413\">786</strong>\n",
            "</a>\n",
            "</div>\n",
            "</li>\n",
            "<li>\n",
            "<div class=\"star_score\">\n",
            "<span class=\"st_off\"><span class=\"st_on\" style=\"width:10.0%\"></span></span><em>1</em>\n",
            "</div>\n",
            "<div class=\"score_reple\">\n",
            "<p>\n",
            "<span class=\"ico_viewer\">관람객</span>\n",
            "<!-- 스포일러 컨텐츠로 처리되는지 여부 -->\n",
            "<span id=\"_filtered_ment_2\">\r\n",
            "\t\t\t\t\t\t\t\t\t\t\t\t\t\t\r\n",
            "\t\t\t\t\t\t\t\t\t\t\t\t\t\t\t\r\n",
            "\t\t\t\t\t\t\t\t\t\t\t\t\t\t\t\r\n",
            "\t\t\t\t\t\t\t\t\t\t\t\t\t\t\t\t마블의 중국산 D-War \r\n",
            "\t\t\t\t\t\t\t\t\t\t\t\t\t\t\t\r\n",
            "\t\t\t\t\t\t\t\t\t\t\t\t\t\t\r\n",
            "\t\t\t\t\t\t\t\t\t\t\t\t\t\t\r\n",
            "\t\t\t\t\t\t\t\t\t\t\t\t\t</span>\n",
            "</p>\n",
            "<dl>\n",
            "<dt>\n",
            "<em>\n",
            "<a href=\"#\" onclick=\"javascript:showPointListByNid(17683609, 'after');parent.clickcr(this, 'ara.uid', '', '', event); return false;\" target=\"_top\">\n",
            "<span>eodb****</span>\n",
            "</a>\n",
            "</em>\n",
            "<em>2021.09.01 21:52</em>\n",
            "</dt>\n",
            "<dd>\n",
            "<a class=\"go_report2\" href=\"#\" onclick=\"parent.clickcr(this, 'ara.report', '', '', event); common.report('false','eodb****', '4SG512OcvfmU3WhvZGHxQ/CTn8EmEe2jpsan4AgqXd8=', '17683609', 'point_after', false);return false;\"><em>신고</em></a>\n",
            "</dd>\n",
            "</dl>\n",
            "</div>\n",
            "<div class=\"btn_area\">\n",
            "<a class=\"_sympathyButton\" href=\"#\" onclick=\"parent.clickcr(this, 'ara.sym', '', '', event);\">\n",
            "<span class=\"ico_up\"></span>\n",
            "<span class=\"blind\">공감</span>\n",
            "<strong class=\"sympathy_17683609\">1740</strong>\n",
            "</a>\n",
            "<a class=\"_notSympathyButton\" href=\"#\" onclick=\"parent.clickcr(this, 'ara.opp', '', '', event);\">\n",
            "<span class=\"ico_down\"></span>\n",
            "<span class=\"blind\">비공감</span>\n",
            "<strong class=\"notSympathy_17683609\">533</strong>\n",
            "</a>\n",
            "</div>\n",
            "</li>\n",
            "<li>\n",
            "<div class=\"star_score\">\n",
            "<span class=\"st_off\"><span class=\"st_on\" style=\"width:50.0%\"></span></span><em>5</em>\n",
            "</div>\n",
            "<div class=\"score_reple\">\n",
            "<p>\n",
            "<span class=\"ico_viewer\">관람객</span>\n",
            "<!-- 스포일러 컨텐츠로 처리되는지 여부 -->\n",
            "<span id=\"_filtered_ment_3\">\n",
            "<span class=\"_unfold_ment\" id=\"_unfold_ment3\">\n",
            "<a data-src=\"세계관이나 설정들이 너무 붕 떠있고 개연성은 밥말아 먹어놓고 억지 신파 끼워넣기에 주인공은 무색무취 아무 매력 없음. 10초전 까지 죽일듯이 싸우던 애들이 갑자기 우리 함께 싸우자 ㅇㅈㄹ 하질 않나. 아부지 행동들 감정기복 너무 심해서 공감도 안가고, 사건들이 빌드업도 없이 무지성으로 튀어나오니까 몰입도 안 됨. 배우가 너무 아깝다. \" href=\"javascript:void(0);\" onclick=\"unfoldPointMent(this);\">\r\n",
            "\t\t\t\t\t\t\t\t\t\t\t\t\t\t\t\t\t\t세계관이나 설정들이 너무 붕 떠있고 개연성은 밥말아 먹어놓고 억지 신파 끼워넣기에 주인공은 무색무취 아무 매력 없음. 10초전 까지 죽일듯이 싸우던 애들이 갑자기 우리 함께 싸우자 ㅇㅈㄹ 하질 않나. 아부지 행동들 ...\r\n",
            "\t\t\t\t\t\t\t\t\t\t\t\t\t\t\t\t\t</a>\n",
            "</span>\n",
            "</span>\n",
            "</p>\n",
            "<dl>\n",
            "<dt>\n",
            "<em>\n",
            "<a href=\"#\" onclick=\"javascript:showPointListByNid(17682177, 'after');parent.clickcr(this, 'ara.uid', '', '', event); return false;\" target=\"_top\">\n",
            "<span>멍멍(mild****)</span>\n",
            "</a>\n",
            "</em>\n",
            "<em>2021.09.01 11:21</em>\n",
            "</dt>\n",
            "<dd>\n",
            "<a class=\"go_report2\" href=\"#\" onclick=\"parent.clickcr(this, 'ara.report', '', '', event); common.report('false','mild****', 'msQj9X1Xjphyxo+M5M5XrnUuB4JEWQmnh04j+s3QQwY=', '17682177', 'point_after', false);return false;\"><em>신고</em></a>\n",
            "</dd>\n",
            "</dl>\n",
            "</div>\n",
            "<div class=\"btn_area\">\n",
            "<a class=\"_sympathyButton\" href=\"#\" onclick=\"parent.clickcr(this, 'ara.sym', '', '', event);\">\n",
            "<span class=\"ico_up\"></span>\n",
            "<span class=\"blind\">공감</span>\n",
            "<strong class=\"sympathy_17682177\">1692</strong>\n",
            "</a>\n",
            "<a class=\"_notSympathyButton\" href=\"#\" onclick=\"parent.clickcr(this, 'ara.opp', '', '', event);\">\n",
            "<span class=\"ico_down\"></span>\n",
            "<span class=\"blind\">비공감</span>\n",
            "<strong class=\"notSympathy_17682177\">505</strong>\n",
            "</a>\n",
            "</div>\n",
            "</li>\n",
            "<li>\n",
            "<div class=\"star_score\">\n",
            "<span class=\"st_off\"><span class=\"st_on\" style=\"width:50.0%\"></span></span><em>5</em>\n",
            "</div>\n",
            "<div class=\"score_reple\">\n",
            "<p>\n",
            "<span class=\"ico_viewer\">관람객</span>\n",
            "<!-- 스포일러 컨텐츠로 처리되는지 여부 -->\n",
            "<span id=\"_filtered_ment_4\">\r\n",
            "\t\t\t\t\t\t\t\t\t\t\t\t\t\t\r\n",
            "\t\t\t\t\t\t\t\t\t\t\t\t\t\t\t\r\n",
            "\t\t\t\t\t\t\t\t\t\t\t\t\t\t\t\r\n",
            "\t\t\t\t\t\t\t\t\t\t\t\t\t\t\t\t마블의 탈을 쓴 중국 무협영화. 중국 시장과 자본을 지나치게 의식한 디즈니의 연이은 헛발질. CG 범벅에 협소한 공간에서 몇 안되는 인원들의 액션 등 스케일마저 왜 이리 작아진 건지... \r\n",
            "\t\t\t\t\t\t\t\t\t\t\t\t\t\t\t\r\n",
            "\t\t\t\t\t\t\t\t\t\t\t\t\t\t\r\n",
            "\t\t\t\t\t\t\t\t\t\t\t\t\t\t\r\n",
            "\t\t\t\t\t\t\t\t\t\t\t\t\t</span>\n",
            "</p>\n",
            "<dl>\n",
            "<dt>\n",
            "<em>\n",
            "<a href=\"#\" onclick=\"javascript:showPointListByNid(17684461, 'after');parent.clickcr(this, 'ara.uid', '', '', event); return false;\" target=\"_top\">\n",
            "<span>삼생삼세(lexp****)</span>\n",
            "</a>\n",
            "</em>\n",
            "<em>2021.09.02 10:25</em>\n",
            "</dt>\n",
            "<dd>\n",
            "<a class=\"go_report2\" href=\"#\" onclick=\"parent.clickcr(this, 'ara.report', '', '', event); common.report('false','lexp****', '9wLHawiLVeRv9MpLFCJS0RBccO3VeHGUZNFQtYHpzns=', '17684461', 'point_after', false);return false;\"><em>신고</em></a>\n",
            "</dd>\n",
            "</dl>\n",
            "</div>\n",
            "<div class=\"btn_area\">\n",
            "<a class=\"_sympathyButton\" href=\"#\" onclick=\"parent.clickcr(this, 'ara.sym', '', '', event);\">\n",
            "<span class=\"ico_up\"></span>\n",
            "<span class=\"blind\">공감</span>\n",
            "<strong class=\"sympathy_17684461\">1264</strong>\n",
            "</a>\n",
            "<a class=\"_notSympathyButton\" href=\"#\" onclick=\"parent.clickcr(this, 'ara.opp', '', '', event);\">\n",
            "<span class=\"ico_down\"></span>\n",
            "<span class=\"blind\">비공감</span>\n",
            "<strong class=\"notSympathy_17684461\">264</strong>\n",
            "</a>\n",
            "</div>\n",
            "</li>\n",
            "<li>\n",
            "<div class=\"star_score\">\n",
            "<span class=\"st_off\"><span class=\"st_on\" style=\"width:10.0%\"></span></span><em>1</em>\n",
            "</div>\n",
            "<div class=\"score_reple\">\n",
            "<p>\n",
            "<span class=\"ico_viewer\">관람객</span>\n",
            "<!-- 스포일러 컨텐츠로 처리되는지 여부 -->\n",
            "<span id=\"_filtered_ment_5\">\r\n",
            "\t\t\t\t\t\t\t\t\t\t\t\t\t\t\r\n",
            "\t\t\t\t\t\t\t\t\t\t\t\t\t\t\t\r\n",
            "\t\t\t\t\t\t\t\t\t\t\t\t\t\t\t\r\n",
            "\t\t\t\t\t\t\t\t\t\t\t\t\t\t\t\t하 정말 재미없네요.. \r\n",
            "\t\t\t\t\t\t\t\t\t\t\t\t\t\t\t\r\n",
            "\t\t\t\t\t\t\t\t\t\t\t\t\t\t\r\n",
            "\t\t\t\t\t\t\t\t\t\t\t\t\t\t\r\n",
            "\t\t\t\t\t\t\t\t\t\t\t\t\t</span>\n",
            "</p>\n",
            "<dl>\n",
            "<dt>\n",
            "<em>\n",
            "<a href=\"#\" onclick=\"javascript:showPointListByNid(17683742, 'after');parent.clickcr(this, 'ara.uid', '', '', event); return false;\" target=\"_top\">\n",
            "<span>LEEE(oh1m****)</span>\n",
            "</a>\n",
            "</em>\n",
            "<em>2021.09.01 22:30</em>\n",
            "</dt>\n",
            "<dd>\n",
            "<a class=\"go_report2\" href=\"#\" onclick=\"parent.clickcr(this, 'ara.report', '', '', event); common.report('false','oh1m****', '5AEMDxCg0l2GPeqxPMkLxNA0+tesEc2rlvxtVtJIp7U=', '17683742', 'point_after', false);return false;\"><em>신고</em></a>\n",
            "</dd>\n",
            "</dl>\n",
            "</div>\n",
            "<div class=\"btn_area\">\n",
            "<a class=\"_sympathyButton\" href=\"#\" onclick=\"parent.clickcr(this, 'ara.sym', '', '', event);\">\n",
            "<span class=\"ico_up\"></span>\n",
            "<span class=\"blind\">공감</span>\n",
            "<strong class=\"sympathy_17683742\">1296</strong>\n",
            "</a>\n",
            "<a class=\"_notSympathyButton\" href=\"#\" onclick=\"parent.clickcr(this, 'ara.opp', '', '', event);\">\n",
            "<span class=\"ico_down\"></span>\n",
            "<span class=\"blind\">비공감</span>\n",
            "<strong class=\"notSympathy_17683742\">448</strong>\n",
            "</a>\n",
            "</div>\n",
            "</li>\n",
            "<li>\n",
            "<div class=\"star_score\">\n",
            "<span class=\"st_off\"><span class=\"st_on\" style=\"width:80.0%\"></span></span><em>8</em>\n",
            "</div>\n",
            "<div class=\"score_reple\">\n",
            "<p>\n",
            "<span class=\"ico_viewer\">관람객</span>\n",
            "<!-- 스포일러 컨텐츠로 처리되는지 여부 -->\n",
            "<span id=\"_filtered_ment_6\">\r\n",
            "\t\t\t\t\t\t\t\t\t\t\t\t\t\t\r\n",
            "\t\t\t\t\t\t\t\t\t\t\t\t\t\t\t\r\n",
            "\t\t\t\t\t\t\t\t\t\t\t\t\t\t\t\r\n",
            "\t\t\t\t\t\t\t\t\t\t\t\t\t\t\t\t마블 영화를 본 건지 중국 영화를 본 건지 모르겠지만 양조위는 너무 멋있더라.... \r\n",
            "\t\t\t\t\t\t\t\t\t\t\t\t\t\t\t\r\n",
            "\t\t\t\t\t\t\t\t\t\t\t\t\t\t\r\n",
            "\t\t\t\t\t\t\t\t\t\t\t\t\t\t\r\n",
            "\t\t\t\t\t\t\t\t\t\t\t\t\t</span>\n",
            "</p>\n",
            "<dl>\n",
            "<dt>\n",
            "<em>\n",
            "<a href=\"#\" onclick=\"javascript:showPointListByNid(17683773, 'after');parent.clickcr(this, 'ara.uid', '', '', event); return false;\" target=\"_top\">\n",
            "<span>아오이키(akpl****)</span>\n",
            "</a>\n",
            "</em>\n",
            "<em>2021.09.01 22:41</em>\n",
            "</dt>\n",
            "<dd>\n",
            "<a class=\"go_report2\" href=\"#\" onclick=\"parent.clickcr(this, 'ara.report', '', '', event); common.report('false','akpl****', '7LSYG9gYuLT9PkjQCqzlfx2LWVjklBAbzwcOnrrY0v8=', '17683773', 'point_after', false);return false;\"><em>신고</em></a>\n",
            "</dd>\n",
            "</dl>\n",
            "</div>\n",
            "<div class=\"btn_area\">\n",
            "<a class=\"_sympathyButton\" href=\"#\" onclick=\"parent.clickcr(this, 'ara.sym', '', '', event);\">\n",
            "<span class=\"ico_up\"></span>\n",
            "<span class=\"blind\">공감</span>\n",
            "<strong class=\"sympathy_17683773\">962</strong>\n",
            "</a>\n",
            "<a class=\"_notSympathyButton\" href=\"#\" onclick=\"parent.clickcr(this, 'ara.opp', '', '', event);\">\n",
            "<span class=\"ico_down\"></span>\n",
            "<span class=\"blind\">비공감</span>\n",
            "<strong class=\"notSympathy_17683773\">183</strong>\n",
            "</a>\n",
            "</div>\n",
            "</li>\n",
            "<li>\n",
            "<div class=\"star_score\">\n",
            "<span class=\"st_off\"><span class=\"st_on\" style=\"width:100.0%\"></span></span><em>10</em>\n",
            "</div>\n",
            "<div class=\"score_reple\">\n",
            "<p>\n",
            "<!-- 스포일러 컨텐츠로 처리되는지 여부 -->\n",
            "<span id=\"_filtered_ment_7\">\r\n",
            "\t\t\t\t\t\t\t\t\t\t\t\t\t\t\r\n",
            "\t\t\t\t\t\t\t\t\t\t\t\t\t\t\t\r\n",
            "\t\t\t\t\t\t\t\t\t\t\t\t\t\t\t\r\n",
            "\t\t\t\t\t\t\t\t\t\t\t\t\t\t\t\t마블의 새로운 시작이다… 재밌어요 \r\n",
            "\t\t\t\t\t\t\t\t\t\t\t\t\t\t\t\r\n",
            "\t\t\t\t\t\t\t\t\t\t\t\t\t\t\r\n",
            "\t\t\t\t\t\t\t\t\t\t\t\t\t\t\r\n",
            "\t\t\t\t\t\t\t\t\t\t\t\t\t</span>\n",
            "</p>\n",
            "<dl>\n",
            "<dt>\n",
            "<em>\n",
            "<a href=\"#\" onclick=\"javascript:showPointListByNid(17682380, 'after');parent.clickcr(this, 'ara.uid', '', '', event); return false;\" target=\"_top\">\n",
            "<span>서울자취생(osan****)</span>\n",
            "</a>\n",
            "</em>\n",
            "<em>2021.09.01 12:57</em>\n",
            "</dt>\n",
            "<dd>\n",
            "<a class=\"go_report2\" href=\"#\" onclick=\"parent.clickcr(this, 'ara.report', '', '', event); common.report('false','osan****', 'qNVeziH78uRk5+vYcm4ZW5fh4b5EWZs/paqScsN6C68=', '17682380', 'point_after', false);return false;\"><em>신고</em></a>\n",
            "</dd>\n",
            "</dl>\n",
            "</div>\n",
            "<div class=\"btn_area\">\n",
            "<a class=\"_sympathyButton\" href=\"#\" onclick=\"parent.clickcr(this, 'ara.sym', '', '', event);\">\n",
            "<span class=\"ico_up\"></span>\n",
            "<span class=\"blind\">공감</span>\n",
            "<strong class=\"sympathy_17682380\">710</strong>\n",
            "</a>\n",
            "<a class=\"_notSympathyButton\" href=\"#\" onclick=\"parent.clickcr(this, 'ara.opp', '', '', event);\">\n",
            "<span class=\"ico_down\"></span>\n",
            "<span class=\"blind\">비공감</span>\n",
            "<strong class=\"notSympathy_17682380\">171</strong>\n",
            "</a>\n",
            "</div>\n",
            "</li>\n",
            "<li>\n",
            "<div class=\"star_score\">\n",
            "<span class=\"st_off\"><span class=\"st_on\" style=\"width:60.0%\"></span></span><em>6</em>\n",
            "</div>\n",
            "<div class=\"score_reple\">\n",
            "<p>\n",
            "<span class=\"ico_viewer\">관람객</span>\n",
            "<!-- 스포일러 컨텐츠로 처리되는지 여부 -->\n",
            "<span class=\"text_spo _text_spo\" id=\"_text_spo_8\">스포일러가 포함된 감상평입니다. <a class=\"btn_more\" href=\"javascript:void(0);\" onclick=\"showMovieReview('8');\" role=\"button\">감상평 보기</a></span>\n",
            "<span id=\"_filtered_ment_8\" style=\"display:none;\">\r\n",
            "\t\t\t\t\t\t\t\t\t\t\t\t\t\t\r\n",
            "\t\t\t\t\t\t\t\t\t\t\t\t\t\t\t\r\n",
            "\t\t\t\t\t\t\t\t\t\t\t\t\t\t\t\r\n",
            "\t\t\t\t\t\t\t\t\t\t\t\t\t\t\t\t아부지를 왜케 미워하는거지 훈련빡시케 시켰다고 그러는건가아부지를 죽인댔다가 갑자기 필요하다하고 개연성이 좀 부족..텐링즈의 전설이란 제목도 뭐 굳이... \r\n",
            "\t\t\t\t\t\t\t\t\t\t\t\t\t\t\t\r\n",
            "\t\t\t\t\t\t\t\t\t\t\t\t\t\t\r\n",
            "\t\t\t\t\t\t\t\t\t\t\t\t\t\t\r\n",
            "\t\t\t\t\t\t\t\t\t\t\t\t\t</span>\n",
            "</p>\n",
            "<dl>\n",
            "<dt>\n",
            "<em>\n",
            "<a href=\"#\" onclick=\"javascript:showPointListByNid(17683572, 'after');parent.clickcr(this, 'ara.uid', '', '', event); return false;\" target=\"_top\">\n",
            "<span>척설오추(jagi****)</span>\n",
            "</a>\n",
            "</em>\n",
            "<em>2021.09.01 21:42</em>\n",
            "</dt>\n",
            "<dd>\n",
            "<a class=\"go_report2\" href=\"#\" onclick=\"parent.clickcr(this, 'ara.report', '', '', event); common.report('false','jagi****', '0T9COW1eS5osc/IhgZ7lSwM6e8AWrm6cIk5VoUegKDI=', '17683572', 'point_after', false);return false;\"><em>신고</em></a>\n",
            "</dd>\n",
            "</dl>\n",
            "</div>\n",
            "<div class=\"btn_area\">\n",
            "<a class=\"_sympathyButton\" href=\"#\" onclick=\"parent.clickcr(this, 'ara.sym', '', '', event);\">\n",
            "<span class=\"ico_up\"></span>\n",
            "<span class=\"blind\">공감</span>\n",
            "<strong class=\"sympathy_17683572\">621</strong>\n",
            "</a>\n",
            "<a class=\"_notSympathyButton\" href=\"#\" onclick=\"parent.clickcr(this, 'ara.opp', '', '', event);\">\n",
            "<span class=\"ico_down\"></span>\n",
            "<span class=\"blind\">비공감</span>\n",
            "<strong class=\"notSympathy_17683572\">119</strong>\n",
            "</a>\n",
            "</div>\n",
            "</li>\n",
            "<li class=\"last\">\n",
            "<div class=\"star_score\">\n",
            "<span class=\"st_off\"><span class=\"st_on\" style=\"width:60.0%\"></span></span><em>6</em>\n",
            "</div>\n",
            "<div class=\"score_reple\">\n",
            "<p>\n",
            "<span class=\"ico_viewer\">관람객</span>\n",
            "<!-- 스포일러 컨텐츠로 처리되는지 여부 -->\n",
            "<span id=\"_filtered_ment_9\">\r\n",
            "\t\t\t\t\t\t\t\t\t\t\t\t\t\t\r\n",
            "\t\t\t\t\t\t\t\t\t\t\t\t\t\t\t\r\n",
            "\t\t\t\t\t\t\t\t\t\t\t\t\t\t\t\r\n",
            "\t\t\t\t\t\t\t\t\t\t\t\t\t\t\t\t마블영화보면서 처음으로 졸았습니다 ㅜㅜ \r\n",
            "\t\t\t\t\t\t\t\t\t\t\t\t\t\t\t\r\n",
            "\t\t\t\t\t\t\t\t\t\t\t\t\t\t\r\n",
            "\t\t\t\t\t\t\t\t\t\t\t\t\t\t\r\n",
            "\t\t\t\t\t\t\t\t\t\t\t\t\t</span>\n",
            "</p>\n",
            "<dl>\n",
            "<dt>\n",
            "<em>\n",
            "<a href=\"#\" onclick=\"javascript:showPointListByNid(17686410, 'after');parent.clickcr(this, 'ara.uid', '', '', event); return false;\" target=\"_top\">\n",
            "<span>kupyt192(neid****)</span>\n",
            "</a>\n",
            "</em>\n",
            "<em>2021.09.03 11:02</em>\n",
            "</dt>\n",
            "<dd>\n",
            "<a class=\"go_report2\" href=\"#\" onclick=\"parent.clickcr(this, 'ara.report', '', '', event); common.report('false','neid****', '2RigKGwGK5iSZcCLHOYti8aSCi8Un8pJGoFbKPdkn8Q=', '17686410', 'point_after', false);return false;\"><em>신고</em></a>\n",
            "</dd>\n",
            "</dl>\n",
            "</div>\n",
            "<div class=\"btn_area\">\n",
            "<a class=\"_sympathyButton\" href=\"#\" onclick=\"parent.clickcr(this, 'ara.sym', '', '', event);\">\n",
            "<span class=\"ico_up\"></span>\n",
            "<span class=\"blind\">공감</span>\n",
            "<strong class=\"sympathy_17686410\">757</strong>\n",
            "</a>\n",
            "<a class=\"_notSympathyButton\" href=\"#\" onclick=\"parent.clickcr(this, 'ara.opp', '', '', event);\">\n",
            "<span class=\"ico_down\"></span>\n",
            "<span class=\"blind\">비공감</span>\n",
            "<strong class=\"notSympathy_17686410\">275</strong>\n",
            "</a>\n",
            "</div>\n",
            "</li>\n",
            "</ul>\n",
            "</div>\n",
            "<div class=\"paging\">\n",
            "<div>\n",
            "<a href=\"/movie/bi/mi/pointWriteFormList.naver?code=187348&amp;type=after&amp;isActualPointWriteExecute=false&amp;isMileageSubscriptionAlready=false&amp;isMileageSubscriptionReject=false&amp;page=1\" id=\"pagerTagAnchor1\" onclick=\"parent.clickcr(this, 'ara.page', '', '', event);\"><span class=\"on\">1</span></a>\n",
            "<a href=\"/movie/bi/mi/pointWriteFormList.naver?code=187348&amp;type=after&amp;isActualPointWriteExecute=false&amp;isMileageSubscriptionAlready=false&amp;isMileageSubscriptionReject=false&amp;page=2\" id=\"pagerTagAnchor2\" onclick=\"parent.clickcr(this, 'ara.page', '', '', event);\"><span>2</span></a>\n",
            "<a href=\"/movie/bi/mi/pointWriteFormList.naver?code=187348&amp;type=after&amp;isActualPointWriteExecute=false&amp;isMileageSubscriptionAlready=false&amp;isMileageSubscriptionReject=false&amp;page=3\" id=\"pagerTagAnchor3\" onclick=\"parent.clickcr(this, 'ara.page', '', '', event);\"><span>3</span></a>\n",
            "<a href=\"/movie/bi/mi/pointWriteFormList.naver?code=187348&amp;type=after&amp;isActualPointWriteExecute=false&amp;isMileageSubscriptionAlready=false&amp;isMileageSubscriptionReject=false&amp;page=4\" id=\"pagerTagAnchor4\" onclick=\"parent.clickcr(this, 'ara.page', '', '', event);\"><span>4</span></a>\n",
            "<a href=\"/movie/bi/mi/pointWriteFormList.naver?code=187348&amp;type=after&amp;isActualPointWriteExecute=false&amp;isMileageSubscriptionAlready=false&amp;isMileageSubscriptionReject=false&amp;page=5\" id=\"pagerTagAnchor5\" onclick=\"parent.clickcr(this, 'ara.page', '', '', event);\"><span>5</span></a>\n",
            "<a href=\"/movie/bi/mi/pointWriteFormList.naver?code=187348&amp;type=after&amp;isActualPointWriteExecute=false&amp;isMileageSubscriptionAlready=false&amp;isMileageSubscriptionReject=false&amp;page=6\" id=\"pagerTagAnchor6\" onclick=\"parent.clickcr(this, 'ara.page', '', '', event);\"><span>6</span></a>\n",
            "<a href=\"/movie/bi/mi/pointWriteFormList.naver?code=187348&amp;type=after&amp;isActualPointWriteExecute=false&amp;isMileageSubscriptionAlready=false&amp;isMileageSubscriptionReject=false&amp;page=7\" id=\"pagerTagAnchor7\" onclick=\"parent.clickcr(this, 'ara.page', '', '', event);\"><span>7</span></a>\n",
            "<a href=\"/movie/bi/mi/pointWriteFormList.naver?code=187348&amp;type=after&amp;isActualPointWriteExecute=false&amp;isMileageSubscriptionAlready=false&amp;isMileageSubscriptionReject=false&amp;page=8\" id=\"pagerTagAnchor8\" onclick=\"parent.clickcr(this, 'ara.page', '', '', event);\"><span>8</span></a>\n",
            "<a href=\"/movie/bi/mi/pointWriteFormList.naver?code=187348&amp;type=after&amp;isActualPointWriteExecute=false&amp;isMileageSubscriptionAlready=false&amp;isMileageSubscriptionReject=false&amp;page=9\" id=\"pagerTagAnchor9\" onclick=\"parent.clickcr(this, 'ara.page', '', '', event);\"><span>9</span></a>\n",
            "<a href=\"/movie/bi/mi/pointWriteFormList.naver?code=187348&amp;type=after&amp;isActualPointWriteExecute=false&amp;isMileageSubscriptionAlready=false&amp;isMileageSubscriptionReject=false&amp;page=10\" id=\"pagerTagAnchor10\" onclick=\"parent.clickcr(this, 'ara.page', '', '', event);\"><span>10</span></a>\n",
            "<a class=\"pg_next\" href=\"/movie/bi/mi/pointWriteFormList.naver?code=187348&amp;type=after&amp;isActualPointWriteExecute=false&amp;isMileageSubscriptionAlready=false&amp;isMileageSubscriptionReject=false&amp;page=2\" id=\"pagerTagAnchor2\" onclick=\"parent.clickcr(this, 'ara.page', '', '', event);\" title=\"다음\"><em>다음</em></a>\n",
            "</div>\n",
            "</div>\n",
            "</div>\n",
            "</div>\n",
            "<!-- //content -->\n",
            "<form accept-charset=\"utf-8\" id=\"reportForm\" method=\"POST\" name=\"reportForm1\"></form>\n",
            "<script type=\"text/javascript\">\r\n",
            "\r\n",
            "\r\n",
            "if (false == false && \"after\" == \"after\" && false) {\r\n",
            "\tif (true && false) {\r\n",
            "\t\tjindo.$Element(\"pointWriteExecuteLayer\").show();\r\n",
            "\t} else if (false && true) {\r\n",
            "\t\tjindo.$Element(\"actualPointWriteExecuteLayer\").show();\r\n",
            "\t}\r\n",
            "}\r\n",
            "\r\n",
            "var oElActualPointWriteExecuteLayer = jindo.$Element(\"actualPointWriteExecuteLayer\");\r\n",
            "\r\n",
            "if (oElActualPointWriteExecuteLayer != null && oElActualPointWriteExecuteLayer != \"undefined\") {\r\n",
            "\r\n",
            "\t\r\n",
            "\tjindo.$Element(\"actualPointWriteExecuteLayerOkButton\").attach(\"click\", function(e){\r\n",
            "\t\te.stop(jindo.$Event.CANCEL_DEFAULT);\r\n",
            "\t\tjindo.$Element(\"actualPointWriteExecuteLayer\").hide();\r\n",
            "\t\trefreshPage();\r\n",
            "\t});\r\n",
            "\t\r\n",
            "\t\r\n",
            "\t\r\n",
            "\tjindo.$Element(\"actualPointWriteExecuteLayerCloseButton\").attach(\"click\", function(e){\r\n",
            "\t\te.stop(jindo.$Event.CANCEL_DEFAULT);\r\n",
            "\t\tjindo.$Element(\"actualPointWriteExecuteLayer\").hide();\r\n",
            "\t\trefreshPage();\r\n",
            "\t});\r\n",
            "\t\r\n",
            "}\r\n",
            "\r\n",
            "var oElPointWriteExecuteLayer = jindo.$Element(\"pointWriteExecuteLayer\");\r\n",
            "\r\n",
            "if (oElPointWriteExecuteLayer != null && oElPointWriteExecuteLayer != \"undefined\") {\r\n",
            "\t\r\n",
            "\tjindo.$Element(\"pointWriteExecuteLayerOkButton\").attach(\"click\", function(e){\r\n",
            "\t\te.stop(jindo.$Event.CANCEL_DEFAULT);\r\n",
            "\t\tjindo.$Element(\"pointWriteExecuteLayer\").hide();\r\n",
            "\t\trefreshPage();\r\n",
            "\t});\r\n",
            "\t\r\n",
            "\t\r\n",
            "\t\r\n",
            "\tjindo.$Element(\"pointWriteExecuteLayerCloseButton\").attach(\"click\", function(e){\r\n",
            "\t\te.stop(jindo.$Event.CANCEL_DEFAULT);\r\n",
            "\t\tjindo.$Element(\"pointWriteExecuteLayer\").hide();\r\n",
            "\t\trefreshPage();\r\n",
            "\t});\r\n",
            "\t\r\n",
            "}\r\n",
            "\r\n",
            "jindo.$Fn(function () {\r\n",
            "\r\n",
            "  function checkboxHandlerFactory(isActualYn, isLabel) {\r\n",
            "    return function() {\r\n",
            "      var actualYnChecked = jindo.$(\"actualYnCheckBox\").checked;\r\n",
            "      var spoilerYnChecked = jindo.$(\"spoilerYnCheckBox\").checked;\r\n",
            "\r\n",
            "      // convert\r\n",
            "      actualYnChecked = (isActualYn && isLabel)? !actualYnChecked : actualYnChecked;\r\n",
            "      spoilerYnChecked = (!isActualYn && isLabel)? !spoilerYnChecked : spoilerYnChecked;\r\n",
            "\r\n",
            "      location.href = \"/movie/bi/mi/pointWriteFormList.naver?code=187348&type=after&onlyActualPointYn=\" + (actualYnChecked? \"Y\" : \"N\")  + \"&onlySpoilerPointYn=\" + (spoilerYnChecked? \"Y\" : \"N\") + \"&order=sympathyScore\";\r\n",
            "    };\r\n",
            "  }\r\n",
            "\r\n",
            "\t\r\n",
            "\tif (jindo.$(\"actualYnCheckBox\") != null) {\r\n",
            "\t\tjindo.$Fn(checkboxHandlerFactory(true, false), this).attach(jindo.$(\"actualYnCheckBox\"), 'click');\r\n",
            "\t}\r\n",
            "\r\n",
            "\tif (jindo.$(\"actualYnLable\") != null) {\r\n",
            "\t    jindo.$Fn(checkboxHandlerFactory(true, true), this).attach(jindo.$(\"actualYnLable\"), 'click');\r\n",
            "\t}\r\n",
            "\r\n",
            "\t\r\n",
            "    if (jindo.$(\"spoilerYnCheckBox\") != null) {\r\n",
            "    jindo.$Fn(checkboxHandlerFactory(false, false), this).attach(jindo.$(\"spoilerYnCheckBox\"), 'click');\r\n",
            "  }\r\n",
            "\r\n",
            "  if (jindo.$(\"spoilerYnLable\") != null) {\r\n",
            "    jindo.$Fn(checkboxHandlerFactory(false, true), this).attach(jindo.$(\"spoilerYnLable\"), 'click');\r\n",
            "  }\r\n",
            "\t\r\n",
            "\t\r\n",
            "\tif (jindo.$Element(\"actualPointHelp\") != null && jindo.$Element(\"actualPointHelp\") != \"undefined\") {\r\n",
            "\t\tactualPointHelpLayerToggle = function() {\r\n",
            "\t\t\tsetTimeout( function() {\r\n",
            "\t\t\t\tif (document.activeElement != null) {\r\n",
            "\t\t\t\t\tvar focusedEl = jindo.$Element(document.activeElement);\r\n",
            "\t\t\t\t\tif (focusedEl != null) {\r\n",
            "\t\t\t\t\t\tif ( !focusedEl.hasClass(\"_actualPointHelp\") ) {\r\n",
            "\t\t\t\t\t\t\t jindo.$Element(\"actualPointHelp\").hide();\r\n",
            "\t\t\t\t\t\t}\r\n",
            "\t\t\t\t\t}\r\n",
            "\t\t\t\t}\r\n",
            "\t\t\t}, 100);\r\n",
            "\t\t};\r\n",
            "\r\n",
            "\t\tnew jindo.LayerManager(\"actualPointHelp\", {\r\n",
            "\t\t\tsCheckEvent : \"click\",\r\n",
            "\t\t\tnHideDelay : 0\r\n",
            "\t\t}).link(jindo.$(\"actualPointHelp\"), jindo.$(\"actualPointHelpButton\"));\r\n",
            "\r\n",
            "\t\tjindo.$Element(\"actualPointHelpButton\").attach(\"click\", function(e){\r\n",
            "\t\t\te.stop(jindo.$Event.CANCEL_DEFAULT);\r\n",
            "\t\t\tjindo.$Element(\"actualPointHelp\").toggle();\r\n",
            "\t\t});\r\n",
            "\r\n",
            "\t\tjindo.$Element(\"actualPointHelpCloseButton\").attach(\"click\", function(e){\r\n",
            "\t\t\te.stop(jindo.$Event.CANCEL_DEFAULT);\r\n",
            "\t\t\tjindo.$Element(\"actualPointHelp\").toggle();\r\n",
            "\t\t});\r\n",
            "\r\n",
            "\t\t\r\n",
            "\t\tvar waelActualPointHelp = jindo.$ElementList('._actualPointHelp');\r\n",
            "\r\n",
            "\t\tjindo.$A(waelActualPointHelp.$value()).forEach(function(value, index, array) {\r\n",
            "\t\t\tjindo.$Fn(actualPointHelpLayerToggle, this).attach(value, \"blur\");\r\n",
            "\t\t});\r\n",
            "\t}\r\n",
            "\r\n",
            "\tparent.setParamForPointAfterList('N', 'sympathyScore', '1');\r\n",
            "\tparent.resizePointAfterListIframe(0);\r\n",
            "\r\n",
            "\t// 최소 높이 270px 지정\r\n",
            "\tvar frameHeight = eval(jindo.$Document().scrollSize().height);\r\n",
            "\r\n",
            "\tparent.resizePointAfterListIframe(frameHeight);\r\n",
            "\tparent.isPointAfterListLoad = true;\r\n",
            "\t\r\n",
            "\t\r\n",
            "\t\r\n",
            "\r\n",
            "  var isCheckPointExist = false;\r\n",
            "  // TODO: fix below condition\r\n",
            "  if (false) {\r\n",
            "    if(jindo.$Element(\"open-form-btn\")) {\r\n",
            "\t\tjindo.$Element(\"open-form-btn\").attach(\"click\", function(e) {\r\n",
            "\t\t  \t\r\n",
            "\t\t  \t\r\n",
            "\t\t\t\r\n",
            "\t\t  if (true && false && isCheckPointExist == false) {\r\n",
            "\t\t\tparent.point.checkPointAfterExistAndMileageSubscriptionType();\r\n",
            "\t\t  }\r\n",
            "\t\t  isCheckPointExist = true;\r\n",
            "\t\t  parent.openPointWriteForm();\r\n",
            "\t\t});\r\n",
            "    }\r\n",
            "  } else {\r\n",
            "    if (jindo.$Element(\"open-form-btn\")) {\r\n",
            "\t\tjindo.$Element(\"open-form-btn\").attach(\"click\", function (e) {\r\n",
            "\t\t  common.checkLogin(false);\r\n",
            "\t\t});\r\n",
            "    }\r\n",
            "  }\r\n",
            "\r\n",
            "  var isHide = true;\r\n",
            "\r\n",
            "  if(jindo.$Element(\"eval-edit\")) {\r\n",
            "    jindo.$Element(\"eval-edit\").attach(\"click\", function() {\r\n",
            "\t\t  var edit = jindo.$Element(\"ly-edit\");\r\n",
            "\t  \tisHide ? edit.show() : edit.hide();\r\n",
            "      \tisHide = !isHide;\r\n",
            "    })\r\n",
            "  }\r\n",
            "  parent.resizePointAfterListIframeOnLoad();\r\n",
            "}, this).attach(this, 'load');\r\n",
            "\r\n",
            "var point = {\r\n",
            "\t\tcheckLoginWithMessage : function(login, loginMessage, notLoginMessage) {\r\n",
            "\t\t\tif(login == false){\r\n",
            "\t\t\t\tif(confirm(message)){\r\n",
            "\t\t\t\t\ttop.location.href=\"https://nid.naver.com/nidlogin.login?mode=form&url=\"+encodeURIComponent(top.location.href);\r\n",
            "\t\t\t\t}\r\n",
            "\t\t\t\treturn false;\r\n",
            "\t\t\t}\r\n",
            "\t\t\treturn true;\r\n",
            "\t\t},\r\n",
            "\r\n",
            "\t\t\r\n",
            "\t\tcheckAlreadyPointAfterExist : function (nid) {\r\n",
            "\t\t\tvar existPointType = \"pointBefore\";\r\n",
            "\t\t\t\r\n",
            "\t\t\tif (false == false) {\r\n",
            "\t\t\t\tvar oAjax = new jindo.$Ajax(\"/api/internal/point/pointAfterExistJson.naver\", {\r\n",
            "\t\t\t    \tonload : function (oRes) {\r\n",
            "\t\t\t    \t\tvar resultCode = oRes.json().resultCode;\r\n",
            "\t\t\t    \t\t\r\n",
            "\t\t\t    \t\tif (resultCode == \"error\") {\t\t\t\t\t\t\t// 서버 오류\r\n",
            "\t\t\t    \t\t\talert(\"오류가 발생했습니다. 잠시 후 다시 시도해주세요.\");\r\n",
            "\t\t\t    \t\t\treturn false;\r\n",
            "\t\t\t    \t\t} else {\r\n",
            "\t\t\t    \t\t\texistPointType = oRes.json().existPointType;\r\n",
            "\t\t\t    \t\t\tpoint.del(existPointType, nid);\r\n",
            "\t\t\t    \t\t}\r\n",
            "\t\t\t    \t},\r\n",
            "\t\t\t\t\ttimeout : 5,\r\n",
            "\t\t\t    \tonerror : function (oRes) {\r\n",
            "\t\t\t    \t\talert(\"오류가 발생했습니다. 잠시 후 다시 시도해주세요.\");\r\n",
            "\t\t\t    \t\treturn false;\r\n",
            "\t\t\t    \t},\r\n",
            "\t\t\t    \tontimeout : function (oRes) {\r\n",
            "\t\t\t    \t\talert(\"처리가 지연되고 있습니다. 다시 시도해주세요.\");\r\n",
            "\t\t\t    \t\treturn false;\r\n",
            "\t\t\t    \t}\r\n",
            "\t\t\t    });\r\n",
            "\t\t\t    \r\n",
            "\t\t\t    oAjax.request({\r\n",
            "\t\t\t    \t\"movieCode\" : \"187348\",\r\n",
            "\t\t\t    \t\"isActualPoint\" : \"false\"\r\n",
            "\t\t\t    });\r\n",
            "\t\t\t} else {\r\n",
            "\t\t\t\tpoint.del(existPointType, nid);\r\n",
            "\t\t\t}\r\n",
            "\t\t},\r\n",
            "\r\n",
            "\t\tdel : function (existPointType, nid) {\r\n",
            "\t\t\tif (existPointType == \"actualPoint\") {\r\n",
            "\t\t\t\tif (confirm(\"관람객 평점 삭제시, 평점 작성으로 적립된 포인트는 회수됩니다. 평점을 삭제할까요?\") == false) {\r\n",
            "\t\t\t\t\treturn false;\r\n",
            "\t\t\t\t}\r\n",
            "\t\t\t} else {\r\n",
            "\t\t\t\tif (confirm(\"본인 삭제 시 복구할 수 없습니다.\\n평점을 삭제하시겠습니까?\") == false) {\r\n",
            "\t\t\t\t\treturn false;\r\n",
            "\t\t\t\t}\r\n",
            "\t\t\t}\r\n",
            "\t\t\t\r\n",
            "\t\t\tvar ajaxDeleteUrl = \"/api/internal/point/pointBeforeDelete.naver\";\r\n",
            "\t\t\tif (\"after\" == \"after\") {\r\n",
            "\t\t\t\tajaxDeleteUrl = \"/api/internal/point/pointAfterDelete.naver\";\r\n",
            "\t\t\t}\r\n",
            "\t\t\t\r\n",
            "\t\t\tvar ajax = new jindo.$Ajax(ajaxDeleteUrl, { \r\n",
            "\t\t\t\tmethod : \"POST\",\r\n",
            "\t\t\t\tasync : false,\r\n",
            "\t\t\t\tonload : this.delCallback\r\n",
            "\t\t\t});\r\n",
            "\t\t\tajax.header(\"ajax\", \"true\");\r\n",
            "\t\t\tajax.request({\r\n",
            "\t\t\t\t\"nid\":nid\r\n",
            "\t\t\t});\r\n",
            "\t\t},\r\n",
            "\t\t\r\n",
            "\t\tdelCallback : function(req) {\r\n",
            "\t\t\tvar returnValue = req.text();\r\n",
            "\t\t\t\r\n",
            "\t\t\tif(returnValue != \"success\"){\r\n",
            "\t\t\t\talert(returnValue);\r\n",
            "\t\t\t\treturn false;\r\n",
            "\t\t\t}\r\n",
            "\t\t\t\r\n",
            "\t\t\ttop.location.href = '/movie/bi/mi/point.naver?code=187348#pointAfterTab';\r\n",
            "\t\t\ttop.location.reload(true);\r\n",
            "\t\t}\r\n",
            "};\r\n",
            "\r\n",
            "function dislplayOrder(order) {\r\n",
            "\tvar url = \"/movie/bi/mi/pointWriteFormList.naver?code=187348&type=after\";\r\n",
            "\t\r\n",
            "\tvar onlyActualPointYnValue = jindo.$(\"onlyActualPointYn\").value;\r\n",
            "  \tvar includeSpoilerYnValue = jindo.$(\"includeSpoilerYn\").value;\r\n",
            "\r\n",
            "\tif (onlyActualPointYnValue != \"\") {\r\n",
            "\t\turl = url + \"&onlyActualPointYn=\" + onlyActualPointYnValue;\r\n",
            "\t}\r\n",
            "\r\n",
            "\tif (includeSpoilerYnValue != \"\") {\r\n",
            "      url = url + \"&onlySpoilerPointYn=\" + includeSpoilerYnValue;\r\n",
            "    }\r\n",
            "\t\r\n",
            "\turl = url + \"&order=\" + order;\r\n",
            "\t\r\n",
            "\tlocation.href = document.location.protocol + \"//\" + document.domain + url;\r\n",
            "}\r\n",
            "\r\n",
            "function showPointListByNid(nid, target){\r\n",
            "\tif (target == 'after') {\r\n",
            "\t\ttop.location.href = top.location.protocol + \"//\" + top.location.hostname + \"/movie/point/af/list.naver?st=nickname&target=after&sword=\"+nid;\r\n",
            "\t} else {\r\n",
            "\t\ttop.location.href = top.location.protocol + \"//\" + top.location.hostname + \"/movie/point/af/list.naver?st=nickname_before&target=before&sword=\"+nid;\r\n",
            "\t}\r\n",
            "}\r\n",
            "\r\n",
            "function refreshPage() {\r\n",
            "\t \r\n",
            "\ttop.location.href = '/movie/bi/mi/point.naver?code=187348#pointAfterTab';\r\n",
            "}\r\n",
            "\r\n",
            "// 스포일러 감상평 내용 보기\r\n",
            "function showMovieReview(rvwIdx) {\r\n",
            "    jindo.$Element('_text_spo_' + rvwIdx).css('display', 'none');\r\n",
            "    jindo.$Element('_filtered_ment_' + rvwIdx).css('display', 'block');\r\n",
            "    parent.resizePointAfterListIframeOnLoad();\r\n",
            "}\r\n",
            "\r\n",
            "// 감상평 펼쳐보기\r\n",
            "function unfoldPointMent(obj) {\r\n",
            "    var fullMent = jindo.$Element(obj).attr(\"data-src\");\r\n",
            "    jindo.$Element(obj).parent().html(fullMent);\r\n",
            "    parent.resizePointAfterListIframeOnLoad();\r\n",
            "}\r\n",
            "\r\n",
            "\r\n",
            "</script>\n",
            "<script type=\"text/javascript\">\r\n",
            "\tvar sympathy = new Sympathy(\"187348\", \"after\");\r\n",
            "</script>\n",
            "<script type=\"text/javascript\">\r\n",
            "            jindo.$Fn(function() {\r\n",
            "                try{ lcs_do(); } catch(e){}\r\n",
            "            }).attach(window, \"pageshow\");\r\n",
            "\t\t</script>\n",
            "</body>\n",
            "</html>\n"
          ]
        }
      ]
    },
    {
      "cell_type": "markdown",
      "metadata": {
        "id": "XmW-E1MCzuiH"
      },
      "source": [
        "댓글 부분에 해당하는 요소를 확인하고 내용을 추출합니다."
      ]
    },
    {
      "cell_type": "code",
      "metadata": {
        "id": "9TkLAcWOvnSc",
        "colab": {
          "base_uri": "https://localhost:8080/"
        },
        "outputId": "39f8f72b-4a7d-4757-f928-c5b9283094d3"
      },
      "source": [
        "# 첫 번째 리뷰\n",
        "html_reviews = html_source.find('span',{'id': '_filtered_ment_0'}) \n",
        "print(html_reviews)"
      ],
      "execution_count": 46,
      "outputs": [
        {
          "output_type": "stream",
          "name": "stdout",
          "text": [
            "<span id=\"_filtered_ment_0\">\r\n",
            "\t\t\t\t\t\t\t\t\t\t\t\t\t\t\r\n",
            "\t\t\t\t\t\t\t\t\t\t\t\t\t\t\t\r\n",
            "\t\t\t\t\t\t\t\t\t\t\t\t\t\t\t\r\n",
            "\t\t\t\t\t\t\t\t\t\t\t\t\t\t\t\t명품 브랜드라 믿고 샀는데 안에 made in china가 적혀있었다 \r\n",
            "\t\t\t\t\t\t\t\t\t\t\t\t\t\t\t\r\n",
            "\t\t\t\t\t\t\t\t\t\t\t\t\t\t\r\n",
            "\t\t\t\t\t\t\t\t\t\t\t\t\t\t\r\n",
            "\t\t\t\t\t\t\t\t\t\t\t\t\t</span>\n"
          ]
        }
      ]
    },
    {
      "cell_type": "code",
      "metadata": {
        "id": "v6xKmgUC1H7_",
        "colab": {
          "base_uri": "https://localhost:8080/"
        },
        "outputId": "32f4397b-773e-4ba2-f889-b4eb1f9462cd"
      },
      "source": [
        "# 10명 리뷰 확인\n",
        "for i in range(10):\n",
        "    html_reviews = html_source.find('span',{'id': '_filtered_ment_'+str(i)}) \n",
        "    print(html_reviews)"
      ],
      "execution_count": 47,
      "outputs": [
        {
          "output_type": "stream",
          "name": "stdout",
          "text": [
            "<span id=\"_filtered_ment_0\">\r\n",
            "\t\t\t\t\t\t\t\t\t\t\t\t\t\t\r\n",
            "\t\t\t\t\t\t\t\t\t\t\t\t\t\t\t\r\n",
            "\t\t\t\t\t\t\t\t\t\t\t\t\t\t\t\r\n",
            "\t\t\t\t\t\t\t\t\t\t\t\t\t\t\t\t명품 브랜드라 믿고 샀는데 안에 made in china가 적혀있었다 \r\n",
            "\t\t\t\t\t\t\t\t\t\t\t\t\t\t\t\r\n",
            "\t\t\t\t\t\t\t\t\t\t\t\t\t\t\r\n",
            "\t\t\t\t\t\t\t\t\t\t\t\t\t\t\r\n",
            "\t\t\t\t\t\t\t\t\t\t\t\t\t</span>\n",
            "<span id=\"_filtered_ment_1\">\n",
            "<span class=\"_unfold_ment\" id=\"_unfold_ment1\">\n",
            "<a data-src=\"자세히 보면 중국 문화 올려치는 영화입니다. 초반부터 똥양계는 무조건 한국인 취급하는데 우리는 당당히 중국인이다. ㅇㅈㄹ하고요. 깊고 정통한 중국 문화는 대를 이어서 간다. 마카오에서 K-POP 댄스 추는 거 보고 무조건 힙하지? 우리 중국 문화야 ㅋ 구미호, 기린, 용은 우리 문화다. 사람 죽으면 물에 연등 띄우는 거? 우리 중국 문화다. 동북공정 영화입니다. 영화는 자세히 보세요. 의도가 있습니다. \" href=\"javascript:void(0);\" onclick=\"unfoldPointMent(this);\">\r\n",
            "\t\t\t\t\t\t\t\t\t\t\t\t\t\t\t\t\t\t자세히 보면 중국 문화 올려치는 영화입니다. 초반부터 똥양계는 무조건 한국인 취급하는데 우리는 당당히 중국인이다. ㅇㅈㄹ하고요. 깊고 정통한 중국 문화는 대를 이어서 간다. 마카오에서 K-POP 댄스 추는 거 보고 ...\r\n",
            "\t\t\t\t\t\t\t\t\t\t\t\t\t\t\t\t\t</a>\n",
            "</span>\n",
            "</span>\n",
            "<span id=\"_filtered_ment_2\">\r\n",
            "\t\t\t\t\t\t\t\t\t\t\t\t\t\t\r\n",
            "\t\t\t\t\t\t\t\t\t\t\t\t\t\t\t\r\n",
            "\t\t\t\t\t\t\t\t\t\t\t\t\t\t\t\r\n",
            "\t\t\t\t\t\t\t\t\t\t\t\t\t\t\t\t마블의 중국산 D-War \r\n",
            "\t\t\t\t\t\t\t\t\t\t\t\t\t\t\t\r\n",
            "\t\t\t\t\t\t\t\t\t\t\t\t\t\t\r\n",
            "\t\t\t\t\t\t\t\t\t\t\t\t\t\t\r\n",
            "\t\t\t\t\t\t\t\t\t\t\t\t\t</span>\n",
            "<span id=\"_filtered_ment_3\">\n",
            "<span class=\"_unfold_ment\" id=\"_unfold_ment3\">\n",
            "<a data-src=\"세계관이나 설정들이 너무 붕 떠있고 개연성은 밥말아 먹어놓고 억지 신파 끼워넣기에 주인공은 무색무취 아무 매력 없음. 10초전 까지 죽일듯이 싸우던 애들이 갑자기 우리 함께 싸우자 ㅇㅈㄹ 하질 않나. 아부지 행동들 감정기복 너무 심해서 공감도 안가고, 사건들이 빌드업도 없이 무지성으로 튀어나오니까 몰입도 안 됨. 배우가 너무 아깝다. \" href=\"javascript:void(0);\" onclick=\"unfoldPointMent(this);\">\r\n",
            "\t\t\t\t\t\t\t\t\t\t\t\t\t\t\t\t\t\t세계관이나 설정들이 너무 붕 떠있고 개연성은 밥말아 먹어놓고 억지 신파 끼워넣기에 주인공은 무색무취 아무 매력 없음. 10초전 까지 죽일듯이 싸우던 애들이 갑자기 우리 함께 싸우자 ㅇㅈㄹ 하질 않나. 아부지 행동들 ...\r\n",
            "\t\t\t\t\t\t\t\t\t\t\t\t\t\t\t\t\t</a>\n",
            "</span>\n",
            "</span>\n",
            "<span id=\"_filtered_ment_4\">\r\n",
            "\t\t\t\t\t\t\t\t\t\t\t\t\t\t\r\n",
            "\t\t\t\t\t\t\t\t\t\t\t\t\t\t\t\r\n",
            "\t\t\t\t\t\t\t\t\t\t\t\t\t\t\t\r\n",
            "\t\t\t\t\t\t\t\t\t\t\t\t\t\t\t\t마블의 탈을 쓴 중국 무협영화. 중국 시장과 자본을 지나치게 의식한 디즈니의 연이은 헛발질. CG 범벅에 협소한 공간에서 몇 안되는 인원들의 액션 등 스케일마저 왜 이리 작아진 건지... \r\n",
            "\t\t\t\t\t\t\t\t\t\t\t\t\t\t\t\r\n",
            "\t\t\t\t\t\t\t\t\t\t\t\t\t\t\r\n",
            "\t\t\t\t\t\t\t\t\t\t\t\t\t\t\r\n",
            "\t\t\t\t\t\t\t\t\t\t\t\t\t</span>\n",
            "<span id=\"_filtered_ment_5\">\r\n",
            "\t\t\t\t\t\t\t\t\t\t\t\t\t\t\r\n",
            "\t\t\t\t\t\t\t\t\t\t\t\t\t\t\t\r\n",
            "\t\t\t\t\t\t\t\t\t\t\t\t\t\t\t\r\n",
            "\t\t\t\t\t\t\t\t\t\t\t\t\t\t\t\t하 정말 재미없네요.. \r\n",
            "\t\t\t\t\t\t\t\t\t\t\t\t\t\t\t\r\n",
            "\t\t\t\t\t\t\t\t\t\t\t\t\t\t\r\n",
            "\t\t\t\t\t\t\t\t\t\t\t\t\t\t\r\n",
            "\t\t\t\t\t\t\t\t\t\t\t\t\t</span>\n",
            "<span id=\"_filtered_ment_6\">\r\n",
            "\t\t\t\t\t\t\t\t\t\t\t\t\t\t\r\n",
            "\t\t\t\t\t\t\t\t\t\t\t\t\t\t\t\r\n",
            "\t\t\t\t\t\t\t\t\t\t\t\t\t\t\t\r\n",
            "\t\t\t\t\t\t\t\t\t\t\t\t\t\t\t\t마블 영화를 본 건지 중국 영화를 본 건지 모르겠지만 양조위는 너무 멋있더라.... \r\n",
            "\t\t\t\t\t\t\t\t\t\t\t\t\t\t\t\r\n",
            "\t\t\t\t\t\t\t\t\t\t\t\t\t\t\r\n",
            "\t\t\t\t\t\t\t\t\t\t\t\t\t\t\r\n",
            "\t\t\t\t\t\t\t\t\t\t\t\t\t</span>\n",
            "<span id=\"_filtered_ment_7\">\r\n",
            "\t\t\t\t\t\t\t\t\t\t\t\t\t\t\r\n",
            "\t\t\t\t\t\t\t\t\t\t\t\t\t\t\t\r\n",
            "\t\t\t\t\t\t\t\t\t\t\t\t\t\t\t\r\n",
            "\t\t\t\t\t\t\t\t\t\t\t\t\t\t\t\t마블의 새로운 시작이다… 재밌어요 \r\n",
            "\t\t\t\t\t\t\t\t\t\t\t\t\t\t\t\r\n",
            "\t\t\t\t\t\t\t\t\t\t\t\t\t\t\r\n",
            "\t\t\t\t\t\t\t\t\t\t\t\t\t\t\r\n",
            "\t\t\t\t\t\t\t\t\t\t\t\t\t</span>\n",
            "<span id=\"_filtered_ment_8\" style=\"display:none;\">\r\n",
            "\t\t\t\t\t\t\t\t\t\t\t\t\t\t\r\n",
            "\t\t\t\t\t\t\t\t\t\t\t\t\t\t\t\r\n",
            "\t\t\t\t\t\t\t\t\t\t\t\t\t\t\t\r\n",
            "\t\t\t\t\t\t\t\t\t\t\t\t\t\t\t\t아부지를 왜케 미워하는거지 훈련빡시케 시켰다고 그러는건가아부지를 죽인댔다가 갑자기 필요하다하고 개연성이 좀 부족..텐링즈의 전설이란 제목도 뭐 굳이... \r\n",
            "\t\t\t\t\t\t\t\t\t\t\t\t\t\t\t\r\n",
            "\t\t\t\t\t\t\t\t\t\t\t\t\t\t\r\n",
            "\t\t\t\t\t\t\t\t\t\t\t\t\t\t\r\n",
            "\t\t\t\t\t\t\t\t\t\t\t\t\t</span>\n",
            "<span id=\"_filtered_ment_9\">\r\n",
            "\t\t\t\t\t\t\t\t\t\t\t\t\t\t\r\n",
            "\t\t\t\t\t\t\t\t\t\t\t\t\t\t\t\r\n",
            "\t\t\t\t\t\t\t\t\t\t\t\t\t\t\t\r\n",
            "\t\t\t\t\t\t\t\t\t\t\t\t\t\t\t\t마블영화보면서 처음으로 졸았습니다 ㅜㅜ \r\n",
            "\t\t\t\t\t\t\t\t\t\t\t\t\t\t\t\r\n",
            "\t\t\t\t\t\t\t\t\t\t\t\t\t\t\r\n",
            "\t\t\t\t\t\t\t\t\t\t\t\t\t\t\r\n",
            "\t\t\t\t\t\t\t\t\t\t\t\t\t</span>\n"
          ]
        }
      ]
    },
    {
      "cell_type": "code",
      "metadata": {
        "id": "mtLop6M32zuF",
        "colab": {
          "base_uri": "https://localhost:8080/"
        },
        "outputId": "c2b06c61-3410-4e9a-822c-b65e1655da80"
      },
      "source": [
        "# 10명 리뷰 확인, 불필요한 HTML 태그 제거하기\n",
        "for i in range(10):\n",
        "    html_reviews = html_source.find('span',{'id': '_filtered_ment_'+str(i)}) \n",
        "    print(html_reviews.text.strip())"
      ],
      "execution_count": 48,
      "outputs": [
        {
          "output_type": "stream",
          "name": "stdout",
          "text": [
            "명품 브랜드라 믿고 샀는데 안에 made in china가 적혀있었다\n",
            "자세히 보면 중국 문화 올려치는 영화입니다. 초반부터 똥양계는 무조건 한국인 취급하는데 우리는 당당히 중국인이다. ㅇㅈㄹ하고요. 깊고 정통한 중국 문화는 대를 이어서 간다. 마카오에서 K-POP 댄스 추는 거 보고 ...\n",
            "마블의 중국산 D-War\n",
            "세계관이나 설정들이 너무 붕 떠있고 개연성은 밥말아 먹어놓고 억지 신파 끼워넣기에 주인공은 무색무취 아무 매력 없음. 10초전 까지 죽일듯이 싸우던 애들이 갑자기 우리 함께 싸우자 ㅇㅈㄹ 하질 않나. 아부지 행동들 ...\n",
            "마블의 탈을 쓴 중국 무협영화. 중국 시장과 자본을 지나치게 의식한 디즈니의 연이은 헛발질. CG 범벅에 협소한 공간에서 몇 안되는 인원들의 액션 등 스케일마저 왜 이리 작아진 건지...\n",
            "하 정말 재미없네요..\n",
            "마블 영화를 본 건지 중국 영화를 본 건지 모르겠지만 양조위는 너무 멋있더라....\n",
            "마블의 새로운 시작이다… 재밌어요\n",
            "아부지를 왜케 미워하는거지 훈련빡시케 시켰다고 그러는건가아부지를 죽인댔다가 갑자기 필요하다하고 개연성이 좀 부족..텐링즈의 전설이란 제목도 뭐 굳이...\n",
            "마블영화보면서 처음으로 졸았습니다 ㅜㅜ\n"
          ]
        }
      ]
    },
    {
      "cell_type": "code",
      "metadata": {
        "id": "TncEqpQd3c0I"
      },
      "source": [
        "# 10 페이지에 대해 댓글 수집\n",
        "from urllib.request import urlopen # 웹서버에 접근 모듈 \n",
        "from bs4 import BeautifulSoup # 웹페이지 내용구조 분석 모듈\n",
        "\n",
        "reviews_list = []\n",
        "for j in range(1, 11):\n",
        "    url='https://movie.naver.com/movie/bi/mi/pointWriteFormList.naver?code=187348&type=after&isActualPointWriteExecute=false&isMileageSubscriptionAlready=false&isMileageSubscriptionReject=false&page='+str(j)\n",
        "    html=urlopen(url)\n",
        "    html_source = BeautifulSoup(html,'html.parser',from_encoding='utf-8') # 댓글 페이지를 utf-8형식으로 html 소스가져오기\n",
        "\n",
        "    for i in range(10):\n",
        "        html_reviews = html_source.find('span',{'id': '_filtered_ment_'+str(i)}) \n",
        "        reviews_list.append(html_reviews.text.strip())\n",
        "\n",
        "file = open('reviews.txt', 'w', encoding='utf-8')\n",
        "for review in reviews_list: # 요소를 1개의 행으로 저장되도록 개행문자 추가\n",
        "    file.write(review + '\\n') # 개행 문자 추가 --> Enter, 줄바꿈 효과 \n",
        "file.close()"
      ],
      "execution_count": 49,
      "outputs": []
    },
    {
      "cell_type": "markdown",
      "metadata": {
        "id": "M86-WQzQ5A8D"
      },
      "source": [
        "크롤링한 데이터 전처리"
      ]
    },
    {
      "cell_type": "code",
      "metadata": {
        "id": "58wEPxiH4uAA"
      },
      "source": [
        "with open('reviews.txt', 'r', encoding='utf-8') as f:\n",
        "    review_data = f.readlines()\n",
        "\n",
        "f.close()"
      ],
      "execution_count": 50,
      "outputs": []
    },
    {
      "cell_type": "code",
      "metadata": {
        "id": "OSlC2cAL5Hz5",
        "colab": {
          "base_uri": "https://localhost:8080/"
        },
        "outputId": "e8a63f6e-5a79-4f6c-ce81-eb9a8b5e96ab"
      },
      "source": [
        "len(review_data)"
      ],
      "execution_count": 51,
      "outputs": [
        {
          "output_type": "execute_result",
          "data": {
            "text/plain": [
              "100"
            ]
          },
          "metadata": {},
          "execution_count": 51
        }
      ]
    },
    {
      "cell_type": "code",
      "metadata": {
        "id": "vw1rqSQUVLbb",
        "colab": {
          "base_uri": "https://localhost:8080/"
        },
        "outputId": "17357ba9-57af-4bd1-f3a5-753eb1e287a3"
      },
      "source": [
        "review_data"
      ],
      "execution_count": 52,
      "outputs": [
        {
          "output_type": "execute_result",
          "data": {
            "text/plain": [
              "['명품 브랜드라 믿고 샀는데 안에 made in china가 적혀있었다\\n',\n",
              " '자세히 보면 중국 문화 올려치는 영화입니다. 초반부터 똥양계는 무조건 한국인 취급하는데 우리는 당당히 중국인이다. ㅇㅈㄹ하고요. 깊고 정통한 중국 문화는 대를 이어서 간다. 마카오에서 K-POP 댄스 추는 거 보고 ...\\n',\n",
              " '마블의 중국산 D-War\\n',\n",
              " '세계관이나 설정들이 너무 붕 떠있고 개연성은 밥말아 먹어놓고 억지 신파 끼워넣기에 주인공은 무색무취 아무 매력 없음. 10초전 까지 죽일듯이 싸우던 애들이 갑자기 우리 함께 싸우자 ㅇㅈㄹ 하질 않나. 아부지 행동들 ...\\n',\n",
              " '마블의 탈을 쓴 중국 무협영화. 중국 시장과 자본을 지나치게 의식한 디즈니의 연이은 헛발질. CG 범벅에 협소한 공간에서 몇 안되는 인원들의 액션 등 스케일마저 왜 이리 작아진 건지...\\n',\n",
              " '하 정말 재미없네요..\\n',\n",
              " '마블 영화를 본 건지 중국 영화를 본 건지 모르겠지만 양조위는 너무 멋있더라....\\n',\n",
              " '마블의 새로운 시작이다… 재밌어요\\n',\n",
              " '아부지를 왜케 미워하는거지 훈련빡시케 시켰다고 그러는건가아부지를 죽인댔다가 갑자기 필요하다하고 개연성이 좀 부족..텐링즈의 전설이란 제목도 뭐 굳이...\\n',\n",
              " '마블영화보면서 처음으로 졸았습니다 ㅜㅜ\\n',\n",
              " '일라오이 VS 사일러스\\n',\n",
              " '진짜 개노잼이다 와 이렇게 재미없는 마블영화도 첨\\n',\n",
              " '마블 영화라 믿기지 않을 정도로 지루해.. 졸려 죽는 줄 알았다ㅠ\\n',\n",
              " '노잼, 개연성 제로, 중국산 웹툰 느낌\\n',\n",
              " '전형적인 서양에서 생각하는 온갖 동양 클리셰는 몽따 넣은 영화 .. 보면서 불편\\n',\n",
              " '보는내내ㅠ드는 생각....왜 총안씀...?\\n',\n",
              " '자기 어머니를 죽인 집단을, 다시 복수하는건데, 그걸 굳이 아버지를 미워하게 되는 관점이 좀 웃기긴함. 훈련과정속에서는 딱히 미워할요소가 없는데. 그리고 젤 황당했던게, 천년간 텐링즈끼고 잘 살아왔는데 난데없이 싸우...\\n',\n",
              " '솔직히 샹치 캐릭터의 매력이 뭔지 잘모르겠고 용타고 날라다닐땐 마블이 왜 저러나싶음...샹치 표정연기 못해서 캐릭터 몰입안됨..미스캐스팅....연기도 별로...캐릭들의 감정 이입도 어색하고(양조위 제외) 진행 전개도...\\n',\n",
              " '이게뭐냐 진짜 마블 실망\\n',\n",
              " '마블에서 디워를 만들면 이렇겠구나\\n',\n",
              " '마블을 기대하고 갔다가 추억의 중국무술영화 보고옴. 중국무술영화 좋아하던 분들은 재밌겠네. 난 뭘 보고온거지....\\n',\n",
              " '보지마.... 그냥 길에 돈과 시간을 버리자\\n',\n",
              " '마블빠돌인데 난 왤캐 별로였지...중국권문화라 거부감이 들어서인가? 그냥 그 마을 들어갈때부터 뭔가 이상했음양조위는 진짜 잘생겼고 여지껏 마블에서 볼수없었던 액션이기에 신선했음.암튼 샹치데뷔를 축하합니다\\n',\n",
              " '영상미나 액션은 정말 좋았는데 뭔가 내용 전개자체는 마블답지 못한느낌이였음 중국산무협느낌은 있을수밖에 없다고 쳐도 수룡과 괴물의 싸움은 뭔가 좀 이질감드는느낌이였고 수룡얼굴이 너무 귀여웠음 디지니 애니메이션에 나올것...\\n',\n",
              " '뛰쳐나갈뻔 개인적으로 구데기\\n',\n",
              " '영상미 이런건 좋앗지만 그냥 중국영화 보는느낌이엿습니다,\\n',\n",
              " '액션은 확실히 엄청났다.하지만 영화는 액션이 전부가 아니다스토리가 어설프니 개연성이 부족하고, 개연성이 부족하니 영화에 몰입할 수 없다.이는 곧 영화가 노잼이라는 걸 의미한다.감상포인트를 하나 강제로 선택해야 하기에...\\n',\n",
              " '마블영화맞냐 넷플로 출시해도 볼까말까한 전형적인 짱깨영화\\n',\n",
              " '개인적으로 초반 30분은 신선했으나 이후부터는 흔한 쿵푸액션. 오그라들까말까 뜬금없을까말까 아슬아슬하게 선타기하는 신파와 스토리진행. cg와 영상미는 너무 좋았음\\n',\n",
              " '양조위와 나머지의 전설...\\n',\n",
              " 'ㅋㅋㅋ 아니 왜ㅋㅋㅋ 나는 재밋었는데 ㅋ디워보다는 솔직히 낫ㅈㅣ ㅋ\\n',\n",
              " '개연성 부족, 떡밥 회수 부족, 텐링즈 설명 부족\\n',\n",
              " '그냥저냥 짱캐풍 오락영화\\n',\n",
              " '진짜 재밌어? 진짜???\\n',\n",
              " '전혀 웃기지 않은 개그. 실제로 보면 민폐일것 같은 여친. 중국풍 CG 덩어리. 모든게 마블 답지 않았다. CG로 된 짜치는 용이 나온 순간 영화 자체가 그냥 흔한 중국 영화가 되어버렸다. 뜬금없는 중국속 구미호, ...\\n',\n",
              " '샹치와 아콰피나 친구컨셉으로 가자,러브라인으로 가면 못보겠슴\\n',\n",
              " '음 그냥 중국영화 딱 중국영화 그이상도 그이하도 아니다 중화 사상은 없는데 어디서 많이 본듯한 중국 무렵 영화 장면을 그대로 보는 듯 하고 발전이 없다. 영화 유투버들이 호들갑 떨면서 중국 느낌 없다고 해서 봤지만 ...\\n',\n",
              " '중국영화에 마블스티커\\n',\n",
              " '이 영화가 볼게 얼마나 많은데! 초반 버스씬도 있고, 양조위도 있고, 그리고!... 어... 그리고...? 음... 5점\\n',\n",
              " '정말 마블의 영웅 서사는 기본기가 좋네요. 양조위는 신의 한 수!\\n',\n",
              " '그냥 중국 무협지 한편 봤다...중국영화 좋아하면 추천...아니면 노...\\n',\n",
              " '와 액션 존윅급 꼭 강추 홀리몰리\\n',\n",
              " '개인적으로 마블 영화의 강점은 확고한 그들만의 세계관과 그에따른 설득력이라 생각했는데. 샹치. 마블 히어로가 맞는가? 좀 더 완성도 있게 만든 중국무협영화 아니고? 천하의 마블이 양조위  포스에 묻어가려는 판이라니....\\n',\n",
              " '그냥 중국영화 줫노잼 스킵해도 됨\\n',\n",
              " '마블 영화라고 너무 기대함\\n',\n",
              " '양조위가 너무 연기 잘함.  샹치보다 더 뇌리에 남음.  무술은 최고점!!!\\n',\n",
              " '지루한 서사.. 갑자기 초인적 능력이 생기는게 이해가 안됨. 굳이 샹치 솔로무비가 필요했나 싶음. 솔로 없이 자연스레 마블에 합류했어도 될 것 같았음. 갠적으로 마블이 버리는 카드가 아닌가 싶었음.\\n',\n",
              " '시사회를 보고 온 사람으로 말씀드리지만 절대로 중국을 위한 영화가 아닌 그냥 마블 영화입니다. 중국투자를 받지 않았고, 양조위씨와 양자경씨는 중국 블랙리스트 배우들인데 중국을 위한 영화였다면 왜 이들을 썼을까요? 제...\\n',\n",
              " '모자란 개연성에 인공호흡하는 양조위의 연기만 남은 영화\\n',\n",
              " '마블 계급장 떼고 봐도 이건 진짜 역대급 영화임.. 스토리 좋았고 특히나 영상미는 미친 퀄리티임 진짜.\\n',\n",
              " '양조위 말고는 딱히 남는 게 없는\\n',\n",
              " '디워의 재림이란 말이 괜히 나온게 아니네  동양판타지 요소를 너무 과하게 넣음.. 특히 마지막 진 보스와 쫄따구 디자인은 어거지로 급하게 만들어 넣은느낌\\n',\n",
              " '다른 건 모르겠고 양조위 형님 얼굴에 주름 생긴 거 보니 가슴이 아파온다.\\n',\n",
              " '여기 댓글창 무슨일? 다들 샹치가 중국현지 개봉 및 홍보 금지처분 받은건 알고 말하는건가 감독님은 하와이안이고 케이티역인 아콰피나는 한국계 미국인이고 심지어 샹치 역을 맡은 시무리우 배우는 캐나다 이민 출신인데 할머...\\n',\n",
              " '미친 액션.. 진짜 화려해요양조위님은.. 늙지도 않으시고 너무 멋지고 애잔한 연기 좋아요\\n',\n",
              " '막 재밌다는건 아니고 쓰읍 하 아 뭐랄까 그냥 중국??\\n',\n",
              " '마지막 10분 정도만 존재감이 나타나는 주인공과 왠지 모르게 웃음이 나오는 액션씬. 디워와 쿵푸 팬더를 합쳐놓은 듯하다.\\n',\n",
              " '이게 슈X 드래곤볼이지 마블이아?\\n',\n",
              " '액션 ok 근데 이야기의 큰 줄기가 없다. 그냥 개연성이 부족한 오락영화\\n',\n",
              " '양조위 진짜 미쳤다 액션 눈빛 영어 다 대대대대존멋ㅠㅠ 액션 스케일도 쩔고 재밌는데 기승전 양조위 진짜 미쳤음\\n',\n",
              " '아니 마블 원작은 알고서 사람들이 욕을 하는건지 애초에 샹치라는 캐릭터 자체가 중국계 캐릭터고 마블에 이미 예전부터 샹치를 다루는 영화를 만들거라고 마블의 새로운 액션을 시도하겠다고 오래전부터 예고하고 있었는데무작정...\\n',\n",
              " '크게 기대는 안했지만 마블영화같지도않고 기대치보다도 낮네요.마블영화인데 보다가 졸았습니다.\\n',\n",
              " '이건 너무 충격적이다..마블 ㅂㄷ\\n',\n",
              " '영화관을 나오는데...장어먹고 싶드라..\\n',\n",
              " '마블 팬이라면 볼만하다는 댓글이 있는데 무슨소리인지 모르겠다. VOD로도 진짜 보기 아깝다.\\n',\n",
              " '마블답지 않은 전개에요\\n',\n",
              " '용이랑 괴물이 싸우는 장면에서 b급 중국영화 느낌이 나서 아쉬웠음\\n',\n",
              " '역시 cg처리를 비롯한 영상미는 끝내줬어요. 근데 너무나도 중국중국중국,, 언어만 영어를 사용할 뿐 언어를 제외한 영화의 모든게 중국!!! 내용도 뻔하고,,, 마블처돌이는 샹치를 보고 웁니다 ㅜㅅㅜ\\n',\n",
              " '너무 여러 가지 요소들을 짬뽕시켜놔서 좀 뜬금없는 느낌이 있었음\\n',\n",
              " '마블 껍데기 쓴 뻔한 중국 영화\\n',\n",
              " '양조위와 텐 링즈의 전설\\n',\n",
              " '마블을 보는건지, 중국영화를 보는건지...용 나올땐 어이가 없더라구요.영화전개도 별로고 마음에 드는게 하나도없었네요 ㅜ 영화보다가 잘뻔.\\n',\n",
              " '갠적으루 웬우 서사가 샹치 서사보다 더 좋았다ㅎㅎㅎ\\n',\n",
              " '양조위씨 아버지의 애증연기가  다했습니다\\n',\n",
              " '와...나 양조위 좋아하네\\n',\n",
              " '뒷부분 하이라이트보다 앞부분 버스 씬이 더 샹치스러웠다\\n',\n",
              " '초중반까지 분위기 좋다가 갑자기 중국전통 판타지 무협영화가 되버려서 아쉬웠네요.\\n',\n",
              " '양조위만 남았다..\\n',\n",
              " '중국풍이 넘 강해서 생각만큼 재밌진 않음 그냥 마블이라서 봄\\n',\n",
              " '액션에 공들인 게 확연히 느껴진다. 여느 슈퍼히어로 영화들과 같이 스토리 자체는 지극히 평범했다. 예상했던 대로 할리우드 특유의 오리엔탈리즘도 부각되었다. 이러한 점들을 감안해도 이 정도 완성도를 뽑아냈다는 것에 만...\\n',\n",
              " '마블영화라는 프레임에 속지마세요~\\n',\n",
              " '쿠키영상이 다했다 내용도 뻔한 클리셰지만 마블답게 잘 풀어낸거같음\\n',\n",
              " '마블 영화 중에 제일 재미없게 봤음ㅠㅠ\\n',\n",
              " '세상에 존재하는 클리셰는 다 집어넣은듯ㅋㅋㅋ 액션 많은건 좋은데 싸우다가 왜 죽는거 구경만 하는거에 답답함을 느낌\\n',\n",
              " '아버지를 저렇게까지 미워하는 게 좀 공감이 안갔다.\\n',\n",
              " '뭐 액션은 말이 필요없는 수준이고 마지막 클라이맥스 씬에서 스케일이나 영상미가 예술이었음ㅋㅋㅋ  페이즈 4에서 아주 중요한 영화인 듯하니 아이맥스로 꼭 보시길!\\n',\n",
              " '오랜만에 잘잤다 덕분에 꿀잠\\n',\n",
              " '마블 영화 중 최악ㅎㅎㅋㅋ\\n',\n",
              " \"호불호가 많이 갈리네요 전 '호'였습니다\\n\",\n",
              " '진심 중국은 마블 내에서도 민폐네요 중국산은 어떻게든 위상 높일려고 안달난 느낌 올림픽이든 뭐든 다 발악하겠지만 아무도 인정 안해줍니다\\n',\n",
              " '재미도 없고 그냥 다 별로..\\n',\n",
              " '머리는 샹치 응원하는데,, 마음은 양조위 응원함,, 명불허전 양조위ㅠㅠ\\n',\n",
              " '편의점 집 아들이 많이 컸네\\n',\n",
              " '중국맛이랑 헐리우드맛이랑 잘 섞어놨다고 생각하고, 나는 뭐 영화보는데 불편하지 않았고 액션 좋고 재밌었다.\\n',\n",
              " '샹치배우 최선이었나\\n',\n",
              " '양조위는 항상 옳다\\n',\n",
              " '이번건 마블영화야 중화사상 영화가 아니라고..\\n',\n",
              " '샹치의 매력은 잘 모르겠으나 양조위는 좋았음\\n',\n",
              " '재미있기는 했는데, 중국의 전통 무술은 이제 확실히 유치하다고 생각이 든다..\\n',\n",
              " '마블 상자안에 짱 ㄱ 영화임. 개연성도 그닥이고 액션도 무슨 이돈주고 짱 ㄱ 영화 보지 말고 치킨에 맥주 드셈\\n']"
            ]
          },
          "metadata": {},
          "execution_count": 52
        }
      ]
    },
    {
      "cell_type": "markdown",
      "metadata": {
        "id": "OYCOwtG75XiC"
      },
      "source": [
        "한글만 남기고 다른 글자 제거"
      ]
    },
    {
      "cell_type": "code",
      "metadata": {
        "id": "bXqQbEU15IuH",
        "colab": {
          "base_uri": "https://localhost:8080/"
        },
        "outputId": "26d9f4ff-ae7d-4282-8ee2-17f584a2eab6"
      },
      "source": [
        "import re\n",
        "\n",
        "tmp = re.sub('[^ 가-힣]', '', review_data[8])\n",
        "print(tmp)"
      ],
      "execution_count": 53,
      "outputs": [
        {
          "output_type": "stream",
          "name": "stdout",
          "text": [
            "아부지를 왜케 미워하는거지 훈련빡시케 시켰다고 그러는건가아부지를 죽인댔다가 갑자기 필요하다하고 개연성이 좀 부족텐링즈의 전설이란 제목도 뭐 굳이\n"
          ]
        }
      ]
    },
    {
      "cell_type": "code",
      "metadata": {
        "id": "mPji4L4e6Pqz",
        "colab": {
          "base_uri": "https://localhost:8080/"
        },
        "outputId": "59cf579a-57cb-4150-93b8-8962ec72369e"
      },
      "source": [
        "tmp = re.sub(' +', ' ', tmp)\n",
        "print(tmp)"
      ],
      "execution_count": 54,
      "outputs": [
        {
          "output_type": "stream",
          "name": "stdout",
          "text": [
            "아부지를 왜케 미워하는거지 훈련빡시케 시켰다고 그러는건가아부지를 죽인댔다가 갑자기 필요하다하고 개연성이 좀 부족텐링즈의 전설이란 제목도 뭐 굳이\n"
          ]
        }
      ]
    },
    {
      "cell_type": "code",
      "metadata": {
        "id": "9sV76A9O67SG",
        "colab": {
          "base_uri": "https://localhost:8080/"
        },
        "outputId": "6fb45aed-3789-4094-e524-539c2ca510dc"
      },
      "source": [
        "from pykospacing import Spacing\n",
        "\n",
        "spacing = Spacing()\n",
        "kospacing_sent = spacing(tmp) \n",
        "\n",
        "print(kospacing_sent)"
      ],
      "execution_count": 55,
      "outputs": [
        {
          "output_type": "stream",
          "name": "stdout",
          "text": [
            "아부지를 왜 케 미워하는 거지 훈련 빡시 케 시켰다고 그러는 건가 아부지를 죽인 댔다가 갑자기 필요하다 하고 개연성이 좀 부족 텐링즈의 전설이란 제목도 뭐 굳이\n"
          ]
        }
      ]
    },
    {
      "cell_type": "code",
      "metadata": {
        "id": "UAjowSa67I2-",
        "colab": {
          "base_uri": "https://localhost:8080/"
        },
        "outputId": "74c5ef5f-8d0d-4a14-8ca9-0532b67e7786"
      },
      "source": [
        "from hanspell import spell_checker\n",
        "\n",
        "spelled_sent = spell_checker.check(tmp)\n",
        "\n",
        "hanspell_sent = spelled_sent.checked\n",
        "print(hanspell_sent)"
      ],
      "execution_count": 56,
      "outputs": [
        {
          "output_type": "stream",
          "name": "stdout",
          "text": [
            "아버지를 왜 이렇게 미워하는 거지 훈련빡시케 시켰다고 그러는 건가 아버지를 죽인댔다가 갑자기 필요하다 하고 개연성이 좀 부족텐링즈의 전설이란 제목도 뭐 굳이\n"
          ]
        }
      ]
    },
    {
      "cell_type": "code",
      "metadata": {
        "id": "ouLxPt1IaY2O"
      },
      "source": [
        ""
      ],
      "execution_count": 56,
      "outputs": []
    }
  ]
}