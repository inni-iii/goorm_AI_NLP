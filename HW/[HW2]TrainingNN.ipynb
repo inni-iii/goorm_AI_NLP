{
  "nbformat": 4,
  "nbformat_minor": 0,
  "metadata": {
    "accelerator": "GPU",
    "colab": {
      "name": "[HW2]TrainingNN.ipynb",
      "provenance": [],
      "collapsed_sections": []
    },
    "kernelspec": {
      "display_name": "Python 3",
      "name": "python3"
    },
    "language_info": {
      "name": "python"
    }
  },
  "cells": [
    {
      "cell_type": "markdown",
      "metadata": {
        "id": "jR26RFkwXtvi"
      },
      "source": [
        "# **[HW2] Training Neural Network**\n",
        "1. Prerequisite\n",
        "2. Activation\n",
        "3. Optimizer\n",
        "4. Regularization\n",
        "5. FC vs Conv\n",
        "6. Do it by yourself\n",
        "\n",
        "이번 실습에서는 지난 시간에 배웠던 MLP-layer의 component들을 하나씩 바꿔가며 activation, optimizer, regularization, convolution layer등의 중요성을 하나씩 익혀가는 시간을 갖도록 하겠습니다.  "
      ]
    },
    {
      "cell_type": "markdown",
      "metadata": {
        "id": "xp3f6JjmmlC3"
      },
      "source": [
        "# 1. Prerequisite\n",
        "\n",
        "본격적인 실습을 진행하기 이전, 지난 [HW1.2 Logistic Regression vs MLP]에서 진행했던것과 동일하게 \\\\\n",
        "Mnist dataset에 대해서 DataLoader와 Trainer class를 생성해두겠습니다."
      ]
    },
    {
      "cell_type": "markdown",
      "metadata": {
        "id": "crVJ36mMlaXP"
      },
      "source": [
        "\n",
        "\n",
        "## Import packages"
      ]
    },
    {
      "cell_type": "markdown",
      "metadata": {
        "id": "zpvlE_XOWS33"
      },
      "source": [
        "런타임의 유형을 변경해줍니다.\n",
        "\n",
        "상단 메뉴에서 [런타임]->[런타임유형변경]->[하드웨어가속기]->[GPU]\n",
        "\n",
        "변경 이후 아래의 cell을 실행 시켰을 때, torch.cuda.is_avialable()이 True가 나와야 합니다.\n",
        "\n"
      ]
    },
    {
      "cell_type": "code",
      "metadata": {
        "id": "cqVdEuPQzMAH",
        "colab": {
          "base_uri": "https://localhost:8080/"
        },
        "outputId": "56c6ff42-e945-4a24-a115-902f5cef5dcd"
      },
      "source": [
        "import torch\n",
        "import torch.nn as nn\n",
        "import torch.nn.functional as F\n",
        "import torchvision\n",
        "import torch.optim as optim\n",
        "from torch.utils import data\n",
        "print(torch.__version__)\n",
        "print(torch.cuda.is_available())"
      ],
      "execution_count": 1,
      "outputs": [
        {
          "output_type": "stream",
          "name": "stdout",
          "text": [
            "1.12.0+cu113\n",
            "True\n"
          ]
        }
      ]
    },
    {
      "cell_type": "code",
      "metadata": {
        "id": "2o3-HPdHLZma"
      },
      "source": [
        "import matplotlib.pyplot as plt\n",
        "import numpy as np\n",
        "import scipy as sp\n",
        "from sklearn.datasets import fetch_openml\n",
        "from sklearn.model_selection import train_test_split\n",
        "\n",
        "np.set_printoptions(precision=3)\n",
        "np.set_printoptions(suppress=True)"
      ],
      "execution_count": 2,
      "outputs": []
    },
    {
      "cell_type": "markdown",
      "metadata": {
        "id": "nMkIJgfEl9kD"
      },
      "source": [
        "## Load Dataset"
      ]
    },
    {
      "cell_type": "code",
      "metadata": {
        "id": "oCnmrA9ltYs0",
        "colab": {
          "base_uri": "https://localhost:8080/"
        },
        "outputId": "282b8b0d-6a37-4abe-b94b-f4171f22cfc8"
      },
      "source": [
        "mnist = fetch_openml('mnist_784', cache=False)\n",
        "X = mnist.data.astype('float32').values\n",
        "y = mnist.target.astype('int64').values\n",
        "X /= 255.0\n",
        "print(X.shape)\n",
        "print(y.shape)"
      ],
      "execution_count": 3,
      "outputs": [
        {
          "output_type": "stream",
          "name": "stdout",
          "text": [
            "(70000, 784)\n",
            "(70000,)\n"
          ]
        }
      ]
    },
    {
      "cell_type": "markdown",
      "metadata": {
        "id": "zB-u3e9taDjT"
      },
      "source": [
        "## Split Dataset\n",
        "\n",
        "학습과 평가를 위한 dataset으로 나눕니다."
      ]
    },
    {
      "cell_type": "code",
      "metadata": {
        "id": "-HWWRcNjaLDi",
        "colab": {
          "base_uri": "https://localhost:8080/"
        },
        "outputId": "95f078b0-9c7a-4f8d-bcc9-a32ec8bfdf33"
      },
      "source": [
        "X_train, X_test, y_train, y_test = train_test_split(X, y, test_size=0.2)\n",
        "print(X_train.shape)\n",
        "print(y_train.shape)\n",
        "print(X_test.shape)\n",
        "print(y_test.shape)"
      ],
      "execution_count": 4,
      "outputs": [
        {
          "output_type": "stream",
          "name": "stdout",
          "text": [
            "(56000, 784)\n",
            "(56000,)\n",
            "(14000, 784)\n",
            "(14000,)\n"
          ]
        }
      ]
    },
    {
      "cell_type": "markdown",
      "metadata": {
        "id": "sYnvqbdijWUQ"
      },
      "source": [
        "## Pytorch Dataset "
      ]
    },
    {
      "cell_type": "code",
      "metadata": {
        "id": "Ypqp7zA-xRlB"
      },
      "source": [
        "class CustomDataset(torch.utils.data.Dataset):\n",
        "    def __init__(self, X, y):\n",
        "        super(CustomDataset, self).__init__()\n",
        "        self.X = X\n",
        "        self.y = y\n",
        "        \n",
        "    def __getitem__(self, index):\n",
        "        x = self.X[index]\n",
        "        y = self.y[index]\n",
        "        x = torch.from_numpy(x).float()\n",
        "        y = torch.from_numpy(np.array(y)).long()\n",
        "        return x, y\n",
        "\n",
        "    def __len__(self):\n",
        "        return len(self.X)"
      ],
      "execution_count": 5,
      "outputs": []
    },
    {
      "cell_type": "code",
      "metadata": {
        "id": "hTr4OWatzmaU",
        "colab": {
          "base_uri": "https://localhost:8080/"
        },
        "outputId": "5bf44fff-d06d-4ca0-ace4-4a266d68fa32"
      },
      "source": [
        "train_dataset = CustomDataset(X_train, y_train)\n",
        "test_dataset = CustomDataset(X_test, y_test)\n",
        "\n",
        "print(len(train_dataset))\n",
        "print(train_dataset.X.shape)\n",
        "print(len(test_dataset))\n",
        "print(test_dataset.X.shape)"
      ],
      "execution_count": 6,
      "outputs": [
        {
          "output_type": "stream",
          "name": "stdout",
          "text": [
            "56000\n",
            "(56000, 784)\n",
            "14000\n",
            "(14000, 784)\n"
          ]
        }
      ]
    },
    {
      "cell_type": "markdown",
      "metadata": {
        "id": "51PT-uPVzE8_"
      },
      "source": [
        "## DataLoader\n"
      ]
    },
    {
      "cell_type": "code",
      "metadata": {
        "id": "x2k3YVBoxRnF",
        "colab": {
          "base_uri": "https://localhost:8080/"
        },
        "outputId": "bdba9640-88a6-46fe-b117-53b6034a0a69"
      },
      "source": [
        "batch_size = 64\n",
        "\n",
        "# shuffle the train data\n",
        "train_dataloader = torch.utils.data.DataLoader(train_dataset, batch_size=batch_size, shuffle=True)\n",
        "\n",
        "# do not shuffle the val & test data\n",
        "test_dataloader = torch.utils.data.DataLoader(test_dataset, batch_size=batch_size, shuffle=False)\n",
        "\n",
        "# dataset size // batch_size\n",
        "print(len(train_dataloader))\n",
        "print(len(test_dataloader))"
      ],
      "execution_count": 7,
      "outputs": [
        {
          "output_type": "stream",
          "name": "stdout",
          "text": [
            "875\n",
            "219\n"
          ]
        }
      ]
    },
    {
      "cell_type": "markdown",
      "metadata": {
        "id": "BN65oTBk1d4T"
      },
      "source": [
        "## Trainer\n"
      ]
    },
    {
      "cell_type": "code",
      "metadata": {
        "id": "OJqIwSltn9uY"
      },
      "source": [
        "class Trainer():\n",
        "    def __init__(self, trainloader, testloader, model, optimizer, criterion, device):\n",
        "        \"\"\"\n",
        "        trainloader: train data's loader\n",
        "        testloader: test data's loader\n",
        "        model: model to train\n",
        "        optimizer: optimizer to update your model\n",
        "        criterion: loss function\n",
        "        \"\"\"\n",
        "        self.trainloader = trainloader\n",
        "        self.testloader = testloader\n",
        "        self.model = model\n",
        "        self.optimizer = optimizer\n",
        "        self.criterion = criterion\n",
        "        self.device = device\n",
        "        \n",
        "    def train(self, epoch = 1):\n",
        "        self.model.train()\n",
        "        for e in range(epoch):\n",
        "            running_loss = 0.0  \n",
        "            for i, data in enumerate(self.trainloader, 0): \n",
        "                inputs, labels = data \n",
        "                # model에 input으로 tensor를 gpu-device로 보낸다\n",
        "                inputs = inputs.to(self.device)  \n",
        "                labels = labels.to(self.device)\n",
        "                # zero the parameter gradients\n",
        "                self.optimizer.zero_grad()    \n",
        "                # forward + backward + optimize\n",
        "                outputs = self.model(inputs) \n",
        "                loss = self.criterion(outputs, labels)  \n",
        "                loss.backward() \n",
        "                self.optimizer.step() \n",
        "                running_loss += loss.item()\n",
        "            \n",
        "            print('epoch: %d  loss: %.3f' % (e + 1, running_loss / len(self.trainloader)))\n",
        "            running_loss = 0.0\n",
        "        \n",
        "    def test(self):\n",
        "        self.model.eval() \n",
        "        correct = 0\n",
        "        for inputs, labels in self.testloader:\n",
        "            inputs = inputs.to(self.device)\n",
        "            labels = labels.to(self.device)\n",
        "            output = self.model(inputs) \n",
        "            pred = output.max(1, keepdim=True)[1] # get the index of the max \n",
        "            correct += pred.eq(labels.view_as(pred)).sum().item()\n",
        "        test_acc = correct / len(self.testloader.dataset)\n",
        "        print('test_acc: %.3f' %(test_acc))"
      ],
      "execution_count": 8,
      "outputs": []
    },
    {
      "cell_type": "markdown",
      "metadata": {
        "id": "T1GnKJCB4T_Q"
      },
      "source": [
        "# 2. Activation Function\n",
        "\n",
        "이번 section에서는 가장 대표적으로 사용되는 sigmoid function과 relu function을 사용해보고 비교해보도록 하겠습니다.\n",
        "\n",
        "![](https://drive.google.com/uc?export=view&id=1xfJBd9v9L_RgXGf8urNrYpb40zXU6gea)\n"
      ]
    },
    {
      "cell_type": "markdown",
      "metadata": {
        "id": "uUhK8GHx0704"
      },
      "source": [
        "- input: 784\n",
        "- hidden: 32 or (32, 32)\n",
        "- output: 10\n",
        "- **activation: sigmoid or relu**\n",
        "- optimizer: sgd\n",
        "- loss: cross-entropy"
      ]
    },
    {
      "cell_type": "markdown",
      "metadata": {
        "id": "7zPmZhpZlZkQ"
      },
      "source": [
        "## 2-layer Network + Sigmoid"
      ]
    },
    {
      "cell_type": "code",
      "metadata": {
        "id": "EPfV0OTc4Xdr",
        "colab": {
          "base_uri": "https://localhost:8080/"
        },
        "outputId": "235b5cb1-ba66-480b-be6d-2f1ed71e1f84"
      },
      "source": [
        "class MLP(nn.Module):\n",
        "    def __init__(self, \n",
        "                 input_dim=784, \n",
        "                 hidden_dim=32, \n",
        "                 output_dim=10):\n",
        "        super(MLP, self).__init__()\n",
        "        self.fc1 = nn.Linear(input_dim, hidden_dim)\n",
        "        self.fc2 = nn.Linear(hidden_dim, output_dim)\n",
        "\n",
        "    def forward(self, x):\n",
        "        x = self.fc1(x)\n",
        "        x = F.sigmoid(x)\n",
        "        x = self.fc2(x)\n",
        "        return x\n",
        "\n",
        "model = MLP()\n",
        "criterion = nn.CrossEntropyLoss()\n",
        "optimizer = optim.SGD(model.parameters(), lr=0.01)\n",
        "device = torch.device('cuda')\n",
        "model.to(device)"
      ],
      "execution_count": 9,
      "outputs": [
        {
          "output_type": "execute_result",
          "data": {
            "text/plain": [
              "MLP(\n",
              "  (fc1): Linear(in_features=784, out_features=32, bias=True)\n",
              "  (fc2): Linear(in_features=32, out_features=10, bias=True)\n",
              ")"
            ]
          },
          "metadata": {},
          "execution_count": 9
        }
      ]
    },
    {
      "cell_type": "code",
      "metadata": {
        "id": "FKqcfL4_qK6Q",
        "colab": {
          "base_uri": "https://localhost:8080/"
        },
        "outputId": "79470b3c-89db-49d8-b41d-220505e7611a"
      },
      "source": [
        "trainer = Trainer(trainloader = train_dataloader,\n",
        "                  testloader = test_dataloader,\n",
        "                  model = model,\n",
        "                  criterion = criterion,\n",
        "                  optimizer = optimizer,\n",
        "                  device = device)\n",
        "\n",
        "trainer.train(epoch = 10)"
      ],
      "execution_count": 10,
      "outputs": [
        {
          "output_type": "stream",
          "name": "stderr",
          "text": [
            "/usr/local/lib/python3.7/dist-packages/torch/nn/functional.py:1960: UserWarning: nn.functional.sigmoid is deprecated. Use torch.sigmoid instead.\n",
            "  warnings.warn(\"nn.functional.sigmoid is deprecated. Use torch.sigmoid instead.\")\n"
          ]
        },
        {
          "output_type": "stream",
          "name": "stdout",
          "text": [
            "epoch: 1  loss: 2.186\n",
            "epoch: 2  loss: 1.793\n",
            "epoch: 3  loss: 1.341\n",
            "epoch: 4  loss: 1.039\n",
            "epoch: 5  loss: 0.855\n",
            "epoch: 6  loss: 0.736\n",
            "epoch: 7  loss: 0.653\n",
            "epoch: 8  loss: 0.593\n",
            "epoch: 9  loss: 0.547\n",
            "epoch: 10  loss: 0.510\n"
          ]
        }
      ]
    },
    {
      "cell_type": "code",
      "metadata": {
        "id": "mgD1bTOzqK-n",
        "colab": {
          "base_uri": "https://localhost:8080/"
        },
        "outputId": "9b838d2f-e529-437c-c26f-10cd442f8f4c"
      },
      "source": [
        "trainer.test()"
      ],
      "execution_count": 11,
      "outputs": [
        {
          "output_type": "stream",
          "name": "stdout",
          "text": [
            "test_acc: 0.880\n"
          ]
        },
        {
          "output_type": "stream",
          "name": "stderr",
          "text": [
            "/usr/local/lib/python3.7/dist-packages/torch/nn/functional.py:1960: UserWarning: nn.functional.sigmoid is deprecated. Use torch.sigmoid instead.\n",
            "  warnings.warn(\"nn.functional.sigmoid is deprecated. Use torch.sigmoid instead.\")\n"
          ]
        }
      ]
    },
    {
      "cell_type": "markdown",
      "metadata": {
        "id": "yKxP2nzvVC_O"
      },
      "source": [
        "## 2-layer Network + ReLU"
      ]
    },
    {
      "cell_type": "code",
      "metadata": {
        "id": "0gRfskIWWQEf",
        "colab": {
          "base_uri": "https://localhost:8080/"
        },
        "outputId": "0aa278ac-b0ee-42aa-b55c-047685693dda"
      },
      "source": [
        "class MLP(nn.Module):\n",
        "    def __init__(self, \n",
        "                 input_dim=784, \n",
        "                 hidden_dim=32, \n",
        "                 output_dim=10):\n",
        "        super(MLP, self).__init__()\n",
        "        self.fc1 = nn.Linear(input_dim, hidden_dim)\n",
        "        self.fc2 = nn.Linear(hidden_dim, output_dim)\n",
        "\n",
        "    def forward(self, x):\n",
        "        x = self.fc1(x)\n",
        "        x = F.relu(x)\n",
        "        x = self.fc2(x)\n",
        "        return x\n",
        "\n",
        "model = MLP()\n",
        "criterion = nn.CrossEntropyLoss()\n",
        "optimizer = optim.SGD(model.parameters(), lr=0.01)\n",
        "device = torch.device('cuda')\n",
        "model.to(device)"
      ],
      "execution_count": 12,
      "outputs": [
        {
          "output_type": "execute_result",
          "data": {
            "text/plain": [
              "MLP(\n",
              "  (fc1): Linear(in_features=784, out_features=32, bias=True)\n",
              "  (fc2): Linear(in_features=32, out_features=10, bias=True)\n",
              ")"
            ]
          },
          "metadata": {},
          "execution_count": 12
        }
      ]
    },
    {
      "cell_type": "code",
      "metadata": {
        "id": "DVKoXvlYryMK",
        "colab": {
          "base_uri": "https://localhost:8080/"
        },
        "outputId": "6f5f2473-2047-4e10-9df2-14675e98e94c"
      },
      "source": [
        "trainer = Trainer(trainloader = train_dataloader,\n",
        "                  testloader = test_dataloader,\n",
        "                  model = model,\n",
        "                  criterion = criterion,\n",
        "                  optimizer = optimizer,\n",
        "                  device = device)\n",
        "\n",
        "trainer.train(epoch = 10)"
      ],
      "execution_count": 13,
      "outputs": [
        {
          "output_type": "stream",
          "name": "stdout",
          "text": [
            "epoch: 1  loss: 1.402\n",
            "epoch: 2  loss: 0.528\n",
            "epoch: 3  loss: 0.408\n",
            "epoch: 4  loss: 0.365\n",
            "epoch: 5  loss: 0.340\n",
            "epoch: 6  loss: 0.323\n",
            "epoch: 7  loss: 0.310\n",
            "epoch: 8  loss: 0.300\n",
            "epoch: 9  loss: 0.291\n",
            "epoch: 10  loss: 0.283\n"
          ]
        }
      ]
    },
    {
      "cell_type": "code",
      "metadata": {
        "id": "z0wcOPU_ryOg",
        "colab": {
          "base_uri": "https://localhost:8080/"
        },
        "outputId": "479b7ed7-e180-4b02-90f8-4eb40f0c1839"
      },
      "source": [
        "trainer.test()"
      ],
      "execution_count": 14,
      "outputs": [
        {
          "output_type": "stream",
          "name": "stdout",
          "text": [
            "test_acc: 0.918\n"
          ]
        }
      ]
    },
    {
      "cell_type": "markdown",
      "metadata": {
        "id": "2RyAkEQEr-OV"
      },
      "source": [
        "#### Q1. Activation Function에 따라 성능의 차이가 있나요? 있다면, 왜 차이가 발생했을까요?\n",
        "\n",
        "\n"
      ]
    },
    {
      "cell_type": "markdown",
      "metadata": {
        "id": "2D2tIM62sUW4"
      },
      "source": [
        "## 3-layer Network + Sigmoid"
      ]
    },
    {
      "cell_type": "code",
      "metadata": {
        "id": "29TauDy4ryQ0",
        "colab": {
          "base_uri": "https://localhost:8080/"
        },
        "outputId": "8ea8a10b-2ee4-484b-ca94-8857cbcfa57c"
      },
      "source": [
        "class MLP(nn.Module):\n",
        "    def __init__(self, \n",
        "                 input_dim=784, \n",
        "                 hidden_dim=(32,32), \n",
        "                 output_dim=10):\n",
        "        super(MLP, self).__init__()\n",
        "        self.fc1 = nn.Linear(input_dim, hidden_dim[0])\n",
        "        self.fc2 = nn.Linear(hidden_dim[0], hidden_dim[1])\n",
        "        self.fc3 = nn.Linear(hidden_dim[1], output_dim)\n",
        "\n",
        "    def forward(self, x):\n",
        "        x = self.fc1(x)\n",
        "        x = F.sigmoid(x)\n",
        "        x = self.fc2(x)\n",
        "        x = F.sigmoid(x)\n",
        "        x = self.fc3(x)\n",
        "        return x\n",
        "\n",
        "model = MLP()\n",
        "criterion = nn.CrossEntropyLoss()\n",
        "optimizer = optim.SGD(model.parameters(), lr=0.01)\n",
        "device = torch.device('cuda')\n",
        "model.to(device)"
      ],
      "execution_count": 15,
      "outputs": [
        {
          "output_type": "execute_result",
          "data": {
            "text/plain": [
              "MLP(\n",
              "  (fc1): Linear(in_features=784, out_features=32, bias=True)\n",
              "  (fc2): Linear(in_features=32, out_features=32, bias=True)\n",
              "  (fc3): Linear(in_features=32, out_features=10, bias=True)\n",
              ")"
            ]
          },
          "metadata": {},
          "execution_count": 15
        }
      ]
    },
    {
      "cell_type": "code",
      "metadata": {
        "id": "5oS8LPa6ryVd",
        "colab": {
          "base_uri": "https://localhost:8080/"
        },
        "outputId": "7e670c1f-2eb6-48fb-b5b5-07dc5e569f8d"
      },
      "source": [
        "trainer = Trainer(trainloader = train_dataloader,\n",
        "                  testloader = test_dataloader,\n",
        "                  model = model,\n",
        "                  criterion = criterion,\n",
        "                  optimizer = optimizer,\n",
        "                  device = device)\n",
        "\n",
        "trainer.train(epoch = 10)"
      ],
      "execution_count": 16,
      "outputs": [
        {
          "output_type": "stream",
          "name": "stderr",
          "text": [
            "/usr/local/lib/python3.7/dist-packages/torch/nn/functional.py:1960: UserWarning: nn.functional.sigmoid is deprecated. Use torch.sigmoid instead.\n",
            "  warnings.warn(\"nn.functional.sigmoid is deprecated. Use torch.sigmoid instead.\")\n"
          ]
        },
        {
          "output_type": "stream",
          "name": "stdout",
          "text": [
            "epoch: 1  loss: 2.299\n",
            "epoch: 2  loss: 2.293\n",
            "epoch: 3  loss: 2.286\n",
            "epoch: 4  loss: 2.274\n",
            "epoch: 5  loss: 2.252\n",
            "epoch: 6  loss: 2.208\n",
            "epoch: 7  loss: 2.122\n",
            "epoch: 8  loss: 1.975\n",
            "epoch: 9  loss: 1.788\n",
            "epoch: 10  loss: 1.601\n"
          ]
        }
      ]
    },
    {
      "cell_type": "code",
      "metadata": {
        "id": "ZfCOr5-lryZy",
        "colab": {
          "base_uri": "https://localhost:8080/"
        },
        "outputId": "c0be30ba-41c0-4192-e33d-dc28fdee00c2"
      },
      "source": [
        "trainer.test()"
      ],
      "execution_count": 17,
      "outputs": [
        {
          "output_type": "stream",
          "name": "stdout",
          "text": [
            "test_acc: 0.556\n"
          ]
        },
        {
          "output_type": "stream",
          "name": "stderr",
          "text": [
            "/usr/local/lib/python3.7/dist-packages/torch/nn/functional.py:1960: UserWarning: nn.functional.sigmoid is deprecated. Use torch.sigmoid instead.\n",
            "  warnings.warn(\"nn.functional.sigmoid is deprecated. Use torch.sigmoid instead.\")\n"
          ]
        }
      ]
    },
    {
      "cell_type": "markdown",
      "metadata": {
        "id": "0zPtZFsZtAVy"
      },
      "source": [
        "## 3-layer Network + ReLU"
      ]
    },
    {
      "cell_type": "code",
      "metadata": {
        "id": "xucFjeWLryd-",
        "colab": {
          "base_uri": "https://localhost:8080/"
        },
        "outputId": "ede0ecaa-761a-4794-a2b2-a070363b58e3"
      },
      "source": [
        "class MLP(nn.Module):\n",
        "    def __init__(self, \n",
        "                 input_dim=784, \n",
        "                 hidden_dim=(32,32), \n",
        "                 output_dim=10):\n",
        "        super(MLP, self).__init__()\n",
        "        self.fc1 = nn.Linear(input_dim, hidden_dim[0])\n",
        "        self.fc2 = nn.Linear(hidden_dim[0], hidden_dim[1])\n",
        "        self.fc3 = nn.Linear(hidden_dim[1], output_dim)\n",
        "\n",
        "    def forward(self, x):\n",
        "        x = self.fc1(x)\n",
        "        x = F.relu(x)\n",
        "        x = self.fc2(x)\n",
        "        x = F.relu(x)\n",
        "        x = self.fc3(x)\n",
        "        return x\n",
        "\n",
        "model = MLP()\n",
        "criterion = nn.CrossEntropyLoss()\n",
        "optimizer = optim.SGD(model.parameters(), lr=0.01)\n",
        "device = torch.device('cuda')\n",
        "model.to(device)"
      ],
      "execution_count": 18,
      "outputs": [
        {
          "output_type": "execute_result",
          "data": {
            "text/plain": [
              "MLP(\n",
              "  (fc1): Linear(in_features=784, out_features=32, bias=True)\n",
              "  (fc2): Linear(in_features=32, out_features=32, bias=True)\n",
              "  (fc3): Linear(in_features=32, out_features=10, bias=True)\n",
              ")"
            ]
          },
          "metadata": {},
          "execution_count": 18
        }
      ]
    },
    {
      "cell_type": "code",
      "metadata": {
        "id": "uQPzJum6t34S",
        "colab": {
          "base_uri": "https://localhost:8080/"
        },
        "outputId": "0fd5e3e6-85ae-41dd-b312-46bf8f2d745e"
      },
      "source": [
        "trainer = Trainer(trainloader = train_dataloader,\n",
        "                  testloader = test_dataloader,\n",
        "                  model = model,\n",
        "                  criterion = criterion,\n",
        "                  optimizer = optimizer,\n",
        "                  device = device)\n",
        "\n",
        "trainer.train(epoch = 10)"
      ],
      "execution_count": 19,
      "outputs": [
        {
          "output_type": "stream",
          "name": "stdout",
          "text": [
            "epoch: 1  loss: 1.750\n",
            "epoch: 2  loss: 0.610\n",
            "epoch: 3  loss: 0.432\n",
            "epoch: 4  loss: 0.377\n",
            "epoch: 5  loss: 0.346\n",
            "epoch: 6  loss: 0.323\n",
            "epoch: 7  loss: 0.305\n",
            "epoch: 8  loss: 0.290\n",
            "epoch: 9  loss: 0.277\n",
            "epoch: 10  loss: 0.264\n"
          ]
        }
      ]
    },
    {
      "cell_type": "code",
      "metadata": {
        "id": "rfVnHhN9t4vC",
        "colab": {
          "base_uri": "https://localhost:8080/"
        },
        "outputId": "f352a2e7-d52a-4769-c213-00b4bcdb6ac0"
      },
      "source": [
        "trainer.test()"
      ],
      "execution_count": 20,
      "outputs": [
        {
          "output_type": "stream",
          "name": "stdout",
          "text": [
            "test_acc: 0.924\n"
          ]
        }
      ]
    },
    {
      "cell_type": "markdown",
      "metadata": {
        "id": "ICv5Wc_TuH3B"
      },
      "source": [
        "#### Q2. Activation function 별로 Layer 수를 늘리는 것이 성능이 어떻게 변하나요? 양상이 다르게 나타난다면 왜 그럴까요?"
      ]
    },
    {
      "cell_type": "markdown",
      "metadata": {
        "id": "54oz80tfuH5M"
      },
      "source": [
        "\n",
        "#### Q3. Activation function이 존재하지 않는다면 어떤 일이 일어날까요?"
      ]
    },
    {
      "cell_type": "markdown",
      "metadata": {
        "id": "XmrGO-uru01w"
      },
      "source": [
        "# 3. Optimization\n",
        "\n",
        "이번 section에서는 sgd, momentum, Adam등의 optimizer를 사용해보고 성능을 비교해보도록 하겠습니다.\n",
        "\n",
        "![](https://drive.google.com/uc?export=view&id=1xfCTx8xj4zoaombrK2bSN9nv0Z3r95jp)\n"
      ]
    },
    {
      "cell_type": "markdown",
      "metadata": {
        "id": "3jjuv9XW2Cij"
      },
      "source": [
        "- input: 784\n",
        "- hidden: (32, 32)\n",
        "- output: 10\n",
        "- activation: relu\n",
        "- **optimizer: sgd or momentum or adam**\n",
        "- loss: cross-entropy"
      ]
    },
    {
      "cell_type": "code",
      "metadata": {
        "id": "WxhHMDjHxRV4"
      },
      "source": [
        "class MLP(nn.Module):\n",
        "    def __init__(self, \n",
        "                 input_dim=784, \n",
        "                 hidden_dim=(32,32), \n",
        "                 output_dim=10):\n",
        "        super(MLP, self).__init__()\n",
        "        self.fc1 = nn.Linear(input_dim, hidden_dim[0])\n",
        "        self.fc2 = nn.Linear(hidden_dim[0], hidden_dim[1])\n",
        "        self.fc3 = nn.Linear(hidden_dim[1], output_dim)\n",
        "\n",
        "    def forward(self, x):\n",
        "        x = self.fc1(x)\n",
        "        x = F.relu(x)\n",
        "        x = self.fc2(x)\n",
        "        x = F.relu(x)\n",
        "        x = self.fc3(x)\n",
        "        return x"
      ],
      "execution_count": 21,
      "outputs": []
    },
    {
      "cell_type": "markdown",
      "metadata": {
        "id": "xlkMXZfKxpRg"
      },
      "source": [
        "## 3-layer Network + ReLU + SGD"
      ]
    },
    {
      "cell_type": "code",
      "metadata": {
        "id": "fCDbH1Bbxify",
        "colab": {
          "base_uri": "https://localhost:8080/"
        },
        "outputId": "a05c8353-2142-4ce5-f4ad-3879d22a9ede"
      },
      "source": [
        "model = MLP()\n",
        "optimizer = optim.SGD(model.parameters(), lr=0.01)\n",
        "criterion = nn.CrossEntropyLoss()\n",
        "device = torch.device('cuda')\n",
        "model.to(device)"
      ],
      "execution_count": 22,
      "outputs": [
        {
          "output_type": "execute_result",
          "data": {
            "text/plain": [
              "MLP(\n",
              "  (fc1): Linear(in_features=784, out_features=32, bias=True)\n",
              "  (fc2): Linear(in_features=32, out_features=32, bias=True)\n",
              "  (fc3): Linear(in_features=32, out_features=10, bias=True)\n",
              ")"
            ]
          },
          "metadata": {},
          "execution_count": 22
        }
      ]
    },
    {
      "cell_type": "code",
      "metadata": {
        "id": "Lchz9vtUxkiD",
        "colab": {
          "base_uri": "https://localhost:8080/"
        },
        "outputId": "a8de264f-ed46-4477-c480-a20cc7d45390"
      },
      "source": [
        "trainer = Trainer(trainloader = train_dataloader,\n",
        "                  testloader = test_dataloader,\n",
        "                  model = model,\n",
        "                  criterion = criterion,\n",
        "                  optimizer = optimizer,\n",
        "                  device = device)\n",
        "\n",
        "trainer.train(epoch = 10)"
      ],
      "execution_count": 23,
      "outputs": [
        {
          "output_type": "stream",
          "name": "stdout",
          "text": [
            "epoch: 1  loss: 1.863\n",
            "epoch: 2  loss: 0.666\n",
            "epoch: 3  loss: 0.449\n",
            "epoch: 4  loss: 0.377\n",
            "epoch: 5  loss: 0.337\n",
            "epoch: 6  loss: 0.311\n",
            "epoch: 7  loss: 0.292\n",
            "epoch: 8  loss: 0.276\n",
            "epoch: 9  loss: 0.263\n",
            "epoch: 10  loss: 0.252\n"
          ]
        }
      ]
    },
    {
      "cell_type": "code",
      "metadata": {
        "id": "2ksQiJFqxls_",
        "colab": {
          "base_uri": "https://localhost:8080/"
        },
        "outputId": "ba086413-6277-4a77-d27a-5ca7ea806e75"
      },
      "source": [
        "trainer.test()"
      ],
      "execution_count": 24,
      "outputs": [
        {
          "output_type": "stream",
          "name": "stdout",
          "text": [
            "test_acc: 0.926\n"
          ]
        }
      ]
    },
    {
      "cell_type": "markdown",
      "metadata": {
        "id": "b1nhBnqWxw4a"
      },
      "source": [
        "## 3-layer Network + ReLU + Momentum\n",
        "\n",
        "\n",
        "\n"
      ]
    },
    {
      "cell_type": "code",
      "metadata": {
        "id": "idG8_h_QxmQi",
        "colab": {
          "base_uri": "https://localhost:8080/"
        },
        "outputId": "a355f505-98ba-4846-9928-e633ca578351"
      },
      "source": [
        "model = MLP()\n",
        "optimizer = optim.SGD(model.parameters(), lr=0.01, momentum=0.99)\n",
        "criterion = nn.CrossEntropyLoss()\n",
        "device = torch.device('cuda')\n",
        "model.to(device)"
      ],
      "execution_count": 25,
      "outputs": [
        {
          "output_type": "execute_result",
          "data": {
            "text/plain": [
              "MLP(\n",
              "  (fc1): Linear(in_features=784, out_features=32, bias=True)\n",
              "  (fc2): Linear(in_features=32, out_features=32, bias=True)\n",
              "  (fc3): Linear(in_features=32, out_features=10, bias=True)\n",
              ")"
            ]
          },
          "metadata": {},
          "execution_count": 25
        }
      ]
    },
    {
      "cell_type": "code",
      "metadata": {
        "id": "YDNAysVqxxOk",
        "colab": {
          "base_uri": "https://localhost:8080/"
        },
        "outputId": "084d133d-e0fd-4dd4-aae5-b9b94edcbf54"
      },
      "source": [
        "trainer = Trainer(trainloader = train_dataloader,\n",
        "                  testloader = test_dataloader,\n",
        "                  model = model,\n",
        "                  criterion = criterion,\n",
        "                  optimizer = optimizer,\n",
        "                  device = device)\n",
        "\n",
        "trainer.train(epoch = 10)"
      ],
      "execution_count": 26,
      "outputs": [
        {
          "output_type": "stream",
          "name": "stdout",
          "text": [
            "epoch: 1  loss: 0.558\n",
            "epoch: 2  loss: 0.227\n",
            "epoch: 3  loss: 0.196\n",
            "epoch: 4  loss: 0.172\n",
            "epoch: 5  loss: 0.166\n",
            "epoch: 6  loss: 0.166\n",
            "epoch: 7  loss: 0.132\n",
            "epoch: 8  loss: 0.134\n",
            "epoch: 9  loss: 0.131\n",
            "epoch: 10  loss: 0.134\n"
          ]
        }
      ]
    },
    {
      "cell_type": "code",
      "metadata": {
        "id": "l0U2s0hux_n6",
        "colab": {
          "base_uri": "https://localhost:8080/"
        },
        "outputId": "70b7bdb4-c6db-414f-a917-bcd30e009eba"
      },
      "source": [
        "trainer.test()"
      ],
      "execution_count": 27,
      "outputs": [
        {
          "output_type": "stream",
          "name": "stdout",
          "text": [
            "test_acc: 0.951\n"
          ]
        }
      ]
    },
    {
      "cell_type": "markdown",
      "metadata": {
        "id": "SZobOWhPxytT"
      },
      "source": [
        "## 3-layer Network + ReLU + Adam\n",
        "\n"
      ]
    },
    {
      "cell_type": "code",
      "metadata": {
        "id": "r7xVOWgZxzoS",
        "colab": {
          "base_uri": "https://localhost:8080/"
        },
        "outputId": "dceb09f3-bbfd-4d23-8a00-4916f7d56894"
      },
      "source": [
        "model = MLP()\n",
        "optimizer = optim.Adam(model.parameters(), lr=0.01)\n",
        "criterion = nn.CrossEntropyLoss()\n",
        "device = torch.device('cuda')\n",
        "model.to(device)"
      ],
      "execution_count": 28,
      "outputs": [
        {
          "output_type": "execute_result",
          "data": {
            "text/plain": [
              "MLP(\n",
              "  (fc1): Linear(in_features=784, out_features=32, bias=True)\n",
              "  (fc2): Linear(in_features=32, out_features=32, bias=True)\n",
              "  (fc3): Linear(in_features=32, out_features=10, bias=True)\n",
              ")"
            ]
          },
          "metadata": {},
          "execution_count": 28
        }
      ]
    },
    {
      "cell_type": "code",
      "metadata": {
        "id": "6R4pzcKPyFBi",
        "colab": {
          "base_uri": "https://localhost:8080/"
        },
        "outputId": "3adf35cf-904b-41e9-deb0-4b6efe08474c"
      },
      "source": [
        "trainer = Trainer(trainloader = train_dataloader,\n",
        "                  testloader = test_dataloader,\n",
        "                  model = model,\n",
        "                  criterion = criterion,\n",
        "                  optimizer = optimizer,\n",
        "                  device = device)\n",
        "\n",
        "trainer.train(epoch = 10)"
      ],
      "execution_count": 29,
      "outputs": [
        {
          "output_type": "stream",
          "name": "stdout",
          "text": [
            "epoch: 1  loss: 0.309\n",
            "epoch: 2  loss: 0.180\n",
            "epoch: 3  loss: 0.152\n",
            "epoch: 4  loss: 0.141\n",
            "epoch: 5  loss: 0.130\n",
            "epoch: 6  loss: 0.121\n",
            "epoch: 7  loss: 0.117\n",
            "epoch: 8  loss: 0.110\n",
            "epoch: 9  loss: 0.109\n",
            "epoch: 10  loss: 0.101\n"
          ]
        }
      ]
    },
    {
      "cell_type": "code",
      "metadata": {
        "id": "IgAEpCJ_yHAi",
        "colab": {
          "base_uri": "https://localhost:8080/"
        },
        "outputId": "29ec0330-a8f8-41e1-ae0c-c058ddee3789"
      },
      "source": [
        "trainer.test()"
      ],
      "execution_count": 30,
      "outputs": [
        {
          "output_type": "stream",
          "name": "stdout",
          "text": [
            "test_acc: 0.955\n"
          ]
        }
      ]
    },
    {
      "cell_type": "markdown",
      "metadata": {
        "id": "wCeNbNhIyyR6"
      },
      "source": [
        ""
      ]
    },
    {
      "cell_type": "markdown",
      "metadata": {
        "id": "qOLVGSb7yyWW"
      },
      "source": [
        "#### Q4. Optimizer 별로 수렴 속도가 어떻게 다른가요? \n",
        "##### Q4.1 수렴 속도가 다르다면 sgd와 momentum의 차이는 왜 발생할까요? \n",
        "##### Q4.2 수렴 속도가 다르다면 momentum과 Adam의 차이는 왜 발생할까요?"
      ]
    },
    {
      "cell_type": "markdown",
      "metadata": {
        "id": "ZNP78kE2zbPQ"
      },
      "source": [
        "## 4. Regularization\n",
        "\n",
        "이번 section에서는 image data에서 주로 사용되는 batch-normalization을 어떻게 사용하는지를 확인해보겠습니다.\n",
        "\n",
        "![](https://drive.google.com/uc?export=view&id=1xZSWZiSxuGZAsonghidhTSfUEYiuxRtN)"
      ]
    },
    {
      "cell_type": "markdown",
      "metadata": {
        "id": "G1YretVf2eRy"
      },
      "source": [
        "- input: 784\n",
        "- hidden: 32 or (32, 32)\n",
        "- output: 10\n",
        "- activation: relu\n",
        "- optimizer: adam\n",
        "- **regularizer: batch_norm**\n",
        "- loss: cross-entropy"
      ]
    },
    {
      "cell_type": "markdown",
      "metadata": {
        "id": "Qmvn2oNj0Spe"
      },
      "source": [
        "## 3-layer Network + ReLU + Adam + batch_norm"
      ]
    },
    {
      "cell_type": "code",
      "metadata": {
        "id": "7FBt1qcYzrph"
      },
      "source": [
        "class MLP(nn.Module):\n",
        "    def __init__(self, \n",
        "                 input_dim=784, \n",
        "                 hidden_dim=(32,32), \n",
        "                 output_dim=10):\n",
        "        super(MLP, self).__init__()\n",
        "        self.fc1 = nn.Linear(input_dim, hidden_dim[0])\n",
        "        self.bn1 = nn.BatchNorm1d(hidden_dim[0])\n",
        "        self.fc2 = nn.Linear(hidden_dim[0], hidden_dim[1])\n",
        "        self.bn2 = nn.BatchNorm1d(hidden_dim[1])\n",
        "        self.fc3 = nn.Linear(hidden_dim[1], output_dim)\n",
        "\n",
        "    def forward(self, x):\n",
        "        x = self.fc1(x)\n",
        "        x = self.bn1(x)\n",
        "        x = F.relu(x)\n",
        "        x = self.fc2(x)\n",
        "        x = self.bn2(x)\n",
        "        x = F.relu(x)\n",
        "        x = self.fc3(x)\n",
        "        return x"
      ],
      "execution_count": 31,
      "outputs": []
    },
    {
      "cell_type": "code",
      "metadata": {
        "id": "9VSAzG4uz_4i",
        "colab": {
          "base_uri": "https://localhost:8080/"
        },
        "outputId": "9f51cdb8-c0df-4543-958d-360b86fb2c4b"
      },
      "source": [
        "model = MLP()\n",
        "optimizer = optim.Adam(model.parameters(), lr=0.01)\n",
        "criterion = nn.CrossEntropyLoss()\n",
        "device = torch.device('cuda')\n",
        "model.to(device)"
      ],
      "execution_count": 32,
      "outputs": [
        {
          "output_type": "execute_result",
          "data": {
            "text/plain": [
              "MLP(\n",
              "  (fc1): Linear(in_features=784, out_features=32, bias=True)\n",
              "  (bn1): BatchNorm1d(32, eps=1e-05, momentum=0.1, affine=True, track_running_stats=True)\n",
              "  (fc2): Linear(in_features=32, out_features=32, bias=True)\n",
              "  (bn2): BatchNorm1d(32, eps=1e-05, momentum=0.1, affine=True, track_running_stats=True)\n",
              "  (fc3): Linear(in_features=32, out_features=10, bias=True)\n",
              ")"
            ]
          },
          "metadata": {},
          "execution_count": 32
        }
      ]
    },
    {
      "cell_type": "code",
      "metadata": {
        "id": "EDYfHC9x0BKy",
        "colab": {
          "base_uri": "https://localhost:8080/"
        },
        "outputId": "5cdb23c0-a590-4630-ecec-4457f28b2d1c"
      },
      "source": [
        "trainer = Trainer(trainloader = train_dataloader,\n",
        "                  testloader = test_dataloader,\n",
        "                  model = model,\n",
        "                  criterion = criterion,\n",
        "                  optimizer = optimizer,\n",
        "                  device = device)\n",
        "\n",
        "trainer.train(epoch = 10)"
      ],
      "execution_count": 33,
      "outputs": [
        {
          "output_type": "stream",
          "name": "stdout",
          "text": [
            "epoch: 1  loss: 0.260\n",
            "epoch: 2  loss: 0.140\n",
            "epoch: 3  loss: 0.120\n",
            "epoch: 4  loss: 0.104\n",
            "epoch: 5  loss: 0.094\n",
            "epoch: 6  loss: 0.089\n",
            "epoch: 7  loss: 0.079\n",
            "epoch: 8  loss: 0.079\n",
            "epoch: 9  loss: 0.071\n",
            "epoch: 10  loss: 0.068\n"
          ]
        }
      ]
    },
    {
      "cell_type": "code",
      "metadata": {
        "id": "KdpSN6uu0CZy",
        "colab": {
          "base_uri": "https://localhost:8080/"
        },
        "outputId": "f5966c5d-9182-4bdb-8118-2bb2f97185a2"
      },
      "source": [
        "trainer.test()"
      ],
      "execution_count": 34,
      "outputs": [
        {
          "output_type": "stream",
          "name": "stdout",
          "text": [
            "test_acc: 0.971\n"
          ]
        }
      ]
    },
    {
      "cell_type": "code",
      "metadata": {
        "id": "-qDotwtf3m-Q",
        "colab": {
          "base_uri": "https://localhost:8080/"
        },
        "outputId": "5c45b009-54b6-4f23-9d05-7386b1f1ffd2"
      },
      "source": [
        "def count_parameters(model):\n",
        "    return sum(p.numel() for p in model.parameters() if p.requires_grad)\n",
        "\n",
        "count_parameters(model)"
      ],
      "execution_count": 35,
      "outputs": [
        {
          "output_type": "execute_result",
          "data": {
            "text/plain": [
              "26634"
            ]
          },
          "metadata": {},
          "execution_count": 35
        }
      ]
    },
    {
      "cell_type": "markdown",
      "metadata": {
        "id": "1WSYxs4F0Kbt"
      },
      "source": [
        "#### Q5. Batch-normalization을 사용하기 전 후로 성능이 어떻게 변화했나요? 왜 이러한 변화가 일어났을까요?\n"
      ]
    },
    {
      "cell_type": "markdown",
      "metadata": {
        "id": "-6xu4cQl0fOy"
      },
      "source": [
        "# 5. Fully-Connected Layer vs Convolution Layer\n",
        "\n",
        "지금까지 model의 다양한 node를 바꿔가며 mnist의 성능 변화를 확인해보는 실습을 진행해 보았습니다. \\\\\n",
        "비록, fully-connected network가 mnist 데이터에서 높은 성능을 내는데는 문제가 없었지만, 모든 layer를 fully-connected layer로 만드는 것은 엄청난 파라미터와 연산량을 필요로 하기 때문에 더욱 큰 고화질의 이미지 데이터를 처리하는데는 적합하지 않습니다. \\\\ \n",
        "\n",
        "따라서, 이번 section에서는 이미지 데이터 처리에 주로 사용되는 convolution layer를 사용해보고 파라미터 수와 성능이 어떻게 변화하는지 확인해보도록 하겠습니다. "
      ]
    },
    {
      "cell_type": "markdown",
      "metadata": {
        "id": "VBH4WROS2-H4"
      },
      "source": [
        "## Convolution Operation\n",
        "\n",
        "![](https://drive.google.com/uc?export=view&id=1xdjTf4ab0P8qfu_TaLJ4TZzt5sk3twS6)\n"
      ]
    },
    {
      "cell_type": "markdown",
      "metadata": {
        "id": "u86dyWA98qQ_"
      },
      "source": [
        "### Q6. Input이 (H, W, C) 일 때, stride S의 2개의 (F * F) convolutional filter를 적용하면 output이 어떻게 되나요?"
      ]
    },
    {
      "cell_type": "code",
      "metadata": {
        "id": "-tfEDx7429cL"
      },
      "source": [
        "class Conv(nn.Module):\n",
        "    def __init__(self, \n",
        "                 input_dim=784, \n",
        "                 output_dim=10):\n",
        "        super(Conv, self).__init__()\n",
        "        self.conv1 = nn.Conv2d(in_channels=1,\n",
        "                               out_channels=8,\n",
        "                               kernel_size=7,\n",
        "                               stride=2)\n",
        "        self.conv2 = nn.Conv2d(in_channels=8,\n",
        "                               out_channels=8,\n",
        "                               kernel_size=7,\n",
        "                               stride=2)\n",
        "        self.fc = nn.Linear(3*3*8, output_dim)\n",
        "\n",
        "    def forward(self, x):\n",
        "        # should reshape data into image\n",
        "        x = x.reshape(-1, 1, 28, 28)\n",
        "        x = self.conv1(x)\n",
        "        x = F.relu(x)\n",
        "        x = self.conv2(x)\n",
        "        x = F.relu(x)\n",
        "        x = x.reshape(-1, 3*3*8)\n",
        "        x = self.fc(x)\n",
        "        return x"
      ],
      "execution_count": 36,
      "outputs": []
    },
    {
      "cell_type": "code",
      "metadata": {
        "id": "R2QbRqEz-FzB",
        "colab": {
          "base_uri": "https://localhost:8080/"
        },
        "outputId": "71ce4276-b22e-4786-9caa-8cfe5320ebe3"
      },
      "source": [
        "model = Conv()\n",
        "optimizer = optim.Adam(model.parameters(), lr=0.01)\n",
        "criterion = nn.CrossEntropyLoss()\n",
        "device = torch.device('cuda')\n",
        "model.to(device)"
      ],
      "execution_count": 37,
      "outputs": [
        {
          "output_type": "execute_result",
          "data": {
            "text/plain": [
              "Conv(\n",
              "  (conv1): Conv2d(1, 8, kernel_size=(7, 7), stride=(2, 2))\n",
              "  (conv2): Conv2d(8, 8, kernel_size=(7, 7), stride=(2, 2))\n",
              "  (fc): Linear(in_features=72, out_features=10, bias=True)\n",
              ")"
            ]
          },
          "metadata": {},
          "execution_count": 37
        }
      ]
    },
    {
      "cell_type": "code",
      "metadata": {
        "id": "dTRB0_15-eYy",
        "colab": {
          "base_uri": "https://localhost:8080/"
        },
        "outputId": "ee36d2a7-fd60-4288-8b92-44719b09a49e"
      },
      "source": [
        "trainer = Trainer(trainloader = train_dataloader,\n",
        "                  testloader = test_dataloader,\n",
        "                  model = model,\n",
        "                  criterion = criterion,\n",
        "                  optimizer = optimizer,\n",
        "                  device = device)\n",
        "\n",
        "trainer.train(epoch = 10)"
      ],
      "execution_count": 38,
      "outputs": [
        {
          "output_type": "stream",
          "name": "stdout",
          "text": [
            "epoch: 1  loss: 0.215\n",
            "epoch: 2  loss: 0.101\n",
            "epoch: 3  loss: 0.087\n",
            "epoch: 4  loss: 0.086\n",
            "epoch: 5  loss: 0.083\n",
            "epoch: 6  loss: 0.080\n",
            "epoch: 7  loss: 0.079\n",
            "epoch: 8  loss: 0.079\n",
            "epoch: 9  loss: 0.074\n",
            "epoch: 10  loss: 0.076\n"
          ]
        }
      ]
    },
    {
      "cell_type": "code",
      "metadata": {
        "id": "JuFiCnDa-fpC",
        "colab": {
          "base_uri": "https://localhost:8080/"
        },
        "outputId": "3c7f1e22-9775-462d-b9af-31f82364d340"
      },
      "source": [
        "trainer.test()"
      ],
      "execution_count": 39,
      "outputs": [
        {
          "output_type": "stream",
          "name": "stdout",
          "text": [
            "test_acc: 0.974\n"
          ]
        }
      ]
    },
    {
      "cell_type": "code",
      "metadata": {
        "id": "wRVwFbhU-8TZ",
        "colab": {
          "base_uri": "https://localhost:8080/"
        },
        "outputId": "dbd31f26-381d-4b86-ffb0-a94d4d774f1b"
      },
      "source": [
        "count_parameters(model)"
      ],
      "execution_count": 40,
      "outputs": [
        {
          "output_type": "execute_result",
          "data": {
            "text/plain": [
              "4274"
            ]
          },
          "metadata": {},
          "execution_count": 40
        }
      ]
    },
    {
      "cell_type": "markdown",
      "metadata": {
        "id": "Ayzu25pm_KNH"
      },
      "source": [
        "##### Q7. covolution operation은 image데이터를 다루는데 있어서 fully-connected layer에 비해 어떤 점에서 효과적일까요?\n"
      ]
    },
    {
      "cell_type": "markdown",
      "metadata": {
        "id": "bdCwjzXX_-jU"
      },
      "source": [
        "## 6. Do It By Yourself\n",
        "\n",
        "위에서 했던 실습들과 수업에 배웠던 다양한 network component들을 참조해서 20,000개 이하의 파라미터로 98%의 accuracy를 달성해보세요!"
      ]
    },
    {
      "cell_type": "code",
      "metadata": {
        "id": "nOqAaJkGAAuC"
      },
      "source": [
        "class CustomModel(nn.Module):\n",
        "    def __init__(self, \n",
        "                 input_dim=784, \n",
        "                 output_dim=10):\n",
        "      super(CustomModel, self).__init__()\n",
        "      pass\n",
        "\n",
        "    def forward(self, x):\n",
        "        return x"
      ],
      "execution_count": 41,
      "outputs": []
    },
    {
      "cell_type": "code",
      "metadata": {
        "id": "2B-6gww_Af0E"
      },
      "source": [
        "model = CustomModel()\n",
        "if count_parameters(model) > 20000:\n",
        "  raise AssertionError"
      ],
      "execution_count": 42,
      "outputs": []
    },
    {
      "cell_type": "code",
      "metadata": {
        "id": "WcA3XbRUAaUh",
        "colab": {
          "base_uri": "https://localhost:8080/"
        },
        "outputId": "b2afc7e4-458c-40cd-8e10-a265cb8416cf"
      },
      "source": [
        "#optimizer = optim.Adam(model.parameters(), lr=0.01)\n",
        "criterion = nn.CrossEntropyLoss()\n",
        "device = torch.device('cuda')\n",
        "model.to(device)"
      ],
      "execution_count": 43,
      "outputs": [
        {
          "output_type": "execute_result",
          "data": {
            "text/plain": [
              "CustomModel()"
            ]
          },
          "metadata": {},
          "execution_count": 43
        }
      ]
    },
    {
      "cell_type": "code",
      "metadata": {
        "id": "TJBKdQTyAd24"
      },
      "source": [
        "trainer = Trainer(trainloader = train_dataloader,\n",
        "                  testloader = test_dataloader,\n",
        "                  model = model,\n",
        "                  criterion = criterion,\n",
        "                  optimizer = optimizer,\n",
        "                  device = device)\n",
        "\n",
        "trainer.train(epoch = 10)"
      ],
      "execution_count": null,
      "outputs": []
    },
    {
      "cell_type": "code",
      "metadata": {
        "id": "0URQgBu_AfJB"
      },
      "source": [
        "trainer.test()"
      ],
      "execution_count": null,
      "outputs": []
    }
  ]
}