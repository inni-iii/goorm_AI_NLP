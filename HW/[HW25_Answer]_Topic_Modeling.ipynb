{
  "nbformat": 4,
  "nbformat_minor": 0,
  "metadata": {
    "kernelspec": {
      "display_name": "Python 3",
      "language": "python",
      "name": "python3"
    },
    "language_info": {
      "codemirror_mode": {
        "name": "ipython",
        "version": 3
      },
      "file_extension": ".py",
      "mimetype": "text/x-python",
      "name": "python",
      "nbconvert_exporter": "python",
      "pygments_lexer": "ipython3",
      "version": "3.7.3"
    },
    "colab": {
      "name": "[HW25_Answer] Topic Modeling.ipynb",
      "provenance": [],
      "collapsed_sections": []
    }
  },
  "cells": [
    {
      "cell_type": "markdown",
      "metadata": {
        "id": "pUEqzkNmnyYH"
      },
      "source": [
        "# Topic Modeling\n",
        "1. Crawling News\n",
        "2. Preprocessing\n",
        "3. Build Term-Document Matrix\n",
        "4. Topic modeling\n",
        "5. Visualization\n",
        "\n",
        "```\n",
        "🔥 이번 시간에는 Topic Modeling를 직접 크롤링한 뉴스 데이터에 대해서 수행해보는 시간을 갖겠습니다. \n",
        "\n",
        "먼저 네이버에서 뉴스 기사를 간단하게 크롤링합니다.\n",
        "기본적인 전처리 이후 Term-document Matrix를 만들고 이를 non-negative factorization을 이용해 행렬 분해를 하여 Topic modeling을 수행합니다.\n",
        "\n",
        "t-distributed stochastic neighbor embedding(T-SNE) 기법을 이용해 Topic별 시각화를 진행합니다.\n",
        "```"
      ]
    },
    {
      "cell_type": "code",
      "metadata": {
        "id": "NIARcrg_oNMN",
        "colab": {
          "base_uri": "https://localhost:8080/"
        },
        "outputId": "874a9f6b-6a51-4263-e5ef-ec9452e25078"
      },
      "source": [
        "!pip install newspaper3k\n",
        "!pip install konlpy"
      ],
      "execution_count": 1,
      "outputs": [
        {
          "output_type": "stream",
          "name": "stdout",
          "text": [
            "Looking in indexes: https://pypi.org/simple, https://us-python.pkg.dev/colab-wheels/public/simple/\n",
            "Collecting newspaper3k\n",
            "  Downloading newspaper3k-0.2.8-py3-none-any.whl (211 kB)\n",
            "\u001b[K     |████████████████████████████████| 211 kB 5.1 MB/s \n",
            "\u001b[?25hRequirement already satisfied: PyYAML>=3.11 in /usr/local/lib/python3.7/dist-packages (from newspaper3k) (3.13)\n",
            "Collecting feedparser>=5.2.1\n",
            "  Downloading feedparser-6.0.10-py3-none-any.whl (81 kB)\n",
            "\u001b[K     |████████████████████████████████| 81 kB 6.1 MB/s \n",
            "\u001b[?25hRequirement already satisfied: nltk>=3.2.1 in /usr/local/lib/python3.7/dist-packages (from newspaper3k) (3.7)\n",
            "Requirement already satisfied: lxml>=3.6.0 in /usr/local/lib/python3.7/dist-packages (from newspaper3k) (4.2.6)\n",
            "Requirement already satisfied: requests>=2.10.0 in /usr/local/lib/python3.7/dist-packages (from newspaper3k) (2.23.0)\n",
            "Requirement already satisfied: Pillow>=3.3.0 in /usr/local/lib/python3.7/dist-packages (from newspaper3k) (7.1.2)\n",
            "Collecting feedfinder2>=0.0.4\n",
            "  Downloading feedfinder2-0.0.4.tar.gz (3.3 kB)\n",
            "Collecting cssselect>=0.9.2\n",
            "  Downloading cssselect-1.1.0-py2.py3-none-any.whl (16 kB)\n",
            "Collecting tldextract>=2.0.1\n",
            "  Downloading tldextract-3.3.1-py3-none-any.whl (93 kB)\n",
            "\u001b[K     |████████████████████████████████| 93 kB 2.1 MB/s \n",
            "\u001b[?25hCollecting tinysegmenter==0.3\n",
            "  Downloading tinysegmenter-0.3.tar.gz (16 kB)\n",
            "Requirement already satisfied: python-dateutil>=2.5.3 in /usr/local/lib/python3.7/dist-packages (from newspaper3k) (2.8.2)\n",
            "Requirement already satisfied: beautifulsoup4>=4.4.1 in /usr/local/lib/python3.7/dist-packages (from newspaper3k) (4.6.3)\n",
            "Collecting jieba3k>=0.35.1\n",
            "  Downloading jieba3k-0.35.1.zip (7.4 MB)\n",
            "\u001b[K     |████████████████████████████████| 7.4 MB 58.9 MB/s \n",
            "\u001b[?25hRequirement already satisfied: six in /usr/local/lib/python3.7/dist-packages (from feedfinder2>=0.0.4->newspaper3k) (1.15.0)\n",
            "Collecting sgmllib3k\n",
            "  Downloading sgmllib3k-1.0.0.tar.gz (5.8 kB)\n",
            "Requirement already satisfied: regex>=2021.8.3 in /usr/local/lib/python3.7/dist-packages (from nltk>=3.2.1->newspaper3k) (2022.6.2)\n",
            "Requirement already satisfied: click in /usr/local/lib/python3.7/dist-packages (from nltk>=3.2.1->newspaper3k) (7.1.2)\n",
            "Requirement already satisfied: tqdm in /usr/local/lib/python3.7/dist-packages (from nltk>=3.2.1->newspaper3k) (4.64.0)\n",
            "Requirement already satisfied: joblib in /usr/local/lib/python3.7/dist-packages (from nltk>=3.2.1->newspaper3k) (1.1.0)\n",
            "Requirement already satisfied: idna<3,>=2.5 in /usr/local/lib/python3.7/dist-packages (from requests>=2.10.0->newspaper3k) (2.10)\n",
            "Requirement already satisfied: certifi>=2017.4.17 in /usr/local/lib/python3.7/dist-packages (from requests>=2.10.0->newspaper3k) (2022.6.15)\n",
            "Requirement already satisfied: chardet<4,>=3.0.2 in /usr/local/lib/python3.7/dist-packages (from requests>=2.10.0->newspaper3k) (3.0.4)\n",
            "Requirement already satisfied: urllib3!=1.25.0,!=1.25.1,<1.26,>=1.21.1 in /usr/local/lib/python3.7/dist-packages (from requests>=2.10.0->newspaper3k) (1.24.3)\n",
            "Requirement already satisfied: filelock>=3.0.8 in /usr/local/lib/python3.7/dist-packages (from tldextract>=2.0.1->newspaper3k) (3.7.1)\n",
            "Collecting requests-file>=1.4\n",
            "  Downloading requests_file-1.5.1-py2.py3-none-any.whl (3.7 kB)\n",
            "Building wheels for collected packages: tinysegmenter, feedfinder2, jieba3k, sgmllib3k\n",
            "  Building wheel for tinysegmenter (setup.py) ... \u001b[?25l\u001b[?25hdone\n",
            "  Created wheel for tinysegmenter: filename=tinysegmenter-0.3-py3-none-any.whl size=13553 sha256=0f4e42681de7ec1f490137b1b34724f5b3ab1657e9183117dba7e793bbbd4fe5\n",
            "  Stored in directory: /root/.cache/pip/wheels/df/67/41/faca10fa501ca010be41b49d40360c2959e1c4f09bcbfa37fa\n",
            "  Building wheel for feedfinder2 (setup.py) ... \u001b[?25l\u001b[?25hdone\n",
            "  Created wheel for feedfinder2: filename=feedfinder2-0.0.4-py3-none-any.whl size=3357 sha256=8dc17ea1ab9b679e8713007607bfb38292d167ecd88540a628e4bd42a1839cfe\n",
            "  Stored in directory: /root/.cache/pip/wheels/7f/d4/8f/6e2ca54744c9d7292d88ddb8d42876bcdab5e6d84a21c10346\n",
            "  Building wheel for jieba3k (setup.py) ... \u001b[?25l\u001b[?25hdone\n",
            "  Created wheel for jieba3k: filename=jieba3k-0.35.1-py3-none-any.whl size=7398404 sha256=42ac81c66679333e303e5faade96fc7d5a68996fc138f16fb03b1df49c9fcf42\n",
            "  Stored in directory: /root/.cache/pip/wheels/4c/91/46/3c208287b726df325a5979574324878b679116e4baae1af3c3\n",
            "  Building wheel for sgmllib3k (setup.py) ... \u001b[?25l\u001b[?25hdone\n",
            "  Created wheel for sgmllib3k: filename=sgmllib3k-1.0.0-py3-none-any.whl size=6066 sha256=abce583b62cde3cdffe98d373a24f086f7160ba068170eac86c8206ccfeeec1d\n",
            "  Stored in directory: /root/.cache/pip/wheels/73/ad/a4/0dff4a6ef231fc0dfa12ffbac2a36cebfdddfe059f50e019aa\n",
            "Successfully built tinysegmenter feedfinder2 jieba3k sgmllib3k\n",
            "Installing collected packages: sgmllib3k, requests-file, tldextract, tinysegmenter, jieba3k, feedparser, feedfinder2, cssselect, newspaper3k\n",
            "Successfully installed cssselect-1.1.0 feedfinder2-0.0.4 feedparser-6.0.10 jieba3k-0.35.1 newspaper3k-0.2.8 requests-file-1.5.1 sgmllib3k-1.0.0 tinysegmenter-0.3 tldextract-3.3.1\n",
            "Looking in indexes: https://pypi.org/simple, https://us-python.pkg.dev/colab-wheels/public/simple/\n",
            "Collecting konlpy\n",
            "  Downloading konlpy-0.6.0-py2.py3-none-any.whl (19.4 MB)\n",
            "\u001b[K     |████████████████████████████████| 19.4 MB 1.2 MB/s \n",
            "\u001b[?25hCollecting JPype1>=0.7.0\n",
            "  Downloading JPype1-1.4.0-cp37-cp37m-manylinux_2_5_x86_64.manylinux1_x86_64.whl (453 kB)\n",
            "\u001b[K     |████████████████████████████████| 453 kB 44.0 MB/s \n",
            "\u001b[?25hRequirement already satisfied: lxml>=4.1.0 in /usr/local/lib/python3.7/dist-packages (from konlpy) (4.2.6)\n",
            "Requirement already satisfied: numpy>=1.6 in /usr/local/lib/python3.7/dist-packages (from konlpy) (1.21.6)\n",
            "Requirement already satisfied: typing-extensions in /usr/local/lib/python3.7/dist-packages (from JPype1>=0.7.0->konlpy) (4.1.1)\n",
            "Installing collected packages: JPype1, konlpy\n",
            "Successfully installed JPype1-1.4.0 konlpy-0.6.0\n"
          ]
        }
      ]
    },
    {
      "cell_type": "code",
      "metadata": {
        "id": "aPu9TCFEoK_m"
      },
      "source": [
        "# 크롤링에 필요한 패키지 설치\n",
        "from bs4 import BeautifulSoup\n",
        "from newspaper import Article\n",
        "from time import sleep\n",
        "from time import time\n",
        "from dateutil.relativedelta import relativedelta\n",
        "from datetime import datetime\n",
        "from multiprocessing import Pool\n",
        "import json\n",
        "import requests\n",
        "import re\n",
        "import sys"
      ],
      "execution_count": 2,
      "outputs": []
    },
    {
      "cell_type": "markdown",
      "metadata": {
        "id": "oU2ipk6ZvZXf"
      },
      "source": [
        "```\n",
        "💡 Crawling(크롤링)이란?\n",
        "\n",
        "크롤링은 웹 페이지에서 필요한 데이터를 추출해내는 작업을 말합니다.\n",
        "이번 시간에는 정적 페이지인 네이버의 뉴스 신문 기사 웹페이지를 크롤링합니다.\n",
        "\n",
        "HTML은 설명되어 있는 자료가 많기 때문에 생략하도록 하겠습니다.\n",
        "HTML 구조 파악 및 태그에 대한 설명은 아래 참고자료를 살펴봐주세요 !\n",
        "```\n",
        "\n",
        "참고: [위키피디아: 정적페이지](https://ko.wikipedia.org/wiki/%EC%A0%95%EC%A0%81_%EC%9B%B9_%ED%8E%98%EC%9D%B4%EC%A7%80)\n",
        "\n",
        "참고: [생활코딩: HTML](https://opentutorials.org/course/2039)"
      ]
    },
    {
      "cell_type": "code",
      "metadata": {
        "id": "c0UYQWmsnHTF"
      },
      "source": [
        "def crawl_news(query: str=None, crawl_num: int=1000, workers: int=4):\n",
        "    '''뉴스 기사 텍스트가 담긴 list를 반환합니다.\n",
        "\n",
        "    Keyword arguments:\n",
        "    query -- 검색어 (default None)\n",
        "    crawl_num -- 수집할 뉴스 기사의 개수 (defualt 1000)\n",
        "    workers -- multi-processing시 사용할 thread의 개수 (default 4)\n",
        "    '''\n",
        "\n",
        "    url = 'https://search.naver.com/search.naver?where=news&sm=tab_jum&query={}'\n",
        "    articleList = []\n",
        "    crawled_url = set()\n",
        "    keyboard_interrupt = False\n",
        "    t = time()\n",
        "    idx = 0\n",
        "    page = 1\n",
        "\n",
        "    \n",
        "    # 서버에 url 요청의 결과를 선언\n",
        "    res = requests.get(url.format(query))\n",
        "    sleep(0.5)\n",
        "    # res를 parsing할 parser를 선언\n",
        "    bs = BeautifulSoup(res.text, 'html.parser')\n",
        "    \n",
        "    with Pool(workers) as p:\n",
        "        while idx < crawl_num:            \n",
        "            table = bs.find('ul', {'class': 'list_news'})\n",
        "            li_list = table.find_all('li', {'id': re.compile('sp_nws.*')})\n",
        "            area_list = [li.find('div', {'class':'news_area'}) for li in li_list]\n",
        "            a_list = [area.find('a', {'class':'news_tit'}) for area in area_list]\n",
        "            \n",
        "            for n in a_list[:min(len(a_list), crawl_num-idx)]:\n",
        "                articleList.append(n.get('title'))\n",
        "                idx += 1\n",
        "            page += 1\n",
        "\n",
        "            pages = bs.find('div', {'class': 'sc_page_inner'})\n",
        "            next_page_url = [p for p in pages.find_all('a') if p.text == str(page)][0].get('href')\n",
        "\n",
        "            req = requests.get('https://search.naver.com/search.naver' + next_page_url)\n",
        "            bs = BeautifulSoup(req.text, 'html.parser')\n",
        "    return articleList"
      ],
      "execution_count": 3,
      "outputs": []
    },
    {
      "cell_type": "markdown",
      "metadata": {
        "id": "8ln1Wih0XVnt"
      },
      "source": [
        "```\n",
        "🔥 이제 '구글'이라는 이름으로 뉴스 기사 1000개의 제목을 크롤링하겠습니다.\n",
        "```"
      ]
    },
    {
      "cell_type": "code",
      "metadata": {
        "id": "G6CAFa6J56yJ"
      },
      "source": [
        "query = '구글'\n",
        "\n",
        "articleList = crawl_news(query)"
      ],
      "execution_count": 4,
      "outputs": []
    },
    {
      "cell_type": "code",
      "metadata": {
        "id": "UDIS5V1yAcRT",
        "colab": {
          "base_uri": "https://localhost:8080/"
        },
        "outputId": "69031c07-32fa-4669-8393-4663bc90778f"
      },
      "source": [
        "articleList[:10]"
      ],
      "execution_count": 5,
      "outputs": [
        {
          "output_type": "execute_result",
          "data": {
            "text/plain": [
              "['구글과 이혼, 테슬라와는 외도설…갑부들 뒤흔든 33세 그녀',\n",
              " '\"머스크, 구글 창업자 아내와 간통…무릎꿇고 사과\"',\n",
              " '\"머스크, 구글 창업자 아내와 불륜 \\'들통\\'\"...머스크 \"완전 헛소리\"',\n",
              " '구글, 양자 프로그래밍 프레임워크 ‘써크’ 1.0버전 공개',\n",
              " '“머스크, ‘친구’ 구글 동업자 아내와 불륜”',\n",
              " '웹툰업계 \"슈퍼갑 구글, 콘텐츠 생태계 저해\"…정부 늦장대응 토로 [IT돋보기]',\n",
              " '美 애리조나 ‘한복의 날’ 선포…구글 ‘中 김치’ 표기 항의 단체 힘 보태',\n",
              " '구글, \"AI에 지각력 있다\" 주장한 엔지니어 결국 해고',\n",
              " '머스크와 불륜설, 구글 창업자 부인 니콜 섀너헌은 누구?',\n",
              " \"'우마무스메', '키타산 블랙' 업데이트로 구글 매출 1위 등극\"]"
            ]
          },
          "metadata": {},
          "execution_count": 5
        }
      ]
    },
    {
      "cell_type": "markdown",
      "metadata": {
        "id": "J9HG4LxOaa1r"
      },
      "source": [
        "```\n",
        "🔥 태거(tagger)를 이용해 한글 명사와 알파벳만을 추출해서 term-document matrix (tdm)을 만들겠습니다.\n",
        "\n",
        "태거(tagger)는 tokenization에서 조금 더 자세히 다루도록 하겠습니다.\n",
        "```\n",
        "\n",
        "참고: [konlpy: morph analyzer](https://konlpy-ko.readthedocs.io/ko/v0.4.3/morph/)"
      ]
    },
    {
      "cell_type": "markdown",
      "metadata": {
        "ExecuteTime": {
          "end_time": "2019-05-15T06:17:04.018304Z",
          "start_time": "2019-05-15T06:09:10.729214Z"
        },
        "id": "Mdr-aTytaCLr"
      },
      "source": [
        "## Preprocessing"
      ]
    },
    {
      "cell_type": "code",
      "metadata": {
        "ExecuteTime": {
          "end_time": "2019-05-29T08:48:53.790086Z",
          "start_time": "2019-05-29T08:46:38.984818Z"
        },
        "id": "HUN9k5DXaCLs",
        "colab": {
          "base_uri": "https://localhost:8080/"
        },
        "outputId": "8378ead8-b640-4af8-85dc-07d713d7fcbb"
      },
      "source": [
        "from konlpy.tag import Okt\n",
        "from collections import Counter\n",
        "import json\n",
        "\n",
        "# Okt 형태소 분석기 선언\n",
        "t = Okt()\n",
        "\n",
        "words_list_ = []\n",
        "vocab = Counter()\n",
        "tag_set = set(['Noun', 'Alpha'])\n",
        "stopwords = set(['글자'])\n",
        "\n",
        "for i, article in enumerate(articleList):\n",
        "    if i % 100 == 0:\n",
        "        print(i)\n",
        "    \n",
        "    # tagger를 이용한 품사 태깅\n",
        "    words = t.pos(article, norm=True, stem=True)\n",
        "\n",
        "    words = [w for w, t in words if t in tag_set and len(w) > 1 and w not in stopwords]\n",
        "    vocab.update(words)\n",
        "    words_list_.append((words, article))\n",
        "    \n",
        "vocab = sorted([w for w, freq in vocab.most_common(10000)])\n",
        "word2id = {w: i for i, w in enumerate(vocab)}\n",
        "words_list = []\n",
        "for words, article in words_list_:\n",
        "    words = [w for w in words if w in word2id]\n",
        "    if len(words) > 10:\n",
        "        words_list.append((words, article))\n",
        "        \n",
        "del words_list_"
      ],
      "execution_count": 6,
      "outputs": [
        {
          "output_type": "stream",
          "name": "stdout",
          "text": [
            "0\n",
            "100\n",
            "200\n",
            "300\n",
            "400\n",
            "500\n",
            "600\n",
            "700\n",
            "800\n",
            "900\n"
          ]
        }
      ]
    },
    {
      "cell_type": "markdown",
      "metadata": {
        "id": "5L1BkQeaaCLv"
      },
      "source": [
        "## Build document-term matrix"
      ]
    },
    {
      "cell_type": "markdown",
      "metadata": {
        "id": "r5YfokxJf86R"
      },
      "source": [
        "```\n",
        "🔥 이제 document-term matrix를 만들어보겠습니다.\n",
        "document-term matrix는 (문서 개수 x 단어 개수)의 Matrix입니다.\n",
        "```\n",
        "\n",
        "참고: [Document-Term Matrix](https://wikidocs.net/24559)"
      ]
    },
    {
      "cell_type": "code",
      "metadata": {
        "ExecuteTime": {
          "end_time": "2019-05-29T08:48:56.005889Z",
          "start_time": "2019-05-29T08:48:53.792571Z"
        },
        "id": "MI5weWREaCLv"
      },
      "source": [
        "from sklearn.feature_extraction.text import TfidfTransformer\n",
        "import numpy as np\n",
        "\n",
        "dtm = np.zeros((len(words_list), len(vocab)), dtype=np.float32)\n",
        "for i, (words, article) in enumerate(words_list):\n",
        "    for word in words:\n",
        "        dtm[i, word2id[word]] += 1\n",
        "        \n",
        "dtm = TfidfTransformer().fit_transform(dtm)"
      ],
      "execution_count": 7,
      "outputs": []
    },
    {
      "cell_type": "markdown",
      "metadata": {
        "id": "I0xYqpVtmgoL"
      },
      "source": [
        "```\n",
        "🔥 document-term matrix를 non-negative factorization(NMF)을 이용해 행렬 분해를 해보겠습니다.\n",
        "\n",
        "💡 Non-negative Factorization이란?\n",
        "\n",
        "NMF는 주어진 행렬 non-negative matrix X를 non-negative matrix W와 H로 행렬 분해하는 알고리즘입니다.\n",
        "이어지는 코드를 통해 W와 H의 의미에 대해 파악해봅시다.\n",
        "```\n",
        "참고: [Non-negative Matrix Factorization](https://angeloyeo.github.io/2020/10/15/NMF.html)"
      ]
    },
    {
      "cell_type": "markdown",
      "metadata": {
        "id": "zRWNuIguaCLy"
      },
      "source": [
        "## Topic modeling"
      ]
    },
    {
      "cell_type": "code",
      "metadata": {
        "id": "erhwS2ntQBSD"
      },
      "source": [
        "# Non-negative Matrix Factorization\n",
        "from sklearn.decomposition import NMF\n",
        "\n",
        "K=5\n",
        "nmf = NMF(n_components=K, alpha=0.1)"
      ],
      "execution_count": 8,
      "outputs": []
    },
    {
      "cell_type": "markdown",
      "metadata": {
        "id": "5I24Y78G3VvO"
      },
      "source": [
        "```\n",
        "🔥 sklearn의 NMF를 이용해 W와 H matrix를 구해봅시다.\n",
        "W는 document length x K, H는 K x term length의 차원을 갖고 있습니다.\n",
        "W의 하나의 row는 각각의 feature에 얼만큼의 가중치를 줄 지에 대한 weight입니다.\n",
        "H의 하나의 row는 하나의 feature를 나타냅니다.\n",
        "\n",
        "우선 하나의 Topic (H의 n번째 row)에 접근해서 해당 topic에 대해 값이 가장 높은 20개의 단어를 출력해보겠습니다.\n",
        "```"
      ]
    },
    {
      "cell_type": "code",
      "metadata": {
        "id": "v2TY6gu4QH1o",
        "colab": {
          "base_uri": "https://localhost:8080/"
        },
        "outputId": "3a27a321-dc86-4be5-931e-8bc818992641"
      },
      "source": [
        "W = nmf.fit_transform(dtm)\n",
        "H = nmf.components_"
      ],
      "execution_count": 9,
      "outputs": [
        {
          "output_type": "stream",
          "name": "stderr",
          "text": [
            "/usr/local/lib/python3.7/dist-packages/sklearn/decomposition/_nmf.py:1425: FutureWarning: `alpha` was deprecated in version 1.0 and will be removed in 1.2. Use `alpha_W` and `alpha_H` instead\n",
            "  FutureWarning,\n",
            "/usr/local/lib/python3.7/dist-packages/sklearn/decomposition/_nmf.py:294: FutureWarning: The 'init' value, when 'init=None' and n_components is less than n_samples and n_features, will be changed from 'nndsvd' to 'nndsvda' in 1.1 (renaming of 0.26).\n",
            "  FutureWarning,\n"
          ]
        }
      ]
    },
    {
      "cell_type": "markdown",
      "metadata": {
        "id": "kbNWlTAv5Zn2"
      },
      "source": [
        "```\n",
        "🔥 우선 하나의 Topic (H의 n번째 row)에 접근해서 해당 topic에 대해 값이 가장 높은 20개의 단어를 출력해보겠습니다.\n",
        "```"
      ]
    },
    {
      "cell_type": "code",
      "metadata": {
        "ExecuteTime": {
          "end_time": "2019-05-29T08:48:58.523062Z",
          "start_time": "2019-05-29T08:48:58.500171Z"
        },
        "id": "uSzB5PBuaCL2",
        "colab": {
          "base_uri": "https://localhost:8080/"
        },
        "outputId": "d4849169-f1dc-4d2c-e7af-0a0c39e54d3c"
      },
      "source": [
        "for k in range(K):\n",
        "    print(f\"{k}th topic\")\n",
        "    for index in H[k].argsort()[::-1][:20]:\n",
        "        print(vocab[index], end=' ')\n",
        "    print()"
      ],
      "execution_count": 10,
      "outputs": [
        {
          "output_type": "stream",
          "name": "stdout",
          "text": [
            "0th topic\n",
            "결제 카카오 인앱 방통위 링크 아웃 구글 갈등 삭제 협조 상호 반영 정책 VS 회의 비공개 논의 플랫폼 국민 해결 \n",
            "1th topic\n",
            "어워즈 한국어 수상 거대 브레인 고객 클라우드 AI 모델 카카오 개발 구글 성과 인터뷰 최적 드릴 AWS 대표 정욱 MS \n",
            "2th topic\n",
            "오늘 사람 박사 김대호 기업 화학 알파벳 LG 가스프롬 애플 구글 엑슨모빌 애브비 알보 코오롱 춘추전국 EBN 시대 어디 주목 \n",
            "3th topic\n",
            "스타트업 주년 파트너 개최 금융 캠퍼스 유회 성과 기념 육성 그룹 체결 구글 AR 행사 신한 인천 IFEZ 제청 주목 \n",
            "4th topic\n",
            "해고 주장 지각 능력 엔지니어 규정 안보 위반 AI 인간 수준 람다 데이터 구글 지능 연구원 소통 한계 진화 인공 \n"
          ]
        }
      ]
    },
    {
      "cell_type": "markdown",
      "metadata": {
        "id": "PTP6lUft5C4j"
      },
      "source": [
        "```\n",
        "🔥 이번에는 W에서 하나의 Topic (W의 n번째 column)에 접근해서 해당 topic에 대해 값이 가장 높은 3개의 뉴스 기사 제목을 출력해보겠습니다.\n",
        "```"
      ]
    },
    {
      "cell_type": "code",
      "metadata": {
        "ExecuteTime": {
          "end_time": "2019-05-29T08:48:58.553639Z",
          "start_time": "2019-05-29T08:48:58.525169Z"
        },
        "scrolled": false,
        "id": "K1CniIn7aCL5",
        "colab": {
          "base_uri": "https://localhost:8080/"
        },
        "outputId": "75601db0-46ea-4f43-b9f7-ec01cd3c04fc"
      },
      "source": [
        "for k in range(K):\n",
        "    print(f\"==={k}th topic===\")\n",
        "    for index in W[:, k].argsort()[::-1][:3]:\n",
        "        print(words_list[index][1])\n",
        "    print('\\n')"
      ],
      "execution_count": 11,
      "outputs": [
        {
          "output_type": "stream",
          "name": "stdout",
          "text": [
            "===0th topic===\n",
            "카카오, 카카오톡서 웹 결제 아웃링크 삭제...구글 인앱 결제 정책 반영\n",
            "카카오, 카카오톡서 웹 결제 아웃링크 삭제...구글 인앱 결제 정책 반영\n",
            "인앱결제 갈등 '구글·카카오' 비공개 회의… 방통위 \"상호 협조 논의\"\n",
            "\n",
            "\n",
            "===1th topic===\n",
            "카카오브레인, 한국어 초거대 AI 모델 개발로 '구글 클라우드 고객 어워즈' 수상\n",
            "카카오브레인, 한국어 초거대 AI 모델로 ‘구글 클라우드 고객 어워즈’ 수상\n",
            "카카오브레인 '한국어 초거대 AI모델', 구글클라우드 고객 어워즈 수상\n",
            "\n",
            "\n",
            "===2th topic===\n",
            "[김대호 박사의 오늘 기업·사람] 가스프롬·애플·LG화학·구글(알파벳)\n",
            "[김대호 박사의 오늘 기업·사람] 가스프롬·애플·LG화학·구글(알파벳)\n",
            "[김대호 박사의 오늘 기업·사람] 가스프롬·애플·LG화학·구글(알파벳)\n",
            "\n",
            "\n",
            "===3th topic===\n",
            "신한금융그룹, 구글 스타트업 캠퍼스와 스타트업 육성 파트너십 체결 1주년 기념 성과공유회 개최\n",
            "신한금융, 구글 스타트업 캠퍼스와 스타트업 육성 파트너십 체결 1주년 기념 성과공유회 개최\n",
            "구글 스타트업 캠퍼스-신한금융그룹, 스타트업 파트너십 1주년 성과공유회 개최\n",
            "\n",
            "\n",
            "===4th topic===\n",
            "\"AI에 인간 수준 지각능력 있다\" 주장한 구글 엔지니어, 안보 규정 위반으로 해고\n",
            "\"AI에 인간 수준 지각능력 있다\" 주장한 구글 엔지니어, 안보 규정 위반으로 해고\n",
            "구글, AI ‘람다’ 지각 능력 주장한 엔지니어 해고…“데이터 안보 규정 위반”\n",
            "\n",
            "\n"
          ]
        }
      ]
    },
    {
      "cell_type": "markdown",
      "metadata": {
        "id": "yLOplJlO5tFi"
      },
      "source": [
        "```\n",
        "❓ 2번째 토픽에 대해 가장 높은 가중치를 갖는 제목 5개를 출력해볼까요?\n",
        "```"
      ]
    },
    {
      "cell_type": "code",
      "metadata": {
        "ExecuteTime": {
          "end_time": "2019-05-29T08:48:58.574010Z",
          "start_time": "2019-05-29T08:48:58.567122Z"
        },
        "id": "Jfm4fK4jaCL9",
        "colab": {
          "base_uri": "https://localhost:8080/"
        },
        "outputId": "12e5ab4e-becd-4628-a255-abe64f2e174d"
      },
      "source": [
        "#TODO\n",
        "index_list = W[:, 2].argsort()[::-1][:5]\n",
        "for index in index_list:\n",
        "    print(words_list[index][1])"
      ],
      "execution_count": 12,
      "outputs": [
        {
          "output_type": "stream",
          "name": "stdout",
          "text": [
            "[김대호 박사의 오늘 기업·사람] 가스프롬·애플·LG화학·구글(알파벳)\n",
            "[김대호 박사의 오늘 기업·사람] 가스프롬·애플·LG화학·구글(알파벳)\n",
            "[김대호 박사의 오늘 기업·사람] 가스프롬·애플·LG화학·구글(알파벳)\n",
            "[김대호 박사의 오늘 기업·사람] 엑슨모빌·카카오·구글·알보텍·애브비·코오롱\n",
            "[EBN 오늘(16일) 이슈 종합] 스타트업 '춘추전국 시대'…구글 주목 기업 어디? 등\n"
          ]
        }
      ]
    },
    {
      "cell_type": "markdown",
      "metadata": {
        "id": "b7AZ3SyS6Y5L"
      },
      "source": [
        "```\n",
        "🔥 이번에는 t-SNE를 이용해 Topic별 시각화를 진행해보겠습니다.\n",
        "\n",
        "💡 t-SNE는 무엇인가요?\n",
        "\n",
        "t-Stochastic Neighbor Embedding(t-SNE)은 고차원의 벡터를 \n",
        "저차원(2~3차원) 벡터로 데이터간 구조적 특징을 유지하며 축소를 하는 방법 중 하나입니다.\n",
        "\n",
        "주로 고차원 데이터의 시각화를 위해 사용됩니다.\n",
        "```\n",
        "\n",
        "참고: [lovit: t-SNE](https://lovit.github.io/nlp/representation/2018/09/28/tsne/#:~:text=t%2DSNE%20%EB%8A%94%20%EA%B3%A0%EC%B0%A8%EC%9B%90%EC%9D%98,%EC%9D%98%20%EC%A7%80%EB%8F%84%EB%A1%9C%20%ED%91%9C%ED%98%84%ED%95%A9%EB%8B%88%EB%8B%A4.)\n",
        "\n",
        "참고: [ratsgo: t-SNE](https://ratsgo.github.io/machine%20learning/2017/04/28/tSNE/)"
      ]
    },
    {
      "cell_type": "markdown",
      "metadata": {
        "id": "H1HlyoakaCMA"
      },
      "source": [
        "## Visualization"
      ]
    },
    {
      "cell_type": "code",
      "metadata": {
        "ExecuteTime": {
          "end_time": "2019-05-29T08:49:22.529080Z",
          "start_time": "2019-05-29T08:48:58.612549Z"
        },
        "id": "rqajA3lDaCMB",
        "colab": {
          "base_uri": "https://localhost:8080/"
        },
        "outputId": "7f52d456-173a-4b3c-debd-e48b72f1227c"
      },
      "source": [
        "from sklearn.manifold import TSNE\n",
        "\n",
        "# n_components = 차원 수\n",
        "tsne = TSNE(n_components=2, init='pca', verbose=1)\n",
        "\n",
        "# W matrix에 대해 t-sne를 수행합니다.\n",
        "W2d = tsne.fit_transform(W)\n",
        "\n",
        "# 각 뉴스 기사 제목마다 가중치가 가장 높은 topic을 저장합니다.\n",
        "topicIndex = [v.argmax() for v in W]"
      ],
      "execution_count": 13,
      "outputs": [
        {
          "output_type": "stream",
          "name": "stderr",
          "text": [
            "/usr/local/lib/python3.7/dist-packages/sklearn/manifold/_t_sne.py:793: FutureWarning: The default learning rate in TSNE will change from 200.0 to 'auto' in 1.2.\n",
            "  FutureWarning,\n",
            "/usr/local/lib/python3.7/dist-packages/sklearn/manifold/_t_sne.py:986: FutureWarning: The PCA initialization in TSNE will change to have the standard deviation of PC1 equal to 1e-4 in 1.2. This will ensure better convergence.\n",
            "  FutureWarning,\n"
          ]
        },
        {
          "output_type": "stream",
          "name": "stdout",
          "text": [
            "[t-SNE] Computing 74 nearest neighbors...\n",
            "[t-SNE] Indexed 75 samples in 0.000s...\n",
            "[t-SNE] Computed neighbors for 75 samples in 0.003s...\n",
            "[t-SNE] Computed conditional probabilities for sample 75 / 75\n",
            "[t-SNE] Mean sigma: 0.120007\n",
            "[t-SNE] KL divergence after 250 iterations with early exaggeration: 52.030441\n",
            "[t-SNE] KL divergence after 1000 iterations: -0.142062\n"
          ]
        }
      ]
    },
    {
      "cell_type": "code",
      "metadata": {
        "ExecuteTime": {
          "end_time": "2019-05-16T08:24:10.840813Z",
          "start_time": "2019-05-16T08:24:10.695706Z"
        },
        "scrolled": true,
        "id": "pc76X-jSaCME",
        "colab": {
          "base_uri": "https://localhost:8080/",
          "height": 615
        },
        "outputId": "b0411cc6-c532-47bb-97e2-257a48326c72"
      },
      "source": [
        "from bokeh.models import HoverTool\n",
        "from bokeh.palettes import Category20\n",
        "from bokeh.io import show, output_notebook\n",
        "from bokeh.plotting import figure, ColumnDataSource\n",
        "output_notebook()\n",
        "\n",
        "# 사용할 툴들\n",
        "tools_to_show = 'hover,box_zoom,pan,save,reset,wheel_zoom'\n",
        "p = figure(plot_width=720, plot_height=580, tools=tools_to_show)\n",
        "\n",
        "source = ColumnDataSource(data={\n",
        "    'x': W2d[:, 0],\n",
        "    'y': W2d[:, 1],\n",
        "    'id': [i for i in range(W.shape[0])],\n",
        "    'document': [article for words, article in words_list],\n",
        "    'topic': [str(i) for i in topicIndex],  # 토픽 번호\n",
        "    'color': [Category20[K][i] for i in topicIndex]\n",
        "})\n",
        "p.circle(\n",
        "    'x', 'y',\n",
        "    source=source,\n",
        "    legend='topic',\n",
        "    color='color'\n",
        ")\n",
        "\n",
        "# interaction\n",
        "p.legend.location = \"top_left\"\n",
        "hover = p.select({'type': HoverTool})\n",
        "hover.tooltips = [(\"Topic\", \"@topic\"), ('id', '@id'), (\"Article\", \"@document\")]\n",
        "hover.mode = 'mouse'\n",
        "\n",
        "show(p)"
      ],
      "execution_count": 14,
      "outputs": [
        {
          "output_type": "stream",
          "name": "stderr",
          "text": [
            "BokehDeprecationWarning: 'legend' keyword is deprecated, use explicit 'legend_label', 'legend_field', or 'legend_group' keywords instead\n"
          ]
        },
        {
          "output_type": "display_data",
          "data": {
            "application/javascript": [
              "\n",
              "(function(root) {\n",
              "  function now() {\n",
              "    return new Date();\n",
              "  }\n",
              "\n",
              "  var force = true;\n",
              "\n",
              "  if (typeof root._bokeh_onload_callbacks === \"undefined\" || force === true) {\n",
              "    root._bokeh_onload_callbacks = [];\n",
              "    root._bokeh_is_loading = undefined;\n",
              "  }\n",
              "\n",
              "  var JS_MIME_TYPE = 'application/javascript';\n",
              "  var HTML_MIME_TYPE = 'text/html';\n",
              "  var EXEC_MIME_TYPE = 'application/vnd.bokehjs_exec.v0+json';\n",
              "  var CLASS_NAME = 'output_bokeh rendered_html';\n",
              "\n",
              "  /**\n",
              "   * Render data to the DOM node\n",
              "   */\n",
              "  function render(props, node) {\n",
              "    var script = document.createElement(\"script\");\n",
              "    node.appendChild(script);\n",
              "  }\n",
              "\n",
              "  /**\n",
              "   * Handle when an output is cleared or removed\n",
              "   */\n",
              "  function handleClearOutput(event, handle) {\n",
              "    var cell = handle.cell;\n",
              "\n",
              "    var id = cell.output_area._bokeh_element_id;\n",
              "    var server_id = cell.output_area._bokeh_server_id;\n",
              "    // Clean up Bokeh references\n",
              "    if (id != null && id in Bokeh.index) {\n",
              "      Bokeh.index[id].model.document.clear();\n",
              "      delete Bokeh.index[id];\n",
              "    }\n",
              "\n",
              "    if (server_id !== undefined) {\n",
              "      // Clean up Bokeh references\n",
              "      var cmd = \"from bokeh.io.state import curstate; print(curstate().uuid_to_server['\" + server_id + \"'].get_sessions()[0].document.roots[0]._id)\";\n",
              "      cell.notebook.kernel.execute(cmd, {\n",
              "        iopub: {\n",
              "          output: function(msg) {\n",
              "            var id = msg.content.text.trim();\n",
              "            if (id in Bokeh.index) {\n",
              "              Bokeh.index[id].model.document.clear();\n",
              "              delete Bokeh.index[id];\n",
              "            }\n",
              "          }\n",
              "        }\n",
              "      });\n",
              "      // Destroy server and session\n",
              "      var cmd = \"import bokeh.io.notebook as ion; ion.destroy_server('\" + server_id + \"')\";\n",
              "      cell.notebook.kernel.execute(cmd);\n",
              "    }\n",
              "  }\n",
              "\n",
              "  /**\n",
              "   * Handle when a new output is added\n",
              "   */\n",
              "  function handleAddOutput(event, handle) {\n",
              "    var output_area = handle.output_area;\n",
              "    var output = handle.output;\n",
              "\n",
              "    // limit handleAddOutput to display_data with EXEC_MIME_TYPE content only\n",
              "    if ((output.output_type != \"display_data\") || (!Object.prototype.hasOwnProperty.call(output.data, EXEC_MIME_TYPE))) {\n",
              "      return\n",
              "    }\n",
              "\n",
              "    var toinsert = output_area.element.find(\".\" + CLASS_NAME.split(' ')[0]);\n",
              "\n",
              "    if (output.metadata[EXEC_MIME_TYPE][\"id\"] !== undefined) {\n",
              "      toinsert[toinsert.length - 1].firstChild.textContent = output.data[JS_MIME_TYPE];\n",
              "      // store reference to embed id on output_area\n",
              "      output_area._bokeh_element_id = output.metadata[EXEC_MIME_TYPE][\"id\"];\n",
              "    }\n",
              "    if (output.metadata[EXEC_MIME_TYPE][\"server_id\"] !== undefined) {\n",
              "      var bk_div = document.createElement(\"div\");\n",
              "      bk_div.innerHTML = output.data[HTML_MIME_TYPE];\n",
              "      var script_attrs = bk_div.children[0].attributes;\n",
              "      for (var i = 0; i < script_attrs.length; i++) {\n",
              "        toinsert[toinsert.length - 1].firstChild.setAttribute(script_attrs[i].name, script_attrs[i].value);\n",
              "        toinsert[toinsert.length - 1].firstChild.textContent = bk_div.children[0].textContent\n",
              "      }\n",
              "      // store reference to server id on output_area\n",
              "      output_area._bokeh_server_id = output.metadata[EXEC_MIME_TYPE][\"server_id\"];\n",
              "    }\n",
              "  }\n",
              "\n",
              "  function register_renderer(events, OutputArea) {\n",
              "\n",
              "    function append_mime(data, metadata, element) {\n",
              "      // create a DOM node to render to\n",
              "      var toinsert = this.create_output_subarea(\n",
              "        metadata,\n",
              "        CLASS_NAME,\n",
              "        EXEC_MIME_TYPE\n",
              "      );\n",
              "      this.keyboard_manager.register_events(toinsert);\n",
              "      // Render to node\n",
              "      var props = {data: data, metadata: metadata[EXEC_MIME_TYPE]};\n",
              "      render(props, toinsert[toinsert.length - 1]);\n",
              "      element.append(toinsert);\n",
              "      return toinsert\n",
              "    }\n",
              "\n",
              "    /* Handle when an output is cleared or removed */\n",
              "    events.on('clear_output.CodeCell', handleClearOutput);\n",
              "    events.on('delete.Cell', handleClearOutput);\n",
              "\n",
              "    /* Handle when a new output is added */\n",
              "    events.on('output_added.OutputArea', handleAddOutput);\n",
              "\n",
              "    /**\n",
              "     * Register the mime type and append_mime function with output_area\n",
              "     */\n",
              "    OutputArea.prototype.register_mime_type(EXEC_MIME_TYPE, append_mime, {\n",
              "      /* Is output safe? */\n",
              "      safe: true,\n",
              "      /* Index of renderer in `output_area.display_order` */\n",
              "      index: 0\n",
              "    });\n",
              "  }\n",
              "\n",
              "  // register the mime type if in Jupyter Notebook environment and previously unregistered\n",
              "  if (root.Jupyter !== undefined) {\n",
              "    var events = require('base/js/events');\n",
              "    var OutputArea = require('notebook/js/outputarea').OutputArea;\n",
              "\n",
              "    if (OutputArea.prototype.mime_types().indexOf(EXEC_MIME_TYPE) == -1) {\n",
              "      register_renderer(events, OutputArea);\n",
              "    }\n",
              "  }\n",
              "\n",
              "  \n",
              "  if (typeof (root._bokeh_timeout) === \"undefined\" || force === true) {\n",
              "    root._bokeh_timeout = Date.now() + 5000;\n",
              "    root._bokeh_failed_load = false;\n",
              "  }\n",
              "\n",
              "  var NB_LOAD_WARNING = {'data': {'text/html':\n",
              "     \"<div style='background-color: #fdd'>\\n\"+\n",
              "     \"<p>\\n\"+\n",
              "     \"BokehJS does not appear to have successfully loaded. If loading BokehJS from CDN, this \\n\"+\n",
              "     \"may be due to a slow or bad network connection. Possible fixes:\\n\"+\n",
              "     \"</p>\\n\"+\n",
              "     \"<ul>\\n\"+\n",
              "     \"<li>re-rerun `output_notebook()` to attempt to load from CDN again, or</li>\\n\"+\n",
              "     \"<li>use INLINE resources instead, as so:</li>\\n\"+\n",
              "     \"</ul>\\n\"+\n",
              "     \"<code>\\n\"+\n",
              "     \"from bokeh.resources import INLINE\\n\"+\n",
              "     \"output_notebook(resources=INLINE)\\n\"+\n",
              "     \"</code>\\n\"+\n",
              "     \"</div>\"}};\n",
              "\n",
              "  function display_loaded() {\n",
              "    var el = document.getElementById(null);\n",
              "    if (el != null) {\n",
              "      el.textContent = \"BokehJS is loading...\";\n",
              "    }\n",
              "    if (root.Bokeh !== undefined) {\n",
              "      if (el != null) {\n",
              "        el.textContent = \"BokehJS \" + root.Bokeh.version + \" successfully loaded.\";\n",
              "      }\n",
              "    } else if (Date.now() < root._bokeh_timeout) {\n",
              "      setTimeout(display_loaded, 100)\n",
              "    }\n",
              "  }\n",
              "\n",
              "\n",
              "  function run_callbacks() {\n",
              "    try {\n",
              "      root._bokeh_onload_callbacks.forEach(function(callback) {\n",
              "        if (callback != null)\n",
              "          callback();\n",
              "      });\n",
              "    } finally {\n",
              "      delete root._bokeh_onload_callbacks\n",
              "    }\n",
              "    console.debug(\"Bokeh: all callbacks have finished\");\n",
              "  }\n",
              "\n",
              "  function load_libs(css_urls, js_urls, callback) {\n",
              "    if (css_urls == null) css_urls = [];\n",
              "    if (js_urls == null) js_urls = [];\n",
              "\n",
              "    root._bokeh_onload_callbacks.push(callback);\n",
              "    if (root._bokeh_is_loading > 0) {\n",
              "      console.debug(\"Bokeh: BokehJS is being loaded, scheduling callback at\", now());\n",
              "      return null;\n",
              "    }\n",
              "    if (js_urls == null || js_urls.length === 0) {\n",
              "      run_callbacks();\n",
              "      return null;\n",
              "    }\n",
              "    console.debug(\"Bokeh: BokehJS not loaded, scheduling load and callback at\", now());\n",
              "    root._bokeh_is_loading = css_urls.length + js_urls.length;\n",
              "\n",
              "    function on_load() {\n",
              "      root._bokeh_is_loading--;\n",
              "      if (root._bokeh_is_loading === 0) {\n",
              "        console.debug(\"Bokeh: all BokehJS libraries/stylesheets loaded\");\n",
              "        run_callbacks()\n",
              "      }\n",
              "    }\n",
              "\n",
              "    function on_error(url) {\n",
              "      console.error(\"failed to load \" + url);\n",
              "    }\n",
              "\n",
              "    for (let i = 0; i < css_urls.length; i++) {\n",
              "      const url = css_urls[i];\n",
              "      const element = document.createElement(\"link\");\n",
              "      element.onload = on_load;\n",
              "      element.onerror = on_error.bind(null, url);\n",
              "      element.rel = \"stylesheet\";\n",
              "      element.type = \"text/css\";\n",
              "      element.href = url;\n",
              "      console.debug(\"Bokeh: injecting link tag for BokehJS stylesheet: \", url);\n",
              "      document.body.appendChild(element);\n",
              "    }\n",
              "\n",
              "    const hashes = {\"https://cdn.bokeh.org/bokeh/release/bokeh-2.3.3.min.js\": \"dM3QQsP+wXdHg42wTqW85BjZQdLNNIXqlPw/BgKoExPmTG7ZLML4EGqLMfqHT6ON\", \"https://cdn.bokeh.org/bokeh/release/bokeh-tables-2.3.3.min.js\": \"8x57I4YuIfu8XyZfFo0XVr2WAT8EK4rh/uDe3wF7YuW2FNUSNEpJbsPaB1nJ2fz2\", \"https://cdn.bokeh.org/bokeh/release/bokeh-widgets-2.3.3.min.js\": \"3QTqdz9LyAm2i0sG5XTePsHec3UHWwVsrOL68SYRoAXsafvfAyqtQ+h440+qIBhS\"};\n",
              "\n",
              "    for (let i = 0; i < js_urls.length; i++) {\n",
              "      const url = js_urls[i];\n",
              "      const element = document.createElement('script');\n",
              "      element.onload = on_load;\n",
              "      element.onerror = on_error.bind(null, url);\n",
              "      element.async = false;\n",
              "      element.src = url;\n",
              "      if (url in hashes) {\n",
              "        element.crossOrigin = \"anonymous\";\n",
              "        element.integrity = \"sha384-\" + hashes[url];\n",
              "      }\n",
              "      console.debug(\"Bokeh: injecting script tag for BokehJS library: \", url);\n",
              "      document.head.appendChild(element);\n",
              "    }\n",
              "  };\n",
              "\n",
              "  function inject_raw_css(css) {\n",
              "    const element = document.createElement(\"style\");\n",
              "    element.appendChild(document.createTextNode(css));\n",
              "    document.body.appendChild(element);\n",
              "  }\n",
              "\n",
              "  \n",
              "  var js_urls = [\"https://cdn.bokeh.org/bokeh/release/bokeh-2.3.3.min.js\", \"https://cdn.bokeh.org/bokeh/release/bokeh-widgets-2.3.3.min.js\", \"https://cdn.bokeh.org/bokeh/release/bokeh-tables-2.3.3.min.js\"];\n",
              "  var css_urls = [];\n",
              "  \n",
              "\n",
              "  var inline_js = [\n",
              "    function(Bokeh) {\n",
              "      Bokeh.set_log_level(\"info\");\n",
              "    },\n",
              "    function(Bokeh) {\n",
              "    \n",
              "    \n",
              "    }\n",
              "  ];\n",
              "\n",
              "  function run_inline_js() {\n",
              "    \n",
              "    if (root.Bokeh !== undefined || force === true) {\n",
              "      \n",
              "    for (var i = 0; i < inline_js.length; i++) {\n",
              "      inline_js[i].call(root, root.Bokeh);\n",
              "    }\n",
              "    } else if (Date.now() < root._bokeh_timeout) {\n",
              "      setTimeout(run_inline_js, 100);\n",
              "    } else if (!root._bokeh_failed_load) {\n",
              "      console.log(\"Bokeh: BokehJS failed to load within specified timeout.\");\n",
              "      root._bokeh_failed_load = true;\n",
              "    } else if (force !== true) {\n",
              "      var cell = $(document.getElementById(null)).parents('.cell').data().cell;\n",
              "      cell.output_area.append_execute_result(NB_LOAD_WARNING)\n",
              "    }\n",
              "\n",
              "  }\n",
              "\n",
              "  if (root._bokeh_is_loading === 0) {\n",
              "    console.debug(\"Bokeh: BokehJS loaded, going straight to plotting\");\n",
              "    run_inline_js();\n",
              "  } else {\n",
              "    load_libs(css_urls, js_urls, function() {\n",
              "      console.debug(\"Bokeh: BokehJS plotting callback run at\", now());\n",
              "      run_inline_js();\n",
              "    });\n",
              "  }\n",
              "}(window));"
            ],
            "application/vnd.bokehjs_load.v0+json": "\n(function(root) {\n  function now() {\n    return new Date();\n  }\n\n  var force = true;\n\n  if (typeof root._bokeh_onload_callbacks === \"undefined\" || force === true) {\n    root._bokeh_onload_callbacks = [];\n    root._bokeh_is_loading = undefined;\n  }\n\n  \n\n  \n  if (typeof (root._bokeh_timeout) === \"undefined\" || force === true) {\n    root._bokeh_timeout = Date.now() + 5000;\n    root._bokeh_failed_load = false;\n  }\n\n  var NB_LOAD_WARNING = {'data': {'text/html':\n     \"<div style='background-color: #fdd'>\\n\"+\n     \"<p>\\n\"+\n     \"BokehJS does not appear to have successfully loaded. If loading BokehJS from CDN, this \\n\"+\n     \"may be due to a slow or bad network connection. Possible fixes:\\n\"+\n     \"</p>\\n\"+\n     \"<ul>\\n\"+\n     \"<li>re-rerun `output_notebook()` to attempt to load from CDN again, or</li>\\n\"+\n     \"<li>use INLINE resources instead, as so:</li>\\n\"+\n     \"</ul>\\n\"+\n     \"<code>\\n\"+\n     \"from bokeh.resources import INLINE\\n\"+\n     \"output_notebook(resources=INLINE)\\n\"+\n     \"</code>\\n\"+\n     \"</div>\"}};\n\n  function display_loaded() {\n    var el = document.getElementById(null);\n    if (el != null) {\n      el.textContent = \"BokehJS is loading...\";\n    }\n    if (root.Bokeh !== undefined) {\n      if (el != null) {\n        el.textContent = \"BokehJS \" + root.Bokeh.version + \" successfully loaded.\";\n      }\n    } else if (Date.now() < root._bokeh_timeout) {\n      setTimeout(display_loaded, 100)\n    }\n  }\n\n\n  function run_callbacks() {\n    try {\n      root._bokeh_onload_callbacks.forEach(function(callback) {\n        if (callback != null)\n          callback();\n      });\n    } finally {\n      delete root._bokeh_onload_callbacks\n    }\n    console.debug(\"Bokeh: all callbacks have finished\");\n  }\n\n  function load_libs(css_urls, js_urls, callback) {\n    if (css_urls == null) css_urls = [];\n    if (js_urls == null) js_urls = [];\n\n    root._bokeh_onload_callbacks.push(callback);\n    if (root._bokeh_is_loading > 0) {\n      console.debug(\"Bokeh: BokehJS is being loaded, scheduling callback at\", now());\n      return null;\n    }\n    if (js_urls == null || js_urls.length === 0) {\n      run_callbacks();\n      return null;\n    }\n    console.debug(\"Bokeh: BokehJS not loaded, scheduling load and callback at\", now());\n    root._bokeh_is_loading = css_urls.length + js_urls.length;\n\n    function on_load() {\n      root._bokeh_is_loading--;\n      if (root._bokeh_is_loading === 0) {\n        console.debug(\"Bokeh: all BokehJS libraries/stylesheets loaded\");\n        run_callbacks()\n      }\n    }\n\n    function on_error(url) {\n      console.error(\"failed to load \" + url);\n    }\n\n    for (let i = 0; i < css_urls.length; i++) {\n      const url = css_urls[i];\n      const element = document.createElement(\"link\");\n      element.onload = on_load;\n      element.onerror = on_error.bind(null, url);\n      element.rel = \"stylesheet\";\n      element.type = \"text/css\";\n      element.href = url;\n      console.debug(\"Bokeh: injecting link tag for BokehJS stylesheet: \", url);\n      document.body.appendChild(element);\n    }\n\n    const hashes = {\"https://cdn.bokeh.org/bokeh/release/bokeh-2.3.3.min.js\": \"dM3QQsP+wXdHg42wTqW85BjZQdLNNIXqlPw/BgKoExPmTG7ZLML4EGqLMfqHT6ON\", \"https://cdn.bokeh.org/bokeh/release/bokeh-tables-2.3.3.min.js\": \"8x57I4YuIfu8XyZfFo0XVr2WAT8EK4rh/uDe3wF7YuW2FNUSNEpJbsPaB1nJ2fz2\", \"https://cdn.bokeh.org/bokeh/release/bokeh-widgets-2.3.3.min.js\": \"3QTqdz9LyAm2i0sG5XTePsHec3UHWwVsrOL68SYRoAXsafvfAyqtQ+h440+qIBhS\"};\n\n    for (let i = 0; i < js_urls.length; i++) {\n      const url = js_urls[i];\n      const element = document.createElement('script');\n      element.onload = on_load;\n      element.onerror = on_error.bind(null, url);\n      element.async = false;\n      element.src = url;\n      if (url in hashes) {\n        element.crossOrigin = \"anonymous\";\n        element.integrity = \"sha384-\" + hashes[url];\n      }\n      console.debug(\"Bokeh: injecting script tag for BokehJS library: \", url);\n      document.head.appendChild(element);\n    }\n  };\n\n  function inject_raw_css(css) {\n    const element = document.createElement(\"style\");\n    element.appendChild(document.createTextNode(css));\n    document.body.appendChild(element);\n  }\n\n  \n  var js_urls = [\"https://cdn.bokeh.org/bokeh/release/bokeh-2.3.3.min.js\", \"https://cdn.bokeh.org/bokeh/release/bokeh-widgets-2.3.3.min.js\", \"https://cdn.bokeh.org/bokeh/release/bokeh-tables-2.3.3.min.js\"];\n  var css_urls = [];\n  \n\n  var inline_js = [\n    function(Bokeh) {\n      Bokeh.set_log_level(\"info\");\n    },\n    function(Bokeh) {\n    \n    \n    }\n  ];\n\n  function run_inline_js() {\n    \n    if (root.Bokeh !== undefined || force === true) {\n      \n    for (var i = 0; i < inline_js.length; i++) {\n      inline_js[i].call(root, root.Bokeh);\n    }\n    } else if (Date.now() < root._bokeh_timeout) {\n      setTimeout(run_inline_js, 100);\n    } else if (!root._bokeh_failed_load) {\n      console.log(\"Bokeh: BokehJS failed to load within specified timeout.\");\n      root._bokeh_failed_load = true;\n    } else if (force !== true) {\n      var cell = $(document.getElementById(null)).parents('.cell').data().cell;\n      cell.output_area.append_execute_result(NB_LOAD_WARNING)\n    }\n\n  }\n\n  if (root._bokeh_is_loading === 0) {\n    console.debug(\"Bokeh: BokehJS loaded, going straight to plotting\");\n    run_inline_js();\n  } else {\n    load_libs(css_urls, js_urls, function() {\n      console.debug(\"Bokeh: BokehJS plotting callback run at\", now());\n      run_inline_js();\n    });\n  }\n}(window));"
          },
          "metadata": {}
        },
        {
          "output_type": "display_data",
          "data": {
            "text/html": [
              "\n",
              "\n",
              "\n",
              "\n",
              "\n",
              "\n",
              "  <div class=\"bk-root\" id=\"72065874-740f-407e-b127-c005eb33f977\" data-root-id=\"1002\"></div>\n"
            ]
          },
          "metadata": {}
        },
        {
          "output_type": "display_data",
          "data": {
            "application/javascript": [
              "(function(root) {\n",
              "  function embed_document(root) {\n",
              "    \n",
              "  var docs_json = {\"24737d2e-eba4-4358-ab4f-7c63a5abea68\":{\"defs\":[],\"roots\":{\"references\":[{\"attributes\":{\"below\":[{\"id\":\"1011\"}],\"center\":[{\"id\":\"1014\"},{\"id\":\"1018\"},{\"id\":\"1050\"}],\"height\":580,\"left\":[{\"id\":\"1015\"}],\"renderers\":[{\"id\":\"1037\"}],\"title\":{\"id\":\"1040\"},\"toolbar\":{\"id\":\"1026\"},\"width\":720,\"x_range\":{\"id\":\"1003\"},\"x_scale\":{\"id\":\"1007\"},\"y_range\":{\"id\":\"1005\"},\"y_scale\":{\"id\":\"1009\"}},\"id\":\"1002\",\"subtype\":\"Figure\",\"type\":\"Plot\"},{\"attributes\":{\"axis\":{\"id\":\"1011\"},\"ticker\":null},\"id\":\"1014\",\"type\":\"Grid\"},{\"attributes\":{\"data_source\":{\"id\":\"1033\"},\"glyph\":{\"id\":\"1035\"},\"hover_glyph\":null,\"muted_glyph\":null,\"nonselection_glyph\":{\"id\":\"1036\"},\"view\":{\"id\":\"1038\"}},\"id\":\"1037\",\"type\":\"GlyphRenderer\"},{\"attributes\":{\"data\":{\"color\":[\"#1f77b4\",\"#ff7f0e\",\"#ff7f0e\",\"#ffbb78\",\"#ffbb78\",\"#ffbb78\",\"#1f77b4\",\"#2ca02c\",\"#2ca02c\",\"#ff7f0e\",\"#1f77b4\",\"#2ca02c\",\"#ff7f0e\",\"#ff7f0e\",\"#ffbb78\",\"#ffbb78\",\"#ffbb78\",\"#1f77b4\",\"#ffbb78\",\"#2ca02c\",\"#1f77b4\",\"#1f77b4\",\"#ffbb78\",\"#1f77b4\",\"#ff7f0e\",\"#1f77b4\",\"#1f77b4\",\"#1f77b4\",\"#1f77b4\",\"#1f77b4\",\"#ffbb78\",\"#1f77b4\",\"#1f77b4\",\"#ffbb78\",\"#ffbb78\",\"#1f77b4\",\"#1f77b4\",\"#ffbb78\",\"#1f77b4\",\"#1f77b4\",\"#1f77b4\",\"#1f77b4\",\"#1f77b4\",\"#1f77b4\",\"#ffbb78\",\"#ff7f0e\",\"#ff7f0e\",\"#1f77b4\",\"#2ca02c\",\"#1f77b4\",\"#aec7e8\",\"#1f77b4\",\"#1f77b4\",\"#ffbb78\",\"#ffbb78\",\"#1f77b4\",\"#aec7e8\",\"#ff7f0e\",\"#ffbb78\",\"#ffbb78\",\"#1f77b4\",\"#1f77b4\",\"#1f77b4\",\"#1f77b4\",\"#ffbb78\",\"#aec7e8\",\"#1f77b4\",\"#1f77b4\",\"#1f77b4\",\"#ffbb78\",\"#ff7f0e\",\"#ffbb78\",\"#1f77b4\",\"#aec7e8\",\"#1f77b4\"],\"document\":[\"\\uc6f9\\ud230\\uc5c5\\uacc4 \\\"\\uc288\\ud37c\\uac11 \\uad6c\\uae00, \\ucf58\\ud150\\uce20 \\uc0dd\\ud0dc\\uacc4 \\uc800\\ud574\\\"\\u2026\\uc815\\ubd80 \\ub2a6\\uc7a5\\ub300\\uc751 \\ud1a0\\ub85c [IT\\ub3cb\\ubcf4\\uae30]\",\"<\\ub51c\\ub9c1\\ub8f8 \\ubc31\\ube0c\\ub9ac\\ud551> '\\uba38\\uc2a4\\ud06c \\ubd88\\ub95c\\uc124' \\ub2c8\\ucf5c \\uc100\\ub108\\ud578 \\ub204\\uad6c\\u2026\\uad6c\\uae00 \\uc548\\uc8fc\\uc778\\uc774\\uc790 \\uae30\\uc5c5\\uac00\",\"[\\uae40\\ub300\\ud638 \\ubc15\\uc0ac\\uc758 \\uc624\\ub298 \\uae30\\uc5c5\\u00b7\\uc0ac\\ub78c] \\uac00\\uc2a4\\ud504\\ub86c\\u00b7\\uc560\\ud50c\\u00b7LG\\ud654\\ud559\\u00b7\\uad6c\\uae00(\\uc54c\\ud30c\\ubcb3)\",\"\\ud558\\ub098\\uc99d\\uad8c \\\"8\\uc6d4 \\uad6c\\uae00 AR\\uae00\\ub798\\uc2a4 \\ud14c\\uc2a4\\ud2b8\\uc640 \\uc0bc\\uc131\\uc804\\uc790 \\uac24\\ub7ed\\uc2dc \\uacf5\\uac1c\\ud589\\uc0ac \\uc8fc\\ubaa9\\\"\",\"[\\ub9e4\\ub9e4\\uc758 \\uae30\\uc220] \\uad6c\\uae00 AR\\uae00\\ub798\\uc2a4\\uc5d0 \\uba54\\ud0c0\\ubc84\\uc2a4 \\uc0dd\\ud0dc\\uacc4 \\ud655\\uc7a5 \\uae30\\ub300 <\\uc2e0\\ud654\\uc778\\ud130\\ud14d> vs \\uac00\\uc0c1\\ud654\\ud3d0 \\uae09\\ub4f1 \\uc18d \\ube57\\uc378 \\uc778\\uc218 \\uc774\\uc288\\uc5d0 \\uc8fc\\ubaa9 <\\ube44\\ub374\\ud2b8>\",\"\\ucd9c\\ubc94 10\\uc8fc\\ub144 \\uad6c\\uae00 '\\uc544\\ud2b8\\uc564\\uceec\\ucc98'\\u2026AR\\u00b7VR \\ud65c\\uc6a9\\ud55c 'BTS \\ub514\\uc9c0\\ud138 \\uac24\\ub7ec\\ub9ac' \\ub4f1 \\uc120\\ubd2c\",\"\\uce74\\uce74\\uc624\\uac8c\\uc784\\uc988 '\\uc6b0\\ub9c8\\ubb34\\uc2a4\\uba54 \\ud504\\ub9ac\\ud2f0 \\ub354\\ube44', \\ud0a4\\ud0c0\\uc0b0 \\ube14\\ub799 \\uc778\\uae30\\uc5d0 \\ud798 \\uc785\\uc5b4 \\uad6c\\uae00 \\ub9e4\\ucd9c 1\\uc704 \\ub2ec\\uc131\",\"\\\"AI\\uc5d0 \\uc778\\uac04 \\uc218\\uc900 \\uc9c0\\uac01\\ub2a5\\ub825 \\uc788\\ub2e4\\\" \\uc8fc\\uc7a5\\ud55c \\uad6c\\uae00 \\uc5d4\\uc9c0\\ub2c8\\uc5b4, \\uc548\\ubcf4 \\uaddc\\uc815 \\uc704\\ubc18\\uc73c\\ub85c \\ud574\\uace0\",\"\\\"AI\\uc5d0 \\uc778\\uac04 \\uc218\\uc900 \\uc9c0\\uac01\\ub2a5\\ub825 \\uc788\\ub2e4\\\" \\uc8fc\\uc7a5\\ud55c \\uad6c\\uae00 \\uc5d4\\uc9c0\\ub2c8\\uc5b4, \\uc548\\ubcf4 \\uaddc\\uc815 \\uc704\\ubc18\\uc73c\\ub85c \\ud574\\uace0\",\"<\\ub51c\\ub9c1\\ub8f8 \\ubc31\\ube0c\\ub9ac\\ud551> '\\uba38\\uc2a4\\ud06c \\ubd88\\ub95c\\uc124' \\ub2c8\\ucf5c \\uc100\\ub108\\ud578 \\ub204\\uad6c\\u2026\\uad6c\\uae00 \\uc548\\uc8fc\\uc778\\uc774\\uc790 \\uae30\\uc5c5\\uac00\",\"\\uc77c\\ub860 \\uba38\\uc2a4\\ud06c \\uad6c\\uae00 \\ucc3d\\ub9bd\\uc790 \\uc544\\ub0b4\\uc640 \\ubd88\\ub95c.. WSJ, \\\"\\uba38\\uc2a4\\ud06c, \\ub0a8\\ud3b8 \\ube0c\\ub9b0\\uc5d0\\uac8c \\ubb34\\ub98e \\uafc7\\uace0 \\ube4c\\uc5b4\\\"\",\"\\uad6c\\uae00, AI \\u2018\\ub78c\\ub2e4\\u2019 \\uc9c0\\uac01 \\ub2a5\\ub825 \\uc8fc\\uc7a5\\ud55c \\uc5d4\\uc9c0\\ub2c8\\uc5b4 \\ud574\\uace0\\u2026\\u201c\\ub370\\uc774\\ud130 \\uc548\\ubcf4 \\uaddc\\uc815 \\uc704\\ubc18\\u201d\",\"[\\uae40\\ub300\\ud638 \\ubc15\\uc0ac\\uc758 \\uc624\\ub298 \\uae30\\uc5c5\\u00b7\\uc0ac\\ub78c] \\uac00\\uc2a4\\ud504\\ub86c\\u00b7\\uc560\\ud50c\\u00b7LG\\ud654\\ud559\\u00b7\\uad6c\\uae00(\\uc54c\\ud30c\\ubcb3)\",\"[\\uae40\\ub300\\ud638 \\ubc15\\uc0ac\\uc758 \\uc624\\ub298 \\uae30\\uc5c5\\u00b7\\uc0ac\\ub78c] \\uac00\\uc2a4\\ud504\\ub86c\\u00b7\\uc560\\ud50c\\u00b7LG\\ud654\\ud559\\u00b7\\uad6c\\uae00(\\uc54c\\ud30c\\ubcb3)\",\"\\ud558\\ub098\\uc99d\\uad8c \\\"8\\uc6d4 \\uad6c\\uae00 AR\\uae00\\ub798\\uc2a4 \\ud14c\\uc2a4\\ud2b8\\uc640 \\uc0bc\\uc131\\uc804\\uc790 \\uac24\\ub7ed\\uc2dc \\uacf5\\uac1c\\ud589\\uc0ac \\uc8fc\\ubaa9\\\"\",\"[\\ub9e4\\ub9e4\\uc758 \\uae30\\uc220] \\uad6c\\uae00 AR\\uae00\\ub798\\uc2a4\\uc5d0 \\uba54\\ud0c0\\ubc84\\uc2a4 \\uc0dd\\ud0dc\\uacc4 \\ud655\\uc7a5 \\uae30\\ub300 <\\uc2e0\\ud654\\uc778\\ud130\\ud14d> vs \\uac00\\uc0c1\\ud654\\ud3d0 \\uae09\\ub4f1 \\uc18d \\ube57\\uc378 \\uc778\\uc218 \\uc774\\uc288\\uc5d0 \\uc8fc\\ubaa9 <\\ube44\\ub374\\ud2b8>\",\"\\ucd9c\\ubc94 10\\uc8fc\\ub144 \\uad6c\\uae00 '\\uc544\\ud2b8\\uc564\\uceec\\ucc98'\\u2026AR\\u00b7VR \\ud65c\\uc6a9\\ud55c 'BTS \\ub514\\uc9c0\\ud138 \\uac24\\ub7ec\\ub9ac' \\ub4f1 \\uc120\\ubd2c\",\"[\\uc778\\uc571\\uacb0\\uc81c A-Z] \\u2463 \\uad6c\\uae00 \\uc2e0\\uace0 \\uc787\\ub530\\ub77c \\uc811\\uc218\\u2026\\uacf5\\uc815\\uc704, '\\uc778\\uc571\\uacb0\\uc81c' \\uc7ac\\uac80 [IT\\ub3cb\\ubcf4\\uae30]\",\"\\uc0ac\\uac00 \\uc0ac\\ube14\\ub77c \\uad6c\\uae00 \\ub9e4\\ub2c8\\uc800 \\\"\\uc2e4\\uc2dc\\uac04 \\ub300\\ud654\\ub3c4 \\ubc1b\\uc544\\uc4f0\\uae30 \\ucc99\\ucc99\\u2026\\uc5f0\\ub9d0\\uc5d4 \\uc778\\ud130\\ub137 \\uc5c6\\uc774 \\uc0ac\\uc6a9\\uac00\\ub2a5\\\"\",\"\\uc778\\uacf5\\uc9c0\\ub2a5 '\\ub78c\\ub2e4', \\\"\\uc9c0\\uac01\\uc774 \\uc788\\ub2e4\\\" \\uc8fc\\uc7a5\\ud55c \\uad6c\\uae00\\uc5f0\\uad6c\\uc6d0 \\ud574\\uace0!...\\uadf8\\ub7fc\\uc5d0\\ub3c4 AI \\uc9c4\\ud654\\ub294 \\uc778\\uac04 \\uc18c\\ud1b5\\uc758 \\ud55c\\uacc4\\ub97c \\ub118\\ub294\\ub2e4!\",\"\\u2018\\uc2a4\\ud0c0\\uc6e8\\uc774 \\uae40\\ud638\\uc911\\u2019 \\uad6c\\uae00 \\ud50c\\ub808\\uc774\\uc2a4\\ud1a0\\uc5b4 \\uc0ac\\uc804 \\uc608\\uc57d \\uc624\\ud508... \\u2018\\ud37c\\uc990 \\uae68\\uace0 \\ud654\\ubcf4 \\uac10\\uc0c1\\u2019\",\"\\ucd9c\\ud611, \\uad6c\\uae00 \\u2018\\uc778\\uc571 \\uacb0\\uc81c \\uc758\\ubb34\\ud654\\u2019 \\ud615\\uc0ac \\uace0\\ubc1c\\u2026\\u201c\\uacb0\\uc81c \\uc2dc\\uc2a4\\ud15c \\uac15\\uc81c\\ub294 \\uc704\\ubc95\\u201d\",\"\\uc74c\\uc131 -> \\uc2e4\\uc2dc\\uac04 \\ubc88\\uc5ed\\u2026\\uad6c\\uae00, AR \\uae00\\ub798\\uc2a4 \\ub0b4\\ub2ec \\uc77c\\uc0c1 \\uc0dd\\ud65c \\ud14c\\uc2a4\\ud2b8 \\ub3cc\\uc785\",\"[\\uce74\\uce74\\uc624VS\\uad6c\\uae00] \\\"\\uad6c\\uae00 \\uac11\\uc9c8\\uc5d0 \\uce74\\uce74\\uc624 \\ucd1d\\ub300\\\" vs \\\"\\ud50c\\ub7ab\\ud3fc \\uc0ac\\uc5c5\\uc790\\uc758 \\uad8c\\ub9ac\\\"\",\"\\ub274\\uc695\\uc99d\\uc2dc, \\uc560\\ud50c \\uace0\\uc6a9\\ucd95\\uc18c\\uc5d0 '\\ud718\\uccad'\\u2026\\uc560\\ud50c\\u00b7\\uad6c\\uae002%\\u2193\\u2026\\uc720\\uac00\\u00b7\\ube44\\ud2b8\\ucf54\\uc778 \\uae09\\ub4f1 [\\ucd9c\\uadfc\\uc804 \\uaf2d \\uae00\\ub85c\\ubc8c\\ube0c\\ub9ac\\ud551]\",\"\\ud574\\ud53c\\uba38\\ub2c8\\uc544\\uc774\\uc5d4\\uc528, 25\\uc77c \\uad6c\\uae00\\uae30\\ud504\\ud2b8\\ucf54\\ub4dcX\\ubbf8\\ub974M \\ub77c\\uc774\\ube0c\\ucee4\\uba38\\uc2a4 \\ubc29\\uc1a1 \\uc9c4\\ud589\",\"'\\ud50c\\ub7ab\\ud3fc \\uacf5\\ub8e1' \\uad6c\\uae00 VS '\\uad6d\\ubbfc \\uc571' \\uce74\\uce74\\uc624 '\\uc778\\uc571\\uacb0\\uc81c' \\ud798\\uaca8\\ub8e8\\uae30...\\uc18c\\ube44\\uc790\\ub4e4\\uc740 \\ubd88\\ud3b8\",\"'\\ud50c\\ub7ab\\ud3fc \\uacf5\\ub8e1' \\uad6c\\uae00 VS '\\uad6d\\ubbfc \\uc571' \\uce74\\uce74\\uc624 '\\uc778\\uc571\\uacb0\\uc81c' \\ud798\\uaca8\\ub8e8\\uae30...\\uc18c\\ube44\\uc790\\ub4e4\\uc740 \\ubd88\\ud3b8\",\"\\uc2a4\\ub0c5 39%, \\uad6c\\uae00 5.8% \\ud398\\uc774\\uc2a4\\ubd81 7.6% \\ud3ed\\ub77d...\\ub274\\uc695\\uc99d\\uc2dc, \\uc628\\ub77c\\uc778 \\uad11\\uace0\\ub9e4\\ucd9c \\ub454\\ud654 \\uc601\\ud5a5 \\uc77c\\uc81c\\ud788 \\ud558\\ub77d\",\"'\\uc778\\uc571\\uacb0\\uc81c \\uac08\\ub4f1' \\uce74\\uce74\\uc624 vs \\uad6c\\uae00 \\\"\\uc6d0\\ub9cc\\ud788 \\ud574\\uacb0\\\"\\ud55c\\ub2e4\\uc9c0\\ub9cc\\u2026\\ubc29\\ud1b5\\uc704 \\ud310\\ub2e8\\uc774 \\uad00\\uac74\",\"[ET\\ub77c\\uc528\\ub85c] \\uad6c\\uae00, \\ub0b4\\ub2ec AR \\uae00\\ub798\\uc2a4 \\uae30\\ub2a5 \\ud14c\\uc2a4\\ud2b8\\u2026\\uc2e0\\ud654\\uc778\\ud130\\ud14d \\ub4f1 \\uad00\\ub828\\uc8fc\\u2191\",\"\\uad6d\\ubbfc\\uba54\\uc2e0\\uc800 '\\uce74\\ud1a1' \\uad6c\\uae00 \\uc571 \\uc2ec\\uc0ac \\uac70\\uc808\\u2026\\ubc29\\ud1b5\\uc704 \\\"\\uc2e4\\ud0dc\\uc810\\uac80 \\uc18d\\ub3c4\\ub0bc \\uac83\\\"(\\uc885\\ud569)\",\"\\ubbfc\\uc8fc\\ub2f9 '\\uad6c\\uae00, \\ub137\\ud50c\\ub9ad\\uc2a4 \\ub4f1 \\uae00\\ub85c\\ubc8c \\ucf58\\ud150\\uce20\\uc0ac \\ub9dd \\ubb34\\uc784\\uc2b9\\ucc28 \\uadfc\\uc808 \\ubc29\\uc548 \\ubaa8\\uc0c9\\u2019 \\uac04\\ub2f4\\ud68c\",\"[\\uc778\\ud130\\ubdf0] \\uc7a5\\uc815\\uc6b1 \\ub300\\ud45c \\\"\\ud0a8\\ub4dc\\ub9b4\\ucf54\\ub9ac\\uc544, MS\\u00b7\\uad6c\\uae00\\u00b7AWS \\ud074\\ub77c\\uc6b0\\ub4dc \\ucd5c\\uc801 \\ud30c\\ud2b8\\ub108\\\"\",\"[\\uc778\\ud130\\ubdf0] \\uc7a5\\uc815\\uc6b1 \\ub300\\ud45c \\\"\\ud0a8\\ub4dc\\ub9b4\\ucf54\\ub9ac\\uc544, MS\\u00b7\\uad6c\\uae00\\u00b7AWS \\ud074\\ub77c\\uc6b0\\ub4dc \\ucd5c\\uc801 \\ud30c\\ud2b8\\ub108\\\"\",\"\\uc778\\uc571\\uacb0\\uc81c \\uac08\\ub4f1 '\\uad6c\\uae00\\u00b7\\uce74\\uce74\\uc624' \\ube44\\uacf5\\uac1c \\ud68c\\uc758\\u2026 \\ubc29\\ud1b5\\uc704 \\\"\\uc0c1\\ud638 \\ud611\\uc870 \\ub17c\\uc758\\\"\",\"\\uc778\\uc571\\uacb0\\uc81c \\uac08\\ub4f1 '\\uad6c\\uae00\\u00b7\\uce74\\uce74\\uc624' \\ube44\\uacf5\\uac1c \\ud68c\\uc758\\u2026 \\ubc29\\ud1b5\\uc704 \\\"\\uc0c1\\ud638 \\ud611\\uc870 \\ub17c\\uc758\\\"\",\"[Start-up Invest] \\uad6c\\uae00\\u00b7\\uc560\\ud50c \\ucd9c\\uc2e0\\uc774 \\ub9cc\\ub4e0 AI \\ubc88\\uc5ed \\uae30\\uc220 \\uc2a4\\ud0c0\\ud2b8\\uc5c5, \\ud22c\\uc790 \\ubd88\\ud669\\uc5d0\\ub3c4 36\\uc5b5\\uc6d0 \\ud22c\\uc790 \\uc720\\uce58\",\"\\uce74\\uce74\\uc624\\ud1a1, \\uad6c\\uae00 \\uc5c5\\ub370\\uc774\\ud2b8 \\uc911\\ub2e8 \\uc870\\uce58\\uc5d0 \\uacb0\\uad6d \\uc544\\uc6c3\\ub9c1\\ud06c \\uc0ad\\uc81c\\u2026\\ubc29\\ud1b5\\uc704 \\uc0ac\\uc2e4\\uc870\\uc0ac \\uc804\\ud658\\ud558\\ub098\",\"[\\ub2e8\\ub3c5] \\uce74\\uce74\\uc624 VS \\uad6c\\uae00 \\uc804\\uc7c1...\\uce74\\uce74\\uc624\\uac00 \\uc9c1\\uc811 \\ubc30\\ud3ec\\ud55c \\uce74\\uce74\\uc624\\ud1a1 \\uae54\\uba74 \\uad6c\\uae00 \\uacb0\\uc81c \\ubd88\\uac00\",\"\\uce74\\uce74\\uc624, \\uce74\\uce74\\uc624\\ud1a1\\uc11c \\uc6f9 \\uacb0\\uc81c \\uc544\\uc6c3\\ub9c1\\ud06c \\uc0ad\\uc81c...\\uad6c\\uae00 \\uc778\\uc571 \\uacb0\\uc81c \\uc815\\ucc45 \\ubc18\\uc601\",\"\\uce74\\uce74\\uc624, \\uce74\\uce74\\uc624\\ud1a1\\uc11c \\uc6f9 \\uacb0\\uc81c \\uc544\\uc6c3\\ub9c1\\ud06c \\uc0ad\\uc81c...\\uad6c\\uae00 \\uc778\\uc571 \\uacb0\\uc81c \\uc815\\ucc45 \\ubc18\\uc601\",\"\\uce74\\uce74\\uc624, \\uc544\\uc6c3\\ub9c1\\ud06c \\uacb0\\uc81c \\ud3ec\\uae30 \\uc218\\uc21c...\\ubc29\\ud1b5\\uc704 \\\"\\uad6c\\uae00\\uacfc \\uc0c1\\ud638 \\ud611\\uc870\\ud574 \\uc6d0\\ub9cc\\ud788 \\ud574\\uacb0\\ud0a4\\ub85c\\\"\",\"\\uad6c\\uae00 \\u7f8e \\ub300\\ubc95\\uc6d0\\uc5d0 \\ubc18\\uae30\\u2026\\\"\\ub099\\ud0dc\\ubcd1\\uc6d0 \\ubc29\\ubb38, \\uc704\\uce58\\uc815\\ubcf4 \\uc774\\ub825\\uc11c \\uc989\\uc2dc \\uc0ad\\uc81c\\\"\",\"\\ud55c\\uad6d\\uc778\\ud130\\ub137\\uc2e0\\ubb38\\ud611\\ud68c-\\uad6c\\uae00\\ucf54\\ub9ac\\uc544, 2022 \\ud55c\\uad6d \\ub514\\uc9c0\\ud138 \\uc131\\uc7a5 \\ud504\\ub85c\\uadf8\\ub7a8 \\uc9c4\\ud589\",\"[\\uae40\\ub300\\ud638 \\ubc15\\uc0ac\\uc758 \\uc624\\ub298 \\uae30\\uc5c5\\u00b7\\uc0ac\\ub78c] \\uc5d1\\uc2a8\\ubaa8\\ube4c\\u00b7\\uce74\\uce74\\uc624\\u00b7\\uad6c\\uae00\\u00b7\\uc54c\\ubcf4\\ud14d\\u00b7\\uc560\\ube0c\\ube44\\u00b7\\ucf54\\uc624\\ub871\",\"\\u2018\\uc6a9\\uc758 \\ube44\\ub298\\u2019\\ucc98\\ub7fc \\uc0dd\\uae34 \\uad6c\\uae00 \\uc0ac\\uc625 \\uc9c0\\ubd95\\uc758 \\uc5ed\\ud560\\uc740?\\u2026 \\ubbf8\\ub798\\ud615 \\uac74\\ubb3c \\uc9d3\\ub294 IT \\uae30\\uc5c5\",\"'\\uc778\\uc571\\uacb0\\uc81c \\uac08\\ub4f1' \\uad6c\\uae00\\u00b7\\uce74\\uce74\\uc624 \\uc784\\uc2dc \\ud734\\uc804\\u00b7\\u00b7\\u00b7 \\ubc29\\ud1b5\\uc704 '\\uac15\\uacbd \\ub300\\uc751' \\ubaa9\\uc18c\\ub9ac \\ucee4\\uc838\",\"\\u7f8e\\ubc95\\ubb34\\ubd80, \\uc218\\uc8fc\\ub0b4 \\uc778\\ud130\\ub137\\uad11\\uace0\\uad00\\ub828 \\uad6c\\uae00 \\ub3c5\\uc810\\uae08\\uc9c0\\ubc95 \\uc704\\ubc18\\ud610\\uc758 \\uc81c\\uc18c \\ubc29\\uce68\",\"\\uad6c\\uae00\\u00b7\\uce74\\uce74\\uc624 \\uc778\\uc571\\uacb0\\uc81c \\ub300\\ub9bd \\uaca9\\ud654\\uc5d0 \\ubc29\\ud1b5\\uc704\\uc640 \\uc0bc\\uc790\\ub300\\uba74...\\uc9c4\\ud589 \\uc5ec\\ubd80\\ub294 \\uc624\\ub9ac\\ubb34\\uc911\",\"\\uce74\\uce74\\uc624\\ube0c\\ub808\\uc778, \\ud55c\\uad6d\\uc5b4 \\ucd08\\uac70\\ub300 AI \\ubaa8\\ub378 \\uac1c\\ubc1c\\ub85c '\\uad6c\\uae00 \\ud074\\ub77c\\uc6b0\\ub4dc \\uace0\\uac1d \\uc5b4\\uc6cc\\uc988' \\uc218\\uc0c1\",\"\\uc544\\uc6c3\\ub9c1\\ud06c\\uc5d0 \\uad6c\\uae00 \\uc571\\uc2ec\\uc0ac \\uac70\\uc808\\ub41c \\uce74\\ud1a1... \\uc124\\uce58 \\ud30c\\uc77c \\ub2e4\\uc6b4 \\ubc29\\uc2dd \\uc548\\ub0b4\",\"\\uc544\\uc6c3\\ub9c1\\ud06c\\uc5d0 \\uad6c\\uae00 \\uc571\\uc2ec\\uc0ac \\uac70\\uc808\\ub41c \\uce74\\ud1a1... \\uc124\\uce58 \\ud30c\\uc77c \\ub2e4\\uc6b4 \\ubc29\\uc2dd \\uc548\\ub0b4\",\"\\ud55c\\uad6d\\uc778\\ud130\\ub137\\uc2e0\\ubb38\\ud611\\ud68c-\\uad6c\\uae00\\ucf54\\ub9ac\\uc544, '\\ud55c\\uad6d \\ub514\\uc9c0\\ud138 \\uc131\\uc7a5 \\ud504\\ub85c\\uadf8\\ub7a8' \\uc9c4\\ud589\",\"\\uc2e0\\ud55c\\uae08\\uc735, \\uad6c\\uae00 \\uc2a4\\ud0c0\\ud2b8\\uc5c5 \\ucea0\\ud37c\\uc2a4\\uc640 \\uc2a4\\ud0c0\\ud2b8\\uc5c5 \\uc721\\uc131 \\ud30c\\ud2b8\\ub108\\uc2ed \\uccb4\\uacb0 1\\uc8fc\\ub144 \\uae30\\ub150 \\uc131\\uacfc\\uacf5\\uc720\\ud68c \\uac1c\\ucd5c\",\"'\\uc778\\uc571\\uacb0\\uc81c' \\uac08\\ub4f1 \\ubd09\\ud569 \\uc704\\ud574 \\ub9cc\\ub09c \\uad6c\\uae00\\u00b7\\uce74\\uce74\\uc624, \\ubc29\\ud1b5\\uc704 \\uc8fc\\uc120 2\\ucc28 \\ud68c\\ub3d9 \\uc608\\uc815\",\"\\uce74\\uce74\\uc624\\ube0c\\ub808\\uc778, \\ud55c\\uad6d\\uc5b4 \\ucd08\\uac70\\ub300 AI \\uac1c\\ubc1c \\uc131\\uacfc\\ub85c '\\uad6c\\uae00 \\ud074\\ub77c\\uc6b0\\ub4dc \\uace0\\uac1d \\uc5b4\\uc6cc\\uc988' \\uc218\\uc0c1\",\"[EBN \\uc624\\ub298(16\\uc77c) \\uc774\\uc288 \\uc885\\ud569] \\uc2a4\\ud0c0\\ud2b8\\uc5c5 '\\ucd98\\ucd94\\uc804\\uad6d \\uc2dc\\ub300'\\u2026\\uad6c\\uae00 \\uc8fc\\ubaa9 \\uae30\\uc5c5 \\uc5b4\\ub514? \\ub4f1\",\"\\uc2e0\\ud55c\\uae08\\uc735\\uadf8\\ub8f9, \\uad6c\\uae00 \\uc2a4\\ud0c0\\ud2b8\\uc5c5 \\ucea0\\ud37c\\uc2a4\\uc640 \\uc2a4\\ud0c0\\ud2b8\\uc5c5 \\uc721\\uc131 \\ud30c\\ud2b8\\ub108\\uc2ed \\uccb4\\uacb0 1\\uc8fc\\ub144 \\uae30\\ub150 \\uc131\\uacfc\\uacf5\\uc720\\ud68c \\uac1c\\ucd5c\",\"[\\uc720\\ud1b5\\uacbd\\uc81c \\uc774\\uc288] \\uc8fc\\uc5f0\\ud14c\\ud06c, \\uad6c\\uae00 \\uc548\\ub4dc\\ub85c\\uc774\\ub4dc11 OS \\uae30\\ubc18 \\uc2a4\\ub9c8\\ud2b8 TV 3\\uc885 \\ucd9c\\uc2dc \\u5916\",\"\\\"\\uad6c\\uae00, \\ubc18\\ub3c5\\uc810 \\uaddc\\uc81c \\ub300\\uc751 \\uce74\\ub4dc\\ub85c \\uad11\\uace0 \\uc0ac\\uc5c5 \\uc77c\\ubd80 \\ubd84\\ub9ac \\ubc29\\uc548 \\uc81c\\uc2dc\\\"\",\"\\ud611\\ub2e8\\uccb4\\ub4e4, \\uad6c\\uae00 \\ud615\\uc0ac \\uace0\\ubc1c\\uc774\\ub098 \\uacf5\\uc815\\uc704 \\uc2e0\\uace0 \\uc787\\ub530\\ub77c...\\uce74\\uce74\\uc624\\ub294 '\\uc544\\uc6c3\\ub9c1\\ud06c' \\uc0ad\\uc81c, \\uad6c\\uae00\\uc5d0 '\\ubc31\\uae30'\",\"\\uc7a5\\uae30\\ud654\\ub418\\ub294 \\uad6c\\uae00\\u00b7\\uce74\\uce74\\uc624\\uc758 '\\uc778\\uc571\\uacb0\\uc81c \\uc758\\ubb34\\ud654' \\uac08\\ub4f1... \\ucd94\\uac00 \\ud68c\\ub2f4 \\uc77c\\uc815\\ub3c4 \\ubbf8\\uc815\",\"[\\ud14c\\ud06cM \\uc774\\uc288] \\\"\\ubc29\\ud1b5\\uc704\\ub294 \\ubb50\\ud558\\ub098\\\"...\\uad6c\\uae00 \\ud6a1\\ud3ec\\uc5d0 \\ub9de\\uc120 \\uce74\\uce74\\uc624, \\uce74\\ud1a1 \\uc5c5\\ub370\\uc774\\ud2b8 \\uc911\\ub2e8 '\\uc218\\ubaa8'\",\"\\uad6c\\uae00 \\uc2a4\\ud0c0\\ud2b8\\uc5c5 \\ucea0\\ud37c\\uc2a4-\\uc2e0\\ud55c\\uae08\\uc735\\uadf8\\ub8f9, \\uc2a4\\ud0c0\\ud2b8\\uc5c5 \\ud30c\\ud2b8\\ub108\\uc2ed 1\\uc8fc\\ub144 \\uc131\\uacfc\\uacf5\\uc720\\ud68c \\uac1c\\ucd5c\",\"\\uce74\\uce74\\uc624\\ube0c\\ub808\\uc778, \\ud55c\\uad6d\\uc5b4 \\ucd08\\uac70\\ub300 AI \\ubaa8\\ub378\\ub85c \\u2018\\uad6c\\uae00 \\ud074\\ub77c\\uc6b0\\ub4dc \\uace0\\uac1d \\uc5b4\\uc6cc\\uc988\\u2019 \\uc218\\uc0c1\",\"[\\uc544!\\uc774\\ub274\\uc2a4] \\ubbfc\\uac04 \\uac1c\\uc778\\uc815\\ubcf4\\ubcf4\\ud638 \\uc790\\uc728\\uaddc\\uc81c\\uc548 \\uccab \\uc131\\uacfc\\u2026\\uce74\\uce74\\uc624 \\uad6c\\uae00 \\uc778\\uc571\\uacb0\\uc81c \\ub530\\ub978\\ub2e4\",\"\\uad6c\\uae00, '\\uc544\\uc6c3\\ub9c1\\ud06c' \\uc81c\\uacf5\\ud55c \\uce74\\uce74\\uc624\\ud1a1 \\uc571 \\uc2ec\\uc0ac \\uac70\\uc808... \\uce74\\uce74\\uc624 \\\"\\ub2f9\\ubd84\\uac04 \\uc544\\uc6c3\\ub9c1\\ud06c \\uc720\\uc9c0\\ud560 \\uac83\\\"\",\"\\ubc29\\ud1b5\\uc704, 7\\uc77c \\uad6c\\uae00\\u00b7\\uce74\\uce74\\uc624 \\uc784\\uc6d0 \\uc18c\\uc9d1\\ud55c\\ub2e4... '\\uc778\\uc571\\uacb0\\uc81c \\uac15\\uc81c \\uae08\\uc9c0\\ubc95' \\uccab \\uc2e4\\ud0dc \\uc0ac\\ub840\\ub420\\uae4c\",\"\\uc778\\ucc9c\\uacbd\\uc81c\\uccad, \\uc2a4\\ud0c0\\ud2b8\\uc5c5 \\uc721\\uc131 IFEZ\\u00b7\\uc2e0\\ud55c\\u00b7\\uad6c\\uae00 \\ud30c\\ud2b8\\ub108\\uc2ed 1\\uc8fc\\ub144 \\uae30\\ub150 \\ud589\\uc0ac\\uac1c\\ucd5c\",\"IGG \\uc2e0\\uc791 '\\ubbf8\\ud2f1 \\ud788\\uc5b4\\ub85c\\uc988', \\uad6c\\uae00-\\uc560\\ud50c \\uc571\\uc2a4\\ud1a0\\uc5b4 \\uc778\\uae30 \\uac8c\\uc784 \\uc21c\\uc704 1\\uc704 \\ub2ec\\uc131\",\"\\ubc29\\ud0c4\\uc18c\\ub144\\ub2e8X\\uad6c\\uae00 'BTS \\uc2a4\\ud2b8\\ub9ac\\ud2b8 \\uac24\\ub7ec\\ub9ac' \\ud654\\uc81c\\u2026\\uc11c\\uc6b8\\u00b7\\ub274\\uc695\\u00b7\\ub7f0\\ub358 \\ub4f1 '\\ub79c\\uc120 \\ucd94\\uc5b5\\uc608\\uc220 \\uc5ec\\ud589'\",\"\\uba54\\ud0c0\\ubc84\\uc2a4 \\uae30\\uc220 \\ub3c4\\uc785 \\uc6d0\\uaca9\\uc758\\ub8cc \\ud50c\\ub7ab\\ud3fc \\ube14\\ub85d\\uba54\\ub4dc, \\uad6c\\uae00\\ud50c\\ub808\\uc774 \\uc2a4\\ud1a0\\uc5b4 \\uc9c0\\uac11 \\ub4f1\\uc7ac \\uc644\\ub8cc\",\"\\uce74\\uce74\\uc624\\ube0c\\ub808\\uc778 '\\ud55c\\uad6d\\uc5b4 \\ucd08\\uac70\\ub300 AI\\ubaa8\\ub378', \\uad6c\\uae00\\ud074\\ub77c\\uc6b0\\ub4dc \\uace0\\uac1d \\uc5b4\\uc6cc\\uc988 \\uc218\\uc0c1\",\"\\u97d3 \\ud1b5\\uc2e0 3\\u793e, \\uad6c\\uae00\\u00b7\\ub137\\ud50c\\ub9ad\\uc2a4 \\uad6d\\ub0b4 \\ub9dd \\uc0ac\\uc6a9\\ub8cc \\ubb34\\uc784\\uc2b9\\ucc28 \\uc9c0\\uc801... \\\"\\ubd88\\uacf5\\uc815\\ud55c \\uc778\\ud130\\ub137 \\uc0dd\\ud0dc\\uacc4 \\uac1c\\uc120 \\uc704\\ud574 \\uc785\\ubc95 \\uc870\\uce58 \\ud544\\uc694\\\"\"],\"id\":[0,1,2,3,4,5,6,7,8,9,10,11,12,13,14,15,16,17,18,19,20,21,22,23,24,25,26,27,28,29,30,31,32,33,34,35,36,37,38,39,40,41,42,43,44,45,46,47,48,49,50,51,52,53,54,55,56,57,58,59,60,61,62,63,64,65,66,67,68,69,70,71,72,73,74],\"topic\":[\"0\",\"2\",\"2\",\"3\",\"3\",\"3\",\"0\",\"4\",\"4\",\"2\",\"0\",\"4\",\"2\",\"2\",\"3\",\"3\",\"3\",\"0\",\"3\",\"4\",\"0\",\"0\",\"3\",\"0\",\"2\",\"0\",\"0\",\"0\",\"0\",\"0\",\"3\",\"0\",\"0\",\"3\",\"3\",\"0\",\"0\",\"3\",\"0\",\"0\",\"0\",\"0\",\"0\",\"0\",\"3\",\"2\",\"2\",\"0\",\"4\",\"0\",\"1\",\"0\",\"0\",\"3\",\"3\",\"0\",\"1\",\"2\",\"3\",\"3\",\"0\",\"0\",\"0\",\"0\",\"3\",\"1\",\"0\",\"0\",\"0\",\"3\",\"2\",\"3\",\"0\",\"1\",\"0\"],\"x\":{\"__ndarray__\":\"YL0Hv+W290J9WzXC3MhMQ6e8SkOIOYlDMtv8waXVmD+l1Zg/5bb3QpZ/ukKjRy1CfVs1wn1bNcLcyExDp7xKQ4g5iUNUSF7DhvSYQnj8dEK6DSBCtws3w+q+REPfuzDDip6WQTq/CUPYa5rD2Guaw1v+YkLBr4zD7gEcQ1hapML3fdlBH+OMQx/jjEOQLKrDkCyqw8vqgkO8y37DWk+uw4W9y8OFvcvDAqS4w4QIB0LFMwtDe+FjQYz5rkJPVKLDvXzHQjQHTsPMSIBDEYsQwxGLEMPFMwtD4eqWQ2OHh8PkdF9DoJGmQ1SNgkMeNlhC1sReQL9aZsNAkW3DhUDtwkTPgUPzz4ZDQqRIw7ghksMK+4XDm+SWQ8yZjsHD8y5DpvXOQvPPhkNkIqNC\",\"dtype\":\"float32\",\"order\":\"little\",\"shape\":[75]},\"y\":{\"__ndarray__\":\"nt+5QmMPb0IQ+YBDGSSVwm0uR8EGVIzCrQpAQlDUZ8NQ1GfDYw9vQsTd00JJSXbDEPmAQxD5gEMZJJXCbS5HwQZUjMJNadnCpb0sQqg9SMOabQJDCEyIwtPON0KWiQ1CgjjOwn/P/0LzyijC88oowkatJ0A5Uq/CQPdcQekhAkGveTJC/atwQv2rcEJVtd/CVbXfwqmjV8Brc3rBRK8TQVEYysJRGMrCh1EzwhiIGsIoiSPCsXh4Q9d9KEPkRmJCNKLcwm2VlcF49oND+mE9wfphPcEoiSPC86VPw/SRCcNc12ZDQwh5we/hYsMkt6RCGeVQQG571kGXEWvCK08+QnjFNsMreFpD25GhQvf6TUEi9XdC58wZw8fBW8Ig07ZCfnaHQCt4WkP0SzrC\",\"dtype\":\"float32\",\"order\":\"little\",\"shape\":[75]}},\"selected\":{\"id\":\"1049\"},\"selection_policy\":{\"id\":\"1048\"}},\"id\":\"1033\",\"type\":\"ColumnDataSource\"},{\"attributes\":{},\"id\":\"1042\",\"type\":\"BasicTickFormatter\"},{\"attributes\":{\"label\":{\"field\":\"topic\"},\"renderers\":[{\"id\":\"1037\"}]},\"id\":\"1051\",\"type\":\"LegendItem\"},{\"attributes\":{},\"id\":\"1043\",\"type\":\"AllLabels\"},{\"attributes\":{},\"id\":\"1016\",\"type\":\"BasicTicker\"},{\"attributes\":{\"axis\":{\"id\":\"1015\"},\"dimension\":1,\"ticker\":null},\"id\":\"1018\",\"type\":\"Grid\"},{\"attributes\":{},\"id\":\"1045\",\"type\":\"BasicTickFormatter\"},{\"attributes\":{\"overlay\":{\"id\":\"1025\"}},\"id\":\"1020\",\"type\":\"BoxZoomTool\"},{\"attributes\":{\"formatter\":{\"id\":\"1045\"},\"major_label_policy\":{\"id\":\"1046\"},\"ticker\":{\"id\":\"1016\"}},\"id\":\"1015\",\"type\":\"LinearAxis\"},{\"attributes\":{\"fill_color\":{\"field\":\"color\"},\"line_color\":{\"field\":\"color\"},\"x\":{\"field\":\"x\"},\"y\":{\"field\":\"y\"}},\"id\":\"1035\",\"type\":\"Circle\"},{\"attributes\":{},\"id\":\"1046\",\"type\":\"AllLabels\"},{\"attributes\":{\"items\":[{\"id\":\"1051\"}],\"location\":\"top_left\"},\"id\":\"1050\",\"type\":\"Legend\"},{\"attributes\":{},\"id\":\"1048\",\"type\":\"UnionRenderers\"},{\"attributes\":{},\"id\":\"1049\",\"type\":\"Selection\"},{\"attributes\":{},\"id\":\"1009\",\"type\":\"LinearScale\"},{\"attributes\":{\"bottom_units\":\"screen\",\"fill_alpha\":0.5,\"fill_color\":\"lightgrey\",\"left_units\":\"screen\",\"level\":\"overlay\",\"line_alpha\":1.0,\"line_color\":\"black\",\"line_dash\":[4,4],\"line_width\":2,\"right_units\":\"screen\",\"syncable\":false,\"top_units\":\"screen\"},\"id\":\"1025\",\"type\":\"BoxAnnotation\"},{\"attributes\":{\"callback\":null,\"tooltips\":[[\"Topic\",\"@topic\"],[\"id\",\"@id\"],[\"Article\",\"@document\"]]},\"id\":\"1019\",\"type\":\"HoverTool\"},{\"attributes\":{},\"id\":\"1040\",\"type\":\"Title\"},{\"attributes\":{},\"id\":\"1021\",\"type\":\"PanTool\"},{\"attributes\":{},\"id\":\"1022\",\"type\":\"SaveTool\"},{\"attributes\":{},\"id\":\"1003\",\"type\":\"DataRange1d\"},{\"attributes\":{},\"id\":\"1005\",\"type\":\"DataRange1d\"},{\"attributes\":{\"formatter\":{\"id\":\"1042\"},\"major_label_policy\":{\"id\":\"1043\"},\"ticker\":{\"id\":\"1012\"}},\"id\":\"1011\",\"type\":\"LinearAxis\"},{\"attributes\":{},\"id\":\"1023\",\"type\":\"ResetTool\"},{\"attributes\":{},\"id\":\"1007\",\"type\":\"LinearScale\"},{\"attributes\":{\"source\":{\"id\":\"1033\"}},\"id\":\"1038\",\"type\":\"CDSView\"},{\"attributes\":{},\"id\":\"1024\",\"type\":\"WheelZoomTool\"},{\"attributes\":{\"fill_alpha\":{\"value\":0.1},\"fill_color\":{\"field\":\"color\"},\"line_alpha\":{\"value\":0.1},\"line_color\":{\"field\":\"color\"},\"x\":{\"field\":\"x\"},\"y\":{\"field\":\"y\"}},\"id\":\"1036\",\"type\":\"Circle\"},{\"attributes\":{},\"id\":\"1012\",\"type\":\"BasicTicker\"},{\"attributes\":{\"active_multi\":null,\"tools\":[{\"id\":\"1019\"},{\"id\":\"1020\"},{\"id\":\"1021\"},{\"id\":\"1022\"},{\"id\":\"1023\"},{\"id\":\"1024\"}]},\"id\":\"1026\",\"type\":\"Toolbar\"}],\"root_ids\":[\"1002\"]},\"title\":\"Bokeh Application\",\"version\":\"2.3.3\"}};\n",
              "  var render_items = [{\"docid\":\"24737d2e-eba4-4358-ab4f-7c63a5abea68\",\"root_ids\":[\"1002\"],\"roots\":{\"1002\":\"72065874-740f-407e-b127-c005eb33f977\"}}];\n",
              "  root.Bokeh.embed.embed_items_notebook(docs_json, render_items);\n",
              "\n",
              "  }\n",
              "  if (root.Bokeh !== undefined) {\n",
              "    embed_document(root);\n",
              "  } else {\n",
              "    var attempts = 0;\n",
              "    var timer = setInterval(function(root) {\n",
              "      if (root.Bokeh !== undefined) {\n",
              "        clearInterval(timer);\n",
              "        embed_document(root);\n",
              "      } else {\n",
              "        attempts++;\n",
              "        if (attempts > 100) {\n",
              "          clearInterval(timer);\n",
              "          console.log(\"Bokeh: ERROR: Unable to run BokehJS code because BokehJS library is missing\");\n",
              "        }\n",
              "      }\n",
              "    }, 10, root)\n",
              "  }\n",
              "})(window);"
            ],
            "application/vnd.bokehjs_exec.v0+json": ""
          },
          "metadata": {
            "application/vnd.bokehjs_exec.v0+json": {
              "id": "1002"
            }
          }
        }
      ]
    }
  ]
}